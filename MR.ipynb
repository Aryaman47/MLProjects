{
  "nbformat": 4,
  "nbformat_minor": 0,
  "metadata": {
    "colab": {
      "provenance": []
    },
    "kernelspec": {
      "name": "python3",
      "display_name": "Python 3"
    },
    "language_info": {
      "name": "python"
    }
  },
  "cells": [
    {
      "cell_type": "markdown",
      "source": [
        "**MOVIES RECOMMENDATION ML MODEL**\n",
        "\n",
        "---\n",
        "\n"
      ],
      "metadata": {
        "id": "N2cp4CWQc8Aa"
      }
    },
    {
      "cell_type": "markdown",
      "source": [
        "Objective: Take user's desired Movie's name as input and recommend similar movies' names\n",
        "\n"
      ],
      "metadata": {
        "id": "NnLYeJK0VFeM"
      }
    },
    {
      "cell_type": "markdown",
      "source": [
        "Data Souce: https://github.com/YBIFoundation/Dataset"
      ],
      "metadata": {
        "id": "O8pKSU_1VoWX"
      }
    },
    {
      "cell_type": "markdown",
      "source": [
        "Importing Libraries and Loading Data"
      ],
      "metadata": {
        "id": "wnrapfxUXXx_"
      }
    },
    {
      "cell_type": "code",
      "source": [
        "import pandas as pd"
      ],
      "metadata": {
        "id": "IM-VEhEwc_ED"
      },
      "execution_count": null,
      "outputs": []
    },
    {
      "cell_type": "code",
      "source": [
        "import numpy as np"
      ],
      "metadata": {
        "id": "8ErFBVlQdKV8"
      },
      "execution_count": null,
      "outputs": []
    },
    {
      "cell_type": "code",
      "source": [
        "#ml stores the movies dataset\n",
        "ml = pd.read_csv('https://github.com/YBIFoundation/Dataset/raw/main/Movies%20Recommendation.csv')"
      ],
      "metadata": {
        "id": "6a-eiqpxdM_2"
      },
      "execution_count": 52,
      "outputs": []
    },
    {
      "cell_type": "markdown",
      "source": [
        "Data Exploration"
      ],
      "metadata": {
        "id": "lSzJgz-TXdRl"
      }
    },
    {
      "cell_type": "code",
      "source": [
        "ml.head()"
      ],
      "metadata": {
        "colab": {
          "base_uri": "https://localhost:8080/",
          "height": 672
        },
        "id": "n6kyBmE1ds90",
        "outputId": "48156799-910a-4669-97ac-a186d27835df"
      },
      "execution_count": null,
      "outputs": [
        {
          "output_type": "execute_result",
          "data": {
            "text/plain": [
              "   Movie_ID      Movie_Title                       Movie_Genre Movie_Language  \\\n",
              "0         1       Four Rooms                      Crime Comedy             en   \n",
              "1         2        Star Wars  Adventure Action Science Fiction             en   \n",
              "2         3     Finding Nemo                  Animation Family             en   \n",
              "3         4     Forrest Gump              Comedy Drama Romance             en   \n",
              "4         5  American Beauty                             Drama             en   \n",
              "\n",
              "   Movie_Budget  Movie_Popularity Movie_Release_Date  Movie_Revenue  \\\n",
              "0       4000000         22.876230         09-12-1995        4300000   \n",
              "1      11000000        126.393695         25-05-1977      775398007   \n",
              "2      94000000         85.688789         30-05-2003      940335536   \n",
              "3      55000000        138.133331         06-07-1994      677945399   \n",
              "4      15000000         80.878605         15-09-1999      356296601   \n",
              "\n",
              "   Movie_Runtime  Movie_Vote  ...  \\\n",
              "0           98.0         6.5  ...   \n",
              "1          121.0         8.1  ...   \n",
              "2          100.0         7.6  ...   \n",
              "3          142.0         8.2  ...   \n",
              "4          122.0         7.9  ...   \n",
              "\n",
              "                                      Movie_Homepage  \\\n",
              "0                                                NaN   \n",
              "1  http://www.starwars.com/films/star-wars-episod...   \n",
              "2              http://movies.disney.com/finding-nemo   \n",
              "3                                                NaN   \n",
              "4                      http://www.dreamworks.com/ab/   \n",
              "\n",
              "                                      Movie_Keywords  \\\n",
              "0          hotel new year's eve witch bet hotel room   \n",
              "1        android galaxy hermit death star lightsaber   \n",
              "2  father son relationship harbor underwater fish...   \n",
              "3  vietnam veteran hippie mentally disabled runni...   \n",
              "4  male nudity female nudity adultery midlife cri...   \n",
              "\n",
              "                                      Movie_Overview  \\\n",
              "0  It's Ted the Bellhop's first night on the job....   \n",
              "1  Princess Leia is captured and held hostage by ...   \n",
              "2  Nemo, an adventurous young clownfish, is unexp...   \n",
              "3  A man with a low IQ has accomplished great thi...   \n",
              "4  Lester Burnham, a depressed suburban father in...   \n",
              "\n",
              "                              Movie_Production_House  \\\n",
              "0  [{\"name\": \"Miramax Films\", \"id\": 14}, {\"name\":...   \n",
              "1  [{\"name\": \"Lucasfilm\", \"id\": 1}, {\"name\": \"Twe...   \n",
              "2     [{\"name\": \"Pixar Animation Studios\", \"id\": 3}]   \n",
              "3          [{\"name\": \"Paramount Pictures\", \"id\": 4}]   \n",
              "4  [{\"name\": \"DreamWorks SKG\", \"id\": 27}, {\"name\"...   \n",
              "\n",
              "                            Movie_Production_Country  \\\n",
              "0  [{\"iso_3166_1\": \"US\", \"name\": \"United States o...   \n",
              "1  [{\"iso_3166_1\": \"US\", \"name\": \"United States o...   \n",
              "2  [{\"iso_3166_1\": \"US\", \"name\": \"United States o...   \n",
              "3  [{\"iso_3166_1\": \"US\", \"name\": \"United States o...   \n",
              "4  [{\"iso_3166_1\": \"US\", \"name\": \"United States o...   \n",
              "\n",
              "                      Movie_Spoken_Language  \\\n",
              "0  [{\"iso_639_1\": \"en\", \"name\": \"English\"}]   \n",
              "1  [{\"iso_639_1\": \"en\", \"name\": \"English\"}]   \n",
              "2  [{\"iso_639_1\": \"en\", \"name\": \"English\"}]   \n",
              "3  [{\"iso_639_1\": \"en\", \"name\": \"English\"}]   \n",
              "4  [{\"iso_639_1\": \"en\", \"name\": \"English\"}]   \n",
              "\n",
              "                                       Movie_Tagline  \\\n",
              "0  Twelve outrageous guests. Four scandalous requ...   \n",
              "1       A long time ago in a galaxy far, far away...   \n",
              "2  There are 3.7 trillion fish in the ocean, they...   \n",
              "3  The world will never be the same, once you've ...   \n",
              "4                                       Look closer.   \n",
              "\n",
              "                                          Movie_Cast  \\\n",
              "0  Tim Roth Antonio Banderas Jennifer Beals Madon...   \n",
              "1  Mark Hamill Harrison Ford Carrie Fisher Peter ...   \n",
              "2  Albert Brooks Ellen DeGeneres Alexander Gould ...   \n",
              "3  Tom Hanks Robin Wright Gary Sinise Mykelti Wil...   \n",
              "4  Kevin Spacey Annette Bening Thora Birch Wes Be...   \n",
              "\n",
              "                                          Movie_Crew   Movie_Director  \n",
              "0  [{'name': 'Allison Anders', 'gender': 1, 'depa...   Allison Anders  \n",
              "1  [{'name': 'George Lucas', 'gender': 2, 'depart...     George Lucas  \n",
              "2  [{'name': 'Andrew Stanton', 'gender': 2, 'depa...   Andrew Stanton  \n",
              "3  [{'name': 'Alan Silvestri', 'gender': 2, 'depa...  Robert Zemeckis  \n",
              "4  [{'name': 'Thomas Newman', 'gender': 2, 'depar...       Sam Mendes  \n",
              "\n",
              "[5 rows x 21 columns]"
            ],
            "text/html": [
              "\n",
              "  <div id=\"df-bb5f8b66-143c-40c4-bf74-316cc50ecec9\" class=\"colab-df-container\">\n",
              "    <div>\n",
              "<style scoped>\n",
              "    .dataframe tbody tr th:only-of-type {\n",
              "        vertical-align: middle;\n",
              "    }\n",
              "\n",
              "    .dataframe tbody tr th {\n",
              "        vertical-align: top;\n",
              "    }\n",
              "\n",
              "    .dataframe thead th {\n",
              "        text-align: right;\n",
              "    }\n",
              "</style>\n",
              "<table border=\"1\" class=\"dataframe\">\n",
              "  <thead>\n",
              "    <tr style=\"text-align: right;\">\n",
              "      <th></th>\n",
              "      <th>Movie_ID</th>\n",
              "      <th>Movie_Title</th>\n",
              "      <th>Movie_Genre</th>\n",
              "      <th>Movie_Language</th>\n",
              "      <th>Movie_Budget</th>\n",
              "      <th>Movie_Popularity</th>\n",
              "      <th>Movie_Release_Date</th>\n",
              "      <th>Movie_Revenue</th>\n",
              "      <th>Movie_Runtime</th>\n",
              "      <th>Movie_Vote</th>\n",
              "      <th>...</th>\n",
              "      <th>Movie_Homepage</th>\n",
              "      <th>Movie_Keywords</th>\n",
              "      <th>Movie_Overview</th>\n",
              "      <th>Movie_Production_House</th>\n",
              "      <th>Movie_Production_Country</th>\n",
              "      <th>Movie_Spoken_Language</th>\n",
              "      <th>Movie_Tagline</th>\n",
              "      <th>Movie_Cast</th>\n",
              "      <th>Movie_Crew</th>\n",
              "      <th>Movie_Director</th>\n",
              "    </tr>\n",
              "  </thead>\n",
              "  <tbody>\n",
              "    <tr>\n",
              "      <th>0</th>\n",
              "      <td>1</td>\n",
              "      <td>Four Rooms</td>\n",
              "      <td>Crime Comedy</td>\n",
              "      <td>en</td>\n",
              "      <td>4000000</td>\n",
              "      <td>22.876230</td>\n",
              "      <td>09-12-1995</td>\n",
              "      <td>4300000</td>\n",
              "      <td>98.0</td>\n",
              "      <td>6.5</td>\n",
              "      <td>...</td>\n",
              "      <td>NaN</td>\n",
              "      <td>hotel new year's eve witch bet hotel room</td>\n",
              "      <td>It's Ted the Bellhop's first night on the job....</td>\n",
              "      <td>[{\"name\": \"Miramax Films\", \"id\": 14}, {\"name\":...</td>\n",
              "      <td>[{\"iso_3166_1\": \"US\", \"name\": \"United States o...</td>\n",
              "      <td>[{\"iso_639_1\": \"en\", \"name\": \"English\"}]</td>\n",
              "      <td>Twelve outrageous guests. Four scandalous requ...</td>\n",
              "      <td>Tim Roth Antonio Banderas Jennifer Beals Madon...</td>\n",
              "      <td>[{'name': 'Allison Anders', 'gender': 1, 'depa...</td>\n",
              "      <td>Allison Anders</td>\n",
              "    </tr>\n",
              "    <tr>\n",
              "      <th>1</th>\n",
              "      <td>2</td>\n",
              "      <td>Star Wars</td>\n",
              "      <td>Adventure Action Science Fiction</td>\n",
              "      <td>en</td>\n",
              "      <td>11000000</td>\n",
              "      <td>126.393695</td>\n",
              "      <td>25-05-1977</td>\n",
              "      <td>775398007</td>\n",
              "      <td>121.0</td>\n",
              "      <td>8.1</td>\n",
              "      <td>...</td>\n",
              "      <td>http://www.starwars.com/films/star-wars-episod...</td>\n",
              "      <td>android galaxy hermit death star lightsaber</td>\n",
              "      <td>Princess Leia is captured and held hostage by ...</td>\n",
              "      <td>[{\"name\": \"Lucasfilm\", \"id\": 1}, {\"name\": \"Twe...</td>\n",
              "      <td>[{\"iso_3166_1\": \"US\", \"name\": \"United States o...</td>\n",
              "      <td>[{\"iso_639_1\": \"en\", \"name\": \"English\"}]</td>\n",
              "      <td>A long time ago in a galaxy far, far away...</td>\n",
              "      <td>Mark Hamill Harrison Ford Carrie Fisher Peter ...</td>\n",
              "      <td>[{'name': 'George Lucas', 'gender': 2, 'depart...</td>\n",
              "      <td>George Lucas</td>\n",
              "    </tr>\n",
              "    <tr>\n",
              "      <th>2</th>\n",
              "      <td>3</td>\n",
              "      <td>Finding Nemo</td>\n",
              "      <td>Animation Family</td>\n",
              "      <td>en</td>\n",
              "      <td>94000000</td>\n",
              "      <td>85.688789</td>\n",
              "      <td>30-05-2003</td>\n",
              "      <td>940335536</td>\n",
              "      <td>100.0</td>\n",
              "      <td>7.6</td>\n",
              "      <td>...</td>\n",
              "      <td>http://movies.disney.com/finding-nemo</td>\n",
              "      <td>father son relationship harbor underwater fish...</td>\n",
              "      <td>Nemo, an adventurous young clownfish, is unexp...</td>\n",
              "      <td>[{\"name\": \"Pixar Animation Studios\", \"id\": 3}]</td>\n",
              "      <td>[{\"iso_3166_1\": \"US\", \"name\": \"United States o...</td>\n",
              "      <td>[{\"iso_639_1\": \"en\", \"name\": \"English\"}]</td>\n",
              "      <td>There are 3.7 trillion fish in the ocean, they...</td>\n",
              "      <td>Albert Brooks Ellen DeGeneres Alexander Gould ...</td>\n",
              "      <td>[{'name': 'Andrew Stanton', 'gender': 2, 'depa...</td>\n",
              "      <td>Andrew Stanton</td>\n",
              "    </tr>\n",
              "    <tr>\n",
              "      <th>3</th>\n",
              "      <td>4</td>\n",
              "      <td>Forrest Gump</td>\n",
              "      <td>Comedy Drama Romance</td>\n",
              "      <td>en</td>\n",
              "      <td>55000000</td>\n",
              "      <td>138.133331</td>\n",
              "      <td>06-07-1994</td>\n",
              "      <td>677945399</td>\n",
              "      <td>142.0</td>\n",
              "      <td>8.2</td>\n",
              "      <td>...</td>\n",
              "      <td>NaN</td>\n",
              "      <td>vietnam veteran hippie mentally disabled runni...</td>\n",
              "      <td>A man with a low IQ has accomplished great thi...</td>\n",
              "      <td>[{\"name\": \"Paramount Pictures\", \"id\": 4}]</td>\n",
              "      <td>[{\"iso_3166_1\": \"US\", \"name\": \"United States o...</td>\n",
              "      <td>[{\"iso_639_1\": \"en\", \"name\": \"English\"}]</td>\n",
              "      <td>The world will never be the same, once you've ...</td>\n",
              "      <td>Tom Hanks Robin Wright Gary Sinise Mykelti Wil...</td>\n",
              "      <td>[{'name': 'Alan Silvestri', 'gender': 2, 'depa...</td>\n",
              "      <td>Robert Zemeckis</td>\n",
              "    </tr>\n",
              "    <tr>\n",
              "      <th>4</th>\n",
              "      <td>5</td>\n",
              "      <td>American Beauty</td>\n",
              "      <td>Drama</td>\n",
              "      <td>en</td>\n",
              "      <td>15000000</td>\n",
              "      <td>80.878605</td>\n",
              "      <td>15-09-1999</td>\n",
              "      <td>356296601</td>\n",
              "      <td>122.0</td>\n",
              "      <td>7.9</td>\n",
              "      <td>...</td>\n",
              "      <td>http://www.dreamworks.com/ab/</td>\n",
              "      <td>male nudity female nudity adultery midlife cri...</td>\n",
              "      <td>Lester Burnham, a depressed suburban father in...</td>\n",
              "      <td>[{\"name\": \"DreamWorks SKG\", \"id\": 27}, {\"name\"...</td>\n",
              "      <td>[{\"iso_3166_1\": \"US\", \"name\": \"United States o...</td>\n",
              "      <td>[{\"iso_639_1\": \"en\", \"name\": \"English\"}]</td>\n",
              "      <td>Look closer.</td>\n",
              "      <td>Kevin Spacey Annette Bening Thora Birch Wes Be...</td>\n",
              "      <td>[{'name': 'Thomas Newman', 'gender': 2, 'depar...</td>\n",
              "      <td>Sam Mendes</td>\n",
              "    </tr>\n",
              "  </tbody>\n",
              "</table>\n",
              "<p>5 rows × 21 columns</p>\n",
              "</div>\n",
              "    <div class=\"colab-df-buttons\">\n",
              "\n",
              "  <div class=\"colab-df-container\">\n",
              "    <button class=\"colab-df-convert\" onclick=\"convertToInteractive('df-bb5f8b66-143c-40c4-bf74-316cc50ecec9')\"\n",
              "            title=\"Convert this dataframe to an interactive table.\"\n",
              "            style=\"display:none;\">\n",
              "\n",
              "  <svg xmlns=\"http://www.w3.org/2000/svg\" height=\"24px\" viewBox=\"0 -960 960 960\">\n",
              "    <path d=\"M120-120v-720h720v720H120Zm60-500h600v-160H180v160Zm220 220h160v-160H400v160Zm0 220h160v-160H400v160ZM180-400h160v-160H180v160Zm440 0h160v-160H620v160ZM180-180h160v-160H180v160Zm440 0h160v-160H620v160Z\"/>\n",
              "  </svg>\n",
              "    </button>\n",
              "\n",
              "  <style>\n",
              "    .colab-df-container {\n",
              "      display:flex;\n",
              "      gap: 12px;\n",
              "    }\n",
              "\n",
              "    .colab-df-convert {\n",
              "      background-color: #E8F0FE;\n",
              "      border: none;\n",
              "      border-radius: 50%;\n",
              "      cursor: pointer;\n",
              "      display: none;\n",
              "      fill: #1967D2;\n",
              "      height: 32px;\n",
              "      padding: 0 0 0 0;\n",
              "      width: 32px;\n",
              "    }\n",
              "\n",
              "    .colab-df-convert:hover {\n",
              "      background-color: #E2EBFA;\n",
              "      box-shadow: 0px 1px 2px rgba(60, 64, 67, 0.3), 0px 1px 3px 1px rgba(60, 64, 67, 0.15);\n",
              "      fill: #174EA6;\n",
              "    }\n",
              "\n",
              "    .colab-df-buttons div {\n",
              "      margin-bottom: 4px;\n",
              "    }\n",
              "\n",
              "    [theme=dark] .colab-df-convert {\n",
              "      background-color: #3B4455;\n",
              "      fill: #D2E3FC;\n",
              "    }\n",
              "\n",
              "    [theme=dark] .colab-df-convert:hover {\n",
              "      background-color: #434B5C;\n",
              "      box-shadow: 0px 1px 3px 1px rgba(0, 0, 0, 0.15);\n",
              "      filter: drop-shadow(0px 1px 2px rgba(0, 0, 0, 0.3));\n",
              "      fill: #FFFFFF;\n",
              "    }\n",
              "  </style>\n",
              "\n",
              "    <script>\n",
              "      const buttonEl =\n",
              "        document.querySelector('#df-bb5f8b66-143c-40c4-bf74-316cc50ecec9 button.colab-df-convert');\n",
              "      buttonEl.style.display =\n",
              "        google.colab.kernel.accessAllowed ? 'block' : 'none';\n",
              "\n",
              "      async function convertToInteractive(key) {\n",
              "        const element = document.querySelector('#df-bb5f8b66-143c-40c4-bf74-316cc50ecec9');\n",
              "        const dataTable =\n",
              "          await google.colab.kernel.invokeFunction('convertToInteractive',\n",
              "                                                    [key], {});\n",
              "        if (!dataTable) return;\n",
              "\n",
              "        const docLinkHtml = 'Like what you see? Visit the ' +\n",
              "          '<a target=\"_blank\" href=https://colab.research.google.com/notebooks/data_table.ipynb>data table notebook</a>'\n",
              "          + ' to learn more about interactive tables.';\n",
              "        element.innerHTML = '';\n",
              "        dataTable['output_type'] = 'display_data';\n",
              "        await google.colab.output.renderOutput(dataTable, element);\n",
              "        const docLink = document.createElement('div');\n",
              "        docLink.innerHTML = docLinkHtml;\n",
              "        element.appendChild(docLink);\n",
              "      }\n",
              "    </script>\n",
              "  </div>\n",
              "\n",
              "\n",
              "<div id=\"df-dee16069-83fd-494b-946a-706ee4716255\">\n",
              "  <button class=\"colab-df-quickchart\" onclick=\"quickchart('df-dee16069-83fd-494b-946a-706ee4716255')\"\n",
              "            title=\"Suggest charts.\"\n",
              "            style=\"display:none;\">\n",
              "\n",
              "<svg xmlns=\"http://www.w3.org/2000/svg\" height=\"24px\"viewBox=\"0 0 24 24\"\n",
              "     width=\"24px\">\n",
              "    <g>\n",
              "        <path d=\"M19 3H5c-1.1 0-2 .9-2 2v14c0 1.1.9 2 2 2h14c1.1 0 2-.9 2-2V5c0-1.1-.9-2-2-2zM9 17H7v-7h2v7zm4 0h-2V7h2v10zm4 0h-2v-4h2v4z\"/>\n",
              "    </g>\n",
              "</svg>\n",
              "  </button>\n",
              "\n",
              "<style>\n",
              "  .colab-df-quickchart {\n",
              "      --bg-color: #E8F0FE;\n",
              "      --fill-color: #1967D2;\n",
              "      --hover-bg-color: #E2EBFA;\n",
              "      --hover-fill-color: #174EA6;\n",
              "      --disabled-fill-color: #AAA;\n",
              "      --disabled-bg-color: #DDD;\n",
              "  }\n",
              "\n",
              "  [theme=dark] .colab-df-quickchart {\n",
              "      --bg-color: #3B4455;\n",
              "      --fill-color: #D2E3FC;\n",
              "      --hover-bg-color: #434B5C;\n",
              "      --hover-fill-color: #FFFFFF;\n",
              "      --disabled-bg-color: #3B4455;\n",
              "      --disabled-fill-color: #666;\n",
              "  }\n",
              "\n",
              "  .colab-df-quickchart {\n",
              "    background-color: var(--bg-color);\n",
              "    border: none;\n",
              "    border-radius: 50%;\n",
              "    cursor: pointer;\n",
              "    display: none;\n",
              "    fill: var(--fill-color);\n",
              "    height: 32px;\n",
              "    padding: 0;\n",
              "    width: 32px;\n",
              "  }\n",
              "\n",
              "  .colab-df-quickchart:hover {\n",
              "    background-color: var(--hover-bg-color);\n",
              "    box-shadow: 0 1px 2px rgba(60, 64, 67, 0.3), 0 1px 3px 1px rgba(60, 64, 67, 0.15);\n",
              "    fill: var(--button-hover-fill-color);\n",
              "  }\n",
              "\n",
              "  .colab-df-quickchart-complete:disabled,\n",
              "  .colab-df-quickchart-complete:disabled:hover {\n",
              "    background-color: var(--disabled-bg-color);\n",
              "    fill: var(--disabled-fill-color);\n",
              "    box-shadow: none;\n",
              "  }\n",
              "\n",
              "  .colab-df-spinner {\n",
              "    border: 2px solid var(--fill-color);\n",
              "    border-color: transparent;\n",
              "    border-bottom-color: var(--fill-color);\n",
              "    animation:\n",
              "      spin 1s steps(1) infinite;\n",
              "  }\n",
              "\n",
              "  @keyframes spin {\n",
              "    0% {\n",
              "      border-color: transparent;\n",
              "      border-bottom-color: var(--fill-color);\n",
              "      border-left-color: var(--fill-color);\n",
              "    }\n",
              "    20% {\n",
              "      border-color: transparent;\n",
              "      border-left-color: var(--fill-color);\n",
              "      border-top-color: var(--fill-color);\n",
              "    }\n",
              "    30% {\n",
              "      border-color: transparent;\n",
              "      border-left-color: var(--fill-color);\n",
              "      border-top-color: var(--fill-color);\n",
              "      border-right-color: var(--fill-color);\n",
              "    }\n",
              "    40% {\n",
              "      border-color: transparent;\n",
              "      border-right-color: var(--fill-color);\n",
              "      border-top-color: var(--fill-color);\n",
              "    }\n",
              "    60% {\n",
              "      border-color: transparent;\n",
              "      border-right-color: var(--fill-color);\n",
              "    }\n",
              "    80% {\n",
              "      border-color: transparent;\n",
              "      border-right-color: var(--fill-color);\n",
              "      border-bottom-color: var(--fill-color);\n",
              "    }\n",
              "    90% {\n",
              "      border-color: transparent;\n",
              "      border-bottom-color: var(--fill-color);\n",
              "    }\n",
              "  }\n",
              "</style>\n",
              "\n",
              "  <script>\n",
              "    async function quickchart(key) {\n",
              "      const quickchartButtonEl =\n",
              "        document.querySelector('#' + key + ' button');\n",
              "      quickchartButtonEl.disabled = true;  // To prevent multiple clicks.\n",
              "      quickchartButtonEl.classList.add('colab-df-spinner');\n",
              "      try {\n",
              "        const charts = await google.colab.kernel.invokeFunction(\n",
              "            'suggestCharts', [key], {});\n",
              "      } catch (error) {\n",
              "        console.error('Error during call to suggestCharts:', error);\n",
              "      }\n",
              "      quickchartButtonEl.classList.remove('colab-df-spinner');\n",
              "      quickchartButtonEl.classList.add('colab-df-quickchart-complete');\n",
              "    }\n",
              "    (() => {\n",
              "      let quickchartButtonEl =\n",
              "        document.querySelector('#df-dee16069-83fd-494b-946a-706ee4716255 button');\n",
              "      quickchartButtonEl.style.display =\n",
              "        google.colab.kernel.accessAllowed ? 'block' : 'none';\n",
              "    })();\n",
              "  </script>\n",
              "</div>\n",
              "    </div>\n",
              "  </div>\n"
            ]
          },
          "metadata": {},
          "execution_count": 5
        }
      ]
    },
    {
      "cell_type": "code",
      "source": [
        "ml.info()"
      ],
      "metadata": {
        "colab": {
          "base_uri": "https://localhost:8080/"
        },
        "id": "IkPDyBfdduNL",
        "outputId": "322b499f-bd7c-4f62-c0f7-1ed87b6cbeb7"
      },
      "execution_count": null,
      "outputs": [
        {
          "output_type": "stream",
          "name": "stdout",
          "text": [
            "<class 'pandas.core.frame.DataFrame'>\n",
            "RangeIndex: 4760 entries, 0 to 4759\n",
            "Data columns (total 21 columns):\n",
            " #   Column                    Non-Null Count  Dtype  \n",
            "---  ------                    --------------  -----  \n",
            " 0   Movie_ID                  4760 non-null   int64  \n",
            " 1   Movie_Title               4760 non-null   object \n",
            " 2   Movie_Genre               4760 non-null   object \n",
            " 3   Movie_Language            4760 non-null   object \n",
            " 4   Movie_Budget              4760 non-null   int64  \n",
            " 5   Movie_Popularity          4760 non-null   float64\n",
            " 6   Movie_Release_Date        4760 non-null   object \n",
            " 7   Movie_Revenue             4760 non-null   int64  \n",
            " 8   Movie_Runtime             4758 non-null   float64\n",
            " 9   Movie_Vote                4760 non-null   float64\n",
            " 10  Movie_Vote_Count          4760 non-null   int64  \n",
            " 11  Movie_Homepage            1699 non-null   object \n",
            " 12  Movie_Keywords            4373 non-null   object \n",
            " 13  Movie_Overview            4757 non-null   object \n",
            " 14  Movie_Production_House    4760 non-null   object \n",
            " 15  Movie_Production_Country  4760 non-null   object \n",
            " 16  Movie_Spoken_Language     4760 non-null   object \n",
            " 17  Movie_Tagline             3942 non-null   object \n",
            " 18  Movie_Cast                4733 non-null   object \n",
            " 19  Movie_Crew                4760 non-null   object \n",
            " 20  Movie_Director            4738 non-null   object \n",
            "dtypes: float64(3), int64(4), object(14)\n",
            "memory usage: 781.1+ KB\n"
          ]
        }
      ]
    },
    {
      "cell_type": "code",
      "source": [
        "ml.shape"
      ],
      "metadata": {
        "colab": {
          "base_uri": "https://localhost:8080/"
        },
        "id": "OQbA88aseKRj",
        "outputId": "b28f6be5-d73b-4e4a-b805-5a86fa90e9a1"
      },
      "execution_count": null,
      "outputs": [
        {
          "output_type": "execute_result",
          "data": {
            "text/plain": [
              "(4760, 21)"
            ]
          },
          "metadata": {},
          "execution_count": 7
        }
      ]
    },
    {
      "cell_type": "code",
      "source": [
        "ml.columns"
      ],
      "metadata": {
        "colab": {
          "base_uri": "https://localhost:8080/"
        },
        "id": "yt-RMUFNePDD",
        "outputId": "d1b3ed48-ef05-4a22-9d75-0d5f0ec3a7fe"
      },
      "execution_count": null,
      "outputs": [
        {
          "output_type": "execute_result",
          "data": {
            "text/plain": [
              "Index(['Movie_ID', 'Movie_Title', 'Movie_Genre', 'Movie_Language',\n",
              "       'Movie_Budget', 'Movie_Popularity', 'Movie_Release_Date',\n",
              "       'Movie_Revenue', 'Movie_Runtime', 'Movie_Vote', 'Movie_Vote_Count',\n",
              "       'Movie_Homepage', 'Movie_Keywords', 'Movie_Overview',\n",
              "       'Movie_Production_House', 'Movie_Production_Country',\n",
              "       'Movie_Spoken_Language', 'Movie_Tagline', 'Movie_Cast', 'Movie_Crew',\n",
              "       'Movie_Director'],\n",
              "      dtype='object')"
            ]
          },
          "metadata": {},
          "execution_count": 8
        }
      ]
    },
    {
      "cell_type": "markdown",
      "source": [
        "Data Preprocessing"
      ],
      "metadata": {
        "id": "1_nYetasX_Ci"
      }
    },
    {
      "cell_type": "code",
      "source": [
        "mlf = ml[['Movie_Genre', 'Movie_Director', 'Movie_Cast', 'Movie_Language', 'Movie_Tagline', 'Movie_Production_House']].fillna('')"
      ],
      "metadata": {
        "id": "RoUeiaI2elUD"
      },
      "execution_count": null,
      "outputs": []
    },
    {
      "cell_type": "code",
      "source": [
        "mlf.shape"
      ],
      "metadata": {
        "colab": {
          "base_uri": "https://localhost:8080/"
        },
        "id": "J7UdC81CfjrB",
        "outputId": "e0f74cdb-6df8-472c-da03-74f7c6bc306a"
      },
      "execution_count": null,
      "outputs": [
        {
          "output_type": "execute_result",
          "data": {
            "text/plain": [
              "(4760, 6)"
            ]
          },
          "metadata": {},
          "execution_count": 10
        }
      ]
    },
    {
      "cell_type": "code",
      "source": [
        "mlf"
      ],
      "metadata": {
        "colab": {
          "base_uri": "https://localhost:8080/",
          "height": 1000
        },
        "id": "-ofbWFKKflsg",
        "outputId": "9b0d8250-bb35-41d1-e3a4-fd392c2115db"
      },
      "execution_count": null,
      "outputs": [
        {
          "output_type": "execute_result",
          "data": {
            "text/plain": [
              "                           Movie_Genre     Movie_Director  \\\n",
              "0                         Crime Comedy     Allison Anders   \n",
              "1     Adventure Action Science Fiction       George Lucas   \n",
              "2                     Animation Family     Andrew Stanton   \n",
              "3                 Comedy Drama Romance    Robert Zemeckis   \n",
              "4                                Drama         Sam Mendes   \n",
              "...                                ...                ...   \n",
              "4755                            Horror         Pece Dingo   \n",
              "4756               Comedy Family Drama       Frank Lotito   \n",
              "4757                    Thriller Drama       Jaco Booyens   \n",
              "4758                            Family                      \n",
              "4759                       Documentary  Simon Napier-Bell   \n",
              "\n",
              "                                             Movie_Cast Movie_Language  \\\n",
              "0     Tim Roth Antonio Banderas Jennifer Beals Madon...             en   \n",
              "1     Mark Hamill Harrison Ford Carrie Fisher Peter ...             en   \n",
              "2     Albert Brooks Ellen DeGeneres Alexander Gould ...             en   \n",
              "3     Tom Hanks Robin Wright Gary Sinise Mykelti Wil...             en   \n",
              "4     Kevin Spacey Annette Bening Thora Birch Wes Be...             en   \n",
              "...                                                 ...            ...   \n",
              "4755  Lisa Hart Carroll Michael Des Barres Paul Drak...             en   \n",
              "4756  Roni Akurati Brighton Sharbino Jason Lee Anjul...             en   \n",
              "4757  Nicole Smolen Kim Baldwin Ariana Stephens Brys...             en   \n",
              "4758                                                                en   \n",
              "4759                                    Tony Oppedisano             en   \n",
              "\n",
              "                                          Movie_Tagline  \\\n",
              "0     Twelve outrageous guests. Four scandalous requ...   \n",
              "1          A long time ago in a galaxy far, far away...   \n",
              "2     There are 3.7 trillion fish in the ocean, they...   \n",
              "3     The world will never be the same, once you've ...   \n",
              "4                                          Look closer.   \n",
              "...                                                 ...   \n",
              "4755                The hot spot where Satan's waitin'.   \n",
              "4756           It’s better to stand out than to fit in.   \n",
              "4757           She never knew it could happen to her...   \n",
              "4758                                                      \n",
              "4759                                                      \n",
              "\n",
              "                                 Movie_Production_House  \n",
              "0     [{\"name\": \"Miramax Films\", \"id\": 14}, {\"name\":...  \n",
              "1     [{\"name\": \"Lucasfilm\", \"id\": 1}, {\"name\": \"Twe...  \n",
              "2        [{\"name\": \"Pixar Animation Studios\", \"id\": 3}]  \n",
              "3             [{\"name\": \"Paramount Pictures\", \"id\": 4}]  \n",
              "4     [{\"name\": \"DreamWorks SKG\", \"id\": 27}, {\"name\"...  \n",
              "...                                                 ...  \n",
              "4755                                                 []  \n",
              "4756                                                 []  \n",
              "4757     [{\"name\": \"After Eden Pictures\", \"id\": 85248}]  \n",
              "4758    [{\"name\": \"New Kingdom Pictures\", \"id\": 41671}]  \n",
              "4759   [{\"name\": \"Eyeline Entertainment\", \"id\": 60343}]  \n",
              "\n",
              "[4760 rows x 6 columns]"
            ],
            "text/html": [
              "\n",
              "  <div id=\"df-ee4133d7-2404-4377-ba71-1de6774ab713\" class=\"colab-df-container\">\n",
              "    <div>\n",
              "<style scoped>\n",
              "    .dataframe tbody tr th:only-of-type {\n",
              "        vertical-align: middle;\n",
              "    }\n",
              "\n",
              "    .dataframe tbody tr th {\n",
              "        vertical-align: top;\n",
              "    }\n",
              "\n",
              "    .dataframe thead th {\n",
              "        text-align: right;\n",
              "    }\n",
              "</style>\n",
              "<table border=\"1\" class=\"dataframe\">\n",
              "  <thead>\n",
              "    <tr style=\"text-align: right;\">\n",
              "      <th></th>\n",
              "      <th>Movie_Genre</th>\n",
              "      <th>Movie_Director</th>\n",
              "      <th>Movie_Cast</th>\n",
              "      <th>Movie_Language</th>\n",
              "      <th>Movie_Tagline</th>\n",
              "      <th>Movie_Production_House</th>\n",
              "    </tr>\n",
              "  </thead>\n",
              "  <tbody>\n",
              "    <tr>\n",
              "      <th>0</th>\n",
              "      <td>Crime Comedy</td>\n",
              "      <td>Allison Anders</td>\n",
              "      <td>Tim Roth Antonio Banderas Jennifer Beals Madon...</td>\n",
              "      <td>en</td>\n",
              "      <td>Twelve outrageous guests. Four scandalous requ...</td>\n",
              "      <td>[{\"name\": \"Miramax Films\", \"id\": 14}, {\"name\":...</td>\n",
              "    </tr>\n",
              "    <tr>\n",
              "      <th>1</th>\n",
              "      <td>Adventure Action Science Fiction</td>\n",
              "      <td>George Lucas</td>\n",
              "      <td>Mark Hamill Harrison Ford Carrie Fisher Peter ...</td>\n",
              "      <td>en</td>\n",
              "      <td>A long time ago in a galaxy far, far away...</td>\n",
              "      <td>[{\"name\": \"Lucasfilm\", \"id\": 1}, {\"name\": \"Twe...</td>\n",
              "    </tr>\n",
              "    <tr>\n",
              "      <th>2</th>\n",
              "      <td>Animation Family</td>\n",
              "      <td>Andrew Stanton</td>\n",
              "      <td>Albert Brooks Ellen DeGeneres Alexander Gould ...</td>\n",
              "      <td>en</td>\n",
              "      <td>There are 3.7 trillion fish in the ocean, they...</td>\n",
              "      <td>[{\"name\": \"Pixar Animation Studios\", \"id\": 3}]</td>\n",
              "    </tr>\n",
              "    <tr>\n",
              "      <th>3</th>\n",
              "      <td>Comedy Drama Romance</td>\n",
              "      <td>Robert Zemeckis</td>\n",
              "      <td>Tom Hanks Robin Wright Gary Sinise Mykelti Wil...</td>\n",
              "      <td>en</td>\n",
              "      <td>The world will never be the same, once you've ...</td>\n",
              "      <td>[{\"name\": \"Paramount Pictures\", \"id\": 4}]</td>\n",
              "    </tr>\n",
              "    <tr>\n",
              "      <th>4</th>\n",
              "      <td>Drama</td>\n",
              "      <td>Sam Mendes</td>\n",
              "      <td>Kevin Spacey Annette Bening Thora Birch Wes Be...</td>\n",
              "      <td>en</td>\n",
              "      <td>Look closer.</td>\n",
              "      <td>[{\"name\": \"DreamWorks SKG\", \"id\": 27}, {\"name\"...</td>\n",
              "    </tr>\n",
              "    <tr>\n",
              "      <th>...</th>\n",
              "      <td>...</td>\n",
              "      <td>...</td>\n",
              "      <td>...</td>\n",
              "      <td>...</td>\n",
              "      <td>...</td>\n",
              "      <td>...</td>\n",
              "    </tr>\n",
              "    <tr>\n",
              "      <th>4755</th>\n",
              "      <td>Horror</td>\n",
              "      <td>Pece Dingo</td>\n",
              "      <td>Lisa Hart Carroll Michael Des Barres Paul Drak...</td>\n",
              "      <td>en</td>\n",
              "      <td>The hot spot where Satan's waitin'.</td>\n",
              "      <td>[]</td>\n",
              "    </tr>\n",
              "    <tr>\n",
              "      <th>4756</th>\n",
              "      <td>Comedy Family Drama</td>\n",
              "      <td>Frank Lotito</td>\n",
              "      <td>Roni Akurati Brighton Sharbino Jason Lee Anjul...</td>\n",
              "      <td>en</td>\n",
              "      <td>It’s better to stand out than to fit in.</td>\n",
              "      <td>[]</td>\n",
              "    </tr>\n",
              "    <tr>\n",
              "      <th>4757</th>\n",
              "      <td>Thriller Drama</td>\n",
              "      <td>Jaco Booyens</td>\n",
              "      <td>Nicole Smolen Kim Baldwin Ariana Stephens Brys...</td>\n",
              "      <td>en</td>\n",
              "      <td>She never knew it could happen to her...</td>\n",
              "      <td>[{\"name\": \"After Eden Pictures\", \"id\": 85248}]</td>\n",
              "    </tr>\n",
              "    <tr>\n",
              "      <th>4758</th>\n",
              "      <td>Family</td>\n",
              "      <td></td>\n",
              "      <td></td>\n",
              "      <td>en</td>\n",
              "      <td></td>\n",
              "      <td>[{\"name\": \"New Kingdom Pictures\", \"id\": 41671}]</td>\n",
              "    </tr>\n",
              "    <tr>\n",
              "      <th>4759</th>\n",
              "      <td>Documentary</td>\n",
              "      <td>Simon Napier-Bell</td>\n",
              "      <td>Tony Oppedisano</td>\n",
              "      <td>en</td>\n",
              "      <td></td>\n",
              "      <td>[{\"name\": \"Eyeline Entertainment\", \"id\": 60343}]</td>\n",
              "    </tr>\n",
              "  </tbody>\n",
              "</table>\n",
              "<p>4760 rows × 6 columns</p>\n",
              "</div>\n",
              "    <div class=\"colab-df-buttons\">\n",
              "\n",
              "  <div class=\"colab-df-container\">\n",
              "    <button class=\"colab-df-convert\" onclick=\"convertToInteractive('df-ee4133d7-2404-4377-ba71-1de6774ab713')\"\n",
              "            title=\"Convert this dataframe to an interactive table.\"\n",
              "            style=\"display:none;\">\n",
              "\n",
              "  <svg xmlns=\"http://www.w3.org/2000/svg\" height=\"24px\" viewBox=\"0 -960 960 960\">\n",
              "    <path d=\"M120-120v-720h720v720H120Zm60-500h600v-160H180v160Zm220 220h160v-160H400v160Zm0 220h160v-160H400v160ZM180-400h160v-160H180v160Zm440 0h160v-160H620v160ZM180-180h160v-160H180v160Zm440 0h160v-160H620v160Z\"/>\n",
              "  </svg>\n",
              "    </button>\n",
              "\n",
              "  <style>\n",
              "    .colab-df-container {\n",
              "      display:flex;\n",
              "      gap: 12px;\n",
              "    }\n",
              "\n",
              "    .colab-df-convert {\n",
              "      background-color: #E8F0FE;\n",
              "      border: none;\n",
              "      border-radius: 50%;\n",
              "      cursor: pointer;\n",
              "      display: none;\n",
              "      fill: #1967D2;\n",
              "      height: 32px;\n",
              "      padding: 0 0 0 0;\n",
              "      width: 32px;\n",
              "    }\n",
              "\n",
              "    .colab-df-convert:hover {\n",
              "      background-color: #E2EBFA;\n",
              "      box-shadow: 0px 1px 2px rgba(60, 64, 67, 0.3), 0px 1px 3px 1px rgba(60, 64, 67, 0.15);\n",
              "      fill: #174EA6;\n",
              "    }\n",
              "\n",
              "    .colab-df-buttons div {\n",
              "      margin-bottom: 4px;\n",
              "    }\n",
              "\n",
              "    [theme=dark] .colab-df-convert {\n",
              "      background-color: #3B4455;\n",
              "      fill: #D2E3FC;\n",
              "    }\n",
              "\n",
              "    [theme=dark] .colab-df-convert:hover {\n",
              "      background-color: #434B5C;\n",
              "      box-shadow: 0px 1px 3px 1px rgba(0, 0, 0, 0.15);\n",
              "      filter: drop-shadow(0px 1px 2px rgba(0, 0, 0, 0.3));\n",
              "      fill: #FFFFFF;\n",
              "    }\n",
              "  </style>\n",
              "\n",
              "    <script>\n",
              "      const buttonEl =\n",
              "        document.querySelector('#df-ee4133d7-2404-4377-ba71-1de6774ab713 button.colab-df-convert');\n",
              "      buttonEl.style.display =\n",
              "        google.colab.kernel.accessAllowed ? 'block' : 'none';\n",
              "\n",
              "      async function convertToInteractive(key) {\n",
              "        const element = document.querySelector('#df-ee4133d7-2404-4377-ba71-1de6774ab713');\n",
              "        const dataTable =\n",
              "          await google.colab.kernel.invokeFunction('convertToInteractive',\n",
              "                                                    [key], {});\n",
              "        if (!dataTable) return;\n",
              "\n",
              "        const docLinkHtml = 'Like what you see? Visit the ' +\n",
              "          '<a target=\"_blank\" href=https://colab.research.google.com/notebooks/data_table.ipynb>data table notebook</a>'\n",
              "          + ' to learn more about interactive tables.';\n",
              "        element.innerHTML = '';\n",
              "        dataTable['output_type'] = 'display_data';\n",
              "        await google.colab.output.renderOutput(dataTable, element);\n",
              "        const docLink = document.createElement('div');\n",
              "        docLink.innerHTML = docLinkHtml;\n",
              "        element.appendChild(docLink);\n",
              "      }\n",
              "    </script>\n",
              "  </div>\n",
              "\n",
              "\n",
              "<div id=\"df-76e5ab81-9771-4ea1-8450-cc2da53b3e79\">\n",
              "  <button class=\"colab-df-quickchart\" onclick=\"quickchart('df-76e5ab81-9771-4ea1-8450-cc2da53b3e79')\"\n",
              "            title=\"Suggest charts.\"\n",
              "            style=\"display:none;\">\n",
              "\n",
              "<svg xmlns=\"http://www.w3.org/2000/svg\" height=\"24px\"viewBox=\"0 0 24 24\"\n",
              "     width=\"24px\">\n",
              "    <g>\n",
              "        <path d=\"M19 3H5c-1.1 0-2 .9-2 2v14c0 1.1.9 2 2 2h14c1.1 0 2-.9 2-2V5c0-1.1-.9-2-2-2zM9 17H7v-7h2v7zm4 0h-2V7h2v10zm4 0h-2v-4h2v4z\"/>\n",
              "    </g>\n",
              "</svg>\n",
              "  </button>\n",
              "\n",
              "<style>\n",
              "  .colab-df-quickchart {\n",
              "      --bg-color: #E8F0FE;\n",
              "      --fill-color: #1967D2;\n",
              "      --hover-bg-color: #E2EBFA;\n",
              "      --hover-fill-color: #174EA6;\n",
              "      --disabled-fill-color: #AAA;\n",
              "      --disabled-bg-color: #DDD;\n",
              "  }\n",
              "\n",
              "  [theme=dark] .colab-df-quickchart {\n",
              "      --bg-color: #3B4455;\n",
              "      --fill-color: #D2E3FC;\n",
              "      --hover-bg-color: #434B5C;\n",
              "      --hover-fill-color: #FFFFFF;\n",
              "      --disabled-bg-color: #3B4455;\n",
              "      --disabled-fill-color: #666;\n",
              "  }\n",
              "\n",
              "  .colab-df-quickchart {\n",
              "    background-color: var(--bg-color);\n",
              "    border: none;\n",
              "    border-radius: 50%;\n",
              "    cursor: pointer;\n",
              "    display: none;\n",
              "    fill: var(--fill-color);\n",
              "    height: 32px;\n",
              "    padding: 0;\n",
              "    width: 32px;\n",
              "  }\n",
              "\n",
              "  .colab-df-quickchart:hover {\n",
              "    background-color: var(--hover-bg-color);\n",
              "    box-shadow: 0 1px 2px rgba(60, 64, 67, 0.3), 0 1px 3px 1px rgba(60, 64, 67, 0.15);\n",
              "    fill: var(--button-hover-fill-color);\n",
              "  }\n",
              "\n",
              "  .colab-df-quickchart-complete:disabled,\n",
              "  .colab-df-quickchart-complete:disabled:hover {\n",
              "    background-color: var(--disabled-bg-color);\n",
              "    fill: var(--disabled-fill-color);\n",
              "    box-shadow: none;\n",
              "  }\n",
              "\n",
              "  .colab-df-spinner {\n",
              "    border: 2px solid var(--fill-color);\n",
              "    border-color: transparent;\n",
              "    border-bottom-color: var(--fill-color);\n",
              "    animation:\n",
              "      spin 1s steps(1) infinite;\n",
              "  }\n",
              "\n",
              "  @keyframes spin {\n",
              "    0% {\n",
              "      border-color: transparent;\n",
              "      border-bottom-color: var(--fill-color);\n",
              "      border-left-color: var(--fill-color);\n",
              "    }\n",
              "    20% {\n",
              "      border-color: transparent;\n",
              "      border-left-color: var(--fill-color);\n",
              "      border-top-color: var(--fill-color);\n",
              "    }\n",
              "    30% {\n",
              "      border-color: transparent;\n",
              "      border-left-color: var(--fill-color);\n",
              "      border-top-color: var(--fill-color);\n",
              "      border-right-color: var(--fill-color);\n",
              "    }\n",
              "    40% {\n",
              "      border-color: transparent;\n",
              "      border-right-color: var(--fill-color);\n",
              "      border-top-color: var(--fill-color);\n",
              "    }\n",
              "    60% {\n",
              "      border-color: transparent;\n",
              "      border-right-color: var(--fill-color);\n",
              "    }\n",
              "    80% {\n",
              "      border-color: transparent;\n",
              "      border-right-color: var(--fill-color);\n",
              "      border-bottom-color: var(--fill-color);\n",
              "    }\n",
              "    90% {\n",
              "      border-color: transparent;\n",
              "      border-bottom-color: var(--fill-color);\n",
              "    }\n",
              "  }\n",
              "</style>\n",
              "\n",
              "  <script>\n",
              "    async function quickchart(key) {\n",
              "      const quickchartButtonEl =\n",
              "        document.querySelector('#' + key + ' button');\n",
              "      quickchartButtonEl.disabled = true;  // To prevent multiple clicks.\n",
              "      quickchartButtonEl.classList.add('colab-df-spinner');\n",
              "      try {\n",
              "        const charts = await google.colab.kernel.invokeFunction(\n",
              "            'suggestCharts', [key], {});\n",
              "      } catch (error) {\n",
              "        console.error('Error during call to suggestCharts:', error);\n",
              "      }\n",
              "      quickchartButtonEl.classList.remove('colab-df-spinner');\n",
              "      quickchartButtonEl.classList.add('colab-df-quickchart-complete');\n",
              "    }\n",
              "    (() => {\n",
              "      let quickchartButtonEl =\n",
              "        document.querySelector('#df-76e5ab81-9771-4ea1-8450-cc2da53b3e79 button');\n",
              "      quickchartButtonEl.style.display =\n",
              "        google.colab.kernel.accessAllowed ? 'block' : 'none';\n",
              "    })();\n",
              "  </script>\n",
              "</div>\n",
              "    </div>\n",
              "  </div>\n"
            ]
          },
          "metadata": {},
          "execution_count": 11
        }
      ]
    },
    {
      "cell_type": "markdown",
      "source": [
        "Text Data Preparation"
      ],
      "metadata": {
        "id": "k4dpgr1YT_9e"
      }
    },
    {
      "cell_type": "code",
      "source": [
        "X = mlf['Movie_Genre'] + ' ' + mlf['Movie_Director'] + ' ' + mlf['Movie_Cast'] + ' ' + mlf['Movie_Language'] + ' ' + mlf['Movie_Tagline'] + ' ' + mlf['Movie_Production_House']"
      ],
      "metadata": {
        "id": "gZjbPOApfmwy"
      },
      "execution_count": null,
      "outputs": []
    },
    {
      "cell_type": "code",
      "source": [
        "X"
      ],
      "metadata": {
        "colab": {
          "base_uri": "https://localhost:8080/"
        },
        "id": "ShweNFiggqO7",
        "outputId": "f6ade98d-3c40-48a2-8cc1-dd673f25e4c4"
      },
      "execution_count": null,
      "outputs": [
        {
          "output_type": "execute_result",
          "data": {
            "text/plain": [
              "0       Crime Comedy Allison Anders Tim Roth Antonio B...\n",
              "1       Adventure Action Science Fiction George Lucas ...\n",
              "2       Animation Family Andrew Stanton Albert Brooks ...\n",
              "3       Comedy Drama Romance Robert Zemeckis Tom Hanks...\n",
              "4       Drama Sam Mendes Kevin Spacey Annette Bening T...\n",
              "                              ...                        \n",
              "4755    Horror Pece Dingo Lisa Hart Carroll Michael De...\n",
              "4756    Comedy Family Drama Frank Lotito Roni Akurati ...\n",
              "4757    Thriller Drama Jaco Booyens Nicole Smolen Kim ...\n",
              "4758    Family   en  [{\"name\": \"New Kingdom Pictures\",...\n",
              "4759    Documentary Simon Napier-Bell Tony Oppedisano ...\n",
              "Length: 4760, dtype: object"
            ]
          },
          "metadata": {},
          "execution_count": 13
        }
      ]
    },
    {
      "cell_type": "code",
      "source": [
        "X.shape"
      ],
      "metadata": {
        "colab": {
          "base_uri": "https://localhost:8080/"
        },
        "id": "reRnOOxPhekA",
        "outputId": "bb4d8c1b-e4dd-446f-b4f4-4f99956748bd"
      },
      "execution_count": null,
      "outputs": [
        {
          "output_type": "execute_result",
          "data": {
            "text/plain": [
              "(4760,)"
            ]
          },
          "metadata": {},
          "execution_count": 14
        }
      ]
    },
    {
      "cell_type": "markdown",
      "source": [
        "Text Vectorization"
      ],
      "metadata": {
        "id": "tmd1yrV0YVpV"
      }
    },
    {
      "cell_type": "code",
      "source": [
        "from sklearn.feature_extraction.text import TfidfVectorizer"
      ],
      "metadata": {
        "id": "c4ihO4x9hfl_"
      },
      "execution_count": null,
      "outputs": []
    },
    {
      "cell_type": "code",
      "source": [
        "t = TfidfVectorizer()"
      ],
      "metadata": {
        "id": "foD5Irn5hwbf"
      },
      "execution_count": null,
      "outputs": []
    },
    {
      "cell_type": "code",
      "source": [
        "X = t.fit_transform(X)"
      ],
      "metadata": {
        "id": "xdX3F70Mh3Vm"
      },
      "execution_count": null,
      "outputs": []
    },
    {
      "cell_type": "code",
      "source": [
        "X.shape"
      ],
      "metadata": {
        "colab": {
          "base_uri": "https://localhost:8080/"
        },
        "id": "ffiexrnXiCE2",
        "outputId": "4bd7b773-ed55-4dd1-ab04-e47da550c4ea"
      },
      "execution_count": null,
      "outputs": [
        {
          "output_type": "execute_result",
          "data": {
            "text/plain": [
              "(4760, 22990)"
            ]
          },
          "metadata": {},
          "execution_count": 18
        }
      ]
    },
    {
      "cell_type": "code",
      "source": [
        "print(X)"
      ],
      "metadata": {
        "colab": {
          "base_uri": "https://localhost:8080/"
        },
        "id": "RJKLk99kiI4G",
        "outputId": "21476758-1144-4e9c-ffd0-9019304deb4c"
      },
      "execution_count": null,
      "outputs": [
        {
          "output_type": "stream",
          "name": "stdout",
          "text": [
            "  (0, 3804)\t0.17702427223509878\n",
            "  (0, 5793)\t0.15418054177275337\n",
            "  (0, 6281)\t0.17702427223509878\n",
            "  (0, 809)\t0.11964766316006827\n",
            "  (0, 12672)\t0.05213616143658158\n",
            "  (0, 10657)\t0.05264606945390787\n",
            "  (0, 15775)\t0.11721096537408467\n",
            "  (0, 16218)\t0.05213616143658158\n",
            "  (0, 14422)\t0.10436023417731653\n",
            "  (0, 16677)\t0.07477548694529272\n",
            "  (0, 10232)\t0.17213861134373365\n",
            "  (0, 22746)\t0.14614026020335827\n",
            "  (0, 16369)\t0.09030933387933993\n",
            "  (0, 22457)\t0.191334913430439\n",
            "  (0, 10818)\t0.09324425306561811\n",
            "  (0, 22420)\t0.11585802518567909\n",
            "  (0, 13218)\t0.1630160778917485\n",
            "  (0, 20750)\t0.10261985598386159\n",
            "  (0, 16769)\t0.1023904278774379\n",
            "  (0, 9015)\t0.12964786238384973\n",
            "  (0, 10707)\t0.12540294001046337\n",
            "  (0, 12370)\t0.21483331756213148\n",
            "  (0, 12764)\t0.16715108676994542\n",
            "  (0, 6570)\t0.21364353095691915\n",
            "  (0, 14594)\t0.17213861134373365\n",
            "  :\t:\n",
            "  (4757, 16366)\t0.1410952121381713\n",
            "  (4757, 9617)\t0.05508983228550457\n",
            "  (4757, 12672)\t0.0340921740936378\n",
            "  (4757, 16218)\t0.0340921740936378\n",
            "  (4757, 10035)\t0.033877563918515756\n",
            "  (4758, 3040)\t0.6807619191804746\n",
            "  (4758, 13730)\t0.5955325403160507\n",
            "  (4758, 17358)\t0.14071067070629026\n",
            "  (4758, 10395)\t0.242246760701565\n",
            "  (4758, 12672)\t0.083064329538317\n",
            "  (4758, 16218)\t0.083064329538317\n",
            "  (4758, 16369)\t0.28776511592109416\n",
            "  (4758, 10035)\t0.08254143973200394\n",
            "  (4759, 3850)\t0.43340527274966073\n",
            "  (4759, 10325)\t0.43340527274966073\n",
            "  (4759, 16796)\t0.43340527274966073\n",
            "  (4759, 16230)\t0.39917035660054884\n",
            "  (4759, 9477)\t0.23503393143208146\n",
            "  (4759, 19593)\t0.25309727715369984\n",
            "  (4759, 20991)\t0.2512095106695892\n",
            "  (4759, 6564)\t0.2706220978146344\n",
            "  (4759, 10081)\t0.11465722487269761\n",
            "  (4759, 12672)\t0.05288268539265634\n",
            "  (4759, 16218)\t0.05288268539265634\n",
            "  (4759, 10035)\t0.052549788982416544\n"
          ]
        }
      ]
    },
    {
      "cell_type": "markdown",
      "source": [
        "Calculating Cosine Similarity"
      ],
      "metadata": {
        "id": "BYkk1KJoYazy"
      }
    },
    {
      "cell_type": "code",
      "source": [
        "from sklearn.metrics.pairwise import cosine_similarity"
      ],
      "metadata": {
        "id": "CjuNrNhwiMkm"
      },
      "execution_count": null,
      "outputs": []
    },
    {
      "cell_type": "code",
      "source": [
        "SS = cosine_similarity(X) #SS is Similarity Score"
      ],
      "metadata": {
        "id": "84jbgizmimLG"
      },
      "execution_count": null,
      "outputs": []
    },
    {
      "cell_type": "code",
      "source": [
        "SS"
      ],
      "metadata": {
        "colab": {
          "base_uri": "https://localhost:8080/"
        },
        "id": "7N7QtWViirkO",
        "outputId": "b7f97862-67e0-4177-d503-ef0519361403"
      },
      "execution_count": null,
      "outputs": [
        {
          "output_type": "execute_result",
          "data": {
            "text/plain": [
              "array([[1.        , 0.02614117, 0.0520542 , ..., 0.00443243, 0.03678734,\n",
              "        0.00687545],\n",
              "       [0.02614117, 1.        , 0.01764861, ..., 0.0057712 , 0.01406131,\n",
              "        0.0089521 ],\n",
              "       [0.0520542 , 0.01764861, 1.        , ..., 0.00346898, 0.03251497,\n",
              "        0.00538098],\n",
              "       ...,\n",
              "       [0.00443243, 0.0057712 , 0.00346898, ..., 1.        , 0.01658632,\n",
              "        0.00538603],\n",
              "       [0.03678734, 0.01406131, 0.03251497, ..., 0.01658632, 1.        ,\n",
              "        0.01312286],\n",
              "       [0.00687545, 0.0089521 , 0.00538098, ..., 0.00538603, 0.01312286,\n",
              "        1.        ]])"
            ]
          },
          "metadata": {},
          "execution_count": 22
        }
      ]
    },
    {
      "cell_type": "code",
      "source": [
        "SS.shape"
      ],
      "metadata": {
        "colab": {
          "base_uri": "https://localhost:8080/"
        },
        "id": "eMWa3L8sir8n",
        "outputId": "e5574414-4714-4fc4-869f-a3753e3a55fd"
      },
      "execution_count": null,
      "outputs": [
        {
          "output_type": "execute_result",
          "data": {
            "text/plain": [
              "(4760, 4760)"
            ]
          },
          "metadata": {},
          "execution_count": 23
        }
      ]
    },
    {
      "cell_type": "markdown",
      "source": [
        "User Input"
      ],
      "metadata": {
        "id": "YqKmCUnaYh5_"
      }
    },
    {
      "cell_type": "code",
      "source": [
        "Desired_Movie = input(' Type the Movie you want to watch ')"
      ],
      "metadata": {
        "colab": {
          "base_uri": "https://localhost:8080/"
        },
        "id": "SWoBAzE_iv_G",
        "outputId": "cdad7667-b8e9-4286-e0f3-ef4724a20f5f"
      },
      "execution_count": 42,
      "outputs": [
        {
          "name": "stdout",
          "output_type": "stream",
          "text": [
            " Type the Movie you want to watch Avatar\n"
          ]
        }
      ]
    },
    {
      "cell_type": "code",
      "source": [
        "Movies_List = ml['Movie_Title'].tolist()"
      ],
      "metadata": {
        "id": "G-xS3gNsjGYP"
      },
      "execution_count": 43,
      "outputs": []
    },
    {
      "cell_type": "markdown",
      "source": [
        "Finding Close Matches"
      ],
      "metadata": {
        "id": "TB019fhKZHrm"
      }
    },
    {
      "cell_type": "code",
      "source": [
        "import difflib\n",
        "MR = difflib.get_close_matches(Desired_Movie, Movies_List)\n",
        "print(MR)"
      ],
      "metadata": {
        "colab": {
          "base_uri": "https://localhost:8080/"
        },
        "id": "ky8RYnc0jjql",
        "outputId": "4e546544-974f-4a40-d699-575d590457ac"
      },
      "execution_count": 44,
      "outputs": [
        {
          "output_type": "stream",
          "name": "stdout",
          "text": [
            "['Avatar']\n"
          ]
        }
      ]
    },
    {
      "cell_type": "code",
      "source": [
        "Close_Match = MR[0]\n",
        "print(Close_Match)"
      ],
      "metadata": {
        "colab": {
          "base_uri": "https://localhost:8080/"
        },
        "id": "VvjNuSFRjoj-",
        "outputId": "2cd5234b-da88-4582-94f8-db8b8e8e3c17"
      },
      "execution_count": 45,
      "outputs": [
        {
          "output_type": "stream",
          "name": "stdout",
          "text": [
            "Avatar\n"
          ]
        }
      ]
    },
    {
      "cell_type": "markdown",
      "source": [
        "Retrieving Movie ID"
      ],
      "metadata": {
        "id": "Wxm-K5VlZNAL"
      }
    },
    {
      "cell_type": "code",
      "source": [
        "Id_of_Close_Match = ml[ml.Movie_Title == Close_Match]['Movie_ID'].values[0]\n",
        "print(Id_of_Close_Match)"
      ],
      "metadata": {
        "colab": {
          "base_uri": "https://localhost:8080/"
        },
        "id": "RvESWo-Ak3sF",
        "outputId": "b5ba6cf0-1084-464a-9d83-79f3526411e1"
      },
      "execution_count": 46,
      "outputs": [
        {
          "output_type": "stream",
          "name": "stdout",
          "text": [
            "2692\n"
          ]
        }
      ]
    },
    {
      "cell_type": "markdown",
      "source": [
        "Calculating Recommendation Scores"
      ],
      "metadata": {
        "id": "mGhphb5yZQs4"
      }
    },
    {
      "cell_type": "code",
      "source": [
        "RS = list(enumerate(SS[Id_of_Close_Match])) #RS is Recommendation Score\n",
        "print(RS)"
      ],
      "metadata": {
        "id": "azFgNFxxlpjN",
        "colab": {
          "base_uri": "https://localhost:8080/"
        },
        "outputId": "50fe5a61-adf5-4a6c-8ce4-062d6e021d07"
      },
      "execution_count": 47,
      "outputs": [
        {
          "output_type": "stream",
          "name": "stdout",
          "text": [
            "[(0, 0.01764084467591641), (1, 0.08428219942993395), (2, 0.00334810244748002), (3, 0.015378018658426326), (4, 0.0090314195747753), (5, 0.04154251354851358), (6, 0.012913201285185678), (7, 0.02378970348727668), (8, 0.008905320447730973), (9, 0.0152584077183564), (10, 0.02695953431688426), (11, 0.012263368089578803), (12, 0.009284002408723598), (13, 0.020038176373452767), (14, 0.0814349152486798), (15, 0.05059451195150418), (16, 0.016652503271307555), (17, 0.007920458025519083), (18, 0.022798033125710604), (19, 0.01565362298815306), (20, 0.008924020048707206), (21, 0.025061029360324612), (22, 0.013864593603758264), (23, 0.023017448638355795), (24, 0.00924406919981056), (25, 0.04344853607686521), (26, 0.00997827797147264), (27, 0.015314792432693578), (28, 0.003540784553624705), (29, 0.04077659840809046), (30, 0.013654332834652467), (31, 0.015044598986445388), (32, 0.027926539167838292), (33, 0.03174862595047084), (34, 0.012478223725416758), (35, 0.014846365414887014), (36, 0.006978505992668029), (37, 0.0057510399422730655), (38, 0.015256102860982643), (39, 0.012587495297837412), (40, 0.016990507036342008), (41, 0.023440130929573824), (42, 0.016932085067081038), (43, 0.03415339123816771), (44, 0.04712405053597542), (45, 0.019219810067133577), (46, 0.09363822762712343), (47, 0.03186482217039677), (48, 0.024657484740144925), (49, 0.005484226605254048), (50, 0.0154859171983328), (51, 0.023865886460902642), (52, 0.024502697147771566), (53, 0.017213436287109102), (54, 0.007630632825744051), (55, 0.007768406384147117), (56, 0.016246744550493027), (57, 0.019364899212709532), (58, 0.001864920879383938), (59, 0.011679726574213317), (60, 0.015618508439249052), (61, 0.027070437226560617), (62, 0.11503389122913997), (63, 0.040508293491715065), (64, 0.016211030671329542), (65, 0.004053303687050642), (66, 0.0069494513359184915), (67, 0.02913252593495078), (68, 0.026369887840843667), (69, 0.009043990982928764), (70, 0.025410940268886493), (71, 0.09935789066300267), (72, 0.023388222385308462), (73, 0.017634886448802543), (74, 0.017001114868978633), (75, 0.020186653010394406), (76, 0.07787191994548612), (77, 0.01429432560424369), (78, 0.008787873803066188), (79, 0.017409034431720902), (80, 0.010101348081470876), (81, 0.016479602691641875), (82, 0.0058345160117279655), (83, 0.023039768516956098), (84, 0.09342675395077546), (85, 0.016722902994751734), (86, 0.018945895982854875), (87, 0.023157084844073007), (88, 0.03558139176676177), (89, 0.05008803381395746), (90, 0.010790742345364642), (91, 0.018093643831825962), (92, 0.008977728152561011), (93, 0.010446972158763107), (94, 0.009194546826925108), (95, 0.010056617994093213), (96, 0.01395646607824666), (97, 0.0333221794182168), (98, 0.008152596430156056), (99, 0.01848595860187284), (100, 0.010382593630485819), (101, 0.007104270822174243), (102, 0.028210610737480206), (103, 0.004582374267189932), (104, 0.01628331829027489), (105, 0.03428004129320937), (106, 0.021105592612638755), (107, 0.019857474006554), (108, 0.04544476743151394), (109, 0.036825240490397135), (110, 0.11232535017905851), (111, 0.015888861281356713), (112, 0.03970334512875684), (113, 0.015272461913976364), (114, 0.0071044921376873646), (115, 0.006819005092917092), (116, 0.04014410930715952), (117, 0.0059972604282210375), (118, 0.012815315374298905), (119, 0.02859172505422665), (120, 0.019181564661733968), (121, 0.007474805510954986), (122, 0.048964026876675525), (123, 0.021738018066155045), (124, 0.03361504691804953), (125, 0.013186026934423879), (126, 0.050920397459702796), (127, 0.006696352105154088), (128, 0.01668685721820692), (129, 0.005992897277201652), (130, 0.015615195133033876), (131, 0.014917403002766597), (132, 0.006339633240655809), (133, 0.001197529795826402), (134, 0.01271840114284275), (135, 0.02134817554824753), (136, 0.008675880997637291), (137, 0.06621455356280377), (138, 0.038152934808423696), (139, 0.015453338723644742), (140, 0.021210213421994688), (141, 0.009446143788706805), (142, 0.02846349671997886), (143, 0.018299407078445882), (144, 0.021402030966418604), (145, 0.026928753016777298), (146, 0.0038153089504295162), (147, 0.023614441898755195), (148, 0.016132009672134552), (149, 0.017424515323571223), (150, 0.006196745406504065), (151, 0.0066314866115212345), (152, 0.01167082622519082), (153, 0.007733371086091487), (154, 0.016710938036356572), (155, 0.024603797922609305), (156, 0.0075513626495602205), (157, 0.004681941075487615), (158, 0.009603879560904279), (159, 0.011540010911369403), (160, 0.10913513989427294), (161, 0.12265989777197664), (162, 0.006136304563090395), (163, 0.004478760493561116), (164, 0.00811444814853116), (165, 0.020292664969701897), (166, 0.04440925629683656), (167, 0.03583716496364506), (168, 0.01823622719957189), (169, 0.010117570090516182), (170, 0.018572023434721054), (171, 0.0654206351323069), (172, 0.02897110195979274), (173, 0.017204896499226012), (174, 0.043704613401082185), (175, 0.031547822048575536), (176, 0.036509000380030215), (177, 0.011195714315856722), (178, 0.008736014851685838), (179, 0.005452403184608443), (180, 0.015615696692145655), (181, 0.014729188617241581), (182, 0.008956490756880367), (183, 0.024345121267710466), (184, 0.008141957808104366), (185, 0.14849106151137068), (186, 0.0111283496109426), (187, 0.031592732004894056), (188, 0.003598552722152517), (189, 0.08802142110530697), (190, 0.01846324460349184), (191, 0.08043172839672147), (192, 0.009242119120367535), (193, 0.03333719736861046), (194, 0.07902496125675423), (195, 0.024694567842874587), (196, 0.016689758840280133), (197, 0.012021732278523007), (198, 0.006673010692451437), (199, 0.03795133898359537), (200, 0.014712189648405817), (201, 0.02165117174102285), (202, 0.005990962501762325), (203, 0.023988068097052038), (204, 0.026774097840813825), (205, 0.08447112756093768), (206, 0.02029130538248905), (207, 0.01884269993966705), (208, 0.018983202011272397), (209, 0.024299139658109918), (210, 0.050268958580879784), (211, 0.013414883498347822), (212, 0.03147108597431768), (213, 0.03009983496538011), (214, 0.014299161266385287), (215, 0.007037031829486333), (216, 0.018135978433998556), (217, 0.012157944494822732), (218, 0.09941093676057947), (219, 0.0055404859639837465), (220, 0.01457524732850136), (221, 0.006640407789890325), (222, 0.029714852363472058), (223, 0.008853953664273313), (224, 0.008291107237841879), (225, 0.1083798117262947), (226, 0.008407058645326284), (227, 0.009807917756571416), (228, 0.007661892956879823), (229, 0.02955657073703664), (230, 0.005803481065402013), (231, 0.017879763732101477), (232, 0.008198613308432795), (233, 0.08695204462115776), (234, 0.010088471356956613), (235, 0.010725524680509111), (236, 0.01964881389397842), (237, 0.002736117544922942), (238, 0.025236333002176137), (239, 0.012511797852700485), (240, 0.036635059640576714), (241, 0.04249317796248376), (242, 0.007392439195916202), (243, 0.02247559699952187), (244, 0.02977574826394088), (245, 0.006144952256842932), (246, 0.01083799336676395), (247, 0.010884041198314294), (248, 0.008443456509445182), (249, 0.009228672909908395), (250, 0.048934978438154766), (251, 0.022885387890091223), (252, 0.013937450156530999), (253, 0.011540631700586897), (254, 0.08211108616557503), (255, 0.10009782024895474), (256, 0.01992749807302608), (257, 0.03185438738707757), (258, 0.0871699789667233), (259, 0.016729594981072706), (260, 0.015286502926368652), (261, 0.034196627683374455), (262, 0.0090564898986293), (263, 0.026787158017862724), (264, 0.02037803263399668), (265, 0.005683533289241606), (266, 0.022365000560162173), (267, 0.0201092347598003), (268, 0.0821215067474301), (269, 0.031857274565226856), (270, 0.018747300207730543), (271, 0.019697378412412314), (272, 0.00529818665730175), (273, 0.02430507201612758), (274, 0.02062527830355573), (275, 0.003790893600347088), (276, 0.020906154005832005), (277, 0.010715639199822963), (278, 0.011662641895990278), (279, 0.025028931077727877), (280, 0.027699209517697013), (281, 0.01852980724835763), (282, 0.1374835498575178), (283, 0.009136542766385921), (284, 0.036970602767346816), (285, 0.027021990975139448), (286, 0.012947363495433526), (287, 0.02457356386782366), (288, 0.017969289824548887), (289, 0.011533439101987073), (290, 0.009031185847473495), (291, 0.017608148570347343), (292, 0.07322146566915015), (293, 0.00651797092905529), (294, 0.0071180149086455015), (295, 0.01043492254359963), (296, 0.022897807371794195), (297, 0.008549029401706616), (298, 0.00816632612832308), (299, 0.0077870155265865465), (300, 0.00732862247768667), (301, 0.00627233191131437), (302, 0.005212080896641179), (303, 0.09427010787970722), (304, 0.018701298185444103), (305, 0.012814695358734314), (306, 0.011866945237958872), (307, 0.016433599824151886), (308, 0.011960591656193762), (309, 0.016352788256464294), (310, 0.012117115343126261), (311, 0.011647832852834203), (312, 0.010142295116564774), (313, 0.022308675235606024), (314, 0.010242484022798145), (315, 0.011107745793763028), (316, 0.009289157358850973), (317, 0.007909081159445183), (318, 0.007666015569647763), (319, 0.012255743969044572), (320, 0.009844210639637673), (321, 0.011064624917985223), (322, 0.009312980440088886), (323, 0.010688896190642096), (324, 0.020430447143589707), (325, 0.010182410414291722), (326, 0.02471045959216383), (327, 0.0173531155189641), (328, 0.014867540717975245), (329, 0.017044545436280766), (330, 0.04982904900838952), (331, 0.01451742535489762), (332, 0.030121664875851703), (333, 0.021331342377690833), (334, 0.04299975906358196), (335, 0.0034390893633307355), (336, 0.027494686563103075), (337, 0.0035768551802982836), (338, 0.005173976265350035), (339, 0.008512465731888902), (340, 0.0064377383799890525), (341, 0.09398706255230818), (342, 0.026539389865842332), (343, 0.018331695383891247), (344, 0.09487401743796663), (345, 0.11250140317195778), (346, 0.03052178615212302), (347, 0.011485112885961664), (348, 0.049729245901921584), (349, 0.010798089590183831), (350, 0.018968960297776727), (351, 0.06620132714494523), (352, 0.006265616113961278), (353, 0.03901266502413238), (354, 0.09141053912612943), (355, 0.018306845517831894), (356, 0.023051412943723475), (357, 0.007702139812118792), (358, 0.017420846758021632), (359, 0.008848084582581826), (360, 0.018845004513860442), (361, 0.007256226246531383), (362, 0.007392370116966143), (363, 0.006185219987352154), (364, 0.024308613086895327), (365, 0.003920461390854643), (366, 0.0028913602156437007), (367, 0.014243196496483108), (368, 0.016174351586660494), (369, 0.013875701651821726), (370, 0.024430662249349134), (371, 0.0370372839787747), (372, 0.008224487753735897), (373, 0.08536306187795673), (374, 0.030288886707035684), (375, 0.010666613170004982), (376, 0.007680431948615012), (377, 0.011749067957161779), (378, 0.020433636610862088), (379, 0.0031409988161608857), (380, 0.09621535228218556), (381, 0.004841770825611626), (382, 0.01619717099626271), (383, 0.027277133556566285), (384, 0.056556954345231024), (385, 0.015498878485700428), (386, 0.00815227303378891), (387, 0.023043155782689517), (388, 0.01642013621983346), (389, 0.011117331569396502), (390, 0.007058042677311185), (391, 0.004409087322735457), (392, 0.004022322977947919), (393, 0.003224252451492174), (394, 0.007607930514800961), (395, 0.01789365729367325), (396, 0.04387360956191834), (397, 0.07837635339775363), (398, 0.030405195879120914), (399, 0.05085756135121012), (400, 0.020724420815780808), (401, 0.006394928086575772), (402, 0.00858755549139355), (403, 0.014539897735417423), (404, 0.007373723536005807), (405, 0.00667549625294854), (406, 0.011232657311824497), (407, 0.012852470594769946), (408, 0.057916721954752434), (409, 0.02722848695199089), (410, 0.013994187812567041), (411, 0.009310918724620604), (412, 0.060306859109770086), (413, 0.01568235616581629), (414, 0.012037214985089055), (415, 0.00609929664637274), (416, 0.021286301238434894), (417, 0.022977349310889857), (418, 0.01838569622540872), (419, 0.0075627924197512915), (420, 0.01091768230487784), (421, 0.08702981151963632), (422, 0.005591079524922826), (423, 0.007081061426553782), (424, 0.07074581210331315), (425, 0.019516362538930684), (426, 0.049539273543021546), (427, 0.005278086353487946), (428, 0.03819443649157929), (429, 0.0227294197424956), (430, 0.04161020200143224), (431, 0.008296261247619284), (432, 0.06790602712729757), (433, 0.014448385989371534), (434, 0.02351470863383483), (435, 0.07700922247597235), (436, 0.026156356327189018), (437, 0.0064993751575752896), (438, 0.06530678158324574), (439, 0.005710747052064224), (440, 0.01734638115755529), (441, 0.03297584652439428), (442, 0.0312668921698014), (443, 0.017816751412137028), (444, 0.011893420510053274), (445, 0.010145902729565944), (446, 0.02100760128184687), (447, 0.024994517990966407), (448, 0.022819256969369286), (449, 0.01084061518122084), (450, 0.030104973972945717), (451, 0.026334796499799577), (452, 0.024273060986714032), (453, 0.007761074509955917), (454, 0.00544608661302593), (455, 0.041417177149925676), (456, 0.008314136676608394), (457, 0.008798378416255758), (458, 0.03515277351960715), (459, 0.03370369032523012), (460, 0.02823829959654784), (461, 0.010674054675116331), (462, 0.03361820225002067), (463, 0.03712247182230481), (464, 0.011065082354999546), (465, 0.033883710566403324), (466, 0.006649834524964218), (467, 0.009449397903567483), (468, 0.01071566752561233), (469, 0.00920554745649237), (470, 0.02405515087469904), (471, 0.009434171130596209), (472, 0.013294369174936487), (473, 0.006366491718365324), (474, 0.01650703337650877), (475, 0.006276909851806978), (476, 0.026351150285225645), (477, 0.014203124059181508), (478, 0.011273172280524928), (479, 0.06336971091875365), (480, 0.0072623938814575), (481, 0.02467514379142592), (482, 0.014167658791922414), (483, 0.025013257303819182), (484, 0.022167078852626403), (485, 0.017109446463257218), (486, 0.014786641678691167), (487, 0.004170291805630928), (488, 0.020850343993294843), (489, 0.019747910982155926), (490, 0.006212458773846492), (491, 0.010375690924824078), (492, 0.008456867393755351), (493, 0.018078145659938205), (494, 0.01666232767963753), (495, 0.011059376203516099), (496, 0.06921880709392074), (497, 0.005161843750844626), (498, 0.006426759836134989), (499, 0.03068985537141097), (500, 0.020387062015074488), (501, 0.016313886544344958), (502, 0.025876933527382566), (503, 0.09519184549586696), (504, 0.020632785245122038), (505, 0.009399284824852257), (506, 0.0029254790090794034), (507, 0.01958050140706213), (508, 0.009028339950890984), (509, 0.02748230962934387), (510, 0.018089918404114117), (511, 0.028249338071015182), (512, 0.09627834356282429), (513, 0.09449073752377485), (514, 0.09459556358058553), (515, 0.03352978328191279), (516, 0.015475942957529546), (517, 0.013401915775579781), (518, 0.008424579012537969), (519, 0.054091875592301435), (520, 0.008633548798019922), (521, 0.03634094834849879), (522, 0.03458482361171689), (523, 0.030939544323016262), (524, 0.015149254408369851), (525, 0.003519510154946999), (526, 0.009155507229418028), (527, 0.02547828173212134), (528, 0.09170041377094089), (529, 0.00911034881174392), (530, 0.04016221888681099), (531, 0.0278008490708979), (532, 0.03433992450031352), (533, 0.023895638980910523), (534, 0.0939322043135382), (535, 0.006157918352918666), (536, 0.006495104223853875), (537, 0.014427233031598041), (538, 0.07576796732280786), (539, 0.10545157283662927), (540, 0.1143429432825008), (541, 0.01871622371829052), (542, 0.014938007741128074), (543, 0.02619586685130907), (544, 0.01719651322358503), (545, 0.020722166814636612), (546, 0.005493571803246963), (547, 0.029079475595415138), (548, 0.016852191201363973), (549, 0.014320693364910344), (550, 0.020427793296582744), (551, 0.020303803756453572), (552, 0.010572445701913846), (553, 0.0831799148898253), (554, 0.08134317978434782), (555, 0.08566800294675582), (556, 0.011083030961308143), (557, 0.007558472683496575), (558, 0.01585024260595899), (559, 0.0066203237662463554), (560, 0.026352809577492146), (561, 0.06673846246578646), (562, 0.011050085870454905), (563, 0.025177429114071823), (564, 0.01069634676960068), (565, 0.009010908561337341), (566, 0.03252396473583943), (567, 0.0036198344217482853), (568, 0.03252760408220127), (569, 0.0066977481618249336), (570, 0.030098702547083217), (571, 0.01164022620777065), (572, 0.0036465121422060752), (573, 0.0051426323992606335), (574, 0.006197850513007938), (575, 0.013736893886339585), (576, 0.01013724506135783), (577, 0.0747607452761734), (578, 0.042190108061108886), (579, 0.006454000547111024), (580, 0.02504201348216049), (581, 0.02141641098462265), (582, 0.01506432318694523), (583, 0.026178275571480496), (584, 0.024357030990461093), (585, 0.0058610446637681205), (586, 0.02448295392907377), (587, 0.011513146811376157), (588, 0.009088493980956054), (589, 0.014571586323776989), (590, 0.03302971722027217), (591, 0.024868276133704098), (592, 0.007661857440906684), (593, 0.04845463774995261), (594, 0.012520654133052428), (595, 0.01268921525655266), (596, 0.011406339286286107), (597, 0.0276298183055236), (598, 0.03694569126977233), (599, 0.09593323781503639), (600, 0.09837189370848715), (601, 0.003043558026332715), (602, 0.003102510708314964), (603, 0.004134840645765285), (604, 0.02209808486127085), (605, 0.01385690595226907), (606, 0.015078918744367668), (607, 0.01846383162994709), (608, 0.01119562778111762), (609, 0.021535961933703555), (610, 0.0037022086307860773), (611, 0.015236539734505821), (612, 0.008497965874751264), (613, 0.03166441558523665), (614, 0.012937627106922483), (615, 0.05125785469557868), (616, 0.0053613095131172794), (617, 0.01733331524154683), (618, 0.03766416048989273), (619, 0.015422320051340175), (620, 0.02108588753821481), (621, 0.017825230314963386), (622, 0.02619307702895056), (623, 0.019236659464093458), (624, 0.0324996065647067), (625, 0.019782612343743886), (626, 0.005488780598744863), (627, 0.012329918439896182), (628, 0.014329482994674143), (629, 0.035764953543004664), (630, 0.005205372358289575), (631, 0.03656610294176612), (632, 0.04781799485234236), (633, 0.013703608660565357), (634, 0.022250945421135333), (635, 0.0987536214768891), (636, 0.0264636249844231), (637, 0.05329004846638399), (638, 0.024306504918417626), (639, 0.030030507336252933), (640, 0.02835257117475519), (641, 0.026789223088917874), (642, 0.01235154934916748), (643, 0.030780855123063448), (644, 0.008210536031600064), (645, 0.020111734699654667), (646, 0.015882150020006577), (647, 0.011754687196035708), (648, 0.02529233314053225), (649, 0.028862751237000477), (650, 0.007106928610327821), (651, 0.027583354318926973), (652, 0.034162559348006924), (653, 0.023607280729815522), (654, 0.028298966672417134), (655, 0.01772016078606296), (656, 0.07920355838078443), (657, 0.03396853753848925), (658, 0.008868098368213197), (659, 0.007593084415830188), (660, 0.012467701325079449), (661, 0.01430003041682297), (662, 0.00569022746805801), (663, 0.009883619023471348), (664, 0.02345854521069029), (665, 0.0037040759000933022), (666, 0.08602978158727834), (667, 0.02233824035278341), (668, 0.017305378382539843), (669, 0.028670068949488047), (670, 0.03577229158638853), (671, 0.009552156193493502), (672, 0.030435330983689515), (673, 0.05572992254177696), (674, 0.007374720460834285), (675, 0.03166659466493757), (676, 0.021839401131703153), (677, 0.027298544030528844), (678, 0.02342639651645756), (679, 0.09299756766309712), (680, 0.011426715527670106), (681, 0.0062506089136510155), (682, 0.10904535474696883), (683, 0.019251397733280984), (684, 0.020120317977045117), (685, 0.011217575497836979), (686, 0.009433133574069752), (687, 0.010821805881899032), (688, 0.016834898969293213), (689, 0.021179250133065076), (690, 0.008019426062248968), (691, 0.030070164643812465), (692, 0.020520310083789992), (693, 0.0358782670896926), (694, 0.02449317302817386), (695, 0.027870630828462948), (696, 0.021893108936359772), (697, 0.009211017802483585), (698, 0.008066593553775238), (699, 0.02330322798270285), (700, 0.01765565428261624), (701, 0.029859452490170246), (702, 0.020718579423436426), (703, 0.08059354118762979), (704, 0.008262761958857083), (705, 0.006857432470411749), (706, 0.016837085805436195), (707, 0.010194378183174542), (708, 0.005447320831399807), (709, 0.006068663792446736), (710, 0.008457031372882947), (711, 0.005810238735087483), (712, 0.009436516239222387), (713, 0.005124027403658662), (714, 0.009931281851333223), (715, 0.009199559424740149), (716, 0.01512888314653709), (717, 0.013565332161099205), (718, 0.003463693247550194), (719, 0.03003093019025773), (720, 0.018339541474362196), (721, 0.03773771050055241), (722, 0.016629537587976757), (723, 0.010744452472701647), (724, 0.01257493399587882), (725, 0.08255135954040911), (726, 0.006229278745216289), (727, 0.016845526058679255), (728, 0.01716129135769468), (729, 0.017110823579355946), (730, 0.0196450626250745), (731, 0.019911214666002142), (732, 0.02108438644685709), (733, 0.018685066823270195), (734, 0.018048798066152717), (735, 0.013162124699422819), (736, 0.0033630446224662937), (737, 0.00908966827465253), (738, 0.010008947643701825), (739, 0.007822832083198132), (740, 0.004521243548636027), (741, 0.009000065788316894), (742, 0.014893304665033413), (743, 0.011919523120448644), (744, 0.0873802581317371), (745, 0.07868532771834862), (746, 0.0053689618173752675), (747, 0.005775514633376439), (748, 0.015257027226119206), (749, 0.019371409775729233), (750, 0.015253497349917286), (751, 0.011341778725009324), (752, 0.029835342494354208), (753, 0.02277118689171529), (754, 0.007951083590423631), (755, 0.00922677794124641), (756, 0.08084045112294368), (757, 0.02900714212226614), (758, 0.007639410159181693), (759, 0.004176454675014481), (760, 0.019992543845361935), (761, 0.05845581956602419), (762, 0.02413047898856627), (763, 0.022547879608991607), (764, 0.004519301711484953), (765, 0.025956824166026963), (766, 0.02881726826304891), (767, 0.005990052229785287), (768, 0.02743964277312624), (769, 0.01390602287470719), (770, 0.007412928396084912), (771, 0.0038778513811852074), (772, 0.011757511101660022), (773, 0.015083127541196562), (774, 0.043808777193568474), (775, 0.02137297027877032), (776, 0.021716945826733575), (777, 0.010921872431080466), (778, 0.08454036334972934), (779, 0.024597324248850444), (780, 0.005546909475950894), (781, 0.11402828871729369), (782, 0.034047818012522296), (783, 0.0065821461063048335), (784, 0.004100752361061355), (785, 0.01686871259566714), (786, 0.0029924713117329303), (787, 0.037462424800443005), (788, 0.05196350203394487), (789, 0.006036285107991525), (790, 0.026259576304494818), (791, 0.009315900475502136), (792, 0.018084903302157063), (793, 0.013070107314712677), (794, 0.00733129600906103), (795, 0.025218564656165662), (796, 0.02560784422314036), (797, 0.007765361134816993), (798, 0.01456070751409212), (799, 0.023549480753169847), (800, 0.017978292631890533), (801, 0.01915170141952793), (802, 0.01294008682300088), (803, 0.019285148086999323), (804, 0.013897938719273629), (805, 0.021010286769505625), (806, 0.018366519768730327), (807, 0.006035994255874728), (808, 0.0288534641631711), (809, 0.011413130096045221), (810, 0.021111017226245164), (811, 0.012184760252614234), (812, 0.04222277169223976), (813, 0.009976256641753004), (814, 0.010868012018739121), (815, 0.011562545918527355), (816, 0.02357175567982956), (817, 0.018093993512349152), (818, 0.04484297232663781), (819, 0.010207390569241186), (820, 0.008459015693622634), (821, 0.005282154380632913), (822, 0.0058148637879772355), (823, 0.041456486291030985), (824, 0.034975023131124626), (825, 0.02489826604171381), (826, 0.010423547425044517), (827, 0.021152883581252342), (828, 0.016524979479248015), (829, 0.11017871338506816), (830, 0.014624288786269302), (831, 0.014029990867578548), (832, 0.03223862373518102), (833, 0.022071474034061248), (834, 0.016984130973076605), (835, 0.014895692708542348), (836, 0.0034845976962000888), (837, 0.006550247601199957), (838, 0.004719710564376154), (839, 0.005649395018254072), (840, 0.0036953064506132964), (841, 0.0038032587904213142), (842, 0.0236947081892945), (843, 0.010829804207309359), (844, 0.023655168366826566), (845, 0.017036962576327763), (846, 0.008404696380228553), (847, 0.019018308136087375), (848, 0.013656396562204208), (849, 0.017914801607588227), (850, 0.022514262365207413), (851, 0.017749111365368584), (852, 0.03752562003647329), (853, 0.02345360630814239), (854, 0.020708466397235187), (855, 0.015047100832640839), (856, 0.012476338328713742), (857, 0.024344815219217768), (858, 0.025708294175542226), (859, 0.008405479037147152), (860, 0.02358756454562244), (861, 0.012617775132706299), (862, 0.022503723479538752), (863, 0.014711573526967215), (864, 0.03615940445711861), (865, 0.022121668342140802), (866, 0.02150588395227787), (867, 0.010675941450274094), (868, 0.022482438217265012), (869, 0.017191943929592505), (870, 0.05533945345758956), (871, 0.009007483465553438), (872, 0.02114001483235841), (873, 0.029038285823480378), (874, 0.044782747114216793), (875, 0.035002529404746706), (876, 0.026827968932180903), (877, 0.06432480007097684), (878, 0.023993882124943272), (879, 0.023301199269565927), (880, 0.015759962127215955), (881, 0.0026855816281017627), (882, 0.021908846776436418), (883, 0.011436935078164439), (884, 0.014398387969180606), (885, 0.0317130256590799), (886, 0.01141940587646371), (887, 0.0856606113808329), (888, 0.022471385739258196), (889, 0.008246532946351626), (890, 0.009416681074871576), (891, 0.012736902078683703), (892, 0.006355532991379345), (893, 0.02379037359025922), (894, 0.028599196694062964), (895, 0.03502620351515381), (896, 0.0228977948936992), (897, 0.01876233281910652), (898, 0.03957337474463625), (899, 0.018784220240134843), (900, 0.013727992447233415), (901, 0.0055908887413257885), (902, 0.020831373237782846), (903, 0.02886003046001302), (904, 0.0538529250465593), (905, 0.018656869496647237), (906, 0.009886760442503674), (907, 0.013994753987662902), (908, 0.014636375630225499), (909, 0.007366226086827402), (910, 0.010610121840306123), (911, 0.04618326315714551), (912, 0.007979270952633987), (913, 0.010907205539758442), (914, 0.007695255747837524), (915, 0.01708354362244227), (916, 0.027203998879920598), (917, 0.03512127301783147), (918, 0.018236816409593747), (919, 0.016069378529609147), (920, 0.00691734441668931), (921, 0.027807018853232297), (922, 0.013455701050754587), (923, 0.09032516201124961), (924, 0.009044173436181774), (925, 0.006526776388430753), (926, 0.008921504246510841), (927, 0.00870858936068565), (928, 0.07896336743826021), (929, 0.026393280367915183), (930, 0.022503553790473085), (931, 0.019555197114739728), (932, 0.009552091149479825), (933, 0.0029593722615230177), (934, 0.06234020519333088), (935, 0.010448045531608944), (936, 0.032285617406573756), (937, 0.026301047664845617), (938, 0.005413595418778064), (939, 0.013936010166428274), (940, 0.012273216605990121), (941, 0.011885975089598445), (942, 0.04101319326509673), (943, 0.004380464916346876), (944, 0.009644965901633312), (945, 0.009631245645019246), (946, 0.008261634821958009), (947, 0.12855447745197116), (948, 0.01675064953892174), (949, 0.017703435848160747), (950, 0.020772948499681452), (951, 0.017750445641855433), (952, 0.039476234529861105), (953, 0.011509988608938353), (954, 0.010283789000800334), (955, 0.006259761384358726), (956, 0.012160148521571651), (957, 0.026327306048931118), (958, 0.0034665732752976693), (959, 0.006456007982122358), (960, 0.019577174755787945), (961, 0.022985244622100692), (962, 0.015800846227080213), (963, 0.025386085016993874), (964, 0.006625338082111652), (965, 0.00930799426493979), (966, 0.021896599117295936), (967, 0.03139396582681613), (968, 0.022184135807866337), (969, 0.010278759188245114), (970, 0.05894389928312768), (971, 0.01988210723301182), (972, 0.014508478030703655), (973, 0.00991119857740784), (974, 0.0088265386415288), (975, 0.007823308208900023), (976, 0.03929572441996653), (977, 0.028333949787264563), (978, 0.007119323169085658), (979, 0.01219473630592828), (980, 0.016210728946773775), (981, 0.013961364500601085), (982, 0.005716053733889449), (983, 0.007057666106866658), (984, 0.008817114225786954), (985, 0.0240766613336891), (986, 0.03406802329995643), (987, 0.0920876716280035), (988, 0.022845731545769944), (989, 0.02561645489493324), (990, 0.08985648144869172), (991, 0.01311747767164325), (992, 0.011754703186242008), (993, 0.010655863498782954), (994, 0.01834549770135489), (995, 0.005423537071046507), (996, 0.012929354927452369), (997, 0.010028943886935952), (998, 0.007885581212289213), (999, 0.00786289062510777), (1000, 0.021762078495669752), (1001, 0.014849842854041917), (1002, 0.020380510949743948), (1003, 0.0296353254938506), (1004, 0.01701173535969802), (1005, 0.0191800437255029), (1006, 0.009471948359243774), (1007, 0.023162993785070075), (1008, 0.00843084115326489), (1009, 0.01784157408657571), (1010, 0.007949496014311197), (1011, 0.09592110821294762), (1012, 0.03086715140002325), (1013, 0.009193718003846177), (1014, 0.02407763941599085), (1015, 0.05417780048512153), (1016, 0.0031600132431904506), (1017, 0.022245542568286158), (1018, 0.015767353529529966), (1019, 0.00494822446963503), (1020, 0.010779520533992159), (1021, 0.0811607365327963), (1022, 0.08138497774965801), (1023, 0.02402722692975108), (1024, 0.04968307374712952), (1025, 0.005022744898320884), (1026, 0.009729397646804833), (1027, 0.024108461191428968), (1028, 0.017959120228064954), (1029, 0.005399875039497688), (1030, 0.07199071796295868), (1031, 0.01618433048174247), (1032, 0.012889261770864358), (1033, 0.05863708131009431), (1034, 0.00700863334103782), (1035, 0.02073844361326841), (1036, 0.006203328119139696), (1037, 0.005955159679536333), (1038, 0.006627508858874427), (1039, 0.00458416295700046), (1040, 0.011067835087903828), (1041, 0.015553134436080971), (1042, 0.027062375736984914), (1043, 0.03699033579680472), (1044, 0.10082444236915275), (1045, 0.02233669997015515), (1046, 0.04042013462076038), (1047, 0.0191129268024241), (1048, 0.01040370290529507), (1049, 0.020741428732118077), (1050, 0.022599340079446133), (1051, 0.032353639658630785), (1052, 0.023781655971241704), (1053, 0.0200697456252506), (1054, 0.01799914197719554), (1055, 0.007033464650427377), (1056, 0.09155381888329461), (1057, 0.11331606047049071), (1058, 0.024080072879504078), (1059, 0.03409159354399006), (1060, 0.1089297461227333), (1061, 0.02516104243596639), (1062, 0.018895051851909185), (1063, 0.043543463245324814), (1064, 0.027283576030484306), (1065, 0.014538753680714106), (1066, 0.011049421389167882), (1067, 0.006033351474118566), (1068, 0.046444600053386645), (1069, 0.00822768172311435), (1070, 0.01080874626878994), (1071, 0.016016688914087973), (1072, 0.0457767075515844), (1073, 0.009052119240479859), (1074, 0.027061015125228575), (1075, 0.007512686102309856), (1076, 0.014141699114763326), (1077, 0.008619072481658361), (1078, 0.018468105879070218), (1079, 0.011885130868954184), (1080, 0.009622847968493836), (1081, 0.002107914272015372), (1082, 0.012951038000162457), (1083, 0.02769215595156149), (1084, 0.027088411866665038), (1085, 0.09072636764002916), (1086, 0.012553952250348064), (1087, 0.0987059655447195), (1088, 0.01211348669297516), (1089, 0.006571026163184117), (1090, 0.021454206254074158), (1091, 0.024080143480457582), (1092, 0.017051224746157258), (1093, 0.007114211456530304), (1094, 0.008861230435910578), (1095, 0.03735889320833351), (1096, 0.03170310646235118), (1097, 0.0074624916670729185), (1098, 0.03351421846863965), (1099, 0.02433663061370781), (1100, 0.012509843986919116), (1101, 0.003782680787171596), (1102, 0.05284536257610561), (1103, 0.006447639900164882), (1104, 0.02089366551977258), (1105, 0.026322908623659866), (1106, 0.013411226924174699), (1107, 0.021676211591162613), (1108, 0.04802230129508311), (1109, 0.022448007314197327), (1110, 0.01937648550288024), (1111, 0.024169454371402922), (1112, 0.02737383212790537), (1113, 0.00710851360477225), (1114, 0.016557835678603618), (1115, 0.014627795233135288), (1116, 0.013572135254072533), (1117, 0.017725728582912388), (1118, 0.1218547240421366), (1119, 0.025799246792743348), (1120, 0.07493244280465736), (1121, 0.012707498572214062), (1122, 0.011940976051144829), (1123, 0.018322971052701104), (1124, 0.017172338812907903), (1125, 0.013094452600501103), (1126, 0.005818341354252225), (1127, 0.07345960603562336), (1128, 0.01716902300340011), (1129, 0.09515135756249976), (1130, 0.003659992287362443), (1131, 0.02132041483242175), (1132, 0.027954676999059735), (1133, 0.005385021070715372), (1134, 0.07439410547948916), (1135, 0.017910254500877357), (1136, 0.017717280895263254), (1137, 0.036993636779080845), (1138, 0.013101772186672562), (1139, 0.005648899997774428), (1140, 0.08699109178841781), (1141, 0.024813956999068396), (1142, 0.008069339673598727), (1143, 0.0044140898766105024), (1144, 0.012563339348090534), (1145, 0.012052125521081801), (1146, 0.04073172282748345), (1147, 0.0039723674196060375), (1148, 0.02507089567135506), (1149, 0.005676463138466483), (1150, 0.010648824061370275), (1151, 0.007133764666611293), (1152, 0.09625207102406037), (1153, 0.011940857156773472), (1154, 0.01354588943619365), (1155, 0.00625389601249449), (1156, 0.0029906228401396554), (1157, 0.01310932928648747), (1158, 0.020790530704145594), (1159, 0.005628817019060235), (1160, 0.03977975181107515), (1161, 0.017908613558734146), (1162, 0.024763429200969547), (1163, 0.007275428579903567), (1164, 0.020077876521116696), (1165, 0.007372533959239114), (1166, 0.11988676219782045), (1167, 0.013689087892884665), (1168, 0.01945789665689529), (1169, 0.012100332105739912), (1170, 0.006840246614772566), (1171, 0.005353414065915324), (1172, 0.012801621178305762), (1173, 0.05679549910904827), (1174, 0.0148167104618463), (1175, 0.027954032218329622), (1176, 0.022732871095603853), (1177, 0.015133668151561442), (1178, 0.004639235774373412), (1179, 0.09612465926787499), (1180, 0.008155057325077887), (1181, 0.03432407823609858), (1182, 0.020466095346299673), (1183, 0.025727034458440462), (1184, 0.02675689517057505), (1185, 0.021547827611957067), (1186, 0.0327970119824417), (1187, 0.008139476683313003), (1188, 0.015188723782415299), (1189, 0.015276574514537448), (1190, 0.006881673445638684), (1191, 0.016760061095620633), (1192, 0.023930698772399946), (1193, 0.00918328307502952), (1194, 0.02398191973230744), (1195, 0.032433964133572545), (1196, 0.007380045735471181), (1197, 0.00820961039585398), (1198, 0.005551044526528855), (1199, 0.006078206604643499), (1200, 0.0055033289132362375), (1201, 0.07769567422640486), (1202, 0.029397359596999302), (1203, 0.06517955003827769), (1204, 0.01957313296383374), (1205, 0.038340860509862386), (1206, 0.02132830957004682), (1207, 0.013879462087052822), (1208, 0.022412611513596924), (1209, 0.011728059170937232), (1210, 0.016987405144246393), (1211, 0.009906056997826835), (1212, 0.0029816039849189487), (1213, 0.011352747148590345), (1214, 0.010796977341336195), (1215, 0.04143138269808369), (1216, 0.037621950374661095), (1217, 0.009932896097110035), (1218, 0.0056861982038239065), (1219, 0.012667332202608522), (1220, 0.025079323777179554), (1221, 0.004684541644440072), (1222, 0.0049212922094760475), (1223, 0.013419925637047744), (1224, 0.021905380585936583), (1225, 0.09380632846897005), (1226, 0.041216831959071935), (1227, 0.010270708957264355), (1228, 0.009069156630713731), (1229, 0.014310705849058343), (1230, 0.020931581353434855), (1231, 0.013360974880572796), (1232, 0.03129526106760457), (1233, 0.005769366353592646), (1234, 0.017458630008717738), (1235, 0.08800431417524385), (1236, 0.042062905079993856), (1237, 0.01897398821149993), (1238, 0.01467498712025435), (1239, 0.01707007278186751), (1240, 0.008546656771316302), (1241, 0.11500336667371265), (1242, 0.006646142002379355), (1243, 0.07827571985091909), (1244, 0.007785204092133126), (1245, 0.02693239530409645), (1246, 0.01096420542848107), (1247, 0.008493225652080464), (1248, 0.05281901895314473), (1249, 0.03304188650711641), (1250, 0.013664456188205715), (1251, 0.01577712223287512), (1252, 0.04278641536425674), (1253, 0.005454109130916452), (1254, 0.037601471621140165), (1255, 0.013550183702939159), (1256, 0.005577552815689528), (1257, 0.05762167501433517), (1258, 0.0090797962090389), (1259, 0.08502771894362324), (1260, 0.01639280325476213), (1261, 0.0763702763370602), (1262, 0.032191114762174546), (1263, 0.005822550198391981), (1264, 0.017739440843681134), (1265, 0.003967696199525705), (1266, 0.023919366754058376), (1267, 0.021233466685642372), (1268, 0.006075828532787019), (1269, 0.0034233348382560974), (1270, 0.04005662944452392), (1271, 0.005526795971008135), (1272, 0.06237864626944178), (1273, 0.007076479881397444), (1274, 0.03324279318319858), (1275, 0.02691046074287677), (1276, 0.013645063098950631), (1277, 0.005401797983180271), (1278, 0.024749981860826435), (1279, 0.026195191324634305), (1280, 0.016356408844294765), (1281, 0.0209873126811912), (1282, 0.01867096585563714), (1283, 0.03438215493168776), (1284, 0.01958621247758594), (1285, 0.006773221337494628), (1286, 0.008262610699858711), (1287, 0.007034699783304746), (1288, 0.003388107266317623), (1289, 0.018917436922735995), (1290, 0.033322451289944086), (1291, 0.005399357420406066), (1292, 0.05480365986840777), (1293, 0.0038811276988329393), (1294, 0.011732058801914642), (1295, 0.015329552002338733), (1296, 0.007912188203638778), (1297, 0.08524304091970082), (1298, 0.007635754441945527), (1299, 0.006663667508684193), (1300, 0.01617291538363755), (1301, 0.005641249815097351), (1302, 0.04788962738446034), (1303, 0.020289320616730326), (1304, 0.01781653686920597), (1305, 0.007637139300730251), (1306, 0.06721359044735402), (1307, 0.09836332631367638), (1308, 0.006555791004290857), (1309, 0.008703544089235056), (1310, 0.014655280073684381), (1311, 0.008127787469791039), (1312, 0.07811224367316578), (1313, 0.09581585628312664), (1314, 0.03526169617431495), (1315, 0.007550161201068658), (1316, 0.012629452204736559), (1317, 0.018587511329852622), (1318, 0.007430892414267284), (1319, 0.008800302411493013), (1320, 0.008630685489628802), (1321, 0.009204485040305731), (1322, 0.08314273885520662), (1323, 0.01145837776703466), (1324, 0.022963514080047688), (1325, 0.03560410144654159), (1326, 0.004610072820052599), (1327, 0.014174673159998335), (1328, 0.0038288068859794306), (1329, 0.013264465600279456), (1330, 0.012234768062319181), (1331, 0.024363895304165405), (1332, 0.031803175545963146), (1333, 0.003953383822004203), (1334, 0.017207610440192724), (1335, 0.0341875516973933), (1336, 0.09282773076004755), (1337, 0.022063352949575055), (1338, 0.015756163512628547), (1339, 0.016642677315981604), (1340, 0.011993727193391849), (1341, 0.09091479950380486), (1342, 0.021752631435152048), (1343, 0.02269715162712422), (1344, 0.01380763509851974), (1345, 0.008203412125180604), (1346, 0.006293776999492009), (1347, 0.02647314170031157), (1348, 0.09270250308931943), (1349, 0.010149738442537753), (1350, 0.012679365686361792), (1351, 0.03238527870228699), (1352, 0.024265470694467967), (1353, 0.03455270302751891), (1354, 0.016595903800042045), (1355, 0.011743250035698373), (1356, 0.01241563299555496), (1357, 0.010595328349974594), (1358, 0.05478530953445539), (1359, 0.010051033021115945), (1360, 0.02041555705973579), (1361, 0.02420131246895598), (1362, 0.016118636759723845), (1363, 0.004876610906493762), (1364, 0.008831927113207091), (1365, 0.025159350222944726), (1366, 0.007002803151990377), (1367, 0.10138376163023162), (1368, 0.01835814051600815), (1369, 0.046551230651780996), (1370, 0.008023797390000257), (1371, 0.08779321624346408), (1372, 0.006839243590886484), (1373, 0.010582924393831142), (1374, 0.013024662403656897), (1375, 0.022623045840136864), (1376, 0.007537858226786059), (1377, 0.03007216826822082), (1378, 0.08177467637059675), (1379, 0.04546297815732727), (1380, 0.011869640904925753), (1381, 0.030268705720084405), (1382, 0.027486791094951533), (1383, 0.06498367637038874), (1384, 0.02483855464995283), (1385, 0.02113302886632883), (1386, 0.025776987360344537), (1387, 0.015443009396668296), (1388, 0.00781384638359811), (1389, 0.12255206239347596), (1390, 0.0037469263656771026), (1391, 0.015074229585165933), (1392, 0.0065925796703465754), (1393, 0.055440140586211495), (1394, 0.00822099347016248), (1395, 0.008887180729870544), (1396, 0.04790625531949181), (1397, 0.03441114553348269), (1398, 0.04195528446734902), (1399, 0.005289451018093366), (1400, 0.01890006726457359), (1401, 0.025369160859367326), (1402, 0.03669026325411852), (1403, 0.03767731192106847), (1404, 0.014491274009380533), (1405, 0.038053841805059704), (1406, 0.020248030026693804), (1407, 0.010046853675519503), (1408, 0.00698718946137531), (1409, 0.0071709089524996245), (1410, 0.0066276588936899855), (1411, 0.006959459474630262), (1412, 0.03179950467796938), (1413, 0.024712161788811797), (1414, 0.015348906249820058), (1415, 0.0055158245316627216), (1416, 0.009756304404114045), (1417, 0.023746698029588648), (1418, 0.029920714595268634), (1419, 0.022666577020173436), (1420, 0.029304159455983428), (1421, 0.010640442848697067), (1422, 0.009564786036859368), (1423, 0.07967053265473996), (1424, 0.004097469673536073), (1425, 0.016721188403339624), (1426, 0.01147646768315548), (1427, 0.021168128810535466), (1428, 0.010668469911899688), (1429, 0.013881146364926907), (1430, 0.036191651907561476), (1431, 0.011034774850542524), (1432, 0.0204782509333872), (1433, 0.01536167696830501), (1434, 0.006424668006344901), (1435, 0.014992529298908189), (1436, 0.01985681572472518), (1437, 0.0792303538612794), (1438, 0.01859893657220853), (1439, 0.009454652125926409), (1440, 0.01678769980079286), (1441, 0.00781715059793616), (1442, 0.013048786259829062), (1443, 0.04082356562797478), (1444, 0.006655685389000378), (1445, 0.02463080722873202), (1446, 0.009801938464114472), (1447, 0.009089219596610895), (1448, 0.016047058324565096), (1449, 0.008969321009311111), (1450, 0.0073985707835055045), (1451, 0.02340486826324985), (1452, 0.023558264756023822), (1453, 0.011617429129562814), (1454, 0.01727583551235811), (1455, 0.035844130105959174), (1456, 0.007617752971428859), (1457, 0.012124376835821363), (1458, 0.009734119385505212), (1459, 0.025843844436177835), (1460, 0.006258917276677755), (1461, 0.014379803322309415), (1462, 0.011637084501541783), (1463, 0.008213094061767108), (1464, 0.04438085662874576), (1465, 0.015622041258437946), (1466, 0.0060812963233110055), (1467, 0.004405871865786784), (1468, 0.006779169019825978), (1469, 0.023512134213744398), (1470, 0.008343547427131951), (1471, 0.033572308916286764), (1472, 0.015914924977621522), (1473, 0.005441153530963576), (1474, 0.009615265726155077), (1475, 0.018229782537243243), (1476, 0.007042312858843831), (1477, 0.006861240451241402), (1478, 0.03193195945229258), (1479, 0.009423487979566594), (1480, 0.01917311802895524), (1481, 0.02270010682471356), (1482, 0.046388669013905114), (1483, 0.09035475466641535), (1484, 0.016533016773498888), (1485, 0.10148299574170923), (1486, 0.017708052019801173), (1487, 0.0012621464384056879), (1488, 0.02807635778009062), (1489, 0.015875924935309493), (1490, 0.007321510944641074), (1491, 0.006183707464750133), (1492, 0.10731028731556368), (1493, 0.021209186972441445), (1494, 0.025353113402728614), (1495, 0.01012239930449565), (1496, 0.006975307189160501), (1497, 0.024731249534562898), (1498, 0.02367702081298286), (1499, 0.042373789187246685), (1500, 0.04109892448364356), (1501, 0.014363027589973947), (1502, 0.010854725594610117), (1503, 0.007774054246955078), (1504, 0.016275868104295863), (1505, 0.07241503248769358), (1506, 0.05493842752972813), (1507, 0.019663057357865103), (1508, 0.006085622292328794), (1509, 0.01451632601847728), (1510, 0.03695368993858639), (1511, 0.0038025795557248693), (1512, 0.0829733730378317), (1513, 0.026341114915580787), (1514, 0.016700550589017402), (1515, 0.03090550423953086), (1516, 0.007877098644750415), (1517, 0.007701846594120838), (1518, 0.019397258227141573), (1519, 0.014532934359159987), (1520, 0.008719540636376621), (1521, 0.0071011528400171595), (1522, 0.022904830830948), (1523, 0.02486078732240221), (1524, 0.005088190470995707), (1525, 0.005859083193536397), (1526, 0.011620010574721553), (1527, 0.049494318052605776), (1528, 0.0060935732436717726), (1529, 0.008095584424663712), (1530, 0.034734702143766595), (1531, 0.015639455780564214), (1532, 0.007797511308726827), (1533, 0.00833029471459434), (1534, 0.00552639283761884), (1535, 0.007277805167853001), (1536, 0.040691004555545564), (1537, 0.015898977854923533), (1538, 0.01857189411186444), (1539, 0.017158228422554676), (1540, 0.018675223735602386), (1541, 0.007253137722532372), (1542, 0.01923119801176447), (1543, 0.007763648723368593), (1544, 0.03364552952459303), (1545, 0.0076079134003377525), (1546, 0.009743283977861285), (1547, 0.009116622626121548), (1548, 0.02971698858232104), (1549, 0.00389070690229367), (1550, 0.013527684128714352), (1551, 0.01112814025651664), (1552, 0.007779314347698138), (1553, 0.008868781577523162), (1554, 0.01237114939624202), (1555, 0.01587548627311929), (1556, 0.0071709628054520995), (1557, 0.00809486328671167), (1558, 0.011590677360396673), (1559, 0.01313434878990346), (1560, 0.0334881896972332), (1561, 0.007459460927439316), (1562, 0.010220096701232386), (1563, 0.00792703130486527), (1564, 0.0038431485678424933), (1565, 0.010856054320892677), (1566, 0.03330428077383849), (1567, 0.07689234032504844), (1568, 0.044052326534343246), (1569, 0.007047581961630859), (1570, 0.007019046061752729), (1571, 0.016691103059817317), (1572, 0.01812840863323161), (1573, 0.009140703104640118), (1574, 0.008667824683366842), (1575, 0.011557953679120204), (1576, 0.010306298591313035), (1577, 0.0038905395777799104), (1578, 0.03008283364048901), (1579, 0.024944299387462943), (1580, 0.007403685547313065), (1581, 0.015185186991223724), (1582, 0.016976938568406576), (1583, 0.014400158411031976), (1584, 0.008530073734016754), (1585, 0.04873362517922331), (1586, 0.06722938780592377), (1587, 0.01748683519445424), (1588, 0.009509354685290008), (1589, 0.019065932617243805), (1590, 0.009475153485407412), (1591, 0.022672648577555264), (1592, 0.005348354123181842), (1593, 0.008453203139630324), (1594, 0.010150555815452222), (1595, 0.021792506088076216), (1596, 0.01678194349679678), (1597, 0.00657806414958757), (1598, 0.0045470451778369106), (1599, 0.006167392256105154), (1600, 0.007484681373751537), (1601, 0.003294847094885045), (1602, 0.0061820799782209635), (1603, 0.003910735967877483), (1604, 0.009672497907127332), (1605, 0.008647818170781113), (1606, 0.00513063577931484), (1607, 0.003559627934928738), (1608, 0.07966649756592845), (1609, 0.026481969193233444), (1610, 0.007579055543366751), (1611, 0.017866073699301155), (1612, 0.01997957640317354), (1613, 0.0055738939052497145), (1614, 0.09128085353345272), (1615, 0.006167333365762475), (1616, 0.011140228043325193), (1617, 0.008213253160693842), (1618, 0.006998731767632651), (1619, 0.01836461107795316), (1620, 0.016788093454826104), (1621, 0.022555827359420324), (1622, 0.009642165701314601), (1623, 0.008619993567601139), (1624, 0.010699659402348799), (1625, 0.012228325692035646), (1626, 0.004610570955016758), (1627, 0.011032465124475083), (1628, 0.009406254606844171), (1629, 0.03267425261641554), (1630, 0.019860835534053413), (1631, 0.008922909007092252), (1632, 0.01197804419545366), (1633, 0.010981133014511731), (1634, 0.03569221981320418), (1635, 0.00963488695365605), (1636, 0.005586649655868534), (1637, 0.011744406409949068), (1638, 0.0077718850411761355), (1639, 0.006598825612138748), (1640, 0.08330548875037438), (1641, 0.012323660629329969), (1642, 0.008796017598583585), (1643, 0.015953779051252677), (1644, 0.0074500728877247135), (1645, 0.008760360696839175), (1646, 0.006128042108698126), (1647, 0.09900377210456686), (1648, 0.03886992499865116), (1649, 0.006688851973076956), (1650, 0.016055256469727802), (1651, 0.009879098546145068), (1652, 0.04811819069089415), (1653, 0.09965964643878154), (1654, 0.013391527463424216), (1655, 0.010862703287360127), (1656, 0.010319048858665046), (1657, 0.02831449509515028), (1658, 0.01864011969878927), (1659, 0.011148360417165135), (1660, 0.08065980650778345), (1661, 0.01023164732528821), (1662, 0.020234242810911476), (1663, 0.020517136386482022), (1664, 0.0035163088711622787), (1665, 0.020785719367360293), (1666, 0.008383373107369616), (1667, 0.028001085216405316), (1668, 0.003507862703441094), (1669, 0.004614238246897825), (1670, 0.011202482534872165), (1671, 0.032098349227847045), (1672, 0.009887591242067374), (1673, 0.0069822501895161525), (1674, 0.10869749483180716), (1675, 0.052055096672126946), (1676, 0.05010027379681726), (1677, 0.005778414457019077), (1678, 0.032730604340727776), (1679, 0.003872851196244321), (1680, 0.020520427098748857), (1681, 0.02870649451677355), (1682, 0.024980788475144525), (1683, 0.008459898169452536), (1684, 0.012763458932637424), (1685, 0.00898709352134556), (1686, 0.010165122926903856), (1687, 0.026049404293417212), (1688, 0.018177969003908168), (1689, 0.003897165712562653), (1690, 0.006498986415287789), (1691, 0.005853488886592893), (1692, 0.023132317569148433), (1693, 0.009345293434233293), (1694, 0.018733149481638785), (1695, 0.005299439937736542), (1696, 0.017359027374694146), (1697, 0.003817852503262542), (1698, 0.006672466127739147), (1699, 0.008979865586397375), (1700, 0.005288332107720991), (1701, 0.01564370655326645), (1702, 0.052193682113336186), (1703, 0.010483762098433701), (1704, 0.003574075985121909), (1705, 0.018364136115101275), (1706, 0.008366564659556798), (1707, 0.02330624221295556), (1708, 0.01159843157769543), (1709, 0.003339410976283203), (1710, 0.01985784340683093), (1711, 0.00863296988943334), (1712, 0.008942734871988526), (1713, 0.04371118128740343), (1714, 0.014350599407791138), (1715, 0.014466354814975175), (1716, 0.023300314581911334), (1717, 0.007018063581122656), (1718, 0.016208320705466767), (1719, 0.07696254168268037), (1720, 0.03414578503535378), (1721, 0.030317819933831994), (1722, 0.006486933095503095), (1723, 0.01870673742128612), (1724, 0.010163971991028649), (1725, 0.006224560654386901), (1726, 0.008408553170661786), (1727, 0.018867522045449725), (1728, 0.005739669124128122), (1729, 0.008674238831274661), (1730, 0.011085022266063185), (1731, 0.0064874432368441474), (1732, 0.01178792765452535), (1733, 0.007432555326251476), (1734, 0.0013744001508861551), (1735, 0.010365078031848394), (1736, 0.018416147977695693), (1737, 0.008132553876968512), (1738, 0.015559771472819714), (1739, 0.020553173794835643), (1740, 0.022760561917402423), (1741, 0.023067836119925335), (1742, 0.011554134686027008), (1743, 0.007716260232070083), (1744, 0.007164946507505411), (1745, 0.00841150315086718), (1746, 0.005788359726210563), (1747, 0.007405755808004884), (1748, 0.009436609269917844), (1749, 0.03248133111569488), (1750, 0.04586093140150826), (1751, 0.00962828806010946), (1752, 0.0481601463877885), (1753, 0.007293528386199248), (1754, 0.11590932626491263), (1755, 0.005026806487413755), (1756, 0.0035352586572747592), (1757, 0.030426713863503922), (1758, 0.00739180989314497), (1759, 0.026153881046772222), (1760, 0.023670341863552557), (1761, 0.010717458293473932), (1762, 0.007771700429753186), (1763, 0.10355457105417133), (1764, 0.016175957700916347), (1765, 0.010523272674573722), (1766, 0.00884328232868414), (1767, 0.0115412190527014), (1768, 0.006364254777851078), (1769, 0.0161062847495097), (1770, 0.05456911896520012), (1771, 0.007077318718502017), (1772, 0.007927960297655745), (1773, 0.013931135017153993), (1774, 0.026834313585170237), (1775, 0.006250487561304013), (1776, 0.01563955710524778), (1777, 0.01762575919942581), (1778, 0.01492858076692651), (1779, 0.01743257494134847), (1780, 0.006708297029049013), (1781, 0.019000975952949622), (1782, 0.0077809811636357805), (1783, 0.013616101268875053), (1784, 0.011466356073162173), (1785, 0.0031764081131313076), (1786, 0.007274423851235444), (1787, 0.02358103609365438), (1788, 0.03658013315309032), (1789, 0.016467862631600747), (1790, 0.004144898676839004), (1791, 0.011957494203176265), (1792, 0.006188711008629878), (1793, 0.01651047874284696), (1794, 0.0034933047727548445), (1795, 0.038059739612133325), (1796, 0.022757777173544613), (1797, 0.014652251431451897), (1798, 0.03239257423925398), (1799, 0.021061974627239008), (1800, 0.0021025634324211805), (1801, 0.008881552777735165), (1802, 0.018626142355512597), (1803, 0.006451632457151429), (1804, 0.11179613005716417), (1805, 0.011316832141548275), (1806, 0.014686620076703828), (1807, 0.014422586339723717), (1808, 0.007976952128954497), (1809, 0.06889509487829167), (1810, 0.01861051865116332), (1811, 0.017679324469207836), (1812, 0.012909139788644426), (1813, 0.006211981535728936), (1814, 0.021591688508814214), (1815, 0.023490249157061036), (1816, 0.0252468957231788), (1817, 0.029032265958710328), (1818, 0.012175405178290416), (1819, 0.012314739145349684), (1820, 0.005129390040294788), (1821, 0.02506546725707272), (1822, 0.007422548171711818), (1823, 0.009767524283633406), (1824, 0.03422791981891037), (1825, 0.005426276582769542), (1826, 0.0030521624847479026), (1827, 0.010384010120352356), (1828, 0.007144405405627581), (1829, 0.010478524157536879), (1830, 0.006155958099199813), (1831, 0.007709052089635389), (1832, 0.019660853009716248), (1833, 0.008747105071614096), (1834, 0.0036460451570026467), (1835, 0.007829965572579), (1836, 0.0014728461979182492), (1837, 0.04267812656602703), (1838, 0.02953946526475269), (1839, 0.0070358838637306995), (1840, 0.008950674528462764), (1841, 0.01613437329960583), (1842, 0.012031957304981909), (1843, 0.014153822313834784), (1844, 0.020093061688786384), (1845, 0.03947657707134462), (1846, 0.08474632944369145), (1847, 0.04151558750025547), (1848, 0.03420158557875904), (1849, 0.09417052179426831), (1850, 0.05721559578151818), (1851, 0.00831323788432158), (1852, 0.03158681312972156), (1853, 0.02697571597312643), (1854, 0.0372990480723605), (1855, 0.005366518367098667), (1856, 0.008113707577274375), (1857, 0.010106765430609491), (1858, 0.024549224876961356), (1859, 0.010642514689220247), (1860, 0.0069600763686515224), (1861, 0.025002543660800326), (1862, 0.009706415208614327), (1863, 0.008053060890223465), (1864, 0.015488500456985733), (1865, 0.03182326500887764), (1866, 0.015624339056113825), (1867, 0.003888585220162431), (1868, 0.042394736423027386), (1869, 0.011390118964993772), (1870, 0.021679737812572843), (1871, 0.053025809975521095), (1872, 0.026949212775083588), (1873, 0.0894290835022261), (1874, 0.03663179584591251), (1875, 0.016114948837837862), (1876, 0.02385117675122814), (1877, 0.006592013974760471), (1878, 0.06391067445514183), (1879, 0.016930411459782174), (1880, 0.03517434566533201), (1881, 0.014012887378419676), (1882, 0.01974264912665704), (1883, 0.00286774142313875), (1884, 0.0162028812075361), (1885, 0.04170880430375362), (1886, 0.17508372769456734), (1887, 0.023952314764380787), (1888, 0.009162421406213187), (1889, 0.0049985834023548005), (1890, 0.02950679239628608), (1891, 0.007157615118249315), (1892, 0.017427692150811712), (1893, 0.008604052446377899), (1894, 0.016453961441188592), (1895, 0.025428996033850956), (1896, 0.10208942081084146), (1897, 0.016129115504549728), (1898, 0.0783951408519169), (1899, 0.016222367604483822), (1900, 0.014035435685714847), (1901, 0.011674730568198422), (1902, 0.014615725894662436), (1903, 0.020286603846249338), (1904, 0.011268931877950264), (1905, 0.010425405853130735), (1906, 0.023838409011792776), (1907, 0.00732209096005377), (1908, 0.019400949553074504), (1909, 0.03543404686398938), (1910, 0.027336942729346236), (1911, 0.08058742748091183), (1912, 0.0037083906084846236), (1913, 0.011396920080846619), (1914, 0.00900766202692506), (1915, 0.017425101461781382), (1916, 0.01663954786769101), (1917, 0.005291022878202951), (1918, 0.016016967037004334), (1919, 0.024880240208982253), (1920, 0.016238522525028772), (1921, 0.012083038704743886), (1922, 0.023669745863934052), (1923, 0.019403864832351073), (1924, 0.018971483664459228), (1925, 0.017032600796115713), (1926, 0.003700977712715562), (1927, 0.028012080703518724), (1928, 0.004583184799146302), (1929, 0.006173766461790104), (1930, 0.009565331983626378), (1931, 0.01738716831503567), (1932, 0.02148355502586745), (1933, 0.00843327418490611), (1934, 0.02306045974212934), (1935, 0.03621182364691698), (1936, 0.019808278714454095), (1937, 0.0306821172068909), (1938, 0.006258152279484603), (1939, 0.014142731367260297), (1940, 0.012231782423670574), (1941, 0.011835548481995072), (1942, 0.029382583295531443), (1943, 0.00881010075403954), (1944, 0.02196862453270534), (1945, 0.017407764751771027), (1946, 0.01825472414804129), (1947, 0.005564814993164665), (1948, 0.018199641114264777), (1949, 0.019756617441308515), (1950, 0.024859716804890387), (1951, 0.02930708469603664), (1952, 0.014239250137910074), (1953, 0.008933634043947538), (1954, 0.004204760647378536), (1955, 0.006342530048348418), (1956, 0.005952767856930863), (1957, 0.03943085220664875), (1958, 0.020664585667620576), (1959, 0.007313183012347551), (1960, 0.013547267994228587), (1961, 0.03521945841173251), (1962, 0.012402710381251602), (1963, 0.006618919378955845), (1964, 0.013195789567427771), (1965, 0.07692914760745731), (1966, 0.007475856674369066), (1967, 0.03086239144134411), (1968, 0.015509577527548413), (1969, 0.011239585510811702), (1970, 0.07931652455432985), (1971, 0.013669995711224247), (1972, 0.015417119094713418), (1973, 0.04791043467202687), (1974, 0.0034927626581314243), (1975, 0.010646841109548017), (1976, 0.03579492078440363), (1977, 0.09434676813807363), (1978, 0.02519224964166215), (1979, 0.005081934087662448), (1980, 0.00798437510189719), (1981, 0.010560571000320557), (1982, 0.050471090390811234), (1983, 0.09349236052875397), (1984, 0.0030167964425480234), (1985, 0.04147893642054777), (1986, 0.08146317429074218), (1987, 0.012745006228667283), (1988, 0.022175918946807684), (1989, 0.01909393796984604), (1990, 0.040686100031086365), (1991, 0.013269122744111905), (1992, 0.017791174030383945), (1993, 0.008802979097666164), (1994, 0.09677575721197672), (1995, 0.01654107363508416), (1996, 0.0294949655881109), (1997, 0.03204257933861727), (1998, 0.0114896425766652), (1999, 0.033082107569612745), (2000, 0.02027468359875257), (2001, 0.0063451169850064154), (2002, 0.00409106365143386), (2003, 0.010210194326826946), (2004, 0.008288572454239324), (2005, 0.02310969503909565), (2006, 0.006466235961219559), (2007, 0.008626409727989082), (2008, 0.022631632020954105), (2009, 0.00890413940780257), (2010, 0.004653800083020141), (2011, 0.036053847112176095), (2012, 0.04658871485014), (2013, 0.03153723756397283), (2014, 0.0036643829445420217), (2015, 0.02415584426919238), (2016, 0.041107365647958576), (2017, 0.008370271356703561), (2018, 0.045269027285950364), (2019, 0.005598605192473263), (2020, 0.03549007502754507), (2021, 0.009480772838776463), (2022, 0.011249686014245397), (2023, 0.03856474561679748), (2024, 0.03369516310838416), (2025, 0.0036680045956793274), (2026, 0.03243875510608255), (2027, 0.028112701328254656), (2028, 0.0046687596589158244), (2029, 0.023962257168131783), (2030, 0.009181285126070346), (2031, 0.0320880698217252), (2032, 0.0038398856050996357), (2033, 0.003257048498263369), (2034, 0.010628215946077442), (2035, 0.02665545035708053), (2036, 0.0037074539054485177), (2037, 0.059887013067889024), (2038, 0.022267171861930248), (2039, 0.005581270265449442), (2040, 0.09334297353238775), (2041, 0.008915111143845798), (2042, 0.009089724766589686), (2043, 0.005548223727714068), (2044, 0.010158570749649804), (2045, 0.09754302407190123), (2046, 0.0038784168567270096), (2047, 0.007820445090967722), (2048, 0.032451678615022024), (2049, 0.007618383092078293), (2050, 0.0037228646506054087), (2051, 0.012184388209637667), (2052, 0.08412623011817692), (2053, 0.022169404162524838), (2054, 0.005870955340480691), (2055, 0.034744403045740335), (2056, 0.013063255248318433), (2057, 0.02018981065304756), (2058, 0.01246268356930496), (2059, 0.0057840947456035945), (2060, 0.012427947284852334), (2061, 0.012348430099241468), (2062, 0.019942837713369434), (2063, 0.005517178899992912), (2064, 0.011587917588180044), (2065, 0.09332737873056798), (2066, 0.03558650082129114), (2067, 0.009487757797024177), (2068, 0.007459199262627642), (2069, 0.014392847828692984), (2070, 0.02812159050787481), (2071, 0.0059251791204567), (2072, 0.018617139635186703), (2073, 0.013220411284573666), (2074, 0.016219355720833873), (2075, 0.01751786396856429), (2076, 0.017224818803676455), (2077, 0.015165284228550461), (2078, 0.009946007223913356), (2079, 0.08767485660328024), (2080, 0.027590825129471384), (2081, 0.0038508882019147243), (2082, 0.040860528762785155), (2083, 0.009207741741327496), (2084, 0.017881596902630862), (2085, 0.0038882041336365334), (2086, 0.006638951809704098), (2087, 0.005023769940016811), (2088, 0.016693949008836112), (2089, 0.016975440205089943), (2090, 0.0055547155723599155), (2091, 0.0946470875001856), (2092, 0.011784857334916727), (2093, 0.0315882146995389), (2094, 0.03131822981177875), (2095, 0.011345488103554286), (2096, 0.02194895809321442), (2097, 0.029051787106500082), (2098, 0.007591251540229295), (2099, 0.0068084846856928515), (2100, 0.04076553577518052), (2101, 0.014362109059845266), (2102, 0.03662825361053459), (2103, 0.019125433878818574), (2104, 0.023139557494671024), (2105, 0.011746730631755239), (2106, 0.007772423421778999), (2107, 0.017831192211134828), (2108, 0.005024533716381505), (2109, 0.023694178811322908), (2110, 0.019796962347771986), (2111, 0.011288855347663468), (2112, 0.06661586756931565), (2113, 0.009738208226036249), (2114, 0.020482071608990994), (2115, 0.01584844266347478), (2116, 0.009422217803198364), (2117, 0.009371785203392574), (2118, 0.0058109880057289195), (2119, 0.024940003547400627), (2120, 0.01842144640406992), (2121, 0.012848062141639572), (2122, 0.01071610888579277), (2123, 0.009871774076589596), (2124, 0.004328121086032324), (2125, 0.0032991807680468116), (2126, 0.014985161812326115), (2127, 0.00807352907674651), (2128, 0.020471356774290267), (2129, 0.006398909398851181), (2130, 0.01510931337908485), (2131, 0.024218043334374318), (2132, 0.0198402657584823), (2133, 0.06389498782662441), (2134, 0.012193388283195793), (2135, 0.010576332173371998), (2136, 0.02122286920144767), (2137, 0.00900276716949953), (2138, 0.004356603334319711), (2139, 0.01969012768973587), (2140, 0.0031485655925390637), (2141, 0.006598207111875186), (2142, 0.008574721564124449), (2143, 0.020514875309939125), (2144, 0.01636593459891997), (2145, 0.0907452043258499), (2146, 0.0028687561263286655), (2147, 0.003906445625425112), (2148, 0.01387737507001389), (2149, 0.024649501434947044), (2150, 0.00693400998157122), (2151, 0.06884519895087621), (2152, 0.009468191603317721), (2153, 0.00768920514059785), (2154, 0.028401646543211312), (2155, 0.007321006461446044), (2156, 0.015667268470626917), (2157, 0.030971967815991493), (2158, 0.01579294518539897), (2159, 0.009137338124829504), (2160, 0.012498775458455963), (2161, 0.03635145232109976), (2162, 0.017673712355717634), (2163, 0.007815548115628691), (2164, 0.004401911583424448), (2165, 0.005632482105112909), (2166, 0.01019023371917514), (2167, 0.02643747180730471), (2168, 0.006450511712373391), (2169, 0.013659955642530152), (2170, 0.0074661272215654365), (2171, 0.007568498593701775), (2172, 0.01834494151890325), (2173, 0.02755069588959192), (2174, 0.03200058340938462), (2175, 0.010936530212438657), (2176, 0.010106346907258493), (2177, 0.019139456586981945), (2178, 0.035248758441164374), (2179, 0.003332911722732355), (2180, 0.003687262519670567), (2181, 0.021305322979696627), (2182, 0.011429329977517116), (2183, 0.0032853561782154165), (2184, 0.02472907101821765), (2185, 0.009465101256439738), (2186, 0.0012571002326837422), (2187, 0.01061712702591888), (2188, 0.012690173445260055), (2189, 0.028112332044196744), (2190, 0.006433766599717362), (2191, 0.05879844272400938), (2192, 0.010352540788047914), (2193, 0.036310398898098444), (2194, 0.0031618862889269145), (2195, 0.006580449112654758), (2196, 0.0267202470778858), (2197, 0.016770757768142446), (2198, 0.027315371226349434), (2199, 0.008335429228775093), (2200, 0.009229586379990265), (2201, 0.008726535595916393), (2202, 0.006754622168916178), (2203, 0.015234778811504243), (2204, 0.0030903371487700807), (2205, 0.01940208510762909), (2206, 0.021872724319325527), (2207, 0.02111520065722529), (2208, 0.007213431529812011), (2209, 0.005411266033213199), (2210, 0.020282750184476818), (2211, 0.01489795286857269), (2212, 0.046225325976609256), (2213, 0.01365295757995812), (2214, 0.03849481576292907), (2215, 0.008932588696579612), (2216, 0.022352112254670653), (2217, 0.0035742147597766557), (2218, 0.003664208182997892), (2219, 0.003980308272978442), (2220, 0.002532837479082529), (2221, 0.03705063558175699), (2222, 0.003505692615684923), (2223, 0.011335257684948996), (2224, 0.021844595893496487), (2225, 0.005156871677790517), (2226, 0.029643039293323924), (2227, 0.0029455140559552103), (2228, 0.017697177712034197), (2229, 0.02034986516582168), (2230, 0.018493420423173167), (2231, 0.015073065305657007), (2232, 0.014904984260456692), (2233, 0.009735315330656918), (2234, 0.0036573101176721424), (2235, 0.018139898113834957), (2236, 0.015503989561860628), (2237, 0.03261721091084379), (2238, 0.06492139207436563), (2239, 0.013204535124336902), (2240, 0.020860932871231364), (2241, 0.005096310647671622), (2242, 0.009951624071169113), (2243, 0.003903281919465297), (2244, 0.016355696812869372), (2245, 0.010463020633003637), (2246, 0.02054824258241063), (2247, 0.0013987593283629036), (2248, 0.004241244821809801), (2249, 0.007407463026731706), (2250, 0.017879067249026232), (2251, 0.010741185427693992), (2252, 0.03433995155851701), (2253, 0.019803715142754686), (2254, 0.021981884749910877), (2255, 0.01312244781278953), (2256, 0.0032311282011421236), (2257, 0.0068489165850274215), (2258, 0.02421958018076053), (2259, 0.005777994741434488), (2260, 0.007207152618478173), (2261, 0.008192993957515157), (2262, 0.006757572501839652), (2263, 0.0034260719162412727), (2264, 0.027078615261495027), (2265, 0.01950138314334981), (2266, 0.007211196198321513), (2267, 0.00399088253308593), (2268, 0.019776304866399145), (2269, 0.006942558530435305), (2270, 0.006234780788413252), (2271, 0.005158048611640549), (2272, 0.003426162203506642), (2273, 0.013714712151545764), (2274, 0.00671679581982653), (2275, 0.018283366287862528), (2276, 0.029533885730130043), (2277, 0.013920762899325537), (2278, 0.012737748029441325), (2279, 0.01959166167637321), (2280, 0.0168400855374974), (2281, 0.003879545372499831), (2282, 0.0015064664007226913), (2283, 0.011946150576012197), (2284, 0.03988913460804945), (2285, 0.05322009627098401), (2286, 0.007641699506050593), (2287, 0.01761923001153982), (2288, 0.008576082617957743), (2289, 0.010054885788641877), (2290, 0.023533914146121042), (2291, 0.012237514920252922), (2292, 0.00951631672633256), (2293, 0.0077928652063990606), (2294, 0.05428762569158167), (2295, 0.047484990130078744), (2296, 0.005999022766907252), (2297, 0.003420245538239994), (2298, 0.02315191194109375), (2299, 0.009120478212817912), (2300, 0.00486672857124651), (2301, 0.024762282345091667), (2302, 0.007536588687162196), (2303, 0.034822238043546665), (2304, 0.013310213888095583), (2305, 0.0013519081235239172), (2306, 0.009569645514268447), (2307, 0.003636169531398969), (2308, 0.004818329986905587), (2309, 0.023055916089784162), (2310, 0.10727193092748331), (2311, 0.005855301925498556), (2312, 0.002057858510454799), (2313, 0.011008461447796198), (2314, 0.008448254142595861), (2315, 0.003644921620350936), (2316, 0.04382668996425311), (2317, 0.008616764360488818), (2318, 0.07839208851032547), (2319, 0.00670805872644266), (2320, 0.006373284653556702), (2321, 0.017585473392526085), (2322, 0.005294742742142118), (2323, 0.00426070904030332), (2324, 0.008238665825223512), (2325, 0.00506384095546471), (2326, 0.009343947842911978), (2327, 0.0058182080738137945), (2328, 0.0077530908007155536), (2329, 0.003974795605112102), (2330, 0.08884690488972623), (2331, 0.0019220714661794512), (2332, 0.005279108114270401), (2333, 0.003627915293026432), (2334, 0.02262908115117148), (2335, 0.025424470716659545), (2336, 0.03184017376599374), (2337, 0.003531059756005355), (2338, 0.07475042622957959), (2339, 0.016973821549787136), (2340, 0.02217142661903902), (2341, 0.009129535287498068), (2342, 0.006524660160066007), (2343, 0.036736678630746075), (2344, 0.012878433793147062), (2345, 0.008081628128113293), (2346, 0.013647931818689837), (2347, 0.02589488384808742), (2348, 0.010873255030373143), (2349, 0.010798004652369977), (2350, 0.007206996212445902), (2351, 0.0064454929767135145), (2352, 0.006820198523822094), (2353, 0.02642536597079782), (2354, 0.010129412322334844), (2355, 0.010301891362753005), (2356, 0.010272434871481892), (2357, 0.005357990479607461), (2358, 0.12149751651230163), (2359, 0.007024209300165708), (2360, 0.008421685074067995), (2361, 0.028956349074654664), (2362, 0.023197694907463685), (2363, 0.013587719012049481), (2364, 0.0032081265247490185), (2365, 0.04028456884811984), (2366, 0.022314109032543675), (2367, 0.07744448941297356), (2368, 0.03618941325175037), (2369, 0.0035411257717867604), (2370, 0.012622153161506205), (2371, 0.05225895801214248), (2372, 0.006309792187812082), (2373, 0.018760676194893383), (2374, 0.06282197231777431), (2375, 0.009572874524745426), (2376, 0.024448148981126377), (2377, 0.008390531178749059), (2378, 0.017364510842424533), (2379, 0.02413542295590933), (2380, 0.006378918236270319), (2381, 0.009524558945036808), (2382, 0.009547453920328589), (2383, 0.018517447095447986), (2384, 0.005385178391660154), (2385, 0.008395296277428079), (2386, 0.01643595113818056), (2387, 0.007932653914255383), (2388, 0.0081673594829934), (2389, 0.007697870099574658), (2390, 0.008829040612356138), (2391, 0.01873065708528431), (2392, 0.005150892114345482), (2393, 0.010282550211046468), (2394, 0.028680083980371605), (2395, 0.004377619068705336), (2396, 0.019815725030273953), (2397, 0.009097099239497263), (2398, 0.002719261118926206), (2399, 0.0060297218279772085), (2400, 0.007405049080134589), (2401, 0.01360057303329985), (2402, 0.00847277168775726), (2403, 0.012067767006303798), (2404, 0.007393527682849127), (2405, 0.021298933059689214), (2406, 0.021276918312103987), (2407, 0.0054839279722062335), (2408, 0.034562154890406954), (2409, 0.009370300128569884), (2410, 0.008366737917818915), (2411, 0.007399323242548088), (2412, 0.01724513473764098), (2413, 0.046306283888347705), (2414, 0.007743518790683695), (2415, 0.009753567795342666), (2416, 0.010659129728657879), (2417, 0.05023963959731939), (2418, 0.016499292534016434), (2419, 0.024468364310751063), (2420, 0.0013147298129063476), (2421, 0.02112668545073243), (2422, 0.006661744427271861), (2423, 0.09101062934516231), (2424, 0.010408439260158798), (2425, 0.010562700372291536), (2426, 0.013037363195226347), (2427, 0.013730744925007093), (2428, 0.015086828306195831), (2429, 0.019313177401286147), (2430, 0.08047110274840927), (2431, 0.0014561652573274718), (2432, 0.011975037795488393), (2433, 0.002703176630476524), (2434, 0.010202882988504983), (2435, 0.00572572182207556), (2436, 0.017007392555602175), (2437, 0.03181434446073887), (2438, 0.010981687383152883), (2439, 0.01061129861622641), (2440, 0.026011727266331802), (2441, 0.005901372939081659), (2442, 0.0812642925365779), (2443, 0.04426597660717689), (2444, 0.010891059984303383), (2445, 0.010774061162505795), (2446, 0.013841498453998756), (2447, 0.028335785627429902), (2448, 0.007641775727327764), (2449, 0.027927771243374696), (2450, 0.006581610121968066), (2451, 0.0035103776442184037), (2452, 0.011220935174127191), (2453, 0.005837451340828975), (2454, 0.007959250444955183), (2455, 0.008302264291505325), (2456, 0.0031588060333905274), (2457, 0.0076392017061655375), (2458, 0.003823566193911263), (2459, 0.09092853774262773), (2460, 0.027956738113559292), (2461, 0.007300713210011576), (2462, 0.0041499227487884), (2463, 0.01714187505107221), (2464, 0.014378480444490166), (2465, 0.0034551474416475037), (2466, 0.007086245056959104), (2467, 0.031209742040751137), (2468, 0.01814361435132609), (2469, 0.023148287070636073), (2470, 0.005308072673756304), (2471, 0.0014013799209265465), (2472, 0.0040437786391396705), (2473, 0.011515038792431551), (2474, 0.02898542841518329), (2475, 0.03326885602799446), (2476, 0.037226210132687496), (2477, 0.017236917083490413), (2478, 0.005250548666879847), (2479, 0.021014482439546497), (2480, 0.021762371860674527), (2481, 0.03967962584437895), (2482, 0.010000995907349569), (2483, 0.0014361681078338684), (2484, 0.03980280052189821), (2485, 0.006967667129019537), (2486, 0.04099489518789759), (2487, 0.03219819625656381), (2488, 0.00697832692789732), (2489, 0.018111801386827553), (2490, 0.009894954465889188), (2491, 0.024181295449274515), (2492, 0.0058833787733292104), (2493, 0.017397136935876696), (2494, 0.028085183341457435), (2495, 0.006378285517335467), (2496, 0.012915148265291377), (2497, 0.006680977483649281), (2498, 0.005304195139039269), (2499, 0.0038519811436729962), (2500, 0.006867210277858016), (2501, 0.029119533812227958), (2502, 0.07719760552065175), (2503, 0.0130240148358908), (2504, 0.0060899109897873714), (2505, 0.017130646213173364), (2506, 0.006808712307412694), (2507, 0.0120680997200703), (2508, 0.004753140206597306), (2509, 0.01598172610882978), (2510, 0.01592020884253229), (2511, 0.005303688322043467), (2512, 0.013441626146929524), (2513, 0.027062275257017276), (2514, 0.00786378096882899), (2515, 0.0013360662094348645), (2516, 0.003934354242242084), (2517, 0.0474249868504028), (2518, 0.00733877819084568), (2519, 0.014695801646700504), (2520, 0.02943184269684525), (2521, 0.00912876362676738), (2522, 0.04884411308284431), (2523, 0.026030683536161153), (2524, 0.02903933957098755), (2525, 0.008801911236651756), (2526, 0.01665226925633356), (2527, 0.005413577131921601), (2528, 0.006371336609819884), (2529, 0.014755130813958184), (2530, 0.05094152958497809), (2531, 0.005906028133167478), (2532, 0.00826633708346702), (2533, 0.019447938595177815), (2534, 0.0028281806114736517), (2535, 0.006946831655369397), (2536, 0.0834465819031057), (2537, 0.010466233287452647), (2538, 0.13717053032683507), (2539, 0.007012504918459602), (2540, 0.016242821273516787), (2541, 0.01298741525289489), (2542, 0.0032610682323151435), (2543, 0.01301929470047299), (2544, 0.0080599870342185), (2545, 0.027089094562203403), (2546, 0.01795564651918106), (2547, 0.013148007599952374), (2548, 0.005789865088034076), (2549, 0.011793335192737026), (2550, 0.05421489555317947), (2551, 0.01052394721465297), (2552, 0.010187849062935014), (2553, 0.11110298290264425), (2554, 0.008699034854689137), (2555, 0.051208601919523325), (2556, 0.005984445745039662), (2557, 0.024343342011209884), (2558, 0.012942317859022957), (2559, 0.007275933814778188), (2560, 0.029015721824061487), (2561, 0.006113104972918335), (2562, 0.0025903381652483477), (2563, 0.015529519908699867), (2564, 0.005737656519034319), (2565, 0.024296534466113802), (2566, 0.008629658856812697), (2567, 0.04447254443159193), (2568, 0.0073329543963841295), (2569, 0.006012583894555444), (2570, 0.010288486257289916), (2571, 0.010150495111043165), (2572, 0.006140432013056203), (2573, 0.011142096557120814), (2574, 0.014074447147671644), (2575, 0.00864393541627147), (2576, 0.022782223571101774), (2577, 0.00864268020650515), (2578, 0.030969543179918086), (2579, 0.05871243897450414), (2580, 0.0851976488856702), (2581, 0.014906885918053281), (2582, 0.05813247418069667), (2583, 0.009003993553731209), (2584, 0.00871704930234447), (2585, 0.004671315579968471), (2586, 0.005716783736410728), (2587, 0.062390668022724555), (2588, 0.008741848303510168), (2589, 0.0038820455948642618), (2590, 0.005295254884669854), (2591, 0.07224365907562494), (2592, 0.009549475465838097), (2593, 0.026064615262635), (2594, 0.007032904075046291), (2595, 0.009408601049607434), (2596, 0.001285629971275227), (2597, 0.004676405965442963), (2598, 0.03235634873100582), (2599, 0.04251060029832866), (2600, 0.014828335969392828), (2601, 0.01749563217493811), (2602, 0.022424855200674932), (2603, 0.0154997141235888), (2604, 0.0011776662659700266), (2605, 0.008979193403533424), (2606, 0.012369068773636298), (2607, 0.019516825580918676), (2608, 0.003178190238388637), (2609, 0.013555559155978036), (2610, 0.010890888630159279), (2611, 0.006531775252421219), (2612, 0.009442513658160673), (2613, 0.004845787154746333), (2614, 0.03735381431660449), (2615, 0.003666385148128991), (2616, 0.07626651446127493), (2617, 0.026559429394901142), (2618, 0.022564385162835682), (2619, 0.006788941804260751), (2620, 0.0034932576928576463), (2621, 0.04942767576674317), (2622, 0.010055390480257533), (2623, 0.011210107644202603), (2624, 0.010504536463496464), (2625, 0.019265576672960028), (2626, 0.010574622278036905), (2627, 0.003287929923545707), (2628, 0.00797714273373333), (2629, 0.026132244325603286), (2630, 0.06642560771302422), (2631, 0.002923472678127328), (2632, 0.021279015782037967), (2633, 0.014511040751953473), (2634, 0.005959028618347553), (2635, 0.01614814074898274), (2636, 0.002966636579116781), (2637, 0.005231292759918545), (2638, 0.02965786371026969), (2639, 0.024352650757738122), (2640, 0.015265303919236462), (2641, 0.010777086408027227), (2642, 0.006213371405980217), (2643, 0.016886136045870425), (2644, 0.021573735168239433), (2645, 0.02765628208615854), (2646, 0.036429053533317254), (2647, 0.03428443654066247), (2648, 0.007286978796441838), (2649, 0.036159197787924174), (2650, 0.0272960953737022), (2651, 0.0058035073528928905), (2652, 0.007420653530650985), (2653, 0.057361931648260096), (2654, 0.02332312667545087), (2655, 0.012131794150538555), (2656, 0.019475195755207824), (2657, 0.004561386608431688), (2658, 0.002273165937331003), (2659, 0.006563696800662328), (2660, 0.012924208477748757), (2661, 0.011468524093909664), (2662, 0.009783232444819597), (2663, 0.00113561671617914), (2664, 0.008630461299034779), (2665, 0.01469095855137954), (2666, 0.0047180085160459856), (2667, 0.0066681696575045715), (2668, 0.03176675387988514), (2669, 0.0016073033526544734), (2670, 0.008138985193445206), (2671, 0.002468030959573629), (2672, 0.007591896123416447), (2673, 0.005202246003357752), (2674, 0.004552838683670681), (2675, 0.009071354793457899), (2676, 0.004028181115070509), (2677, 0.026080676627444427), (2678, 0.007726270332597155), (2679, 0.006405604743634569), (2680, 0.0253275859729002), (2681, 0.009294598799018415), (2682, 0.033908968844555736), (2683, 0.009566691768045862), (2684, 0.008304982567231937), (2685, 0.008459252480888165), (2686, 0.007256311129880443), (2687, 0.044060494186854954), (2688, 0.01262564137449979), (2689, 0.030768792065401993), (2690, 0.028637383149018238), (2691, 0.1044268173890498), (2692, 1.0000000000000002), (2693, 0.00560978190531434), (2694, 0.02609552934216161), (2695, 0.020619462394756618), (2696, 0.004709259348634896), (2697, 0.016061551181582444), (2698, 0.02521668126916957), (2699, 0.031122099657465103), (2700, 0.007079629625383664), (2701, 0.09498621498903809), (2702, 0.0054285212860489505), (2703, 0.002499832790825136), (2704, 0.006273064170402844), (2705, 0.0043046689551254035), (2706, 0.03844896551461424), (2707, 0.010216238023325198), (2708, 0.005522788617146728), (2709, 0.0011717988131505434), (2710, 0.054283480228101755), (2711, 0.010479520398703946), (2712, 0.023234439113936377), (2713, 0.03912498952330734), (2714, 0.02965130031281926), (2715, 0.017667353183440926), (2716, 0.07754451933422414), (2717, 0.008035587539445988), (2718, 0.03662709956423685), (2719, 0.005325992858970207), (2720, 0.009136622762648518), (2721, 0.00590303877941685), (2722, 0.008432137465791563), (2723, 0.03257270321152031), (2724, 0.010927782867408928), (2725, 0.011858033976444748), (2726, 0.013280327907888018), (2727, 0.01830417717598399), (2728, 0.01417584492707335), (2729, 0.07312433681097875), (2730, 0.01408116499086414), (2731, 0.009465050607324476), (2732, 0.016220604970507372), (2733, 0.010086725407500767), (2734, 0.000908251531083929), (2735, 0.01774688776401842), (2736, 0.027169712643808366), (2737, 0.0046381709042602895), (2738, 0.007066676246456223), (2739, 0.03147522271456744), (2740, 0.017306008235202182), (2741, 0.011332993138298362), (2742, 0.026192788697601773), (2743, 0.028656742556192563), (2744, 0.09980078772257249), (2745, 0.06213392182019741), (2746, 0.008589044343931661), (2747, 0.00372186995031073), (2748, 0.00320233125184156), (2749, 0.015461712091393735), (2750, 0.007278093006947437), (2751, 0.03897231783399514), (2752, 0.015384482001367319), (2753, 0.019402050014456936), (2754, 0.007214646874580985), (2755, 0.01036906108973076), (2756, 0.005694068627643228), (2757, 0.006066837421750938), (2758, 0.06221797117327268), (2759, 0.0175651104564494), (2760, 0.02404829924497968), (2761, 0.035054255879286095), (2762, 0.03670180307683153), (2763, 0.005244534822400111), (2764, 0.026561076121754738), (2765, 0.008133921011000751), (2766, 0.0071053386489284), (2767, 0.02831293286456306), (2768, 0.023966881795573547), (2769, 0.007601523121581908), (2770, 0.006227823944957503), (2771, 0.0206318180730454), (2772, 0.004663868615890488), (2773, 0.0011255204938210067), (2774, 0.005217590033863835), (2775, 0.0071960256667251594), (2776, 0.0054012256352778424), (2777, 0.013832456654954497), (2778, 0.011717770640826913), (2779, 0.006542509415194395), (2780, 0.03727555823212231), (2781, 0.006445202298136134), (2782, 0.03668217772949321), (2783, 0.014272687980321499), (2784, 0.030408912212690216), (2785, 0.005826312196657472), (2786, 0.006809674994088832), (2787, 0.006843262751624245), (2788, 0.01839116377682201), (2789, 0.024365707814306282), (2790, 0.015597438860990704), (2791, 0.036620150078519036), (2792, 0.009768706732112158), (2793, 0.0037414896666091695), (2794, 0.010602544494286211), (2795, 0.023199865882464945), (2796, 0.005033045573807607), (2797, 0.007686383590367658), (2798, 0.028375810782367186), (2799, 0.006500319206548758), (2800, 0.013698195443402152), (2801, 0.01029197854758927), (2802, 0.034519981233713984), (2803, 0.01768100301471641), (2804, 0.016635186350828196), (2805, 0.03384338704629158), (2806, 0.001427858626093312), (2807, 0.03642720384030454), (2808, 0.03268415399978288), (2809, 0.007353289974183998), (2810, 0.007108974908048497), (2811, 0.004538930928783764), (2812, 0.010329881436640403), (2813, 0.01858731612172656), (2814, 0.002399824017924832), (2815, 0.013953390191684682), (2816, 0.012666298167365081), (2817, 0.005320923523690881), (2818, 0.003907901639537586), (2819, 0.013761275826354674), (2820, 0.012874630211974667), (2821, 0.004275431348339731), (2822, 0.09606999667420833), (2823, 0.03978660638415686), (2824, 0.005504408053824353), (2825, 0.012635207665789867), (2826, 0.021994794075967713), (2827, 0.0054842909325012994), (2828, 0.005009857764448847), (2829, 0.0031091196298248264), (2830, 0.01343048230696857), (2831, 0.014802622371199378), (2832, 0.005491977183382091), (2833, 0.01210130741931266), (2834, 0.007423596018145058), (2835, 0.0033045640384749583), (2836, 0.0034892677403154716), (2837, 0.006063076277427986), (2838, 0.009259044343351962), (2839, 0.006672030561900737), (2840, 0.024255971043796627), (2841, 0.06971757953981247), (2842, 0.007162268827612745), (2843, 0.028391071785060968), (2844, 0.01286190088035256), (2845, 0.007526932875078676), (2846, 0.011555619856533753), (2847, 0.009764254170149747), (2848, 0.012296339960523187), (2849, 0.014161519660501727), (2850, 0.006174394346522242), (2851, 0.0013368899420335982), (2852, 0.009714026377000314), (2853, 0.024059528111708063), (2854, 0.011654420460612953), (2855, 0.012487709702372545), (2856, 0.007208244971045256), (2857, 0.005029753426642299), (2858, 0.009526243181820762), (2859, 0.00684154701485583), (2860, 0.003368122720033089), (2861, 0.011840253384334776), (2862, 0.0066584913551157275), (2863, 0.010625678517416297), (2864, 0.0037663825183664535), (2865, 0.00683728965998143), (2866, 0.003242045835199784), (2867, 0.02923912605850942), (2868, 0.11270139516471571), (2869, 0.04582689319581276), (2870, 0.021005366021403953), (2871, 0.017339597354038026), (2872, 0.006959266120041264), (2873, 0.01281429053089299), (2874, 0.020138923063972643), (2875, 0.005763753826738889), (2876, 0.0372431980345024), (2877, 0.00899670925407063), (2878, 0.021275347500487485), (2879, 0.015608253456636252), (2880, 0.0038544652915681633), (2881, 0.015602124896745577), (2882, 0.015623233816842627), (2883, 0.020255829507323814), (2884, 0.010078779807625463), (2885, 0.01933372420958841), (2886, 0.015709352497236997), (2887, 0.03684173413952418), (2888, 0.008401104783580632), (2889, 0.005450788192004867), (2890, 0.004455155927371533), (2891, 0.01966751766626585), (2892, 0.0320649018478376), (2893, 0.057948201725967985), (2894, 0.020060686322783957), (2895, 0.00912008858575054), (2896, 0.01923416973302792), (2897, 0.02163250764636742), (2898, 0.09620743485519347), (2899, 0.03157129136472056), (2900, 0.0028647182620878146), (2901, 0.005078960720967094), (2902, 0.004650270757707448), (2903, 0.031685325605242065), (2904, 0.01204049751740088), (2905, 0.005225483917981864), (2906, 0.004579525892809512), (2907, 0.017555214537736185), (2908, 0.03770600438219179), (2909, 0.010097368959451982), (2910, 0.0218675282385203), (2911, 0.007114436497128744), (2912, 0.03763814443023112), (2913, 0.011385192407470691), (2914, 0.006925631984860549), (2915, 0.016808057714929908), (2916, 0.006384474871038904), (2917, 0.025933220127422583), (2918, 0.022319261332592752), (2919, 0.02315339193552181), (2920, 0.036365978605044855), (2921, 0.02506087599418696), (2922, 0.00859755209866422), (2923, 0.01802145328433721), (2924, 0.008810389770816024), (2925, 0.022318254386638862), (2926, 0.006054794388051919), (2927, 0.008057650461944168), (2928, 0.0038395442753363707), (2929, 0.0176505852820825), (2930, 0.0015146079788549976), (2931, 0.03440079433255478), (2932, 0.021759426579246795), (2933, 0.012402120570786438), (2934, 0.015164805942232733), (2935, 0.01175501079839443), (2936, 0.005643036866569742), (2937, 0.005898656771576585), (2938, 0.004791524188453333), (2939, 0.019213334297668996), (2940, 0.01328223339224631), (2941, 0.0014704176879657815), (2942, 0.0144066594804454), (2943, 0.0070862550787369), (2944, 0.05868151541928229), (2945, 0.007937207233782023), (2946, 0.006421644796361642), (2947, 0.008221863478541227), (2948, 0.012833145342047696), (2949, 0.00851165959067966), (2950, 0.031098385361324685), (2951, 0.012121387814021608), (2952, 0.0012377007580960673), (2953, 0.008499767783257034), (2954, 0.007495269606986469), (2955, 0.005666129384818509), (2956, 0.003681386977338598), (2957, 0.008767933984495551), (2958, 0.016097338916796246), (2959, 0.014634839233881624), (2960, 0.009437430083759305), (2961, 0.04001094192655855), (2962, 0.015368456345000997), (2963, 0.02157232679847874), (2964, 0.006979466846005554), (2965, 0.00924550144522008), (2966, 0.008440409564660876), (2967, 0.09298619751844643), (2968, 0.005556774726545338), (2969, 0.02071307949894789), (2970, 0.004743712120317347), (2971, 0.03790554517446576), (2972, 0.033224156475648074), (2973, 0.0030660003172568668), (2974, 0.008524378011993), (2975, 0.02387248030569948), (2976, 0.016702733616773265), (2977, 0.016024435543873974), (2978, 0.02008746013002281), (2979, 0.0037206750412737124), (2980, 0.01871176363843784), (2981, 0.03813981130948774), (2982, 0.0035752315727810885), (2983, 0.006153887466464733), (2984, 0.012214166116925983), (2985, 0.013853762423485818), (2986, 0.010891896445485338), (2987, 0.005545822608086705), (2988, 0.015110848926648449), (2989, 0.009648213499385392), (2990, 0.006012382857808842), (2991, 0.009344931046305495), (2992, 0.019046704646522354), (2993, 0.0184084007025037), (2994, 0.01562695287015198), (2995, 0.036797747143418096), (2996, 0.044054544959766226), (2997, 0.0028975718092338803), (2998, 0.02386321844159758), (2999, 0.005002107818809691), (3000, 0.024924078109198167), (3001, 0.01581609146040052), (3002, 0.008407551535107282), (3003, 0.031870276912640494), (3004, 0.04198261501095023), (3005, 0.007248449586467214), (3006, 0.003329803832283912), (3007, 0.006283235281630643), (3008, 0.020289762097083), (3009, 0.0015222194907784181), (3010, 0.1363581743386267), (3011, 0.009351998473830616), (3012, 0.031911287293627015), (3013, 0.04403379662453319), (3014, 0.006028414096180778), (3015, 0.011137053681687907), (3016, 0.004772425064899515), (3017, 0.031232706386509594), (3018, 0.01456906444876427), (3019, 0.020585349622417384), (3020, 0.005053690492782217), (3021, 0.0031599727706517807), (3022, 0.011386764752238744), (3023, 0.05944160754167313), (3024, 0.020759328676917224), (3025, 0.001395352861143889), (3026, 0.008046181560377024), (3027, 0.01745483579322889), (3028, 0.04757081802884731), (3029, 0.0012012727477055782), (3030, 0.013541422991081698), (3031, 0.021416738480813442), (3032, 0.01439609542608871), (3033, 0.014253601979233593), (3034, 0.0012056844252288227), (3035, 0.021853542249125963), (3036, 0.02296047857622903), (3037, 0.00591785621741413), (3038, 0.012578896844006725), (3039, 0.012830340912985568), (3040, 0.010040845410775148), (3041, 0.003411782872825262), (3042, 0.007870610724502064), (3043, 0.03327625877973894), (3044, 0.00465365716491809), (3045, 0.046141994321021076), (3046, 0.01836769630426537), (3047, 0.0031412988329509836), (3048, 0.004154723642791581), (3049, 0.007832670070767928), (3050, 0.004218851158124942), (3051, 0.005638809101321864), (3052, 0.008103006751307176), (3053, 0.08047766963869567), (3054, 0.003898667875049225), (3055, 0.012364924351203841), (3056, 0.01548219724218733), (3057, 0.008909613896347007), (3058, 0.02936948356234176), (3059, 0.0), (3060, 0.00890058525686422), (3061, 0.007801920530000039), (3062, 0.0031003321883125946), (3063, 0.00306272874137667), (3064, 0.010605353161992582), (3065, 0.01783998642292277), (3066, 0.007534893841166792), (3067, 0.013023647956069143), (3068, 0.026906799618286976), (3069, 0.018986599000369503), (3070, 0.015571514598953267), (3071, 0.08807080193439648), (3072, 0.10284945768190155), (3073, 0.012957944226650973), (3074, 0.005059310135469077), (3075, 0.006106565201200811), (3076, 0.10353091898329317), (3077, 0.005454196965780481), (3078, 0.007983095553043926), (3079, 0.018615966032907407), (3080, 0.006333360771708233), (3081, 0.008499247917847171), (3082, 0.0010327302634976895), (3083, 0.028412216769385084), (3084, 0.009744728209408861), (3085, 0.027189046085121987), (3086, 0.020213557728171756), (3087, 0.001377306746624283), (3088, 0.004345491676335065), (3089, 0.0060348261785538645), (3090, 0.017768075911545105), (3091, 0.05252558446582622), (3092, 0.01181487604399992), (3093, 0.008265632442345227), (3094, 0.020331563078302622), (3095, 0.026755326050949636), (3096, 0.015749281149055962), (3097, 0.024806467065587243), (3098, 0.02387009489334566), (3099, 0.021240553239489902), (3100, 0.08635766588947706), (3101, 0.009498348001837912), (3102, 0.04340021708889289), (3103, 0.0034746157246662137), (3104, 0.08277806361447602), (3105, 0.003332849320984873), (3106, 0.009774921250896993), (3107, 0.0013561502774969744), (3108, 0.019979234868745345), (3109, 0.004576603454728998), (3110, 0.017210512610429256), (3111, 0.025569620694783562), (3112, 0.012276205333039338), (3113, 0.023268333974658453), (3114, 0.02253885891818077), (3115, 0.0016910226290481997), (3116, 0.004369543658336013), (3117, 0.009350290464441451), (3118, 0.014170830635886717), (3119, 0.11655820726775593), (3120, 0.017731936317509314), (3121, 0.007243093165401555), (3122, 0.013629405495791789), (3123, 0.01137955476580937), (3124, 0.02054224973898948), (3125, 0.011668573723044107), (3126, 0.015884429796783263), (3127, 0.04753258818711335), (3128, 0.005134193093659584), (3129, 0.025642386634129447), (3130, 0.008016964233678857), (3131, 0.015385099552768221), (3132, 0.07759048275393458), (3133, 0.07528307235195214), (3134, 0.07531303640536084), (3135, 0.009721991768884594), (3136, 0.02082075568310125), (3137, 0.00902991732049838), (3138, 0.009867536694346214), (3139, 0.01008074906949836), (3140, 0.016405640017742442), (3141, 0.003307998170217031), (3142, 0.01385335021008752), (3143, 0.08092691309744751), (3144, 0.02436742488039525), (3145, 0.005528917706194567), (3146, 0.03591745737887526), (3147, 0.008094500883290891), (3148, 0.0093352347113599), (3149, 0.01198500818041602), (3150, 0.009894557184853783), (3151, 0.015144539052630964), (3152, 0.012155878421348383), (3153, 0.03562520411975503), (3154, 0.023608064476832988), (3155, 0.017995417908190987), (3156, 0.03958782439145707), (3157, 0.03748851580595265), (3158, 0.014949902004671117), (3159, 0.005029945597334916), (3160, 0.012830882431515183), (3161, 0.017772905052807916), (3162, 0.003436757994983856), (3163, 0.010932066055517409), (3164, 0.012249263724749687), (3165, 0.006305315145616764), (3166, 0.011759210843558224), (3167, 0.03950054050731748), (3168, 0.012110433200066894), (3169, 0.07926372971141891), (3170, 0.019430704367703444), (3171, 0.022001075553209664), (3172, 0.003800831646038244), (3173, 0.010799511882297004), (3174, 0.03529172719732897), (3175, 0.0011131783652242467), (3176, 0.002949832754829614), (3177, 0.0010246072866707027), (3178, 0.008455018916258482), (3179, 0.009629628534394573), (3180, 0.01418875248983501), (3181, 0.0037525494383406225), (3182, 0.008715002774822246), (3183, 0.020190354270931733), (3184, 0.01002328087653729), (3185, 0.013586897313265388), (3186, 0.011995142295905979), (3187, 0.010792069409101454), (3188, 0.006842892754260945), (3189, 0.013596968964133517), (3190, 0.006628624709142312), (3191, 0.015370431965122125), (3192, 0.07629063938058926), (3193, 0.008463930123881608), (3194, 0.008979474842358745), (3195, 0.01533394052462105), (3196, 0.014855601569309077), (3197, 0.0074097198127882225), (3198, 0.00421392015083249), (3199, 0.002271005271945609), (3200, 0.016529140733787587), (3201, 0.02559273015703062), (3202, 0.01805501751940197), (3203, 0.056663448418833966), (3204, 0.10144490319960914), (3205, 0.011154882139929174), (3206, 0.004816965183691511), (3207, 0.08860385868111254), (3208, 0.005490606082416552), (3209, 0.012549735847431171), (3210, 0.02663276269700683), (3211, 0.013145850953123338), (3212, 0.005705445292412594), (3213, 0.03253712143313369), (3214, 0.020560908733349356), (3215, 0.025195902652645895), (3216, 0.007902128632220833), (3217, 0.00566303943617139), (3218, 0.015629955926611355), (3219, 0.007351157905254101), (3220, 0.009794265688288971), (3221, 0.010732529114799277), (3222, 0.029675110472798093), (3223, 0.016214691697108076), (3224, 0.012473803015921575), (3225, 0.022385040988469808), (3226, 0.01742000323015262), (3227, 0.013956505623644214), (3228, 0.024062869296556485), (3229, 0.013217503041577346), (3230, 0.011055988504223686), (3231, 0.009887463289514797), (3232, 0.018646381051298077), (3233, 0.018210621549084063), (3234, 0.004341258610466808), (3235, 0.0041627463196305965), (3236, 0.003626232025740546), (3237, 0.045854192146258604), (3238, 0.013256504358739206), (3239, 0.006864730942802332), (3240, 0.023406848804731508), (3241, 0.08486536870156561), (3242, 0.0078094336951443095), (3243, 0.004308122256767483), (3244, 0.011974395354121368), (3245, 0.024867912458804806), (3246, 0.01629825324043701), (3247, 0.011217859432011678), (3248, 0.07407110482926679), (3249, 0.010875538747366244), (3250, 0.005420502055212174), (3251, 0.0012452704287778688), (3252, 0.0049419313219542585), (3253, 0.023332722367446327), (3254, 0.026559147325146346), (3255, 0.039035937555786854), (3256, 0.013769377760131927), (3257, 0.005313585395792703), (3258, 0.005086884678660517), (3259, 0.023383851935392504), (3260, 0.03597525495366466), (3261, 0.002173632962241487), (3262, 0.01728694114023556), (3263, 0.03554061096048855), (3264, 0.015005016871519882), (3265, 0.013257585850600991), (3266, 0.003956065213303612), (3267, 0.026422161895576134), (3268, 0.0053180828440243764), (3269, 0.004310327408455553), (3270, 0.010439010366188235), (3271, 0.010369649768107534), (3272, 0.008362831762767423), (3273, 0.008914795251858353), (3274, 0.012314694543231312), (3275, 0.023777290592247046), (3276, 0.10793439419254794), (3277, 0.005003937309194738), (3278, 0.016841114971870477), (3279, 0.027445754527277433), (3280, 0.015669679202601247), (3281, 0.004012751050045929), (3282, 0.005407877194989732), (3283, 0.007500376590692136), (3284, 0.029454009562053952), (3285, 0.030722012777492622), (3286, 0.00739618363521847), (3287, 0.01004916826281362), (3288, 0.0073048157437415094), (3289, 0.008215281956696577), (3290, 0.011173042723823029), (3291, 0.009549618308879623), (3292, 0.007885365728834604), (3293, 0.01138722178215199), (3294, 0.012505309427969286), (3295, 0.0277477965742657), (3296, 0.008768329951176131), (3297, 0.004449370413295944), (3298, 0.02081181781205219), (3299, 0.09885122257219246), (3300, 0.006681494994044495), (3301, 0.010170544723127284), (3302, 0.0071439933116099665), (3303, 0.013414267057105944), (3304, 0.006835525264676245), (3305, 0.010841803818319142), (3306, 0.0852267397045296), (3307, 0.007092898045844351), (3308, 0.011860535201842456), (3309, 0.005723888443090231), (3310, 0.013401511050959717), (3311, 0.014779822015251588), (3312, 0.017467020394363795), (3313, 0.10557105060924923), (3314, 0.006589361085379956), (3315, 0.05316375010282852), (3316, 0.024662774478906677), (3317, 0.02583944716786997), (3318, 0.021007573358850354), (3319, 0.028945485704224876), (3320, 0.016433995982785124), (3321, 0.003316033467657292), (3322, 0.007318362443209257), (3323, 0.00621048792910004), (3324, 0.0013058899462923667), (3325, 0.016894491557199336), (3326, 0.12751034636199507), (3327, 0.007989854888048627), (3328, 0.038340596088748014), (3329, 0.005982061233866565), (3330, 0.04371225170538669), (3331, 0.009912996012818703), (3332, 0.006870208630615248), (3333, 0.013163955561120258), (3334, 0.0718792679120847), (3335, 0.006284534813454686), (3336, 0.011136896661280642), (3337, 0.009896921151409065), (3338, 0.012850244427142114), (3339, 0.06751875283606837), (3340, 0.018923058818361996), (3341, 0.007952618844863054), (3342, 0.027498795315820144), (3343, 0.02924855830501271), (3344, 0.045972523160277994), (3345, 0.024950184072389806), (3346, 0.012264018189061823), (3347, 0.013305879133098046), (3348, 0.004194466630288518), (3349, 0.02403272709652801), (3350, 0.0012214028600519415), (3351, 0.0116590628620733), (3352, 0.02635996816602616), (3353, 0.01124574694830422), (3354, 0.0051155254396163564), (3355, 0.010571155596332675), (3356, 0.024759136047257376), (3357, 0.009888187029135373), (3358, 0.02564388612186317), (3359, 0.0046901990126723), (3360, 0.02483074505994956), (3361, 0.020618596951971036), (3362, 0.03035423269948742), (3363, 0.030931740913370292), (3364, 0.010794958392588424), (3365, 0.010235677230251494), (3366, 0.010210134400843575), (3367, 0.01373731282273828), (3368, 0.0157606929126126), (3369, 0.006448685356864095), (3370, 0.020622736127359525), (3371, 0.001226526220667701), (3372, 0.005069997384638857), (3373, 0.06617431017874978), (3374, 0.0549736192006331), (3375, 0.028828384732795503), (3376, 0.04105344128847852), (3377, 0.03717857425939993), (3378, 0.010000430686977932), (3379, 0.027358521898419544), (3380, 0.008753097093846219), (3381, 0.007984708394163403), (3382, 0.018486479154317184), (3383, 0.0), (3384, 0.029340576616557763), (3385, 0.061595802973112034), (3386, 0.020016820623832837), (3387, 0.021417945955768524), (3388, 0.008597605589498418), (3389, 0.020067081782428362), (3390, 0.013384096560243095), (3391, 0.005702072734289138), (3392, 0.008885792609733465), (3393, 0.019018499062063557), (3394, 0.01074647208536744), (3395, 0.10027789532679422), (3396, 0.004696418808454434), (3397, 0.0068597313291567565), (3398, 0.01474514671872227), (3399, 0.017900827278454413), (3400, 0.003015674925336496), (3401, 0.015363177724342359), (3402, 0.011006399854649357), (3403, 0.028224529473682), (3404, 0.008741770625459038), (3405, 0.0129102241989611), (3406, 0.022210039063032764), (3407, 0.040325717066985595), (3408, 0.04665229370433658), (3409, 0.04427809056138793), (3410, 0.012510556707826753), (3411, 0.0033043877324033825), (3412, 0.012801026186275705), (3413, 0.010418191708773413), (3414, 0.00461244393243107), (3415, 0.00841822181700616), (3416, 0.032532706305553896), (3417, 0.028624014936248394), (3418, 0.016126427638163604), (3419, 0.006069818313910185), (3420, 0.04305383290586823), (3421, 0.019357746826562744), (3422, 0.0011464015330303428), (3423, 0.010055789407809903), (3424, 0.0012293418427950038), (3425, 0.007583913313210399), (3426, 0.018939632200476605), (3427, 0.11822772019244517), (3428, 0.02778327858370102), (3429, 0.063437495128193), (3430, 0.04088499588505656), (3431, 0.01081228597886336), (3432, 0.017216234115781152), (3433, 0.04359374031562111), (3434, 0.009138221797555883), (3435, 0.02840128879257618), (3436, 0.016072217432067253), (3437, 0.022421963314708367), (3438, 0.014969129228237444), (3439, 0.0014080864287921142), (3440, 0.012910963140960144), (3441, 0.0056441309147653), (3442, 0.005971244014648223), (3443, 0.0126585835000396), (3444, 0.006260182428089069), (3445, 0.013386739831051892), (3446, 0.030824838424821848), (3447, 0.039726086640793155), (3448, 0.022901933538081558), (3449, 0.010058774773798828), (3450, 0.07001195242344516), (3451, 0.016966833663499308), (3452, 0.015109015905804664), (3453, 0.016674498936698458), (3454, 0.009434983953091112), (3455, 0.003519128870619462), (3456, 0.012065454602191014), (3457, 0.01433537566618783), (3458, 0.012313475496519065), (3459, 0.023160157819737247), (3460, 0.017213980091942638), (3461, 0.003882120567235894), (3462, 0.08494619011379574), (3463, 0.07210509144121971), (3464, 0.024790384377143364), (3465, 0.046421476397028844), (3466, 0.03593383611812555), (3467, 0.0037011432249227415), (3468, 0.013681769225010782), (3469, 0.09405853724716662), (3470, 0.04459197834665652), (3471, 0.029571949445539637), (3472, 0.008238641566934057), (3473, 0.0040416765823193855), (3474, 0.012386149989534766), (3475, 0.0017658123130749768), (3476, 0.00691472981079732), (3477, 0.018929301060803313), (3478, 0.014628007429538277), (3479, 0.005499978825941196), (3480, 0.08349403279093343), (3481, 0.01120296574591812), (3482, 0.0035656031085663856), (3483, 0.03385953973582867), (3484, 0.011091225985577184), (3485, 0.005790376324412147), (3486, 0.025542508301060314), (3487, 0.011369122375283522), (3488, 0.03476926037137162), (3489, 0.007372885184452038), (3490, 0.005975240760676626), (3491, 0.01105042185967981), (3492, 0.03031687399347641), (3493, 0.008096748653182944), (3494, 0.007768797826608741), (3495, 0.010275138045259615), (3496, 0.0120815530474891), (3497, 0.011270026149683282), (3498, 0.061075676452670376), (3499, 0.015837664491373412), (3500, 0.009414198584171245), (3501, 0.010462581732185899), (3502, 0.01197524175427906), (3503, 0.009590010265394935), (3504, 0.02662472755645947), (3505, 0.00568963878013641), (3506, 0.004642561224778745), (3507, 0.030240673332134614), (3508, 0.015052794369160287), (3509, 0.013125197670810093), (3510, 0.00119160785686888), (3511, 0.054843865378894116), (3512, 0.006867028156513814), (3513, 0.006630665433529191), (3514, 0.012536904767584178), (3515, 0.01461351861285816), (3516, 0.014236817999598379), (3517, 0.006580183813687567), (3518, 0.02175752320470164), (3519, 0.006470696657937322), (3520, 0.02107304176716868), (3521, 0.011562514904505742), (3522, 0.010622944722246456), (3523, 0.00573565119489998), (3524, 0.008062414061015983), (3525, 0.011215342836730325), (3526, 0.015456769869825788), (3527, 0.013909855087981465), (3528, 0.02388760330922439), (3529, 0.003556539384943723), (3530, 0.0), (3531, 0.013749861784239205), (3532, 0.00961669002332647), (3533, 0.006444152137557196), (3534, 0.015705445347312247), (3535, 0.021643748362275454), (3536, 0.01718771595614053), (3537, 0.0073116189095842115), (3538, 0.005211940070159907), (3539, 0.01730371186670764), (3540, 0.008468100140985146), (3541, 0.009713149450476317), (3542, 0.006410083715518583), (3543, 0.005619717827634372), (3544, 0.005068206622597162), (3545, 0.0010680834487209383), (3546, 0.005791882473660892), (3547, 0.023001489209792635), (3548, 0.017330416301879672), (3549, 0.008030562484332366), (3550, 0.006974530533868327), (3551, 0.023372405181896913), (3552, 0.0520329009469622), (3553, 0.02410188248534667), (3554, 0.004384869049707996), (3555, 0.02215605007395058), (3556, 0.04167600396014554), (3557, 0.011446344380488862), (3558, 0.012097562566012006), (3559, 0.04783290561036618), (3560, 0.007572933795899781), (3561, 0.005511842432280543), (3562, 0.0034198777531713707), (3563, 0.011064620616593735), (3564, 0.01738355201826161), (3565, 0.009508653088783365), (3566, 0.01688950986831942), (3567, 0.010338633675549451), (3568, 0.010840524590129776), (3569, 0.01039966595768), (3570, 0.014153466673566584), (3571, 0.016750083555878044), (3572, 0.11401975904301681), (3573, 0.03494381932789337), (3574, 0.0740781255599513), (3575, 0.003968331417866), (3576, 0.009307571809858941), (3577, 0.004760301703966919), (3578, 0.005537103320389794), (3579, 0.009959307813143118), (3580, 0.02246876325331518), (3581, 0.08830364224548036), (3582, 0.019276096359824958), (3583, 0.010009511607209925), (3584, 0.016094803680848337), (3585, 0.003109754139620595), (3586, 0.01916836114571618), (3587, 0.009962097771870062), (3588, 0.008870881458087402), (3589, 0.006757807068154784), (3590, 0.00610159692304006), (3591, 0.009830817361269426), (3592, 0.010292215824472768), (3593, 0.019529496121114834), (3594, 0.017883381014287783), (3595, 0.01443887364914718), (3596, 0.007971295386320125), (3597, 0.03300086139545809), (3598, 0.02807908446626614), (3599, 0.010550384158806039), (3600, 0.0009985801641867154), (3601, 0.006434495574447707), (3602, 0.016170814192968383), (3603, 0.007606798464269871), (3604, 0.014997573589451085), (3605, 0.034723560690531195), (3606, 0.012680594659482899), (3607, 0.005349211307249078), (3608, 0.009577714958626367), (3609, 0.01130264215908598), (3610, 0.018718304053234592), (3611, 0.010245419314315917), (3612, 0.023965250799557296), (3613, 0.10293276276966382), (3614, 0.011389196317803307), (3615, 0.007830951332482764), (3616, 0.006837260686220431), (3617, 0.005328961209072368), (3618, 0.0191117480720605), (3619, 0.020724374812226297), (3620, 0.01637151291694069), (3621, 0.018524005948968178), (3622, 0.01588271200113571), (3623, 0.08901799943468736), (3624, 0.014813612500483506), (3625, 0.0192904583439271), (3626, 0.003816722950310501), (3627, 0.00507395571597562), (3628, 0.006350645279319272), (3629, 0.03060668011390533), (3630, 0.022479274162856427), (3631, 0.006055990121042137), (3632, 0.012704920538091915), (3633, 0.0031387914734541944), (3634, 0.031005209319474227), (3635, 0.016199460375826397), (3636, 0.004589930992943483), (3637, 0.028288284189567477), (3638, 0.011228337659213439), (3639, 0.008408271342922727), (3640, 0.034435018964727865), (3641, 0.013633947999945788), (3642, 0.026963177293389325), (3643, 0.017700511448826273), (3644, 0.0038938046177429226), (3645, 0.0094314971494673), (3646, 0.006419624166941525), (3647, 0.005726958383746463), (3648, 0.01631092365083466), (3649, 0.008481934784233034), (3650, 0.004063672335081479), (3651, 0.003282966693954933), (3652, 0.03531212436685729), (3653, 0.012630694404796184), (3654, 0.009960880756571146), (3655, 0.03410676142589361), (3656, 0.03905981802081639), (3657, 0.011439036883244201), (3658, 0.023015231098051613), (3659, 0.021205690580703887), (3660, 0.029483380254514947), (3661, 0.016191954425461355), (3662, 0.006113166778224708), (3663, 0.002609117051432036), (3664, 0.009206862518922505), (3665, 0.04101742910833072), (3666, 0.03585391879970526), (3667, 0.015339692315936466), (3668, 0.0035053108852884825), (3669, 0.004464426916626899), (3670, 0.06684659126620243), (3671, 0.009827807146879159), (3672, 0.0057848164435393805), (3673, 0.033216831062403196), (3674, 0.025703095065405406), (3675, 0.020587919453403252), (3676, 0.0010978054110124655), (3677, 0.01866159958401914), (3678, 0.0064102404739863564), (3679, 0.013203450178098992), (3680, 0.011449713660610034), (3681, 0.0039009836030767728), (3682, 0.12087644169047823), (3683, 0.005516093139267664), (3684, 0.05038412740676336), (3685, 0.006745546838923943), (3686, 0.0013297538420280375), (3687, 0.006469333596833769), (3688, 0.033477492910446674), (3689, 0.019282268873941067), (3690, 0.003736250213469472), (3691, 0.01855752998484198), (3692, 0.031980029512841936), (3693, 0.007913781892819166), (3694, 0.0248499956591151), (3695, 0.006249785216821341), (3696, 0.015321671992495053), (3697, 0.009877297496119363), (3698, 0.014208556916983656), (3699, 0.02150466315017467), (3700, 0.015191460685328744), (3701, 0.04684162792398448), (3702, 0.007238987010563344), (3703, 0.0016245178259091265), (3704, 0.011122963025396696), (3705, 0.012651344506231876), (3706, 0.011710951594096453), (3707, 0.004524479956652984), (3708, 0.02191555559058895), (3709, 0.005938189021380081), (3710, 0.02046005154757766), (3711, 0.03585815181801619), (3712, 0.009014341832578463), (3713, 0.02839312044339857), (3714, 0.004861804112951528), (3715, 0.008144034906029395), (3716, 0.003340423122914566), (3717, 0.002790925823562761), (3718, 0.07591288154971025), (3719, 0.023241368627934116), (3720, 0.04205457406967538), (3721, 0.009036610627390128), (3722, 0.003984049320501368), (3723, 0.015875256876254212), (3724, 0.003785779037144853), (3725, 0.02304715580272187), (3726, 0.006445141793756416), (3727, 0.014777421247169024), (3728, 0.0814161595443837), (3729, 0.006885893093214781), (3730, 0.0071557516972882065), (3731, 0.04168395524881626), (3732, 0.007143569772602332), (3733, 0.030180844524702592), (3734, 0.018474440693321898), (3735, 0.007974544858070063), (3736, 0.00962615398745823), (3737, 0.012478184533146577), (3738, 0.07453911289907622), (3739, 0.011713591274955654), (3740, 0.0057729137812758905), (3741, 0.02160039054345596), (3742, 0.08181675630472418), (3743, 0.007808116284678415), (3744, 0.01774100511415243), (3745, 0.010775325790846188), (3746, 0.03506947238632179), (3747, 0.022364920782373444), (3748, 0.00867256954344781), (3749, 0.006698749149405804), (3750, 0.021690486867649243), (3751, 0.09713660236884389), (3752, 0.010552976005517677), (3753, 0.04971613029741882), (3754, 0.01417766123641364), (3755, 0.002960192981192399), (3756, 0.02108672854638705), (3757, 0.006513884104782564), (3758, 0.005659577259138401), (3759, 0.023183458120562023), (3760, 0.008670181990887458), (3761, 0.0021620906446113957), (3762, 0.010028814246076457), (3763, 0.08956021052542693), (3764, 0.006624829725385392), (3765, 0.007968392921474929), (3766, 0.021890515400564248), (3767, 0.034641067930361716), (3768, 0.01959822002882739), (3769, 0.010355954274925909), (3770, 0.004456140119227769), (3771, 0.017378310527929115), (3772, 0.027005852766610324), (3773, 0.032060373815985095), (3774, 0.014539245390364825), (3775, 0.017701178781781252), (3776, 0.010057002161714559), (3777, 0.03245992678288565), (3778, 0.026721645235996076), (3779, 0.020965937586403395), (3780, 0.01429974129964338), (3781, 0.021970984607756747), (3782, 0.012781020181480304), (3783, 0.0729404636923926), (3784, 0.020567747283850135), (3785, 0.020579642001275784), (3786, 0.003993528220483282), (3787, 0.013330455470949694), (3788, 0.009825730428195213), (3789, 0.00360110490853687), (3790, 0.005910736138263647), (3791, 0.01786154426946925), (3792, 0.012138037481313122), (3793, 0.05601516574436077), (3794, 0.01648022076734563), (3795, 0.01906825529561104), (3796, 0.0015035527026320493), (3797, 0.10670916441579953), (3798, 0.009790709607466279), (3799, 0.02001673147628171), (3800, 0.0), (3801, 0.03623665562443784), (3802, 0.006919077345087952), (3803, 0.004938758259793417), (3804, 0.00442859349176737), (3805, 0.004057678128676168), (3806, 0.009544261700671207), (3807, 0.025638406601312624), (3808, 0.007774362578167821), (3809, 0.012775366665147433), (3810, 0.027142137190327032), (3811, 0.007475256269922653), (3812, 0.010180158383441837), (3813, 0.006032567550792665), (3814, 0.04563853076041988), (3815, 0.014632403113349214), (3816, 0.003864244319047352), (3817, 0.010358832907031254), (3818, 0.009344697321064237), (3819, 0.031174331858189963), (3820, 0.006742053320220244), (3821, 0.014255531870369284), (3822, 0.017554887646489152), (3823, 0.008819670505268926), (3824, 0.009353192605951213), (3825, 0.012570152057382758), (3826, 0.018304118274614745), (3827, 0.00850913433363956), (3828, 0.022675189273722966), (3829, 0.017951737650749575), (3830, 0.0026590679652316995), (3831, 0.08477592350010743), (3832, 0.006714215855562257), (3833, 0.01419393263854814), (3834, 0.01136418632684052), (3835, 0.026885948157680428), (3836, 0.007366923876388295), (3837, 0.07955737042931289), (3838, 0.003782215563782868), (3839, 0.024484120396201674), (3840, 0.011204529051700237), (3841, 0.015726677050895588), (3842, 0.006659348205946221), (3843, 0.0030311722154910702), (3844, 0.007836861989820518), (3845, 0.01167754144736116), (3846, 0.01930038216515794), (3847, 0.0040662141254875035), (3848, 0.007230175748221412), (3849, 0.01894560713482429), (3850, 0.04155846975187585), (3851, 0.01670080674067553), (3852, 0.0385604133071353), (3853, 0.029398945232757115), (3854, 0.023144261128652772), (3855, 0.005850089644798346), (3856, 0.002834099712154019), (3857, 0.024036818826641326), (3858, 0.0183521298416363), (3859, 0.003642493146930077), (3860, 0.08518633457888342), (3861, 0.02401522827529081), (3862, 0.023450919592696146), (3863, 0.0210409418967473), (3864, 0.01612544516615982), (3865, 0.012259304531525591), (3866, 0.007891498475816492), (3867, 0.050216781417947436), (3868, 0.03356835417101371), (3869, 0.007302574496842159), (3870, 0.005651962932256345), (3871, 0.03320349249952746), (3872, 0.03522293486730838), (3873, 0.026089040807248925), (3874, 0.005085762061924314), (3875, 0.030541059946959066), (3876, 0.01375412745874268), (3877, 0.019220452069026325), (3878, 0.005517724058359394), (3879, 0.005426810729100062), (3880, 0.03943108299239095), (3881, 0.00955693318241579), (3882, 0.007062284415542717), (3883, 0.025086453277577584), (3884, 0.004572228401943892), (3885, 0.0033736100277909076), (3886, 0.019152068484714766), (3887, 0.0013622639465275183), (3888, 0.020075905289851308), (3889, 0.007669810427735341), (3890, 0.006217140081289722), (3891, 0.02594384334176872), (3892, 0.0051772982811772745), (3893, 0.008888728024927822), (3894, 0.00830975938862094), (3895, 0.026697430776082526), (3896, 0.002891275813664619), (3897, 0.008454358143649827), (3898, 0.0075228654035055), (3899, 0.006451093866001276), (3900, 0.006382688538112776), (3901, 0.02741028031074572), (3902, 0.011205305080497722), (3903, 0.021879991243897046), (3904, 0.037598868990427796), (3905, 0.022844959883163925), (3906, 0.010593659752791201), (3907, 0.013682872061923045), (3908, 0.011684139775101304), (3909, 0.01741607884152712), (3910, 0.010833980676701223), (3911, 0.013242691428817826), (3912, 0.00519398704735459), (3913, 0.027983381714712204), (3914, 0.009394978770865984), (3915, 0.00980258186281027), (3916, 0.034609246443057434), (3917, 0.029195099818471803), (3918, 0.006181122860653539), (3919, 0.01168925139787039), (3920, 0.010845317887518713), (3921, 0.07640543979020833), (3922, 0.007061849087419202), (3923, 0.031118716995042827), (3924, 0.018957844801071877), (3925, 0.008912207684249596), (3926, 0.023852061926110352), (3927, 0.026185459151557757), (3928, 0.005705077589138576), (3929, 0.01964392544914966), (3930, 0.0011224633779813823), (3931, 0.0014583491763993325), (3932, 0.006465089065539676), (3933, 0.0), (3934, 0.020737941477718028), (3935, 0.01291276064877024), (3936, 0.0038193488320689703), (3937, 0.013946929733029743), (3938, 0.011743523812784724), (3939, 0.0162806262617671), (3940, 0.012436823943781658), (3941, 0.019134211912681682), (3942, 0.007608857383455829), (3943, 0.0062916329892234125), (3944, 0.01094989591493109), (3945, 0.011377736058372273), (3946, 0.028798440368726683), (3947, 0.06283799045034846), (3948, 0.0031776197191693864), (3949, 0.01541881195039142), (3950, 0.0012325050272213233), (3951, 0.01571759408757332), (3952, 0.003264634738420056), (3953, 0.012814353149250135), (3954, 0.02226675337969377), (3955, 0.05218524900671766), (3956, 0.015367440396875199), (3957, 0.03377258541508829), (3958, 0.019415752824763998), (3959, 0.03623976551462621), (3960, 0.01668492000354207), (3961, 0.04445289855364543), (3962, 0.006612322666905077), (3963, 0.029491518887294222), (3964, 0.0012174291868373628), (3965, 0.017862889197656637), (3966, 0.009115519329163928), (3967, 0.006410657950661938), (3968, 0.007524362045864609), (3969, 0.0093362632646934), (3970, 0.01292548418320055), (3971, 0.013172597475038262), (3972, 0.004100900445886678), (3973, 0.016947232946229858), (3974, 0.05003915677616056), (3975, 0.009872100859080102), (3976, 0.025442850423965782), (3977, 0.005977500063622108), (3978, 0.027877959800553666), (3979, 0.009429125069881191), (3980, 0.00733678268985069), (3981, 0.0071343845691481085), (3982, 0.003666944760907221), (3983, 0.045609418088067434), (3984, 0.01244211236061851), (3985, 0.00824448281983978), (3986, 0.027435467381645796), (3987, 0.009645696224111553), (3988, 0.001449047677619861), (3989, 0.012330594483820914), (3990, 0.005558460890564056), (3991, 0.005462293849632186), (3992, 0.020455437191103952), (3993, 0.02105924825391513), (3994, 0.007155889549314164), (3995, 0.006817530189458568), (3996, 0.009520800735015815), (3997, 0.021025018390276543), (3998, 0.00896405642701735), (3999, 0.021314827193919337), (4000, 0.03631421314310517), (4001, 0.016676111473522635), (4002, 0.006976464285512659), (4003, 0.0072772991103070735), (4004, 0.041099531013056544), (4005, 0.05082882370866062), (4006, 0.01438725502105969), (4007, 0.02583450501936871), (4008, 0.018915754150394905), (4009, 0.013093407962283515), (4010, 0.006398769658032077), (4011, 0.01201624046576171), (4012, 0.024330429023220943), (4013, 0.025092634908495347), (4014, 0.007357647013578666), (4015, 0.015410745437326775), (4016, 0.025627297206632562), (4017, 0.016779775007409837), (4018, 0.08016823729758757), (4019, 0.005435443877886058), (4020, 0.004365197909885769), (4021, 0.0015162508552219655), (4022, 0.0054383384788755755), (4023, 0.04551060866399336), (4024, 0.009213984867934212), (4025, 0.01707087173745915), (4026, 0.002337245479155436), (4027, 0.00353942939026504), (4028, 0.022569158794354408), (4029, 0.01603855327847721), (4030, 0.004660217073142251), (4031, 0.01550405833989917), (4032, 0.01510714153990349), (4033, 0.016672006142553097), (4034, 0.048600793199961245), (4035, 0.10247589099676904), (4036, 0.07693068147308926), (4037, 0.005444550525806564), (4038, 0.015891804523638104), (4039, 0.010430517269807614), (4040, 0.0037335675433194113), (4041, 0.008575859056761897), (4042, 0.008508359948223639), (4043, 0.010806702608900513), (4044, 0.014375835831178211), (4045, 0.012213474857644433), (4046, 0.016559917540410925), (4047, 0.007924989861619472), (4048, 0.013187909036263856), (4049, 0.024043428644440142), (4050, 0.028510789482480526), (4051, 0.008893470627781102), (4052, 0.010404283184534097), (4053, 0.03160874748768623), (4054, 0.00847622599315633), (4055, 0.01823530860243948), (4056, 0.017275905375235552), (4057, 0.01916729277110831), (4058, 0.008321386934403803), (4059, 0.008996167929784579), (4060, 0.018086545414443045), (4061, 0.03276409698741648), (4062, 0.07064256441001572), (4063, 0.00690832157185528), (4064, 0.04228550416785286), (4065, 0.005644773615405126), (4066, 0.01113427300670006), (4067, 0.0015751758390845376), (4068, 0.02306326748640248), (4069, 0.013678155962376023), (4070, 0.07554286299300182), (4071, 0.008681765112822296), (4072, 0.009146733564935696), (4073, 0.005464985288267726), (4074, 0.007584429850259439), (4075, 0.01977133654989185), (4076, 0.01122853450032075), (4077, 0.007898486854003715), (4078, 0.007098310729179205), (4079, 0.0047967667878649044), (4080, 0.010024217487581836), (4081, 0.02484839789605578), (4082, 0.012501168454898091), (4083, 0.013609882858726665), (4084, 0.004655332075632835), (4085, 0.010929652888698247), (4086, 0.04346897625037103), (4087, 0.008116158198959333), (4088, 0.02219475001642259), (4089, 0.015835468980610497), (4090, 0.010735650990276981), (4091, 0.01676756190124802), (4092, 0.01032148368992966), (4093, 0.027450270433559118), (4094, 0.08895334252715992), (4095, 0.023704828143273928), (4096, 0.0401566919623109), (4097, 0.01101660414165281), (4098, 0.024285482158020698), (4099, 0.021562316886768414), (4100, 0.019171823595007645), (4101, 0.010115453453248555), (4102, 0.04667286214352713), (4103, 0.016010781931254967), (4104, 0.054369250643460834), (4105, 0.019311821559690807), (4106, 0.02020595742171637), (4107, 0.004884651335324498), (4108, 0.00885514876881593), (4109, 0.010156879514559448), (4110, 0.012281839350065528), (4111, 0.004983023104933546), (4112, 0.0822957164542179), (4113, 0.013309773857745863), (4114, 0.007662877244540998), (4115, 0.006328489890460398), (4116, 0.02361904232590905), (4117, 0.007564008730165826), (4118, 0.013293483333173196), (4119, 0.014453248517352166), (4120, 0.011243311682530236), (4121, 0.022296301799115452), (4122, 0.019650518090881374), (4123, 0.06401306387563256), (4124, 0.025044938840364097), (4125, 0.005829416858388346), (4126, 0.0047253148953554525), (4127, 0.0038393349644929337), (4128, 0.0289304862285552), (4129, 0.00843542949148673), (4130, 0.012296539467277998), (4131, 0.0011841599499883974), (4132, 0.021929782697411263), (4133, 0.012639451819129247), (4134, 0.0114621643275665), (4135, 0.008813668598414542), (4136, 0.011349219500632828), (4137, 0.07171087492983629), (4138, 0.009409341420090044), (4139, 0.008568930314158313), (4140, 0.03555801364342574), (4141, 0.03881579176990621), (4142, 0.01582318875072563), (4143, 0.023770522291815144), (4144, 0.010234459544308775), (4145, 0.021040056331415098), (4146, 0.008546510167533185), (4147, 0.011712698641100295), (4148, 0.022081645194577892), (4149, 0.021508711384087564), (4150, 0.005352291439261681), (4151, 0.004296329880282381), (4152, 0.045981388521319826), (4153, 0.005223298220764223), (4154, 0.01583815116613225), (4155, 0.007681787339138242), (4156, 0.024359502210542856), (4157, 0.004723680858264906), (4158, 0.018860361610938504), (4159, 0.010000302795905079), (4160, 0.0324888896690595), (4161, 0.01117619900020022), (4162, 0.024512909089562718), (4163, 0.020573456787835842), (4164, 0.0200094062712072), (4165, 0.06790325981868502), (4166, 0.004570003400644598), (4167, 0.003254111003281545), (4168, 0.0075380798643383375), (4169, 0.004201152523491829), (4170, 0.0037379757315704437), (4171, 0.0057850682390238085), (4172, 0.009075525769930788), (4173, 0.005993955309959316), (4174, 0.006424459916516451), (4175, 0.04324468347767303), (4176, 0.032455283588799476), (4177, 0.03154749286985655), (4178, 0.025361443219485785), (4179, 0.0057738910961359115), (4180, 0.003980555653592244), (4181, 0.08452189161564244), (4182, 0.014722328279516222), (4183, 0.02361640355320006), (4184, 0.012448492143635918), (4185, 0.0386898587662416), (4186, 0.009053577452840817), (4187, 0.021455886076796472), (4188, 0.0033204624082789954), (4189, 0.028792837128654717), (4190, 0.0013100329186903077), (4191, 0.0031856120110051777), (4192, 0.02572574136475933), (4193, 0.012918576840389892), (4194, 0.003618710710943587), (4195, 0.08602681931951757), (4196, 0.012790105604988503), (4197, 0.006565602113575533), (4198, 0.003935482562290311), (4199, 0.0), (4200, 0.008002877912843202), (4201, 0.0019436477344992994), (4202, 0.013415320716672823), (4203, 0.026121763657535917), (4204, 0.003379849098576737), (4205, 0.028565588188813305), (4206, 0.005660103004551027), (4207, 0.005559190029191023), (4208, 0.0113964708017431), (4209, 0.038614273367647375), (4210, 0.014450600983523312), (4211, 0.016207353360279144), (4212, 0.0029025029862744566), (4213, 0.02695838802120427), (4214, 0.0032353915194269604), (4215, 0.0035492204622512135), (4216, 0.020557325328457395), (4217, 0.013334628024421306), (4218, 0.07870331806800442), (4219, 0.011321501792145193), (4220, 0.005905984022441057), (4221, 0.015621497741078998), (4222, 0.005319188818260583), (4223, 0.004378155315798082), (4224, 0.008984780687196107), (4225, 0.01025256917592711), (4226, 0.01445167839366812), (4227, 0.022476749719551617), (4228, 0.0070587458008701705), (4229, 0.0019672955307385295), (4230, 0.005074623345150211), (4231, 0.023900764849742392), (4232, 0.02322861190048816), (4233, 0.02592493046257039), (4234, 0.008160148333416583), (4235, 0.03314565141633418), (4236, 0.0035291271322323015), (4237, 0.0009496619708965613), (4238, 0.012977083336573736), (4239, 0.005939965032155167), (4240, 0.02720781886596093), (4241, 0.011629911291441863), (4242, 0.03134941456000728), (4243, 0.005177535341569327), (4244, 0.025119818737802425), (4245, 0.017481065764835158), (4246, 0.030460086822048697), (4247, 0.016586700992818795), (4248, 0.011428731746061349), (4249, 0.020669043828269767), (4250, 0.0020418075979346546), (4251, 0.006816404695027792), (4252, 0.12072376803998187), (4253, 0.005043010320900938), (4254, 0.00625469478916812), (4255, 0.03818402123508195), (4256, 0.08284017865843149), (4257, 0.020369672323292946), (4258, 0.007619199453258583), (4259, 0.012899951565012764), (4260, 0.0014643539462147707), (4261, 0.016360945917775677), (4262, 0.0064912260519674365), (4263, 0.011082635957731131), (4264, 0.0779024282355487), (4265, 0.030333342212134077), (4266, 0.006510403983233869), (4267, 0.009081106084740869), (4268, 0.06362455757069596), (4269, 0.0064284614114841305), (4270, 0.007595794216958267), (4271, 0.0013912875452208537), (4272, 0.042585118499763194), (4273, 0.02215886680286787), (4274, 0.010712810034361316), (4275, 0.023109844993679202), (4276, 0.003830653086457543), (4277, 0.012467114820426946), (4278, 0.006870824725376216), (4279, 0.009741255449493943), (4280, 0.012167106127811425), (4281, 0.028746817786525387), (4282, 0.011817676565757928), (4283, 0.03996622673320237), (4284, 0.009368909935944369), (4285, 0.011274452389983751), (4286, 0.007438876448102511), (4287, 0.009729322100362899), (4288, 0.01972437587219002), (4289, 0.016263207552022846), (4290, 0.017224957667387793), (4291, 0.00686952620990186), (4292, 0.01637840159068855), (4293, 0.014411514505431645), (4294, 0.034807308474141825), (4295, 0.02295691607347241), (4296, 0.03542063717025951), (4297, 0.012560836711013258), (4298, 0.007807655848393035), (4299, 0.08142287519828618), (4300, 0.010556692337422197), (4301, 0.0038043908117113873), (4302, 0.0034848808508320386), (4303, 0.014822219713411432), (4304, 0.0089207673247086), (4305, 0.009770721718867389), (4306, 0.018436107659307314), (4307, 0.011897763492451963), (4308, 0.00501055190836872), (4309, 0.01462608826392656), (4310, 0.013982325768887686), (4311, 0.0054515149745337915), (4312, 0.00925283439169681), (4313, 0.004417856626070551), (4314, 0.02463807711872853), (4315, 0.010706027583002476), (4316, 0.0012571268096411958), (4317, 0.0033475485753811955), (4318, 0.009856157307581536), (4319, 0.006547145492664707), (4320, 0.021774611017900822), (4321, 0.02481642158979073), (4322, 0.01965745010218401), (4323, 0.01152193998935426), (4324, 0.00793035857954266), (4325, 0.01595268660433371), (4326, 0.011805915466559241), (4327, 0.003329622183234833), (4328, 0.016688035767995494), (4329, 0.008467710356939896), (4330, 0.010800364200375702), (4331, 0.013095456616868093), (4332, 0.005457562980636667), (4333, 0.010216033680626922), (4334, 0.011245424182913405), (4335, 0.016953919027623963), (4336, 0.009872861011902248), (4337, 0.02146193861010543), (4338, 0.01605649456646382), (4339, 0.013377203778866137), (4340, 0.01649721670181851), (4341, 0.008811045733149172), (4342, 0.05147881570139399), (4343, 0.0136503197541619), (4344, 0.09576464355439224), (4345, 0.014051919845686432), (4346, 0.10031119828078465), (4347, 0.011087626190027499), (4348, 0.014238176944104288), (4349, 0.026110093346844207), (4350, 0.019245937050621473), (4351, 0.11235798907477101), (4352, 0.0011425861403471977), (4353, 0.01273586221880201), (4354, 0.04508224412563299), (4355, 0.014724891982415503), (4356, 0.009475533519942727), (4357, 0.00863863660685137), (4358, 0.007861286812994424), (4359, 0.007536451133099195), (4360, 0.013971923731014115), (4361, 0.007744996486798315), (4362, 0.013285499596010962), (4363, 0.010894436793851353), (4364, 0.0050454695813117074), (4365, 0.00982920157279411), (4366, 0.02071406810502384), (4367, 0.008925408568805117), (4368, 0.010219871551550665), (4369, 0.007339402208954773), (4370, 0.009598062382134346), (4371, 0.01067808652621736), (4372, 0.0013673577815883787), (4373, 0.015661976118410397), (4374, 0.023261404776934065), (4375, 0.07190148921197043), (4376, 0.013571714756580923), (4377, 0.014333992255045055), (4378, 0.044607350750713134), (4379, 0.022271748233234176), (4380, 0.02529914659872451), (4381, 0.011289316159866385), (4382, 0.02760203701220295), (4383, 0.018680746507378082), (4384, 0.02020663431631389), (4385, 0.013906678693047826), (4386, 0.013079025855887794), (4387, 0.020985260248988346), (4388, 0.017305072972925203), (4389, 0.06377190665839089), (4390, 0.013160221574353696), (4391, 0.009528467765886969), (4392, 0.012380138039865313), (4393, 0.004127827286660872), (4394, 0.009388078739262985), (4395, 0.024694629487993138), (4396, 0.008719962345272662), (4397, 0.017911591013972224), (4398, 0.06712392594647518), (4399, 0.0340560675655525), (4400, 0.015072564767000049), (4401, 0.010429864368532575), (4402, 0.04042258690842382), (4403, 0.04177898904056271), (4404, 0.008766578623733963), (4405, 0.003371184639305221), (4406, 0.07995616696952622), (4407, 0.005163517979967498), (4408, 0.008785923478764475), (4409, 0.008684398294261795), (4410, 0.006471171426767891), (4411, 0.009077461384430895), (4412, 0.011737952853953805), (4413, 0.00712227006335735), (4414, 0.008094155956107804), (4415, 0.005953600682069253), (4416, 0.009665762462396938), (4417, 0.005974119697311759), (4418, 0.006520936558406389), (4419, 0.004333064303210388), (4420, 0.009392484951291701), (4421, 0.010525982978152935), (4422, 0.010766215741284458), (4423, 0.005142561609763913), (4424, 0.0012948958025420791), (4425, 0.0036003393280976247), (4426, 0.007876726128543437), (4427, 0.006669676468253812), (4428, 0.01461990002410523), (4429, 0.021122654867845203), (4430, 0.01644761742926753), (4431, 0.01748676449538663), (4432, 0.015399429675404993), (4433, 0.00763087174129391), (4434, 0.0037872975683751788), (4435, 0.01957394275724052), (4436, 0.0279030366630254), (4437, 0.0011280503203765834), (4438, 0.015201288179553319), (4439, 0.0021431644774424254), (4440, 0.02354918366805967), (4441, 0.011548789234670504), (4442, 0.01734490234040376), (4443, 0.046020874132238265), (4444, 0.016836421996321852), (4445, 0.013040862980329535), (4446, 0.008095721026152466), (4447, 0.011115427973751438), (4448, 0.008172220378684049), (4449, 0.003751106359572815), (4450, 0.03720558683010617), (4451, 0.006587679849839648), (4452, 0.046698992518446135), (4453, 0.007160814811441637), (4454, 0.01962017922608113), (4455, 0.0023527442654569), (4456, 0.049907829260138155), (4457, 0.021333134308068814), (4458, 0.007781718372067948), (4459, 0.018167782045136603), (4460, 0.007914794574478023), (4461, 0.004916318395485936), (4462, 0.079590092037365), (4463, 0.0038365038605927375), (4464, 0.010716907903145377), (4465, 0.02085431825478519), (4466, 0.02969139999121375), (4467, 0.017747537853260987), (4468, 0.008651076280211594), (4469, 0.015060264750878878), (4470, 0.029817079543183935), (4471, 0.01750330215359642), (4472, 0.011072187816114982), (4473, 0.00864490271296035), (4474, 0.022535148861008353), (4475, 0.017568337476298684), (4476, 0.016513654552893397), (4477, 0.019039868334575973), (4478, 0.009332191766760133), (4479, 0.006400000768131636), (4480, 0.0015277192853403185), (4481, 0.0292440869369091), (4482, 0.026264703590744166), (4483, 0.0106350879257891), (4484, 0.025344428239464905), (4485, 0.006364985141574715), (4486, 0.025890629400077213), (4487, 0.014958186900309749), (4488, 0.0463933341903863), (4489, 0.010958940063621735), (4490, 0.012164764081430482), (4491, 0.0035336785140433957), (4492, 0.025702069995242476), (4493, 0.009527589341954478), (4494, 0.015483547602814032), (4495, 0.00799641529012848), (4496, 0.009356658783215562), (4497, 0.011376611719710552), (4498, 0.006135770119742324), (4499, 0.0038629255574757467), (4500, 0.0014317530035082631), (4501, 0.010992984019958215), (4502, 0.016637537171114998), (4503, 0.0586610688494047), (4504, 0.026823007921495202), (4505, 0.008161412775317605), (4506, 0.00806793181580728), (4507, 0.02603137724952524), (4508, 0.0013940102719379682), (4509, 0.012250022244095642), (4510, 0.019885978058559507), (4511, 0.022156166756510314), (4512, 0.015411715538058503), (4513, 0.008768168282346266), (4514, 0.009030631372396437), (4515, 0.006977942970459226), (4516, 0.011838284242484244), (4517, 0.011147314467699792), (4518, 0.009671507407627424), (4519, 0.0032658320037575535), (4520, 0.0052905762388987445), (4521, 0.00506782407500162), (4522, 0.010004125240249562), (4523, 0.01889842294062048), (4524, 0.020301829615457716), (4525, 0.011398499166323496), (4526, 0.007054158988846137), (4527, 0.01518538572720881), (4528, 0.022979653343584695), (4529, 0.012491957944105965), (4530, 0.019448877698590064), (4531, 0.02457024177991798), (4532, 0.0044081475740967305), (4533, 0.043452897616360446), (4534, 0.030123409431091312), (4535, 0.0822824185356184), (4536, 0.01871430258683068), (4537, 0.011395902179501717), (4538, 0.03337707440699451), (4539, 0.007234461966199914), (4540, 0.004261156153702688), (4541, 0.015256323267406082), (4542, 0.0061346250857699505), (4543, 0.017088434974206083), (4544, 0.005084117467897182), (4545, 0.006806955463067378), (4546, 0.01221071084571466), (4547, 0.004034503162120825), (4548, 0.03683656160204363), (4549, 0.0071808211497508476), (4550, 0.010933685963753841), (4551, 0.020665517866436077), (4552, 0.011855999279604137), (4553, 0.016019624199486056), (4554, 0.03083834601097584), (4555, 0.008580972279419705), (4556, 0.00357664320189434), (4557, 0.017046693450895583), (4558, 0.01059634535617926), (4559, 0.0343212126648214), (4560, 0.006807759419402537), (4561, 0.0), (4562, 0.004294745528057301), (4563, 0.011634707385432666), (4564, 0.08505627427777063), (4565, 0.02180117263608163), (4566, 0.009884069849025196), (4567, 0.003939926961795958), (4568, 0.007033989026247081), (4569, 0.005206449704539938), (4570, 0.00546990994576984), (4571, 0.006292775545358693), (4572, 0.004928059095759109), (4573, 0.012552788646699373), (4574, 0.010462865769745706), (4575, 0.010635277350423399), (4576, 0.03695339626249391), (4577, 0.007466967087848336), (4578, 0.0032537196042680696), (4579, 0.013555974045761459), (4580, 0.0034332514901971745), (4581, 0.01850401303170056), (4582, 0.010358648738575168), (4583, 0.02237007781639754), (4584, 0.007050396496863001), (4585, 0.013190921118274702), (4586, 0.02540479169448304), (4587, 0.010933168524212005), (4588, 0.05388255725725527), (4589, 0.02751151674527218), (4590, 0.039877010512477974), (4591, 0.016087948505515384), (4592, 0.0032287140375745873), (4593, 0.011618862789778084), (4594, 0.0707830463831357), (4595, 0.012507088347156246), (4596, 0.013833602802461995), (4597, 0.012249587472720981), (4598, 0.004453266341991304), (4599, 0.009269579291515414), (4600, 0.008832137628048953), (4601, 0.014643512782818535), (4602, 0.04267627372806187), (4603, 0.012665535497010213), (4604, 0.006000285278851151), (4605, 0.01925580029655457), (4606, 0.008717531258755832), (4607, 0.00573634449304055), (4608, 0.03359666713738997), (4609, 0.020951397765579836), (4610, 0.015405333725613549), (4611, 0.011383535786634643), (4612, 0.015873910099960944), (4613, 0.011153143242433657), (4614, 0.029815188670535113), (4615, 0.012593060187906594), (4616, 0.006253247778159549), (4617, 0.01751801450074849), (4618, 0.0014950286278979433), (4619, 0.013119021977219912), (4620, 0.012799337068831696), (4621, 0.009393578625390258), (4622, 0.01137200271794099), (4623, 0.026071471352787052), (4624, 0.017136772610738434), (4625, 0.009204890448471963), (4626, 0.005854754168124716), (4627, 0.022975571608724116), (4628, 0.003549519332853995), (4629, 0.013861722892773652), (4630, 0.014550815413446827), (4631, 0.0), (4632, 0.008054094382374071), (4633, 0.012786976046202408), (4634, 0.006198543203392922), (4635, 0.004342712149980431), (4636, 0.07196355621242653), (4637, 0.021733635633615543), (4638, 0.008495055083898846), (4639, 0.01454941364422218), (4640, 0.030240348001896268), (4641, 0.045361188976099046), (4642, 0.011464885795636268), (4643, 0.004858399947478736), (4644, 0.002982163911657769), (4645, 0.03395640147613837), (4646, 0.007985290334496489), (4647, 0.008822607849163253), (4648, 0.003913520478853445), (4649, 0.023302632501710722), (4650, 0.004814250184775659), (4651, 0.004482248056981206), (4652, 0.004670208784246722), (4653, 0.015696908668369182), (4654, 0.001635464759052982), (4655, 0.009026358813601013), (4656, 0.014754692825346836), (4657, 0.005142873787389476), (4658, 0.02899274022070003), (4659, 0.033346572100751704), (4660, 0.01129549594457166), (4661, 0.014279383597404546), (4662, 0.009378796090439075), (4663, 0.040792456971425646), (4664, 0.013919745323604515), (4665, 0.016744330697163568), (4666, 0.010430642357998773), (4667, 0.006095552585678883), (4668, 0.028614451048839164), (4669, 0.022693299068313195), (4670, 0.01942257376002161), (4671, 0.002898570741523792), (4672, 0.007132623308377192), (4673, 0.020525474430091655), (4674, 0.01192624940712548), (4675, 0.007645268761296719), (4676, 0.005854290247484526), (4677, 0.015219316855243338), (4678, 0.013763893296599751), (4679, 0.026499172808147883), (4680, 0.008371068053553685), (4681, 0.002609117051432036), (4682, 0.05993516483017992), (4683, 0.005275948279114756), (4684, 0.033053939473027275), (4685, 0.01705834921804281), (4686, 0.00857674335324044), (4687, 0.006465748108978952), (4688, 0.0034780903207990385), (4689, 0.008540552245372828), (4690, 0.0034504050426266315), (4691, 0.010270225664975334), (4692, 0.009018137954047016), (4693, 0.0027737847870186777), (4694, 0.005348877632932398), (4695, 0.012571054916621065), (4696, 0.007056050309258813), (4697, 0.009877054946652234), (4698, 0.0076235698073794725), (4699, 0.01173421373911776), (4700, 0.004344546670924991), (4701, 0.030318191024621025), (4702, 0.003394640051100852), (4703, 0.03851676470194088), (4704, 0.010352584359051896), (4705, 0.008004641722886136), (4706, 0.00464713705492728), (4707, 0.01428971708676756), (4708, 0.008624284314516792), (4709, 0.020136910367357735), (4710, 0.013521307802312586), (4711, 0.0012817768161852506), (4712, 0.00276288912862579), (4713, 0.015662285274625074), (4714, 0.003682757211550992), (4715, 0.014848833509090888), (4716, 0.017643860759755367), (4717, 0.007695283974750567), (4718, 0.01695304926029136), (4719, 0.007695367434474491), (4720, 0.0036083390140672113), (4721, 0.038990012262182225), (4722, 0.015371144942587615), (4723, 0.00532376436504542), (4724, 0.05375601070387669), (4725, 0.007290086243749176), (4726, 0.009400964053398523), (4727, 0.038915921897937994), (4728, 0.0036625816286511934), (4729, 0.011949284497275236), (4730, 0.003471265883255535), (4731, 0.030492275309807432), (4732, 0.009238014598649863), (4733, 0.01761258183593549), (4734, 0.010448356352653818), (4735, 0.02033383766278959), (4736, 0.0029333261814811465), (4737, 0.007443706605451189), (4738, 0.005705732481677818), (4739, 0.03517985007180083), (4740, 0.0037658329618917817), (4741, 0.005465900598023387), (4742, 0.0022948466409700905), (4743, 0.006070080441360083), (4744, 0.005334525702116984), (4745, 0.006290838116194591), (4746, 0.007507719152313906), (4747, 0.018224083592752266), (4748, 0.015252586428404685), (4749, 0.005658631994676266), (4750, 0.0012545471110730882), (4751, 0.002077644617730517), (4752, 0.004132255683088354), (4753, 0.004516536194353842), (4754, 0.0034018689063388947), (4755, 0.0011104697037559914), (4756, 0.0040822502272852956), (4757, 0.011600520023270066), (4758, 0.008165190292007673), (4759, 0.005198346772717024)]\n"
          ]
        }
      ]
    },
    {
      "cell_type": "code",
      "source": [
        "len(RS)"
      ],
      "metadata": {
        "colab": {
          "base_uri": "https://localhost:8080/"
        },
        "id": "e1MGR4yRGJL4",
        "outputId": "0a7f4063-b90a-44e4-e25e-2560e70ca24f"
      },
      "execution_count": 48,
      "outputs": [
        {
          "output_type": "execute_result",
          "data": {
            "text/plain": [
              "4760"
            ]
          },
          "metadata": {},
          "execution_count": 48
        }
      ]
    },
    {
      "cell_type": "markdown",
      "source": [
        "Sorting Recommendations"
      ],
      "metadata": {
        "id": "8_ccgJrLZUqn"
      }
    },
    {
      "cell_type": "code",
      "source": [
        "SSM = sorted(RS, key = lambda x:x[1], reverse=True) #Sorting Similar Movies\n",
        "print(SSM)"
      ],
      "metadata": {
        "colab": {
          "base_uri": "https://localhost:8080/"
        },
        "id": "97qFNViPGcMU",
        "outputId": "83990892-a4de-4a2d-c82d-984bf74c4105"
      },
      "execution_count": 49,
      "outputs": [
        {
          "output_type": "stream",
          "name": "stdout",
          "text": [
            "[(2692, 1.0000000000000002), (1886, 0.17508372769456734), (185, 0.14849106151137068), (282, 0.1374835498575178), (2538, 0.13717053032683507), (3010, 0.1363581743386267), (947, 0.12855447745197116), (3326, 0.12751034636199507), (161, 0.12265989777197664), (1389, 0.12255206239347596), (1118, 0.1218547240421366), (2358, 0.12149751651230163), (3682, 0.12087644169047823), (4252, 0.12072376803998187), (1166, 0.11988676219782045), (3427, 0.11822772019244517), (3119, 0.11655820726775593), (1754, 0.11590932626491263), (62, 0.11503389122913997), (1241, 0.11500336667371265), (540, 0.1143429432825008), (781, 0.11402828871729369), (3572, 0.11401975904301681), (1057, 0.11331606047049071), (2868, 0.11270139516471571), (345, 0.11250140317195778), (4351, 0.11235798907477101), (110, 0.11232535017905851), (1804, 0.11179613005716417), (2553, 0.11110298290264425), (829, 0.11017871338506816), (160, 0.10913513989427294), (682, 0.10904535474696883), (1060, 0.1089297461227333), (1674, 0.10869749483180716), (225, 0.1083798117262947), (3276, 0.10793439419254794), (1492, 0.10731028731556368), (2310, 0.10727193092748331), (3797, 0.10670916441579953), (3313, 0.10557105060924923), (539, 0.10545157283662927), (2691, 0.1044268173890498), (1763, 0.10355457105417133), (3076, 0.10353091898329317), (3613, 0.10293276276966382), (3072, 0.10284945768190155), (4035, 0.10247589099676904), (1896, 0.10208942081084146), (1485, 0.10148299574170923), (3204, 0.10144490319960914), (1367, 0.10138376163023162), (1044, 0.10082444236915275), (4346, 0.10031119828078465), (3395, 0.10027789532679422), (255, 0.10009782024895474), (2744, 0.09980078772257249), (1653, 0.09965964643878154), (218, 0.09941093676057947), (71, 0.09935789066300267), (1647, 0.09900377210456686), (3299, 0.09885122257219246), (635, 0.0987536214768891), (1087, 0.0987059655447195), (600, 0.09837189370848715), (1307, 0.09836332631367638), (2045, 0.09754302407190123), (3751, 0.09713660236884389), (1994, 0.09677575721197672), (512, 0.09627834356282429), (1152, 0.09625207102406037), (380, 0.09621535228218556), (2898, 0.09620743485519347), (1179, 0.09612465926787499), (2822, 0.09606999667420833), (599, 0.09593323781503639), (1011, 0.09592110821294762), (1313, 0.09581585628312664), (4344, 0.09576464355439224), (503, 0.09519184549586696), (1129, 0.09515135756249976), (2701, 0.09498621498903809), (344, 0.09487401743796663), (2091, 0.0946470875001856), (514, 0.09459556358058553), (513, 0.09449073752377485), (1977, 0.09434676813807363), (303, 0.09427010787970722), (1849, 0.09417052179426831), (3469, 0.09405853724716662), (341, 0.09398706255230818), (534, 0.0939322043135382), (1225, 0.09380632846897005), (46, 0.09363822762712343), (1983, 0.09349236052875397), (84, 0.09342675395077546), (2040, 0.09334297353238775), (2065, 0.09332737873056798), (679, 0.09299756766309712), (2967, 0.09298619751844643), (1336, 0.09282773076004755), (1348, 0.09270250308931943), (987, 0.0920876716280035), (528, 0.09170041377094089), (1056, 0.09155381888329461), (354, 0.09141053912612943), (1614, 0.09128085353345272), (2423, 0.09101062934516231), (2459, 0.09092853774262773), (1341, 0.09091479950380486), (2145, 0.0907452043258499), (1085, 0.09072636764002916), (1483, 0.09035475466641535), (923, 0.09032516201124961), (990, 0.08985648144869172), (3763, 0.08956021052542693), (1873, 0.0894290835022261), (3623, 0.08901799943468736), (4094, 0.08895334252715992), (2330, 0.08884690488972623), (3207, 0.08860385868111254), (3581, 0.08830364224548036), (3071, 0.08807080193439648), (189, 0.08802142110530697), (1235, 0.08800431417524385), (1371, 0.08779321624346408), (2079, 0.08767485660328024), (744, 0.0873802581317371), (258, 0.0871699789667233), (421, 0.08702981151963632), (1140, 0.08699109178841781), (233, 0.08695204462115776), (3100, 0.08635766588947706), (666, 0.08602978158727834), (4195, 0.08602681931951757), (555, 0.08566800294675582), (887, 0.0856606113808329), (373, 0.08536306187795673), (1297, 0.08524304091970082), (3306, 0.0852267397045296), (2580, 0.0851976488856702), (3860, 0.08518633457888342), (4564, 0.08505627427777063), (1259, 0.08502771894362324), (3462, 0.08494619011379574), (3241, 0.08486536870156561), (3831, 0.08477592350010743), (1846, 0.08474632944369145), (778, 0.08454036334972934), (4181, 0.08452189161564244), (205, 0.08447112756093768), (1, 0.08428219942993395), (2052, 0.08412623011817692), (3480, 0.08349403279093343), (2536, 0.0834465819031057), (1640, 0.08330548875037438), (553, 0.0831799148898253), (1322, 0.08314273885520662), (1512, 0.0829733730378317), (4256, 0.08284017865843149), (3104, 0.08277806361447602), (725, 0.08255135954040911), (4112, 0.0822957164542179), (4535, 0.0822824185356184), (268, 0.0821215067474301), (254, 0.08211108616557503), (3742, 0.08181675630472418), (1378, 0.08177467637059675), (1986, 0.08146317429074218), (14, 0.0814349152486798), (4299, 0.08142287519828618), (3728, 0.0814161595443837), (1022, 0.08138497774965801), (554, 0.08134317978434782), (2442, 0.0812642925365779), (1021, 0.0811607365327963), (3143, 0.08092691309744751), (756, 0.08084045112294368), (1660, 0.08065980650778345), (703, 0.08059354118762979), (1911, 0.08058742748091183), (3053, 0.08047766963869567), (2430, 0.08047110274840927), (191, 0.08043172839672147), (4018, 0.08016823729758757), (4406, 0.07995616696952622), (1423, 0.07967053265473996), (1608, 0.07966649756592845), (4462, 0.079590092037365), (3837, 0.07955737042931289), (1970, 0.07931652455432985), (3169, 0.07926372971141891), (1437, 0.0792303538612794), (656, 0.07920355838078443), (194, 0.07902496125675423), (928, 0.07896336743826021), (4218, 0.07870331806800442), (745, 0.07868532771834862), (1898, 0.0783951408519169), (2318, 0.07839208851032547), (397, 0.07837635339775363), (1243, 0.07827571985091909), (1312, 0.07811224367316578), (4264, 0.0779024282355487), (76, 0.07787191994548612), (1201, 0.07769567422640486), (3132, 0.07759048275393458), (2716, 0.07754451933422414), (2367, 0.07744448941297356), (2502, 0.07719760552065175), (435, 0.07700922247597235), (1719, 0.07696254168268037), (4036, 0.07693068147308926), (1965, 0.07692914760745731), (1567, 0.07689234032504844), (3921, 0.07640543979020833), (1261, 0.0763702763370602), (3192, 0.07629063938058926), (2616, 0.07626651446127493), (3718, 0.07591288154971025), (538, 0.07576796732280786), (4070, 0.07554286299300182), (3134, 0.07531303640536084), (3133, 0.07528307235195214), (1120, 0.07493244280465736), (577, 0.0747607452761734), (2338, 0.07475042622957959), (3738, 0.07453911289907622), (1134, 0.07439410547948916), (3574, 0.0740781255599513), (3248, 0.07407110482926679), (1127, 0.07345960603562336), (292, 0.07322146566915015), (2729, 0.07312433681097875), (3783, 0.0729404636923926), (1505, 0.07241503248769358), (2591, 0.07224365907562494), (3463, 0.07210509144121971), (1030, 0.07199071796295868), (4636, 0.07196355621242653), (4375, 0.07190148921197043), (3334, 0.0718792679120847), (4137, 0.07171087492983629), (4594, 0.0707830463831357), (424, 0.07074581210331315), (4062, 0.07064256441001572), (3450, 0.07001195242344516), (2841, 0.06971757953981247), (496, 0.06921880709392074), (1809, 0.06889509487829167), (2151, 0.06884519895087621), (432, 0.06790602712729757), (4165, 0.06790325981868502), (3339, 0.06751875283606837), (1586, 0.06722938780592377), (1306, 0.06721359044735402), (4398, 0.06712392594647518), (3670, 0.06684659126620243), (561, 0.06673846246578646), (2112, 0.06661586756931565), (2630, 0.06642560771302422), (137, 0.06621455356280377), (351, 0.06620132714494523), (3373, 0.06617431017874978), (171, 0.0654206351323069), (438, 0.06530678158324574), (1203, 0.06517955003827769), (1383, 0.06498367637038874), (2238, 0.06492139207436563), (877, 0.06432480007097684), (4123, 0.06401306387563256), (1878, 0.06391067445514183), (2133, 0.06389498782662441), (4389, 0.06377190665839089), (4268, 0.06362455757069596), (3429, 0.063437495128193), (479, 0.06336971091875365), (3947, 0.06283799045034846), (2374, 0.06282197231777431), (2587, 0.062390668022724555), (1272, 0.06237864626944178), (934, 0.06234020519333088), (2758, 0.06221797117327268), (2745, 0.06213392182019741), (3385, 0.061595802973112034), (3498, 0.061075676452670376), (412, 0.060306859109770086), (4682, 0.05993516483017992), (2037, 0.059887013067889024), (3023, 0.05944160754167313), (970, 0.05894389928312768), (2191, 0.05879844272400938), (2579, 0.05871243897450414), (2944, 0.05868151541928229), (4503, 0.0586610688494047), (1033, 0.05863708131009431), (761, 0.05845581956602419), (2582, 0.05813247418069667), (2893, 0.057948201725967985), (408, 0.057916721954752434), (1257, 0.05762167501433517), (2653, 0.057361931648260096), (1850, 0.05721559578151818), (1173, 0.05679549910904827), (3203, 0.056663448418833966), (384, 0.056556954345231024), (3793, 0.05601516574436077), (673, 0.05572992254177696), (1393, 0.055440140586211495), (870, 0.05533945345758956), (3374, 0.0549736192006331), (1506, 0.05493842752972813), (3511, 0.054843865378894116), (1292, 0.05480365986840777), (1358, 0.05478530953445539), (1770, 0.05456911896520012), (4104, 0.054369250643460834), (2294, 0.05428762569158167), (2710, 0.054283480228101755), (2550, 0.05421489555317947), (1015, 0.05417780048512153), (519, 0.054091875592301435), (4588, 0.05388255725725527), (904, 0.0538529250465593), (4724, 0.05375601070387669), (637, 0.05329004846638399), (2285, 0.05322009627098401), (3315, 0.05316375010282852), (1871, 0.053025809975521095), (1102, 0.05284536257610561), (1248, 0.05281901895314473), (3091, 0.05252558446582622), (2371, 0.05225895801214248), (1702, 0.052193682113336186), (3955, 0.05218524900671766), (1675, 0.052055096672126946), (3552, 0.0520329009469622), (788, 0.05196350203394487), (4342, 0.05147881570139399), (615, 0.05125785469557868), (2555, 0.051208601919523325), (2530, 0.05094152958497809), (126, 0.050920397459702796), (399, 0.05085756135121012), (4005, 0.05082882370866062), (15, 0.05059451195150418), (1982, 0.050471090390811234), (3684, 0.05038412740676336), (210, 0.050268958580879784), (2417, 0.05023963959731939), (3867, 0.050216781417947436), (1676, 0.05010027379681726), (89, 0.05008803381395746), (3974, 0.05003915677616056), (4456, 0.049907829260138155), (330, 0.04982904900838952), (348, 0.049729245901921584), (3753, 0.04971613029741882), (1024, 0.04968307374712952), (426, 0.049539273543021546), (1527, 0.049494318052605776), (2621, 0.04942767576674317), (122, 0.048964026876675525), (250, 0.048934978438154766), (2522, 0.04884411308284431), (1585, 0.04873362517922331), (4034, 0.048600793199961245), (593, 0.04845463774995261), (1752, 0.0481601463877885), (1652, 0.04811819069089415), (1108, 0.04802230129508311), (1973, 0.04791043467202687), (1396, 0.04790625531949181), (1302, 0.04788962738446034), (3559, 0.04783290561036618), (632, 0.04781799485234236), (3028, 0.04757081802884731), (3127, 0.04753258818711335), (2295, 0.047484990130078744), (2517, 0.0474249868504028), (44, 0.04712405053597542), (3701, 0.04684162792398448), (4452, 0.046698992518446135), (4102, 0.04667286214352713), (3408, 0.04665229370433658), (2012, 0.04658871485014), (1369, 0.046551230651780996), (1068, 0.046444600053386645), (3465, 0.046421476397028844), (4488, 0.0463933341903863), (1482, 0.046388669013905114), (2413, 0.046306283888347705), (2212, 0.046225325976609256), (911, 0.04618326315714551), (3045, 0.046141994321021076), (4443, 0.046020874132238265), (4152, 0.045981388521319826), (3344, 0.045972523160277994), (1750, 0.04586093140150826), (3237, 0.045854192146258604), (2869, 0.04582689319581276), (1072, 0.0457767075515844), (3814, 0.04563853076041988), (3983, 0.045609418088067434), (4023, 0.04551060866399336), (1379, 0.04546297815732727), (108, 0.04544476743151394), (4641, 0.045361188976099046), (2018, 0.045269027285950364), (4354, 0.04508224412563299), (818, 0.04484297232663781), (874, 0.044782747114216793), (4378, 0.044607350750713134), (3470, 0.04459197834665652), (2567, 0.04447254443159193), (3961, 0.04445289855364543), (166, 0.04440925629683656), (1464, 0.04438085662874576), (3409, 0.04427809056138793), (2443, 0.04426597660717689), (2687, 0.044060494186854954), (2996, 0.044054544959766226), (1568, 0.044052326534343246), (3013, 0.04403379662453319), (396, 0.04387360956191834), (2316, 0.04382668996425311), (774, 0.043808777193568474), (3330, 0.04371225170538669), (1713, 0.04371118128740343), (174, 0.043704613401082185), (3433, 0.04359374031562111), (1063, 0.043543463245324814), (4086, 0.04346897625037103), (4533, 0.043452897616360446), (25, 0.04344853607686521), (3102, 0.04340021708889289), (4175, 0.04324468347767303), (3420, 0.04305383290586823), (334, 0.04299975906358196), (1252, 0.04278641536425674), (1837, 0.04267812656602703), (4602, 0.04267627372806187), (4272, 0.042585118499763194), (2599, 0.04251060029832866), (241, 0.04249317796248376), (1868, 0.042394736423027386), (1499, 0.042373789187246685), (4064, 0.04228550416785286), (812, 0.04222277169223976), (578, 0.042190108061108886), (1236, 0.042062905079993856), (3720, 0.04205457406967538), (3004, 0.04198261501095023), (1398, 0.04195528446734902), (4403, 0.04177898904056271), (1885, 0.04170880430375362), (3731, 0.04168395524881626), (3556, 0.04167600396014554), (430, 0.04161020200143224), (3850, 0.04155846975187585), (5, 0.04154251354851358), (1847, 0.04151558750025547), (1985, 0.04147893642054777), (823, 0.041456486291030985), (1215, 0.04143138269808369), (455, 0.041417177149925676), (1226, 0.041216831959071935), (2016, 0.041107365647958576), (4004, 0.041099531013056544), (1500, 0.04109892448364356), (3376, 0.04105344128847852), (3665, 0.04101742910833072), (942, 0.04101319326509673), (2486, 0.04099489518789759), (3430, 0.04088499588505656), (2082, 0.040860528762785155), (1443, 0.04082356562797478), (4663, 0.040792456971425646), (29, 0.04077659840809046), (2100, 0.04076553577518052), (1146, 0.04073172282748345), (1536, 0.040691004555545564), (1990, 0.040686100031086365), (63, 0.040508293491715065), (4402, 0.04042258690842382), (1046, 0.04042013462076038), (3407, 0.040325717066985595), (2365, 0.04028456884811984), (530, 0.04016221888681099), (4096, 0.0401566919623109), (116, 0.04014410930715952), (1270, 0.04005662944452392), (2961, 0.04001094192655855), (4283, 0.03996622673320237), (2284, 0.03988913460804945), (4590, 0.039877010512477974), (2484, 0.03980280052189821), (2823, 0.03978660638415686), (1160, 0.03977975181107515), (3447, 0.039726086640793155), (112, 0.03970334512875684), (2481, 0.03967962584437895), (3156, 0.03958782439145707), (898, 0.03957337474463625), (3167, 0.03950054050731748), (1845, 0.03947657707134462), (952, 0.039476234529861105), (3880, 0.03943108299239095), (1957, 0.03943085220664875), (976, 0.03929572441996653), (2713, 0.03912498952330734), (3656, 0.03905981802081639), (3255, 0.039035937555786854), (353, 0.03901266502413238), (4721, 0.038990012262182225), (2751, 0.03897231783399514), (4727, 0.038915921897937994), (1648, 0.03886992499865116), (4141, 0.03881579176990621), (4185, 0.0386898587662416), (4209, 0.038614273367647375), (2023, 0.03856474561679748), (3852, 0.0385604133071353), (4703, 0.03851676470194088), (2214, 0.03849481576292907), (2706, 0.03844896551461424), (1205, 0.038340860509862386), (3328, 0.038340596088748014), (428, 0.03819443649157929), (4255, 0.03818402123508195), (138, 0.038152934808423696), (2981, 0.03813981130948774), (1795, 0.038059739612133325), (1405, 0.038053841805059704), (199, 0.03795133898359537), (2971, 0.03790554517446576), (721, 0.03773771050055241), (2908, 0.03770600438219179), (1403, 0.03767731192106847), (618, 0.03766416048989273), (2912, 0.03763814443023112), (1216, 0.037621950374661095), (1254, 0.037601471621140165), (3904, 0.037598868990427796), (852, 0.03752562003647329), (3157, 0.03748851580595265), (787, 0.037462424800443005), (1095, 0.03735889320833351), (2614, 0.03735381431660449), (1854, 0.0372990480723605), (2780, 0.03727555823212231), (2876, 0.0372431980345024), (2476, 0.037226210132687496), (4450, 0.03720558683010617), (3377, 0.03717857425939993), (463, 0.03712247182230481), (2221, 0.03705063558175699), (371, 0.0370372839787747), (1137, 0.036993636779080845), (1043, 0.03699033579680472), (284, 0.036970602767346816), (1510, 0.03695368993858639), (4576, 0.03695339626249391), (598, 0.03694569126977233), (2887, 0.03684173413952418), (4548, 0.03683656160204363), (109, 0.036825240490397135), (2995, 0.036797747143418096), (2343, 0.036736678630746075), (2762, 0.03670180307683153), (1402, 0.03669026325411852), (2782, 0.03668217772949321), (240, 0.036635059640576714), (1874, 0.03663179584591251), (2102, 0.03662825361053459), (2718, 0.03662709956423685), (2791, 0.036620150078519036), (1788, 0.03658013315309032), (631, 0.03656610294176612), (176, 0.036509000380030215), (2646, 0.036429053533317254), (2807, 0.03642720384030454), (2920, 0.036365978605044855), (2161, 0.03635145232109976), (521, 0.03634094834849879), (4000, 0.03631421314310517), (2193, 0.036310398898098444), (3959, 0.03623976551462621), (3801, 0.03623665562443784), (1935, 0.03621182364691698), (1430, 0.036191651907561476), (2368, 0.03618941325175037), (864, 0.03615940445711861), (2649, 0.036159197787924174), (2011, 0.036053847112176095), (3260, 0.03597525495366466), (3466, 0.03593383611812555), (3146, 0.03591745737887526), (693, 0.0358782670896926), (3711, 0.03585815181801619), (3666, 0.03585391879970526), (1455, 0.035844130105959174), (167, 0.03583716496364506), (1976, 0.03579492078440363), (670, 0.03577229158638853), (629, 0.035764953543004664), (1634, 0.03569221981320418), (3153, 0.03562520411975503), (1325, 0.03560410144654159), (2066, 0.03558650082129114), (88, 0.03558139176676177), (4140, 0.03555801364342574), (3263, 0.03554061096048855), (2020, 0.03549007502754507), (1909, 0.03543404686398938), (4296, 0.03542063717025951), (3652, 0.03531212436685729), (3174, 0.03529172719732897), (1314, 0.03526169617431495), (2178, 0.035248758441164374), (3872, 0.03522293486730838), (1961, 0.03521945841173251), (4739, 0.03517985007180083), (1880, 0.03517434566533201), (458, 0.03515277351960715), (917, 0.03512127301783147), (3746, 0.03506947238632179), (2761, 0.035054255879286095), (895, 0.03502620351515381), (875, 0.035002529404746706), (824, 0.034975023131124626), (3573, 0.03494381932789337), (2303, 0.034822238043546665), (4294, 0.034807308474141825), (3488, 0.03476926037137162), (2055, 0.034744403045740335), (1530, 0.034734702143766595), (3605, 0.034723560690531195), (3767, 0.034641067930361716), (3916, 0.034609246443057434), (522, 0.03458482361171689), (2408, 0.034562154890406954), (1353, 0.03455270302751891), (2802, 0.034519981233713984), (3640, 0.034435018964727865), (1397, 0.03441114553348269), (2931, 0.03440079433255478), (1283, 0.03438215493168776), (2252, 0.03433995155851701), (532, 0.03433992450031352), (1181, 0.03432407823609858), (4559, 0.0343212126648214), (2647, 0.03428443654066247), (105, 0.03428004129320937), (1824, 0.03422791981891037), (1848, 0.03420158557875904), (261, 0.034196627683374455), (1335, 0.0341875516973933), (652, 0.034162559348006924), (43, 0.03415339123816771), (1720, 0.03414578503535378), (3655, 0.03410676142589361), (1059, 0.03409159354399006), (986, 0.03406802329995643), (4399, 0.0340560675655525), (782, 0.034047818012522296), (657, 0.03396853753848925), (4645, 0.03395640147613837), (2682, 0.033908968844555736), (465, 0.033883710566403324), (3483, 0.03385953973582867), (2805, 0.03384338704629158), (3957, 0.03377258541508829), (459, 0.03370369032523012), (2024, 0.03369516310838416), (1544, 0.03364552952459303), (462, 0.03361820225002067), (124, 0.03361504691804953), (4608, 0.03359666713738997), (1471, 0.033572308916286764), (3868, 0.03356835417101371), (515, 0.03352978328191279), (1098, 0.03351421846863965), (1560, 0.0334881896972332), (3688, 0.033477492910446674), (4538, 0.03337707440699451), (4659, 0.033346572100751704), (193, 0.03333719736861046), (1290, 0.033322451289944086), (97, 0.0333221794182168), (1566, 0.03330428077383849), (3043, 0.03327625877973894), (2475, 0.03326885602799446), (1274, 0.03324279318319858), (2972, 0.033224156475648074), (3673, 0.033216831062403196), (3871, 0.03320349249952746), (4235, 0.03314565141633418), (1999, 0.033082107569612745), (4684, 0.033053939473027275), (1249, 0.03304188650711641), (590, 0.03302971722027217), (3597, 0.03300086139545809), (441, 0.03297584652439428), (1186, 0.0327970119824417), (4061, 0.03276409698741648), (1678, 0.032730604340727776), (2808, 0.03268415399978288), (1629, 0.03267425261641554), (2237, 0.03261721091084379), (2723, 0.03257270321152031), (3213, 0.03253712143313369), (3416, 0.032532706305553896), (568, 0.03252760408220127), (566, 0.03252396473583943), (624, 0.0324996065647067), (4160, 0.0324888896690595), (1749, 0.03248133111569488), (3777, 0.03245992678288565), (4176, 0.032455283588799476), (2048, 0.032451678615022024), (2026, 0.03243875510608255), (1195, 0.032433964133572545), (1798, 0.03239257423925398), (1351, 0.03238527870228699), (2598, 0.03235634873100582), (1051, 0.032353639658630785), (936, 0.032285617406573756), (832, 0.03223862373518102), (2487, 0.03219819625656381), (1262, 0.032191114762174546), (1671, 0.032098349227847045), (2031, 0.0320880698217252), (2892, 0.0320649018478376), (3773, 0.032060373815985095), (1997, 0.03204257933861727), (2174, 0.03200058340938462), (3692, 0.031980029512841936), (1478, 0.03193195945229258), (3012, 0.031911287293627015), (3003, 0.031870276912640494), (47, 0.03186482217039677), (269, 0.031857274565226856), (257, 0.03185438738707757), (2336, 0.03184017376599374), (1865, 0.03182326500887764), (2437, 0.03181434446073887), (1332, 0.031803175545963146), (1412, 0.03179950467796938), (2668, 0.03176675387988514), (33, 0.03174862595047084), (885, 0.0317130256590799), (1096, 0.03170310646235118), (2903, 0.031685325605242065), (675, 0.03166659466493757), (613, 0.03166441558523665), (4053, 0.03160874748768623), (187, 0.031592732004894056), (2093, 0.0315882146995389), (1852, 0.03158681312972156), (2899, 0.03157129136472056), (175, 0.031547822048575536), (4177, 0.03154749286985655), (2013, 0.03153723756397283), (2739, 0.03147522271456744), (212, 0.03147108597431768), (967, 0.03139396582681613), (4242, 0.03134941456000728), (2094, 0.03131822981177875), (1232, 0.03129526106760457), (442, 0.0312668921698014), (3017, 0.031232706386509594), (2467, 0.031209742040751137), (3819, 0.031174331858189963), (2699, 0.031122099657465103), (3923, 0.031118716995042827), (2950, 0.031098385361324685), (3634, 0.031005209319474227), (2157, 0.030971967815991493), (2578, 0.030969543179918086), (523, 0.030939544323016262), (3363, 0.030931740913370292), (1515, 0.03090550423953086), (1012, 0.03086715140002325), (1967, 0.03086239144134411), (4554, 0.03083834601097584), (3446, 0.030824838424821848), (643, 0.030780855123063448), (2689, 0.030768792065401993), (3285, 0.030722012777492622), (499, 0.03068985537141097), (1937, 0.0306821172068909), (3629, 0.03060668011390533), (3875, 0.030541059946959066), (346, 0.03052178615212302), (4731, 0.030492275309807432), (4246, 0.030460086822048697), (672, 0.030435330983689515), (1757, 0.030426713863503922), (2784, 0.030408912212690216), (398, 0.030405195879120914), (3362, 0.03035423269948742), (4265, 0.030333342212134077), (4701, 0.030318191024621025), (1721, 0.030317819933831994), (3492, 0.03031687399347641), (374, 0.030288886707035684), (1381, 0.030268705720084405), (3507, 0.030240673332134614), (4640, 0.030240348001896268), (3733, 0.030180844524702592), (4534, 0.030123409431091312), (332, 0.030121664875851703), (450, 0.030104973972945717), (213, 0.03009983496538011), (570, 0.030098702547083217), (1578, 0.03008283364048901), (1377, 0.03007216826822082), (691, 0.030070164643812465), (719, 0.03003093019025773), (639, 0.030030507336252933), (1418, 0.029920714595268634), (701, 0.029859452490170246), (752, 0.029835342494354208), (4470, 0.029817079543183935), (4614, 0.029815188670535113), (244, 0.02977574826394088), (1548, 0.02971698858232104), (222, 0.029714852363472058), (4466, 0.02969139999121375), (3222, 0.029675110472798093), (2638, 0.02965786371026969), (2714, 0.02965130031281926), (2226, 0.029643039293323924), (1003, 0.0296353254938506), (3471, 0.029571949445539637), (229, 0.02955657073703664), (1838, 0.02953946526475269), (2276, 0.029533885730130043), (1890, 0.02950679239628608), (1996, 0.0294949655881109), (3963, 0.029491518887294222), (3660, 0.029483380254514947), (3284, 0.029454009562053952), (2520, 0.02943184269684525), (3853, 0.029398945232757115), (1202, 0.029397359596999302), (1942, 0.029382583295531443), (3058, 0.02936948356234176), (3384, 0.029340576616557763), (1951, 0.02930708469603664), (1420, 0.029304159455983428), (3343, 0.02924855830501271), (4481, 0.0292440869369091), (2867, 0.02923912605850942), (3917, 0.029195099818471803), (67, 0.02913252593495078), (2501, 0.029119533812227958), (547, 0.029079475595415138), (2097, 0.029051787106500082), (2524, 0.02903933957098755), (873, 0.029038285823480378), (1817, 0.029032265958710328), (2560, 0.029015721824061487), (757, 0.02900714212226614), (4658, 0.02899274022070003), (2474, 0.02898542841518329), (172, 0.02897110195979274), (2361, 0.028956349074654664), (3319, 0.028945485704224876), (4128, 0.0289304862285552), (649, 0.028862751237000477), (903, 0.02886003046001302), (808, 0.0288534641631711), (3375, 0.028828384732795503), (766, 0.02881726826304891), (3946, 0.028798440368726683), (4189, 0.028792837128654717), (4281, 0.028746817786525387), (1681, 0.02870649451677355), (2394, 0.028680083980371605), (669, 0.028670068949488047), (2743, 0.028656742556192563), (2690, 0.028637383149018238), (3417, 0.028624014936248394), (4668, 0.028614451048839164), (894, 0.028599196694062964), (119, 0.02859172505422665), (4205, 0.028565588188813305), (4050, 0.028510789482480526), (142, 0.02846349671997886), (3083, 0.028412216769385084), (2154, 0.028401646543211312), (3435, 0.02840128879257618), (3713, 0.02839312044339857), (2843, 0.028391071785060968), (2798, 0.028375810782367186), (640, 0.02835257117475519), (2447, 0.028335785627429902), (977, 0.028333949787264563), (1657, 0.02831449509515028), (2767, 0.02831293286456306), (654, 0.028298966672417134), (3637, 0.028288284189567477), (511, 0.028249338071015182), (460, 0.02823829959654784), (3403, 0.028224529473682), (102, 0.028210610737480206), (2070, 0.02812159050787481), (2027, 0.028112701328254656), (2189, 0.028112332044196744), (2494, 0.028085183341457435), (3598, 0.02807908446626614), (1488, 0.02807635778009062), (1927, 0.028012080703518724), (1667, 0.028001085216405316), (3913, 0.027983381714712204), (2460, 0.027956738113559292), (1132, 0.027954676999059735), (1175, 0.027954032218329622), (2449, 0.027927771243374696), (32, 0.027926539167838292), (4436, 0.0279030366630254), (3978, 0.027877959800553666), (695, 0.027870630828462948), (921, 0.027807018853232297), (531, 0.0278008490708979), (3428, 0.02778327858370102), (3295, 0.0277477965742657), (280, 0.027699209517697013), (1083, 0.02769215595156149), (2645, 0.02765628208615854), (597, 0.0276298183055236), (4382, 0.02760203701220295), (2080, 0.027590825129471384), (651, 0.027583354318926973), (2173, 0.02755069588959192), (4589, 0.02751151674527218), (3342, 0.027498795315820144), (336, 0.027494686563103075), (1382, 0.027486791094951533), (509, 0.02748230962934387), (4093, 0.027450270433559118), (3279, 0.027445754527277433), (768, 0.02743964277312624), (3986, 0.027435467381645796), (3901, 0.02741028031074572), (1112, 0.02737383212790537), (3379, 0.027358521898419544), (1910, 0.027336942729346236), (2198, 0.027315371226349434), (677, 0.027298544030528844), (2650, 0.0272960953737022), (1064, 0.027283576030484306), (383, 0.027277133556566285), (409, 0.02722848695199089), (4240, 0.02720781886596093), (916, 0.027203998879920598), (3085, 0.027189046085121987), (2736, 0.027169712643808366), (3810, 0.027142137190327032), (2545, 0.027089094562203403), (1084, 0.027088411866665038), (2264, 0.027078615261495027), (61, 0.027070437226560617), (1042, 0.027062375736984914), (2513, 0.027062275257017276), (1074, 0.027061015125228575), (285, 0.027021990975139448), (3772, 0.027005852766610324), (1853, 0.02697571597312643), (3642, 0.026963177293389325), (10, 0.02695953431688426), (4213, 0.02695838802120427), (1872, 0.026949212775083588), (1245, 0.02693239530409645), (145, 0.026928753016777298), (1275, 0.02691046074287677), (3068, 0.026906799618286976), (3835, 0.026885948157680428), (1774, 0.026834313585170237), (876, 0.026827968932180903), (4504, 0.026823007921495202), (641, 0.026789223088917874), (263, 0.026787158017862724), (204, 0.026774097840813825), (1184, 0.02675689517057505), (3095, 0.026755326050949636), (3778, 0.026721645235996076), (2196, 0.0267202470778858), (3895, 0.026697430776082526), (2035, 0.02665545035708053), (3210, 0.02663276269700683), (3504, 0.02662472755645947), (2764, 0.026561076121754738), (2617, 0.026559429394901142), (3254, 0.026559147325146346), (342, 0.026539389865842332), (4679, 0.026499172808147883), (1609, 0.026481969193233444), (1347, 0.02647314170031157), (636, 0.0264636249844231), (2167, 0.02643747180730471), (2353, 0.02642536597079782), (3267, 0.026422161895576134), (929, 0.026393280367915183), (68, 0.026369887840843667), (3352, 0.02635996816602616), (560, 0.026352809577492146), (476, 0.026351150285225645), (1513, 0.026341114915580787), (451, 0.026334796499799577), (957, 0.026327306048931118), (1105, 0.026322908623659866), (937, 0.026301047664845617), (4482, 0.026264703590744166), (790, 0.026259576304494818), (543, 0.02619586685130907), (1279, 0.026195191324634305), (622, 0.02619307702895056), (2742, 0.026192788697601773), (3927, 0.026185459151557757), (583, 0.026178275571480496), (436, 0.026156356327189018), (1759, 0.026153881046772222), (2629, 0.026132244325603286), (4203, 0.026121763657535917), (4349, 0.026110093346844207), (2694, 0.02609552934216161), (3873, 0.026089040807248925), (2677, 0.026080676627444427), (4623, 0.026071471352787052), (2593, 0.026064615262635), (1687, 0.026049404293417212), (4507, 0.02603137724952524), (2523, 0.026030683536161153), (2440, 0.026011727266331802), (765, 0.025956824166026963), (3891, 0.02594384334176872), (2917, 0.025933220127422583), (4233, 0.02592493046257039), (2347, 0.02589488384808742), (4486, 0.025890629400077213), (502, 0.025876933527382566), (1459, 0.025843844436177835), (3317, 0.02583944716786997), (4007, 0.02583450501936871), (1119, 0.025799246792743348), (1386, 0.025776987360344537), (1183, 0.025727034458440462), (4192, 0.02572574136475933), (858, 0.025708294175542226), (3674, 0.025703095065405406), (4492, 0.025702069995242476), (3358, 0.02564388612186317), (3129, 0.025642386634129447), (3807, 0.025638406601312624), (4016, 0.025627297206632562), (989, 0.02561645489493324), (796, 0.02560784422314036), (3201, 0.02559273015703062), (3111, 0.025569620694783562), (3486, 0.025542508301060314), (527, 0.02547828173212134), (3976, 0.025442850423965782), (1895, 0.025428996033850956), (2335, 0.025424470716659545), (70, 0.025410940268886493), (4586, 0.02540479169448304), (963, 0.025386085016993874), (1401, 0.025369160859367326), (4178, 0.025361443219485785), (1494, 0.025353113402728614), (4484, 0.025344428239464905), (2680, 0.0253275859729002), (4380, 0.02529914659872451), (648, 0.02529233314053225), (1816, 0.0252468957231788), (238, 0.025236333002176137), (795, 0.025218564656165662), (2698, 0.02521668126916957), (3215, 0.025195902652645895), (1978, 0.02519224964166215), (563, 0.025177429114071823), (1061, 0.02516104243596639), (1365, 0.025159350222944726), (4244, 0.025119818737802425), (4013, 0.025092634908495347), (3883, 0.025086453277577584), (1220, 0.025079323777179554), (1148, 0.02507089567135506), (1821, 0.02506546725707272), (21, 0.025061029360324612), (2921, 0.02506087599418696), (4124, 0.025044938840364097), (580, 0.02504201348216049), (279, 0.025028931077727877), (483, 0.025013257303819182), (1861, 0.025002543660800326), (447, 0.024994517990966407), (1682, 0.024980788475144525), (3345, 0.024950184072389806), (1579, 0.024944299387462943), (2119, 0.024940003547400627), (3000, 0.024924078109198167), (825, 0.02489826604171381), (1919, 0.024880240208982253), (591, 0.024868276133704098), (3245, 0.024867912458804806), (1523, 0.02486078732240221), (1950, 0.024859716804890387), (3694, 0.0248499956591151), (4081, 0.02484839789605578), (1384, 0.02483855464995283), (3360, 0.02483074505994956), (4321, 0.02481642158979073), (1141, 0.024813956999068396), (3097, 0.024806467065587243), (3464, 0.024790384377143364), (1162, 0.024763429200969547), (2301, 0.024762282345091667), (3356, 0.024759136047257376), (1278, 0.024749981860826435), (1497, 0.024731249534562898), (2184, 0.02472907101821765), (1413, 0.024712161788811797), (326, 0.02471045959216383), (4395, 0.024694629487993138), (195, 0.024694567842874587), (481, 0.02467514379142592), (3316, 0.024662774478906677), (48, 0.024657484740144925), (2149, 0.024649501434947044), (4314, 0.02463807711872853), (1445, 0.02463080722873202), (155, 0.024603797922609305), (779, 0.024597324248850444), (287, 0.02457356386782366), (4531, 0.02457024177991798), (1858, 0.024549224876961356), (4162, 0.024512909089562718), (52, 0.024502697147771566), (694, 0.02449317302817386), (3839, 0.024484120396201674), (586, 0.02448295392907377), (2419, 0.024468364310751063), (2376, 0.024448148981126377), (370, 0.024430662249349134), (3144, 0.02436742488039525), (2789, 0.024365707814306282), (1331, 0.024363895304165405), (4156, 0.024359502210542856), (584, 0.024357030990461093), (2639, 0.024352650757738122), (183, 0.024345121267710466), (857, 0.024344815219217768), (2557, 0.024343342011209884), (1099, 0.02433663061370781), (4012, 0.024330429023220943), (364, 0.024308613086895327), (638, 0.024306504918417626), (273, 0.02430507201612758), (209, 0.024299139658109918), (2565, 0.024296534466113802), (4098, 0.024285482158020698), (452, 0.024273060986714032), (1352, 0.024265470694467967), (2840, 0.024255971043796627), (2258, 0.02421958018076053), (2131, 0.024218043334374318), (1361, 0.02420131246895598), (2491, 0.024181295449274515), (1111, 0.024169454371402922), (2015, 0.02415584426919238), (2379, 0.02413542295590933), (762, 0.02413047898856627), (1027, 0.024108461191428968), (3553, 0.02410188248534667), (1091, 0.024080143480457582), (1058, 0.024080072879504078), (1014, 0.02407763941599085), (985, 0.0240766613336891), (3228, 0.024062869296556485), (2853, 0.024059528111708063), (470, 0.02405515087469904), (2760, 0.02404829924497968), (4049, 0.024043428644440142), (3857, 0.024036818826641326), (3349, 0.02403272709652801), (1023, 0.02402722692975108), (3861, 0.02401522827529081), (878, 0.023993882124943272), (203, 0.023988068097052038), (1194, 0.02398191973230744), (2768, 0.023966881795573547), (3612, 0.023965250799557296), (2029, 0.023962257168131783), (1887, 0.023952314764380787), (1192, 0.023930698772399946), (1266, 0.023919366754058376), (4231, 0.023900764849742392), (533, 0.023895638980910523), (3528, 0.02388760330922439), (2975, 0.02387248030569948), (3098, 0.02387009489334566), (51, 0.023865886460902642), (2998, 0.02386321844159758), (3926, 0.023852061926110352), (1876, 0.02385117675122814), (1906, 0.023838409011792776), (893, 0.02379037359025922), (7, 0.02378970348727668), (1052, 0.023781655971241704), (3275, 0.023777290592247046), (4143, 0.023770522291815144), (1417, 0.023746698029588648), (4095, 0.023704828143273928), (842, 0.0236947081892945), (2109, 0.023694178811322908), (1498, 0.02367702081298286), (1760, 0.023670341863552557), (1922, 0.023669745863934052), (844, 0.023655168366826566), (4116, 0.02361904232590905), (4183, 0.02361640355320006), (147, 0.023614441898755195), (3154, 0.023608064476832988), (653, 0.023607280729815522), (860, 0.02358756454562244), (1787, 0.02358103609365438), (816, 0.02357175567982956), (1452, 0.023558264756023822), (799, 0.023549480753169847), (4440, 0.02354918366805967), (2290, 0.023533914146121042), (434, 0.02351470863383483), (1469, 0.023512134213744398), (1815, 0.023490249157061036), (664, 0.02345854521069029), (853, 0.02345360630814239), (3862, 0.023450919592696146), (41, 0.023440130929573824), (678, 0.02342639651645756), (3240, 0.023406848804731508), (1451, 0.02340486826324985), (72, 0.023388222385308462), (3259, 0.023383851935392504), (3551, 0.023372405181896913), (3253, 0.023332722367446327), (2654, 0.02332312667545087), (1707, 0.02330624221295556), (699, 0.02330322798270285), (4649, 0.023302632501710722), (879, 0.023301199269565927), (1716, 0.023300314581911334), (3113, 0.023268333974658453), (4374, 0.023261404776934065), (3719, 0.023241368627934116), (2712, 0.023234439113936377), (4232, 0.02322861190048816), (2795, 0.023199865882464945), (2362, 0.023197694907463685), (3759, 0.023183458120562023), (1007, 0.023162993785070075), (3459, 0.023160157819737247), (87, 0.023157084844073007), (2919, 0.02315339193552181), (2298, 0.02315191194109375), (2469, 0.023148287070636073), (3854, 0.023144261128652772), (2104, 0.023139557494671024), (1692, 0.023132317569148433), (4275, 0.023109844993679202), (2005, 0.02310969503909565), (1741, 0.023067836119925335), (4068, 0.02306326748640248), (1934, 0.02306045974212934), (2309, 0.023055916089784162), (356, 0.023051412943723475), (3725, 0.02304715580272187), (387, 0.023043155782689517), (83, 0.023039768516956098), (23, 0.023017448638355795), (3658, 0.023015231098051613), (3547, 0.023001489209792635), (961, 0.022985244622100692), (4528, 0.022979653343584695), (417, 0.022977349310889857), (4627, 0.022975571608724116), (1324, 0.022963514080047688), (3036, 0.02296047857622903), (4295, 0.02295691607347241), (1522, 0.022904830830948), (3448, 0.022901933538081558), (296, 0.022897807371794195), (896, 0.0228977948936992), (251, 0.022885387890091223), (988, 0.022845731545769944), (3905, 0.022844959883163925), (448, 0.022819256969369286), (18, 0.022798033125710604), (2576, 0.022782223571101774), (753, 0.02277118689171529), (1740, 0.022760561917402423), (1796, 0.022757777173544613), (1176, 0.022732871095603853), (429, 0.0227294197424956), (1481, 0.02270010682471356), (1343, 0.02269715162712422), (4669, 0.022693299068313195), (3828, 0.022675189273722966), (1591, 0.022672648577555264), (1419, 0.022666577020173436), (2008, 0.022631632020954105), (2334, 0.02262908115117148), (1375, 0.022623045840136864), (1050, 0.022599340079446133), (4028, 0.022569158794354408), (2618, 0.022564385162835682), (1621, 0.022555827359420324), (763, 0.022547879608991607), (3114, 0.02253885891818077), (4474, 0.022535148861008353), (850, 0.022514262365207413), (862, 0.022503723479538752), (930, 0.022503553790473085), (868, 0.022482438217265012), (3630, 0.022479274162856427), (4227, 0.022476749719551617), (243, 0.02247559699952187), (888, 0.022471385739258196), (3580, 0.02246876325331518), (1109, 0.022448007314197327), (2602, 0.022424855200674932), (3437, 0.022421963314708367), (1208, 0.022412611513596924), (3225, 0.022385040988469808), (4583, 0.02237007781639754), (266, 0.022365000560162173), (3747, 0.022364920782373444), (2216, 0.022352112254670653), (667, 0.02233824035278341), (1045, 0.02233669997015515), (2918, 0.022319261332592752), (2925, 0.022318254386638862), (2366, 0.022314109032543675), (313, 0.022308675235606024), (4121, 0.022296301799115452), (4379, 0.022271748233234176), (2038, 0.022267171861930248), (3954, 0.02226675337969377), (634, 0.022250945421135333), (1017, 0.022245542568286158), (3406, 0.022210039063032764), (4088, 0.02219475001642259), (968, 0.022184135807866337), (1988, 0.022175918946807684), (2340, 0.02217142661903902), (2053, 0.022169404162524838), (484, 0.022167078852626403), (4273, 0.02215886680286787), (4511, 0.022156166756510314), (3555, 0.02215605007395058), (865, 0.022121668342140802), (604, 0.02209808486127085), (4148, 0.022081645194577892), (833, 0.022071474034061248), (1337, 0.022063352949575055), (3171, 0.022001075553209664), (2826, 0.021994794075967713), (2254, 0.021981884749910877), (3781, 0.021970984607756747), (1944, 0.02196862453270534), (2096, 0.02194895809321442), (4132, 0.021929782697411263), (3708, 0.02191555559058895), (882, 0.021908846776436418), (1224, 0.021905380585936583), (966, 0.021896599117295936), (696, 0.021893108936359772), (3766, 0.021890515400564248), (3903, 0.021879991243897046), (2206, 0.021872724319325527), (2910, 0.0218675282385203), (3035, 0.021853542249125963), (2224, 0.021844595893496487), (676, 0.021839401131703153), (4565, 0.02180117263608163), (1595, 0.021792506088076216), (4320, 0.021774611017900822), (2480, 0.021762371860674527), (1000, 0.021762078495669752), (2932, 0.021759426579246795), (3518, 0.02175752320470164), (1342, 0.021752631435152048), (123, 0.021738018066155045), (4637, 0.021733635633615543), (776, 0.021716945826733575), (3750, 0.021690486867649243), (1870, 0.021679737812572843), (1107, 0.021676211591162613), (201, 0.02165117174102285), (3535, 0.021643748362275454), (2897, 0.02163250764636742), (3741, 0.02160039054345596), (1814, 0.021591688508814214), (2644, 0.021573735168239433), (2963, 0.02157232679847874), (4099, 0.021562316886768414), (1185, 0.021547827611957067), (609, 0.021535961933703555), (4149, 0.021508711384087564), (866, 0.02150588395227787), (3699, 0.02150466315017467), (1932, 0.02148355502586745), (4337, 0.02146193861010543), (4187, 0.021455886076796472), (1090, 0.021454206254074158), (3387, 0.021417945955768524), (3031, 0.021416738480813442), (581, 0.02141641098462265), (144, 0.021402030966418604), (775, 0.02137297027877032), (135, 0.02134817554824753), (4457, 0.021333134308068814), (333, 0.021331342377690833), (1206, 0.02132830957004682), (1131, 0.02132041483242175), (3999, 0.021314827193919337), (2181, 0.021305322979696627), (2405, 0.021298933059689214), (416, 0.021286301238434894), (2632, 0.021279015782037967), (2406, 0.021276918312103987), (2878, 0.021275347500487485), (3099, 0.021240553239489902), (1267, 0.021233466685642372), (2136, 0.02122286920144767), (140, 0.021210213421994688), (1493, 0.021209186972441445), (3659, 0.021205690580703887), (689, 0.021179250133065076), (1427, 0.021168128810535466), (827, 0.021152883581252342), (872, 0.02114001483235841), (1385, 0.02113302886632883), (2421, 0.02112668545073243), (4429, 0.021122654867845203), (2207, 0.02111520065722529), (810, 0.021111017226245164), (106, 0.021105592612638755), (3756, 0.02108672854638705), (620, 0.02108588753821481), (732, 0.02108438644685709), (3520, 0.02107304176716868), (1799, 0.021061974627239008), (3993, 0.02105924825391513), (3863, 0.0210409418967473), (4145, 0.021040056331415098), (3997, 0.021025018390276543), (2479, 0.021014482439546497), (805, 0.021010286769505625), (446, 0.02100760128184687), (3318, 0.021007573358850354), (2870, 0.021005366021403953), (1281, 0.0209873126811912), (4387, 0.020985260248988346), (3779, 0.020965937586403395), (4609, 0.020951397765579836), (1230, 0.020931581353434855), (276, 0.020906154005832005), (1104, 0.02089366551977258), (2240, 0.020860932871231364), (4465, 0.02085431825478519), (488, 0.020850343993294843), (902, 0.020831373237782846), (3136, 0.02082075568310125), (3298, 0.02081181781205219), (1158, 0.020790530704145594), (1665, 0.020785719367360293), (950, 0.020772948499681452), (3024, 0.020759328676917224), (1049, 0.020741428732118077), (1035, 0.02073844361326841), (3934, 0.020737941477718028), (400, 0.020724420815780808), (3619, 0.020724374812226297), (545, 0.020722166814636612), (702, 0.020718579423436426), (4366, 0.02071406810502384), (2969, 0.02071307949894789), (854, 0.020708466397235187), (4249, 0.020669043828269767), (4551, 0.020665517866436077), (1958, 0.020664585667620576), (504, 0.020632785245122038), (2771, 0.0206318180730454), (274, 0.02062527830355573), (3370, 0.020622736127359525), (2695, 0.020619462394756618), (3361, 0.020618596951971036), (3675, 0.020587919453403252), (3019, 0.020585349622417384), (3785, 0.020579642001275784), (4163, 0.020573456787835842), (3784, 0.020567747283850135), (3214, 0.020560908733349356), (4216, 0.020557325328457395), (1739, 0.020553173794835643), (2246, 0.02054824258241063), (3124, 0.02054224973898948), (4673, 0.020525474430091655), (1680, 0.020520427098748857), (692, 0.020520310083789992), (1663, 0.020517136386482022), (2143, 0.020514875309939125), (2114, 0.020482071608990994), (1432, 0.0204782509333872), (2128, 0.020471356774290267), (1182, 0.020466095346299673), (3710, 0.02046005154757766), (3992, 0.020455437191103952), (378, 0.020433636610862088), (324, 0.020430447143589707), (550, 0.020427793296582744), (1360, 0.02041555705973579), (500, 0.020387062015074488), (1002, 0.020380510949743948), (264, 0.02037803263399668), (4257, 0.020369672323292946), (2229, 0.02034986516582168), (4735, 0.02033383766278959), (3094, 0.020331563078302622), (551, 0.020303803756453572), (4524, 0.020301829615457716), (165, 0.020292664969701897), (206, 0.02029130538248905), (3008, 0.020289762097083), (1303, 0.020289320616730326), (1903, 0.020286603846249338), (2210, 0.020282750184476818), (2000, 0.02027468359875257), (2883, 0.020255829507323814), (1406, 0.020248030026693804), (1662, 0.020234242810911476), (3086, 0.020213557728171756), (4384, 0.02020663431631389), (4106, 0.02020595742171637), (3183, 0.020190354270931733), (2057, 0.02018981065304756), (75, 0.020186653010394406), (2874, 0.020138923063972643), (4709, 0.020136910367357735), (684, 0.020120317977045117), (645, 0.020111734699654667), (267, 0.0201092347598003), (1844, 0.020093061688786384), (2978, 0.02008746013002281), (1164, 0.020077876521116696), (3888, 0.020075905289851308), (1053, 0.0200697456252506), (3389, 0.020067081782428362), (2894, 0.020060686322783957), (13, 0.020038176373452767), (3386, 0.020016820623832837), (3799, 0.02001673147628171), (4164, 0.0200094062712072), (760, 0.019992543845361935), (1612, 0.01997957640317354), (3108, 0.019979234868745345), (2062, 0.019942837713369434), (256, 0.01992749807302608), (731, 0.019911214666002142), (4510, 0.019885978058559507), (971, 0.01988210723301182), (1630, 0.019860835534053413), (1710, 0.01985784340683093), (107, 0.019857474006554), (1436, 0.01985681572472518), (2132, 0.0198402657584823), (2396, 0.019815725030273953), (1936, 0.019808278714454095), (2253, 0.019803715142754686), (2110, 0.019796962347771986), (625, 0.019782612343743886), (2268, 0.019776304866399145), (4075, 0.01977133654989185), (1949, 0.019756617441308515), (489, 0.019747910982155926), (1882, 0.01974264912665704), (4288, 0.01972437587219002), (271, 0.019697378412412314), (2139, 0.01969012768973587), (2891, 0.01966751766626585), (1507, 0.019663057357865103), (1832, 0.019660853009716248), (4322, 0.01965745010218401), (4122, 0.019650518090881374), (236, 0.01964881389397842), (730, 0.0196450626250745), (3929, 0.01964392544914966), (4454, 0.01962017922608113), (3768, 0.01959822002882739), (2279, 0.01959166167637321), (1284, 0.01958621247758594), (507, 0.01958050140706213), (960, 0.019577174755787945), (4435, 0.01957394275724052), (1204, 0.01957313296383374), (931, 0.019555197114739728), (3593, 0.019529496121114834), (2607, 0.019516825580918676), (425, 0.019516362538930684), (2265, 0.01950138314334981), (2656, 0.019475195755207824), (1168, 0.01945789665689529), (4530, 0.019448877698590064), (2533, 0.019447938595177815), (3170, 0.019430704367703444), (4670, 0.01942257376002161), (3958, 0.019415752824763998), (1923, 0.019403864832351073), (2205, 0.01940208510762909), (2753, 0.019402050014456936), (1908, 0.019400949553074504), (1518, 0.019397258227141573), (1110, 0.01937648550288024), (749, 0.019371409775729233), (57, 0.019364899212709532), (3421, 0.019357746826562744), (2885, 0.01933372420958841), (2429, 0.019313177401286147), (4105, 0.019311821559690807), (3846, 0.01930038216515794), (3625, 0.0192904583439271), (803, 0.019285148086999323), (3689, 0.019282268873941067), (3582, 0.019276096359824958), (2625, 0.019265576672960028), (4605, 0.01925580029655457), (683, 0.019251397733280984), (4350, 0.019245937050621473), (623, 0.019236659464093458), (2896, 0.01923416973302792), (1542, 0.01923119801176447), (3877, 0.019220452069026325), (45, 0.019219810067133577), (2939, 0.019213334297668996), (120, 0.019181564661733968), (1005, 0.0191800437255029), (1480, 0.01917311802895524), (4100, 0.019171823595007645), (3586, 0.01916836114571618), (4057, 0.01916729277110831), (3886, 0.019152068484714766), (801, 0.01915170141952793), (2177, 0.019139456586981945), (3941, 0.019134211912681682), (2103, 0.019125433878818574), (1047, 0.0191129268024241), (3618, 0.0191117480720605), (1989, 0.01909393796984604), (3795, 0.01906825529561104), (1589, 0.019065932617243805), (2992, 0.019046704646522354), (4477, 0.019039868334575973), (3393, 0.019018499062063557), (847, 0.019018308136087375), (1781, 0.019000975952949622), (3069, 0.018986599000369503), (208, 0.018983202011272397), (1237, 0.01897398821149993), (1924, 0.018971483664459228), (350, 0.018968960297776727), (3924, 0.018957844801071877), (86, 0.018945895982854875), (3849, 0.01894560713482429), (3426, 0.018939632200476605), (3477, 0.018929301060803313), (3340, 0.018923058818361996), (1289, 0.018917436922735995), (4008, 0.018915754150394905), (1400, 0.01890006726457359), (4523, 0.01889842294062048), (1062, 0.018895051851909185), (1727, 0.018867522045449725), (4158, 0.018860361610938504), (360, 0.018845004513860442), (207, 0.01884269993966705), (899, 0.018784220240134843), (897, 0.01876233281910652), (2373, 0.018760676194893383), (270, 0.018747300207730543), (1694, 0.018733149481638785), (2391, 0.01873065708528431), (3610, 0.018718304053234592), (541, 0.01871622371829052), (4536, 0.01871430258683068), (2980, 0.01871176363843784), (1723, 0.01870673742128612), (304, 0.018701298185444103), (733, 0.018685066823270195), (4383, 0.018680746507378082), (1540, 0.018675223735602386), (1282, 0.01867096585563714), (3677, 0.01866159958401914), (905, 0.018656869496647237), (3232, 0.018646381051298077), (1658, 0.01864011969878927), (1802, 0.018626142355512597), (2072, 0.018617139635186703), (3079, 0.018615966032907407), (1810, 0.01861051865116332), (1438, 0.01859893657220853), (1317, 0.018587511329852622), (2813, 0.01858731612172656), (170, 0.018572023434721054), (1538, 0.01857189411186444), (3691, 0.01855752998484198), (281, 0.01852980724835763), (3621, 0.018524005948968178), (2383, 0.018517447095447986), (4581, 0.01850401303170056), (2230, 0.018493420423173167), (3382, 0.018486479154317184), (99, 0.01848595860187284), (3734, 0.018474440693321898), (1078, 0.018468105879070218), (607, 0.01846383162994709), (190, 0.01846324460349184), (4306, 0.018436107659307314), (2120, 0.01842144640406992), (1736, 0.018416147977695693), (2993, 0.0184084007025037), (2788, 0.01839116377682201), (418, 0.01838569622540872), (3046, 0.01836769630426537), (806, 0.018366519768730327), (1619, 0.01836461107795316), (1705, 0.018364136115101275), (1368, 0.01835814051600815), (3858, 0.0183521298416363), (994, 0.01834549770135489), (2172, 0.01834494151890325), (720, 0.018339541474362196), (343, 0.018331695383891247), (1123, 0.018322971052701104), (355, 0.018306845517831894), (2727, 0.01830417717598399), (3826, 0.018304118274614745), (143, 0.018299407078445882), (2275, 0.018283366287862528), (1946, 0.01825472414804129), (918, 0.018236816409593747), (168, 0.01823622719957189), (4055, 0.01823530860243948), (1475, 0.018229782537243243), (4747, 0.018224083592752266), (3233, 0.018210621549084063), (1948, 0.018199641114264777), (1688, 0.018177969003908168), (4459, 0.018167782045136603), (2468, 0.01814361435132609), (2235, 0.018139898113834957), (216, 0.018135978433998556), (1572, 0.01812840863323161), (2489, 0.018111801386827553), (817, 0.018093993512349152), (91, 0.018093643831825962), (510, 0.018089918404114117), (4060, 0.018086545414443045), (792, 0.018084903302157063), (493, 0.018078145659938205), (3202, 0.01805501751940197), (734, 0.018048798066152717), (2923, 0.01802145328433721), (1054, 0.01799914197719554), (3155, 0.017995417908190987), (800, 0.017978292631890533), (288, 0.017969289824548887), (1028, 0.017959120228064954), (2546, 0.01795564651918106), (3829, 0.017951737650749575), (849, 0.017914801607588227), (4397, 0.017911591013972224), (1135, 0.017910254500877357), (1161, 0.017908613558734146), (3399, 0.017900827278454413), (395, 0.01789365729367325), (3594, 0.017883381014287783), (2084, 0.017881596902630862), (231, 0.017879763732101477), (2250, 0.017879067249026232), (1611, 0.017866073699301155), (3965, 0.017862889197656637), (3791, 0.01786154426946925), (1009, 0.01784157408657571), (3065, 0.01783998642292277), (2107, 0.017831192211134828), (621, 0.017825230314963386), (443, 0.017816751412137028), (1304, 0.01781653686920597), (1992, 0.017791174030383945), (3161, 0.017772905052807916), (3090, 0.017768075911545105), (951, 0.017750445641855433), (851, 0.017749111365368584), (4467, 0.017747537853260987), (2735, 0.01774688776401842), (3744, 0.01774100511415243), (1264, 0.017739440843681134), (3120, 0.017731936317509314), (1117, 0.017725728582912388), (655, 0.01772016078606296), (1136, 0.017717280895263254), (1486, 0.017708052019801173), (949, 0.017703435848160747), (3775, 0.017701178781781252), (3643, 0.017700511448826273), (2228, 0.017697177712034197), (2803, 0.01768100301471641), (1811, 0.017679324469207836), (2162, 0.017673712355717634), (2715, 0.017667353183440926), (700, 0.01765565428261624), (2929, 0.0176505852820825), (4716, 0.017643860759755367), (0, 0.01764084467591641), (73, 0.017634886448802543), (1777, 0.01762575919942581), (2287, 0.01761923001153982), (4733, 0.01761258183593549), (291, 0.017608148570347343), (2321, 0.017585473392526085), (4475, 0.017568337476298684), (2759, 0.0175651104564494), (2907, 0.017555214537736185), (3822, 0.017554887646489152), (4617, 0.01751801450074849), (2075, 0.01751786396856429), (4471, 0.01750330215359642), (2601, 0.01749563217493811), (1587, 0.01748683519445424), (4431, 0.01748676449538663), (4245, 0.017481065764835158), (3312, 0.017467020394363795), (1234, 0.017458630008717738), (3027, 0.01745483579322889), (1779, 0.01743257494134847), (1892, 0.017427692150811712), (1915, 0.017425101461781382), (149, 0.017424515323571223), (358, 0.017420846758021632), (3226, 0.01742000323015262), (3909, 0.01741607884152712), (79, 0.017409034431720902), (1945, 0.017407764751771027), (2493, 0.017397136935876696), (1931, 0.01738716831503567), (3564, 0.01738355201826161), (3771, 0.017378310527929115), (2378, 0.017364510842424533), (1696, 0.017359027374694146), (327, 0.0173531155189641), (440, 0.01734638115755529), (4442, 0.01734490234040376), (2871, 0.017339597354038026), (617, 0.01733331524154683), (3548, 0.017330416301879672), (2740, 0.017306008235202182), (668, 0.017305378382539843), (4388, 0.017305072972925203), (3539, 0.01730371186670764), (3262, 0.01728694114023556), (4056, 0.017275905375235552), (1454, 0.01727583551235811), (2412, 0.01724513473764098), (2477, 0.017236917083490413), (4290, 0.017224957667387793), (2076, 0.017224818803676455), (3432, 0.017216234115781152), (3460, 0.017213980091942638), (53, 0.017213436287109102), (3110, 0.017210512610429256), (1334, 0.017207610440192724), (173, 0.017204896499226012), (544, 0.01719651322358503), (869, 0.017191943929592505), (3536, 0.01718771595614053), (1124, 0.017172338812907903), (1128, 0.01716902300340011), (728, 0.01716129135769468), (1539, 0.017158228422554676), (2463, 0.01714187505107221), (4624, 0.017136772610738434), (2505, 0.017130646213173364), (729, 0.017110823579355946), (485, 0.017109446463257218), (4543, 0.017088434974206083), (915, 0.01708354362244227), (4025, 0.01707087173745915), (1239, 0.01707007278186751), (4685, 0.01705834921804281), (1092, 0.017051224746157258), (4557, 0.017046693450895583), (329, 0.017044545436280766), (845, 0.017036962576327763), (1925, 0.017032600796115713), (1004, 0.01701173535969802), (2436, 0.017007392555602175), (74, 0.017001114868978633), (40, 0.016990507036342008), (1210, 0.016987405144246393), (834, 0.016984130973076605), (1582, 0.016976938568406576), (2089, 0.016975440205089943), (2339, 0.016973821549787136), (3451, 0.016966833663499308), (4335, 0.016953919027623963), (4718, 0.01695304926029136), (3973, 0.016947232946229858), (42, 0.016932085067081038), (1879, 0.016930411459782174), (3325, 0.016894491557199336), (3566, 0.01688950986831942), (2643, 0.016886136045870425), (785, 0.01686871259566714), (548, 0.016852191201363973), (727, 0.016845526058679255), (3278, 0.016841114971870477), (2280, 0.0168400855374974), (706, 0.016837085805436195), (4444, 0.016836421996321852), (688, 0.016834898969293213), (2915, 0.016808057714929908), (1620, 0.016788093454826104), (1440, 0.01678769980079286), (1596, 0.01678194349679678), (4017, 0.016779775007409837), (2197, 0.016770757768142446), (4091, 0.01676756190124802), (1191, 0.016760061095620633), (948, 0.01675064953892174), (3571, 0.016750083555878044), (4665, 0.016744330697163568), (259, 0.016729594981072706), (85, 0.016722902994751734), (1425, 0.016721188403339624), (154, 0.016710938036356572), (2976, 0.016702733616773265), (3851, 0.01670080674067553), (1514, 0.016700550589017402), (2088, 0.016693949008836112), (1571, 0.016691103059817317), (196, 0.016689758840280133), (4328, 0.016688035767995494), (128, 0.01668685721820692), (3960, 0.01668492000354207), (4001, 0.016676111473522635), (3453, 0.016674498936698458), (4033, 0.016672006142553097), (494, 0.01666232767963753), (16, 0.016652503271307555), (2526, 0.01665226925633356), (1339, 0.016642677315981604), (1916, 0.01663954786769101), (4502, 0.016637537171114998), (2804, 0.016635186350828196), (722, 0.016629537587976757), (1354, 0.016595903800042045), (4247, 0.016586700992818795), (4046, 0.016559917540410925), (1114, 0.016557835678603618), (1995, 0.01654107363508416), (1484, 0.016533016773498888), (3200, 0.016529140733787587), (828, 0.016524979479248015), (4476, 0.016513654552893397), (1793, 0.01651047874284696), (474, 0.01650703337650877), (2418, 0.016499292534016434), (4340, 0.01649721670181851), (3794, 0.01648022076734563), (81, 0.016479602691641875), (1789, 0.016467862631600747), (1894, 0.016453961441188592), (4430, 0.01644761742926753), (2386, 0.01643595113818056), (3320, 0.016433995982785124), (307, 0.016433599824151886), (388, 0.01642013621983346), (3140, 0.016405640017742442), (1260, 0.01639280325476213), (4292, 0.01637840159068855), (3620, 0.01637151291694069), (2144, 0.01636593459891997), (4261, 0.016360945917775677), (1280, 0.016356408844294765), (2244, 0.016355696812869372), (309, 0.016352788256464294), (501, 0.016313886544344958), (3648, 0.01631092365083466), (3246, 0.01629825324043701), (104, 0.01628331829027489), (3939, 0.0162806262617671), (1504, 0.016275868104295863), (4289, 0.016263207552022846), (56, 0.016246744550493027), (2540, 0.016242821273516787), (1920, 0.016238522525028772), (1899, 0.016222367604483822), (2732, 0.016220604970507372), (2074, 0.016219355720833873), (3223, 0.016214691697108076), (64, 0.016211030671329542), (980, 0.016210728946773775), (1718, 0.016208320705466767), (4211, 0.016207353360279144), (1884, 0.0162028812075361), (3635, 0.016199460375826397), (382, 0.01619717099626271), (3661, 0.016191954425461355), (1031, 0.01618433048174247), (1764, 0.016175957700916347), (368, 0.016174351586660494), (1300, 0.01617291538363755), (3602, 0.016170814192968383), (2635, 0.01614814074898274), (1841, 0.01613437329960583), (148, 0.016132009672134552), (1897, 0.016129115504549728), (3418, 0.016126427638163604), (3864, 0.01612544516615982), (1362, 0.016118636759723845), (1875, 0.016114948837837862), (1769, 0.0161062847495097), (2958, 0.016097338916796246), (3584, 0.016094803680848337), (4591, 0.016087948505515384), (3436, 0.016072217432067253), (919, 0.016069378529609147), (2697, 0.016061551181582444), (4338, 0.01605649456646382), (1650, 0.016055256469727802), (1448, 0.016047058324565096), (4029, 0.01603855327847721), (2977, 0.016024435543873974), (4553, 0.016019624199486056), (1918, 0.016016967037004334), (1071, 0.016016688914087973), (4103, 0.016010781931254967), (2509, 0.01598172610882978), (1643, 0.015953779051252677), (4325, 0.01595268660433371), (2510, 0.01592020884253229), (1472, 0.015914924977621522), (1537, 0.015898977854923533), (4038, 0.015891804523638104), (111, 0.015888861281356713), (3126, 0.015884429796783263), (3622, 0.01588271200113571), (646, 0.015882150020006577), (1489, 0.015875924935309493), (1555, 0.01587548627311929), (3723, 0.015875256876254212), (4612, 0.015873910099960944), (558, 0.01585024260595899), (2115, 0.01584844266347478), (4154, 0.01583815116613225), (3499, 0.015837664491373412), (4089, 0.015835468980610497), (4142, 0.01582318875072563), (3001, 0.01581609146040052), (962, 0.015800846227080213), (2158, 0.01579294518539897), (1251, 0.01577712223287512), (1018, 0.015767353529529966), (3368, 0.0157606929126126), (880, 0.015759962127215955), (1338, 0.015756163512628547), (3096, 0.015749281149055962), (3841, 0.015726677050895588), (3951, 0.01571759408757332), (2886, 0.015709352497236997), (3534, 0.015705445347312247), (4653, 0.015696908668369182), (413, 0.01568235616581629), (3280, 0.015669679202601247), (2156, 0.015667268470626917), (4713, 0.015662285274625074), (4373, 0.015661976118410397), (19, 0.01565362298815306), (1701, 0.01564370655326645), (1776, 0.01563955710524778), (1531, 0.015639455780564214), (3218, 0.015629955926611355), (2994, 0.01562695287015198), (1866, 0.015624339056113825), (2882, 0.015623233816842627), (1465, 0.015622041258437946), (4221, 0.015621497741078998), (60, 0.015618508439249052), (180, 0.015615696692145655), (130, 0.015615195133033876), (2879, 0.015608253456636252), (2881, 0.015602124896745577), (2790, 0.015597438860990704), (3070, 0.015571514598953267), (1738, 0.015559771472819714), (1041, 0.015553134436080971), (2563, 0.015529519908699867), (1968, 0.015509577527548413), (4031, 0.01550405833989917), (2236, 0.015503989561860628), (2603, 0.0154997141235888), (385, 0.015498878485700428), (1864, 0.015488500456985733), (50, 0.0154859171983328), (4494, 0.015483547602814032), (3056, 0.01548219724218733), (516, 0.015475942957529546), (2749, 0.015461712091393735), (3526, 0.015456769869825788), (139, 0.015453338723644742), (1387, 0.015443009396668296), (619, 0.015422320051340175), (3949, 0.01541881195039142), (1972, 0.015417119094713418), (4512, 0.015411715538058503), (4015, 0.015410745437326775), (4610, 0.015405333725613549), (4432, 0.015399429675404993), (3131, 0.015385099552768221), (2752, 0.015384482001367319), (3, 0.015378018658426326), (4722, 0.015371144942587615), (3191, 0.015370431965122125), (2962, 0.015368456345000997), (3956, 0.015367440396875199), (3401, 0.015363177724342359), (1433, 0.01536167696830501), (1414, 0.015348906249820058), (3667, 0.015339692315936466), (3195, 0.01533394052462105), (1295, 0.015329552002338733), (3696, 0.015321671992495053), (27, 0.015314792432693578), (260, 0.015286502926368652), (1189, 0.015276574514537448), (113, 0.015272461913976364), (2640, 0.015265303919236462), (9, 0.0152584077183564), (748, 0.015257027226119206), (4541, 0.015256323267406082), (38, 0.015256102860982643), (750, 0.015253497349917286), (4748, 0.015252586428404685), (611, 0.015236539734505821), (2203, 0.015234778811504243), (4677, 0.015219316855243338), (4438, 0.015201288179553319), (3700, 0.015191460685328744), (1188, 0.015188723782415299), (4527, 0.01518538572720881), (1581, 0.015185186991223724), (2077, 0.015165284228550461), (2934, 0.015164805942232733), (524, 0.015149254408369851), (3151, 0.015144539052630964), (1177, 0.015133668151561442), (716, 0.01512888314653709), (2988, 0.015110848926648449), (2130, 0.01510931337908485), (3452, 0.015109015905804664), (4032, 0.01510714153990349), (2428, 0.015086828306195831), (773, 0.015083127541196562), (606, 0.015078918744367668), (1391, 0.015074229585165933), (2231, 0.015073065305657007), (4400, 0.015072564767000049), (582, 0.01506432318694523), (4469, 0.015060264750878878), (3508, 0.015052794369160287), (855, 0.015047100832640839), (31, 0.015044598986445388), (3264, 0.015005016871519882), (3604, 0.014997573589451085), (1435, 0.014992529298908189), (2126, 0.014985161812326115), (3438, 0.014969129228237444), (4487, 0.014958186900309749), (3158, 0.014949902004671117), (542, 0.014938007741128074), (1778, 0.01492858076692651), (131, 0.014917403002766597), (2581, 0.014906885918053281), (2232, 0.014904984260456692), (2211, 0.01489795286857269), (835, 0.014895692708542348), (742, 0.014893304665033413), (328, 0.014867540717975245), (3196, 0.014855601569309077), (1001, 0.014849842854041917), (4715, 0.014848833509090888), (35, 0.014846365414887014), (2600, 0.014828335969392828), (4303, 0.014822219713411432), (1174, 0.0148167104618463), (3624, 0.014813612500483506), (2831, 0.014802622371199378), (486, 0.014786641678691167), (3311, 0.014779822015251588), (3727, 0.014777421247169024), (2529, 0.014755130813958184), (4656, 0.014754692825346836), (3398, 0.01474514671872227), (181, 0.014729188617241581), (4355, 0.014724891982415503), (4182, 0.014722328279516222), (200, 0.014712189648405817), (863, 0.014711573526967215), (2519, 0.014695801646700504), (2665, 0.01469095855137954), (1806, 0.014686620076703828), (1238, 0.01467498712025435), (1310, 0.014655280073684381), (1797, 0.014652251431451897), (4601, 0.014643512782818535), (908, 0.014636375630225499), (2959, 0.014634839233881624), (3815, 0.014632403113349214), (3478, 0.014628007429538277), (1115, 0.014627795233135288), (4309, 0.01462608826392656), (830, 0.014624288786269302), (4428, 0.01461990002410523), (1902, 0.014615725894662436), (3515, 0.01461351861285816), (220, 0.01457524732850136), (589, 0.014571586323776989), (3018, 0.01456906444876427), (798, 0.01456070751409212), (4630, 0.014550815413446827), (4639, 0.01454941364422218), (403, 0.014539897735417423), (3774, 0.014539245390364825), (1065, 0.014538753680714106), (1519, 0.014532934359159987), (331, 0.01451742535489762), (1509, 0.01451632601847728), (2633, 0.014511040751953473), (972, 0.014508478030703655), (1404, 0.014491274009380533), (1715, 0.014466354814975175), (4119, 0.014453248517352166), (4226, 0.01445167839366812), (4210, 0.014450600983523312), (433, 0.014448385989371534), (3595, 0.01443887364914718), (537, 0.014427233031598041), (1807, 0.014422586339723717), (4293, 0.014411514505431645), (2942, 0.0144066594804454), (1583, 0.014400158411031976), (884, 0.014398387969180606), (3032, 0.01439609542608871), (2069, 0.014392847828692984), (4006, 0.01438725502105969), (1461, 0.014379803322309415), (2464, 0.014378480444490166), (4044, 0.014375835831178211), (1501, 0.014363027589973947), (2101, 0.014362109059845266), (1714, 0.014350599407791138), (3457, 0.01433537566618783), (4377, 0.014333992255045055), (628, 0.014329482994674143), (549, 0.014320693364910344), (1229, 0.014310705849058343), (661, 0.01430003041682297), (3780, 0.01429974129964338), (214, 0.014299161266385287), (77, 0.01429432560424369), (4707, 0.01428971708676756), (4661, 0.014279383597404546), (2783, 0.014272687980321499), (3821, 0.014255531870369284), (3033, 0.014253601979233593), (367, 0.014243196496483108), (1952, 0.014239250137910074), (4348, 0.014238176944104288), (3516, 0.014236817999598379), (3698, 0.014208556916983656), (477, 0.014203124059181508), (3833, 0.01419393263854814), (3180, 0.01418875248983501), (3754, 0.01417766123641364), (2728, 0.01417584492707335), (1327, 0.014174673159998335), (3118, 0.014170830635886717), (482, 0.014167658791922414), (2849, 0.014161519660501727), (1843, 0.014153822313834784), (3570, 0.014153466673566584), (1939, 0.014142731367260297), (1076, 0.014141699114763326), (2730, 0.01408116499086414), (2574, 0.014074447147671644), (4345, 0.014051919845686432), (1900, 0.014035435685714847), (831, 0.014029990867578548), (1881, 0.014012887378419676), (907, 0.013994753987662902), (410, 0.013994187812567041), (4310, 0.013982325768887686), (4360, 0.013971923731014115), (981, 0.013961364500601085), (3227, 0.013956505623644214), (96, 0.01395646607824666), (2815, 0.013953390191684682), (3937, 0.013946929733029743), (252, 0.013937450156530999), (939, 0.013936010166428274), (1773, 0.013931135017153993), (2277, 0.013920762899325537), (4664, 0.013919745323604515), (3527, 0.013909855087981465), (4385, 0.013906678693047826), (769, 0.01390602287470719), (804, 0.013897938719273629), (1429, 0.013881146364926907), (1207, 0.013879462087052822), (2148, 0.01387737507001389), (369, 0.013875701651821726), (22, 0.013864593603758264), (4629, 0.013861722892773652), (605, 0.01385690595226907), (2985, 0.013853762423485818), (3142, 0.01385335021008752), (2446, 0.013841498453998756), (4596, 0.013833602802461995), (2777, 0.013832456654954497), (1344, 0.01380763509851974), (3256, 0.013769377760131927), (4678, 0.013763893296599751), (2819, 0.013761275826354674), (3876, 0.01375412745874268), (3531, 0.013749861784239205), (3367, 0.01373731282273828), (575, 0.013736893886339585), (2427, 0.013730744925007093), (900, 0.013727992447233415), (2273, 0.013714712151545764), (633, 0.013703608660565357), (2800, 0.013698195443402152), (1167, 0.013689087892884665), (3907, 0.013682872061923045), (3468, 0.013681769225010782), (4069, 0.013678155962376023), (1971, 0.013669995711224247), (1250, 0.013664456188205715), (2169, 0.013659955642530152), (848, 0.013656396562204208), (30, 0.013654332834652467), (2213, 0.01365295757995812), (4343, 0.0136503197541619), (2346, 0.013647931818689837), (1276, 0.013645063098950631), (3641, 0.013633947999945788), (3122, 0.013629405495791789), (1783, 0.013616101268875053), (4083, 0.013609882858726665), (2401, 0.01360057303329985), (3189, 0.013596968964133517), (2363, 0.013587719012049481), (3185, 0.013586897313265388), (1116, 0.013572135254072533), (4376, 0.013571714756580923), (717, 0.013565332161099205), (4579, 0.013555974045761459), (2609, 0.013555559155978036), (1255, 0.013550183702939159), (1960, 0.013547267994228587), (1154, 0.01354588943619365), (3030, 0.013541422991081698), (1550, 0.013527684128714352), (4710, 0.013521307802312586), (922, 0.013455701050754587), (2512, 0.013441626146929524), (2830, 0.01343048230696857), (1223, 0.013419925637047744), (4202, 0.013415320716672823), (211, 0.013414883498347822), (3303, 0.013414267057105944), (1106, 0.013411226924174699), (517, 0.013401915775579781), (3310, 0.013401511050959717), (1654, 0.013391527463424216), (3445, 0.013386739831051892), (3390, 0.013384096560243095), (4339, 0.013377203778866137), (1231, 0.013360974880572796), (4217, 0.013334628024421306), (3787, 0.013330455470949694), (2304, 0.013310213888095583), (4113, 0.013309773857745863), (3347, 0.013305879133098046), (472, 0.013294369174936487), (4118, 0.013293483333173196), (4362, 0.013285499596010962), (2940, 0.01328223339224631), (2726, 0.013280327907888018), (1991, 0.013269122744111905), (1329, 0.013264465600279456), (3265, 0.013257585850600991), (3238, 0.013256504358739206), (3911, 0.013242691428817826), (2073, 0.013220411284573666), (3229, 0.013217503041577346), (2239, 0.013204535124336902), (3679, 0.013203450178098992), (1964, 0.013195789567427771), (4585, 0.013190921118274702), (4048, 0.013187909036263856), (125, 0.013186026934423879), (3971, 0.013172597475038262), (3333, 0.013163955561120258), (735, 0.013162124699422819), (4390, 0.013160221574353696), (2547, 0.013148007599952374), (3211, 0.013145850953123338), (1559, 0.01313434878990346), (3509, 0.013125197670810093), (2255, 0.01312244781278953), (4619, 0.013119021977219912), (991, 0.01311747767164325), (1157, 0.01310932928648747), (1138, 0.013101772186672562), (4331, 0.013095456616868093), (1125, 0.013094452600501103), (4009, 0.013093407962283515), (4386, 0.013079025855887794), (793, 0.013070107314712677), (2056, 0.013063255248318433), (1442, 0.013048786259829062), (4445, 0.013040862980329535), (2426, 0.013037363195226347), (1374, 0.013024662403656897), (2503, 0.0130240148358908), (3067, 0.013023647956069143), (2543, 0.01301929470047299), (2541, 0.01298741525289489), (4238, 0.012977083336573736), (3073, 0.012957944226650973), (1082, 0.012951038000162457), (286, 0.012947363495433526), (2558, 0.012942317859022957), (802, 0.01294008682300088), (614, 0.012937627106922483), (996, 0.012929354927452369), (3970, 0.01292548418320055), (2660, 0.012924208477748757), (4193, 0.012918576840389892), (2496, 0.012915148265291377), (6, 0.012913201285185678), (3935, 0.01291276064877024), (3440, 0.012910963140960144), (3405, 0.0129102241989611), (1812, 0.012909139788644426), (4259, 0.012899951565012764), (1032, 0.012889261770864358), (2344, 0.012878433793147062), (2820, 0.012874630211974667), (2844, 0.01286190088035256), (407, 0.012852470594769946), (3338, 0.012850244427142114), (2121, 0.012848062141639572), (2948, 0.012833145342047696), (3160, 0.012830882431515183), (3039, 0.012830340912985568), (118, 0.012815315374298905), (305, 0.012814695358734314), (3953, 0.012814353149250135), (2873, 0.01281429053089299), (1172, 0.012801621178305762), (3412, 0.012801026186275705), (4620, 0.012799337068831696), (4196, 0.012790105604988503), (4633, 0.012786976046202408), (3782, 0.012781020181480304), (3809, 0.012775366665147433), (1684, 0.012763458932637424), (1987, 0.012745006228667283), (2278, 0.012737748029441325), (891, 0.012736902078683703), (4353, 0.01273586221880201), (134, 0.01271840114284275), (1121, 0.012707498572214062), (3632, 0.012704920538091915), (2188, 0.012690173445260055), (595, 0.01268921525655266), (3606, 0.012680594659482899), (1350, 0.012679365686361792), (1219, 0.012667332202608522), (2816, 0.012666298167365081), (4603, 0.012665535497010213), (3443, 0.0126585835000396), (3705, 0.012651344506231876), (4133, 0.012639451819129247), (2825, 0.012635207665789867), (3653, 0.012630694404796184), (1316, 0.012629452204736559), (2688, 0.01262564137449979), (2370, 0.012622153161506205), (861, 0.012617775132706299), (4615, 0.012593060187906594), (39, 0.012587495297837412), (3038, 0.012578896844006725), (724, 0.01257493399587882), (4695, 0.012571054916621065), (3825, 0.012570152057382758), (1144, 0.012563339348090534), (4297, 0.012560836711013258), (1086, 0.012553952250348064), (4573, 0.012552788646699373), (3209, 0.012549735847431171), (3514, 0.012536904767584178), (594, 0.012520654133052428), (239, 0.012511797852700485), (3410, 0.012510556707826753), (1100, 0.012509843986919116), (4595, 0.012507088347156246), (3294, 0.012505309427969286), (4082, 0.012501168454898091), (2160, 0.012498775458455963), (4529, 0.012491957944105965), (2855, 0.012487709702372545), (34, 0.012478223725416758), (3737, 0.012478184533146577), (856, 0.012476338328713742), (3224, 0.012473803015921575), (660, 0.012467701325079449), (4277, 0.012467114820426946), (2058, 0.01246268356930496), (4184, 0.012448492143635918), (3984, 0.01244211236061851), (3940, 0.012436823943781658), (2060, 0.012427947284852334), (1356, 0.01241563299555496), (1962, 0.012402710381251602), (2933, 0.012402120570786438), (3474, 0.012386149989534766), (4392, 0.012380138039865313), (1554, 0.01237114939624202), (2606, 0.012369068773636298), (3055, 0.012364924351203841), (642, 0.01235154934916748), (2061, 0.012348430099241468), (3989, 0.012330594483820914), (627, 0.012329918439896182), (1641, 0.012323660629329969), (1819, 0.012314739145349684), (3274, 0.012314694543231312), (3458, 0.012313475496519065), (4130, 0.012296539467277998), (2848, 0.012296339960523187), (4110, 0.012281839350065528), (3112, 0.012276205333039338), (940, 0.012273216605990121), (3346, 0.012264018189061823), (11, 0.012263368089578803), (3865, 0.012259304531525591), (319, 0.012255743969044572), (4509, 0.012250022244095642), (4597, 0.012249587472720981), (3164, 0.012249263724749687), (2291, 0.012237514920252922), (1330, 0.012234768062319181), (1940, 0.012231782423670574), (1625, 0.012228325692035646), (2984, 0.012214166116925983), (4045, 0.012213474857644433), (4546, 0.01221071084571466), (979, 0.01219473630592828), (2134, 0.012193388283195793), (811, 0.012184760252614234), (2051, 0.012184388209637667), (1818, 0.012175405178290416), (4280, 0.012167106127811425), (4490, 0.012164764081430482), (956, 0.012160148521571651), (217, 0.012157944494822732), (3152, 0.012155878421348383), (3792, 0.012138037481313122), (2655, 0.012131794150538555), (1457, 0.012124376835821363), (2951, 0.012121387814021608), (310, 0.012117115343126261), (1088, 0.01211348669297516), (3168, 0.012110433200066894), (2833, 0.01210130741931266), (1169, 0.012100332105739912), (3558, 0.012097562566012006), (1921, 0.012083038704743886), (3496, 0.0120815530474891), (2507, 0.0120680997200703), (2403, 0.012067767006303798), (3456, 0.012065454602191014), (1145, 0.012052125521081801), (2904, 0.01204049751740088), (414, 0.012037214985089055), (1842, 0.012031957304981909), (197, 0.012021732278523007), (4011, 0.01201624046576171), (3186, 0.011995142295905979), (1340, 0.011993727193391849), (3149, 0.01198500818041602), (1632, 0.01197804419545366), (3502, 0.01197524175427906), (2432, 0.011975037795488393), (3244, 0.011974395354121368), (308, 0.011960591656193762), (1791, 0.011957494203176265), (4729, 0.011949284497275236), (2283, 0.011946150576012197), (1122, 0.011940976051144829), (1153, 0.011940857156773472), (4674, 0.01192624940712548), (743, 0.011919523120448644), (4307, 0.011897763492451963), (444, 0.011893420510053274), (941, 0.011885975089598445), (1079, 0.011885130868954184), (1380, 0.011869640904925753), (306, 0.011866945237958872), (3308, 0.011860535201842456), (2725, 0.011858033976444748), (4552, 0.011855999279604137), (2861, 0.011840253384334776), (4516, 0.011838284242484244), (1941, 0.011835548481995072), (4282, 0.011817676565757928), (3092, 0.01181487604399992), (4326, 0.011805915466559241), (2549, 0.011793335192737026), (1732, 0.01178792765452535), (2092, 0.011784857334916727), (3166, 0.011759210843558224), (772, 0.011757511101660022), (2935, 0.01175501079839443), (992, 0.011754703186242008), (647, 0.011754687196035708), (377, 0.011749067957161779), (2105, 0.011746730631755239), (1637, 0.011744406409949068), (3938, 0.011743523812784724), (1355, 0.011743250035698373), (4412, 0.011737952853953805), (4699, 0.01173421373911776), (1294, 0.011732058801914642), (1209, 0.011728059170937232), (2778, 0.011717770640826913), (3739, 0.011713591274955654), (4147, 0.011712698641100295), (3706, 0.011710951594096453), (3919, 0.01168925139787039), (3908, 0.011684139775101304), (59, 0.011679726574213317), (3845, 0.01167754144736116), (1901, 0.011674730568198422), (152, 0.01167082622519082), (3125, 0.011668573723044107), (278, 0.011662641895990278), (3351, 0.0116590628620733), (2854, 0.011654420460612953), (311, 0.011647832852834203), (571, 0.01164022620777065), (1462, 0.011637084501541783), (4563, 0.011634707385432666), (4241, 0.011629911291441863), (1526, 0.011620010574721553), (4593, 0.011618862789778084), (1453, 0.011617429129562814), (4757, 0.011600520023270066), (1708, 0.01159843157769543), (1558, 0.011590677360396673), (2064, 0.011587917588180044), (815, 0.011562545918527355), (3521, 0.011562514904505742), (1575, 0.011557953679120204), (2846, 0.011555619856533753), (1742, 0.011554134686027008), (4441, 0.011548789234670504), (1767, 0.0115412190527014), (253, 0.011540631700586897), (159, 0.011540010911369403), (289, 0.011533439101987073), (4323, 0.01152193998935426), (2473, 0.011515038792431551), (587, 0.011513146811376157), (953, 0.011509988608938353), (1998, 0.0114896425766652), (347, 0.011485112885961664), (1426, 0.01147646768315548), (2661, 0.011468524093909664), (1784, 0.011466356073162173), (4642, 0.011464885795636268), (4134, 0.0114621643275665), (1323, 0.01145837776703466), (3680, 0.011449713660610034), (3557, 0.011446344380488862), (3657, 0.011439036883244201), (883, 0.011436935078164439), (2182, 0.011429329977517116), (4248, 0.011428731746061349), (680, 0.011426715527670106), (886, 0.01141940587646371), (809, 0.011413130096045221), (596, 0.011406339286286107), (4525, 0.011398499166323496), (1913, 0.011396920080846619), (4208, 0.0113964708017431), (4537, 0.011395902179501717), (1869, 0.011390118964993772), (3614, 0.011389196317803307), (3293, 0.01138722178215199), (3022, 0.011386764752238744), (2913, 0.011385192407470691), (4611, 0.011383535786634643), (3123, 0.01137955476580937), (3945, 0.011377736058372273), (4497, 0.011376611719710552), (4622, 0.01137200271794099), (3487, 0.011369122375283522), (3834, 0.01136418632684052), (1213, 0.011352747148590345), (4136, 0.011349219500632828), (2095, 0.011345488103554286), (751, 0.011341778725009324), (2223, 0.011335257684948996), (2741, 0.011332993138298362), (4219, 0.011321501792145193), (1805, 0.011316832141548275), (3609, 0.01130264215908598), (4660, 0.01129549594457166), (4381, 0.011289316159866385), (2111, 0.011288855347663468), (4285, 0.011274452389983751), (478, 0.011273172280524928), (3497, 0.011270026149683282), (1904, 0.011268931877950264), (2022, 0.011249686014245397), (3353, 0.01124574694830422), (4334, 0.011245424182913405), (4120, 0.011243311682530236), (1969, 0.011239585510811702), (406, 0.011232657311824497), (4076, 0.01122853450032075), (3638, 0.011228337659213439), (2452, 0.011220935174127191), (3247, 0.011217859432011678), (685, 0.011217575497836979), (3525, 0.011215342836730325), (2623, 0.011210107644202603), (3902, 0.011205305080497722), (3840, 0.011204529051700237), (3481, 0.01120296574591812), (1670, 0.011202482534872165), (177, 0.011195714315856722), (608, 0.01119562778111762), (4161, 0.01117619900020022), (3290, 0.011173042723823029), (3205, 0.011154882139929174), (4613, 0.011153143242433657), (1659, 0.011148360417165135), (4517, 0.011147314467699792), (2573, 0.011142096557120814), (1616, 0.011140228043325193), (3015, 0.011137053681687907), (3336, 0.011136896661280642), (4066, 0.01113427300670006), (186, 0.0111283496109426), (1551, 0.01112814025651664), (3704, 0.011122963025396696), (389, 0.011117331569396502), (4447, 0.011115427973751438), (315, 0.011107745793763028), (3484, 0.011091225985577184), (4347, 0.011087626190027499), (1730, 0.011085022266063185), (556, 0.011083030961308143), (4263, 0.011082635957731131), (4472, 0.011072187816114982), (1040, 0.011067835087903828), (464, 0.011065082354999546), (321, 0.011064624917985223), (3563, 0.011064620616593735), (495, 0.011059376203516099), (3230, 0.011055988504223686), (3491, 0.01105042185967981), (562, 0.011050085870454905), (1066, 0.011049421389167882), (1431, 0.011034774850542524), (1627, 0.011032465124475083), (4097, 0.01101660414165281), (2313, 0.011008461447796198), (3402, 0.011006399854649357), (4501, 0.010992984019958215), (2438, 0.010981687383152883), (1633, 0.010981133014511731), (1246, 0.01096420542848107), (4489, 0.010958940063621735), (3944, 0.01094989591493109), (2175, 0.010936530212438657), (4550, 0.010933685963753841), (4587, 0.010933168524212005), (3163, 0.010932066055517409), (4085, 0.010929652888698247), (2724, 0.010927782867408928), (777, 0.010921872431080466), (420, 0.01091768230487784), (913, 0.010907205539758442), (4363, 0.010894436793851353), (2986, 0.010891896445485338), (2444, 0.010891059984303383), (2610, 0.010890888630159279), (247, 0.010884041198314294), (3249, 0.010875538747366244), (2348, 0.010873255030373143), (814, 0.010868012018739121), (1655, 0.010862703287360127), (1565, 0.010856054320892677), (1502, 0.010854725594610117), (3920, 0.010845317887518713), (3305, 0.010841803818319142), (449, 0.01084061518122084), (3568, 0.010840524590129776), (246, 0.01083799336676395), (3910, 0.010833980676701223), (843, 0.010829804207309359), (687, 0.010821805881899032), (3431, 0.01081228597886336), (1070, 0.01080874626878994), (4043, 0.010806702608900513), (4330, 0.010800364200375702), (3173, 0.010799511882297004), (349, 0.010798089590183831), (2349, 0.010798004652369977), (1214, 0.010796977341336195), (3364, 0.010794958392588424), (3187, 0.010792069409101454), (90, 0.010790742345364642), (1020, 0.010779520533992159), (2641, 0.010777086408027227), (3745, 0.010775325790846188), (2445, 0.010774061162505795), (4422, 0.010766215741284458), (3394, 0.01074647208536744), (723, 0.010744452472701647), (2251, 0.010741185427693992), (4090, 0.010735650990276981), (3221, 0.010732529114799277), (235, 0.010725524680509111), (1761, 0.010717458293473932), (4464, 0.010716907903145377), (2122, 0.01071610888579277), (468, 0.01071566752561233), (277, 0.010715639199822963), (4274, 0.010712810034361316), (4315, 0.010706027583002476), (1624, 0.010699659402348799), (564, 0.01069634676960068), (323, 0.010688896190642096), (4371, 0.01067808652621736), (867, 0.010675941450274094), (461, 0.010674054675116331), (1428, 0.010668469911899688), (375, 0.010666613170004982), (2416, 0.010659129728657879), (993, 0.010655863498782954), (1150, 0.010648824061370275), (1975, 0.010646841109548017), (1859, 0.010642514689220247), (1421, 0.010640442848697067), (4575, 0.010635277350423399), (4483, 0.0106350879257891), (2034, 0.010628215946077442), (2863, 0.010625678517416297), (3522, 0.010622944722246456), (2187, 0.01061712702591888), (2439, 0.01061129861622641), (910, 0.010610121840306123), (3064, 0.010605353161992582), (2794, 0.010602544494286211), (4558, 0.01059634535617926), (1357, 0.010595328349974594), (3906, 0.010593659752791201), (1373, 0.010582924393831142), (2135, 0.010576332173371998), (2626, 0.010574622278036905), (552, 0.010572445701913846), (3355, 0.010571155596332675), (2425, 0.010562700372291536), (1981, 0.010560571000320557), (4300, 0.010556692337422197), (3752, 0.010552976005517677), (3599, 0.010550384158806039), (4421, 0.010525982978152935), (2551, 0.01052394721465297), (1765, 0.010523272674573722), (2624, 0.010504536463496464), (1703, 0.010483762098433701), (2711, 0.010479520398703946), (1829, 0.010478524157536879), (2537, 0.010466233287452647), (2245, 0.010463020633003637), (4574, 0.010462865769745706), (3501, 0.010462581732185899), (4734, 0.010448356352653818), (935, 0.010448045531608944), (93, 0.010446972158763107), (3270, 0.010439010366188235), (295, 0.01043492254359963), (4666, 0.010430642357998773), (4039, 0.010430517269807614), (4401, 0.010429864368532575), (1905, 0.010425405853130735), (826, 0.010423547425044517), (3413, 0.010418191708773413), (2424, 0.010408439260158798), (4052, 0.010404283184534097), (1048, 0.01040370290529507), (3569, 0.01039966595768), (1827, 0.010384010120352356), (100, 0.010382593630485819), (491, 0.010375690924824078), (3271, 0.010369649768107534), (2755, 0.01036906108973076), (1735, 0.010365078031848394), (3817, 0.010358832907031254), (4582, 0.010358648738575168), (3769, 0.010355954274925909), (4704, 0.010352584359051896), (2192, 0.010352540788047914), (3567, 0.010338633675549451), (2812, 0.010329881436640403), (4092, 0.01032148368992966), (1656, 0.010319048858665046), (1576, 0.010306298591313035), (2355, 0.010301891362753005), (3592, 0.010292215824472768), (2801, 0.01029197854758927), (2570, 0.010288486257289916), (954, 0.010283789000800334), (2393, 0.010282550211046468), (969, 0.010278759188245114), (3495, 0.010275138045259615), (2356, 0.010272434871481892), (1227, 0.010270708957264355), (4691, 0.010270225664975334), (4225, 0.01025256917592711), (3611, 0.010245419314315917), (314, 0.010242484022798145), (3365, 0.010235677230251494), (4144, 0.010234459544308775), (1661, 0.01023164732528821), (1562, 0.010220096701232386), (4368, 0.010219871551550665), (2707, 0.010216238023325198), (4333, 0.010216033680626922), (2003, 0.010210194326826946), (3366, 0.010210134400843575), (819, 0.010207390569241186), (2434, 0.010202882988504983), (707, 0.010194378183174542), (2166, 0.01019023371917514), (2552, 0.010187849062935014), (325, 0.010182410414291722), (3812, 0.010180158383441837), (3301, 0.010170544723127284), (1686, 0.010165122926903856), (1724, 0.010163971991028649), (2044, 0.010158570749649804), (4109, 0.010156879514559448), (1594, 0.010150555815452222), (2571, 0.010150495111043165), (1349, 0.010149738442537753), (445, 0.010145902729565944), (312, 0.010142295116564774), (576, 0.01013724506135783), (2354, 0.010129412322334844), (1495, 0.01012239930449565), (169, 0.010117570090516182), (4101, 0.010115453453248555), (1857, 0.010106765430609491), (2176, 0.010106346907258493), (80, 0.010101348081470876), (2909, 0.010097368959451982), (234, 0.010088471356956613), (2733, 0.010086725407500767), (3139, 0.01008074906949836), (2884, 0.010078779807625463), (3449, 0.010058774773798828), (3776, 0.010057002161714559), (95, 0.010056617994093213), (3423, 0.010055789407809903), (2622, 0.010055390480257533), (2289, 0.010054885788641877), (1359, 0.010051033021115945), (3287, 0.01004916826281362), (1407, 0.010046853675519503), (3040, 0.010040845410775148), (997, 0.010028943886935952), (3762, 0.010028814246076457), (4080, 0.010024217487581836), (3184, 0.01002328087653729), (3583, 0.010009511607209925), (738, 0.010008947643701825), (4522, 0.010004125240249562), (2482, 0.010000995907349569), (3378, 0.010000430686977932), (4159, 0.010000302795905079), (26, 0.00997827797147264), (813, 0.009976256641753004), (3587, 0.009962097771870062), (3654, 0.009960880756571146), (3579, 0.009959307813143118), (2242, 0.009951624071169113), (2078, 0.009946007223913356), (1217, 0.009932896097110035), (714, 0.009931281851333223), (3331, 0.009912996012818703), (973, 0.00991119857740784), (1211, 0.009906056997826835), (3337, 0.009896921151409065), (2490, 0.009894954465889188), (3150, 0.009894557184853783), (3357, 0.009888187029135373), (1672, 0.009887591242067374), (3231, 0.009887463289514797), (906, 0.009886760442503674), (4566, 0.009884069849025196), (663, 0.009883619023471348), (1651, 0.009879098546145068), (3697, 0.009877297496119363), (4697, 0.009877054946652234), (4336, 0.009872861011902248), (3975, 0.009872100859080102), (2123, 0.009871774076589596), (3138, 0.009867536694346214), (4318, 0.009856157307581536), (320, 0.009844210639637673), (3591, 0.009830817361269426), (4365, 0.00982920157279411), (3671, 0.009827807146879159), (3788, 0.009825730428195213), (227, 0.009807917756571416), (3915, 0.00980258186281027), (1446, 0.009801938464114472), (3220, 0.009794265688288971), (3798, 0.009790709607466279), (2662, 0.009783232444819597), (3106, 0.009774921250896993), (4305, 0.009770721718867389), (2792, 0.009768706732112158), (1823, 0.009767524283633406), (2847, 0.009764254170149747), (1416, 0.009756304404114045), (2415, 0.009753567795342666), (3084, 0.009744728209408861), (1546, 0.009743283977861285), (4279, 0.009741255449493943), (2113, 0.009738208226036249), (2233, 0.009735315330656918), (1458, 0.009734119385505212), (1026, 0.009729397646804833), (4287, 0.009729322100362899), (3135, 0.009721991768884594), (2852, 0.009714026377000314), (3541, 0.009713149450476317), (1862, 0.009706415208614327), (1604, 0.009672497907127332), (4518, 0.009671507407627424), (4416, 0.009665762462396938), (2989, 0.009648213499385392), (3987, 0.009645696224111553), (944, 0.009644965901633312), (1622, 0.009642165701314601), (1635, 0.00963488695365605), (945, 0.009631245645019246), (3179, 0.009629628534394573), (1751, 0.00962828806010946), (3736, 0.00962615398745823), (1080, 0.009622847968493836), (3532, 0.00961669002332647), (1474, 0.009615265726155077), (158, 0.009603879560904279), (4370, 0.009598062382134346), (3503, 0.009590010265394935), (3608, 0.009577714958626367), (2375, 0.009572874524745426), (2306, 0.009569645514268447), (2683, 0.009566691768045862), (1930, 0.009565331983626378), (1422, 0.009564786036859368), (3881, 0.00955693318241579), (671, 0.009552156193493502), (932, 0.009552091149479825), (3291, 0.009549618308879623), (2592, 0.009549475465838097), (2382, 0.009547453920328589), (3806, 0.009544261700671207), (4391, 0.009528467765886969), (4493, 0.009527589341954478), (2858, 0.009526243181820762), (2381, 0.009524558945036808), (3996, 0.009520800735015815), (2292, 0.00951631672633256), (1588, 0.009509354685290008), (3565, 0.009508653088783365), (3101, 0.009498348001837912), (2067, 0.009487757797024177), (2021, 0.009480772838776463), (4356, 0.009475533519942727), (1590, 0.009475153485407412), (1006, 0.009471948359243774), (2152, 0.009468191603317721), (2185, 0.009465101256439738), (2731, 0.009465050607324476), (1439, 0.009454652125926409), (467, 0.009449397903567483), (141, 0.009446143788706805), (2612, 0.009442513658160673), (2960, 0.009437430083759305), (1748, 0.009436609269917844), (712, 0.009436516239222387), (3454, 0.009434983953091112), (471, 0.009434171130596209), (686, 0.009433133574069752), (3645, 0.0094314971494673), (3979, 0.009429125069881191), (1479, 0.009423487979566594), (2116, 0.009422217803198364), (890, 0.009416681074871576), (3500, 0.009414198584171245), (4138, 0.009409341420090044), (2595, 0.009408601049607434), (1628, 0.009406254606844171), (4726, 0.009400964053398523), (505, 0.009399284824852257), (3914, 0.009394978770865984), (4621, 0.009393578625390258), (4420, 0.009392484951291701), (4394, 0.009388078739262985), (4662, 0.009378796090439075), (2117, 0.009371785203392574), (2409, 0.009370300128569884), (4284, 0.009368909935944369), (4496, 0.009356658783215562), (3824, 0.009353192605951213), (3011, 0.009351998473830616), (3117, 0.009350290464441451), (1693, 0.009345293434233293), (2991, 0.009344931046305495), (3818, 0.009344697321064237), (2326, 0.009343947842911978), (3969, 0.0093362632646934), (3148, 0.0093352347113599), (4478, 0.009332191766760133), (791, 0.009315900475502136), (322, 0.009312980440088886), (411, 0.009310918724620604), (965, 0.00930799426493979), (3576, 0.009307571809858941), (2681, 0.009294598799018415), (316, 0.009289157358850973), (12, 0.009284002408723598), (4599, 0.009269579291515414), (2838, 0.009259044343351962), (4312, 0.00925283439169681), (2965, 0.00924550144522008), (24, 0.00924406919981056), (192, 0.009242119120367535), (4732, 0.009238014598649863), (2200, 0.009229586379990265), (249, 0.009228672909908395), (755, 0.00922677794124641), (4024, 0.009213984867934212), (697, 0.009211017802483585), (2083, 0.009207741741327496), (3664, 0.009206862518922505), (469, 0.00920554745649237), (4625, 0.009204890448471963), (1321, 0.009204485040305731), (715, 0.009199559424740149), (94, 0.009194546826925108), (1013, 0.009193718003846177), (1193, 0.00918328307502952), (2030, 0.009181285126070346), (1888, 0.009162421406213187), (526, 0.009155507229418028), (4072, 0.009146733564935696), (1573, 0.009140703104640118), (3434, 0.009138221797555883), (2159, 0.009137338124829504), (2720, 0.009136622762648518), (283, 0.009136542766385921), (2341, 0.009129535287498068), (2521, 0.00912876362676738), (2299, 0.009120478212817912), (2895, 0.00912008858575054), (1547, 0.009116622626121548), (3966, 0.009115519329163928), (529, 0.00911034881174392), (2397, 0.009097099239497263), (2042, 0.009089724766589686), (737, 0.00908966827465253), (1447, 0.009089219596610895), (588, 0.009088493980956054), (4267, 0.009081106084740869), (1258, 0.0090797962090389), (4411, 0.009077461384430895), (4172, 0.009075525769930788), (2675, 0.009071354793457899), (1228, 0.009069156630713731), (262, 0.0090564898986293), (4186, 0.009053577452840817), (1073, 0.009052119240479859), (924, 0.009044173436181774), (69, 0.009043990982928764), (3721, 0.009036610627390128), (4, 0.0090314195747753), (290, 0.009031185847473495), (4514, 0.009030631372396437), (3137, 0.00902991732049838), (508, 0.009028339950890984), (4655, 0.009026358813601013), (4692, 0.009018137954047016), (3712, 0.009014341832578463), (565, 0.009010908561337341), (1914, 0.00900766202692506), (871, 0.009007483465553438), (2583, 0.009003993553731209), (2137, 0.00900276716949953), (741, 0.009000065788316894), (2877, 0.00899670925407063), (4059, 0.008996167929784579), (1685, 0.00898709352134556), (4224, 0.008984780687196107), (1699, 0.008979865586397375), (3194, 0.008979474842358745), (2605, 0.008979193403533424), (92, 0.008977728152561011), (1449, 0.008969321009311111), (3998, 0.00896405642701735), (182, 0.008956490756880367), (1840, 0.008950674528462764), (1712, 0.008942734871988526), (1953, 0.008933634043947538), (2215, 0.008932588696579612), (4367, 0.008925408568805117), (20, 0.008924020048707206), (1631, 0.008922909007092252), (926, 0.008921504246510841), (4304, 0.0089207673247086), (2041, 0.008915111143845798), (3273, 0.008914795251858353), (3925, 0.008912207684249596), (3057, 0.008909613896347007), (8, 0.008905320447730973), (2009, 0.00890413940780257), (3060, 0.00890058525686422), (4051, 0.008893470627781102), (3893, 0.008888728024927822), (1395, 0.008887180729870544), (3392, 0.008885792609733465), (1801, 0.008881552777735165), (3588, 0.008870881458087402), (1553, 0.008868781577523162), (658, 0.008868098368213197), (1094, 0.008861230435910578), (4108, 0.00885514876881593), (223, 0.008853953664273313), (359, 0.008848084582581826), (1766, 0.00884328232868414), (4600, 0.008832137628048953), (1364, 0.008831927113207091), (2390, 0.008829040612356138), (974, 0.0088265386415288), (4647, 0.008822607849163253), (3823, 0.008819670505268926), (984, 0.008817114225786954), (4135, 0.008813668598414542), (4341, 0.008811045733149172), (2924, 0.008810389770816024), (1943, 0.00881010075403954), (1993, 0.008802979097666164), (2525, 0.008801911236651756), (1319, 0.008800302411493013), (457, 0.008798378416255758), (1642, 0.008796017598583585), (78, 0.008787873803066188), (4408, 0.008785923478764475), (3296, 0.008768329951176131), (4513, 0.008768168282346266), (2957, 0.008767933984495551), (4404, 0.008766578623733963), (1645, 0.008760360696839175), (3380, 0.008753097093846219), (1833, 0.008747105071614096), (2588, 0.008741848303510168), (3404, 0.008741770625459038), (178, 0.008736014851685838), (2201, 0.008726535595916393), (4396, 0.008719962345272662), (1520, 0.008719540636376621), (4606, 0.008717531258755832), (2584, 0.00871704930234447), (3182, 0.008715002774822246), (927, 0.00870858936068565), (1309, 0.008703544089235056), (2554, 0.008699034854689137), (4409, 0.008684398294261795), (4071, 0.008681765112822296), (136, 0.008675880997637291), (1729, 0.008674238831274661), (3748, 0.00867256954344781), (3760, 0.008670181990887458), (1574, 0.008667824683366842), (4468, 0.008651076280211594), (1605, 0.008647818170781113), (4473, 0.00864490271296035), (2575, 0.00864393541627147), (2577, 0.00864268020650515), (4357, 0.00863863660685137), (520, 0.008633548798019922), (1711, 0.00863296988943334), (1320, 0.008630685489628802), (2664, 0.008630461299034779), (2566, 0.008629658856812697), (2007, 0.008626409727989082), (4708, 0.008624284314516792), (1623, 0.008619993567601139), (1077, 0.008619072481658361), (2317, 0.008616764360488818), (1893, 0.008604052446377899), (3388, 0.008597605589498418), (2922, 0.00859755209866422), (2746, 0.008589044343931661), (402, 0.00858755549139355), (4555, 0.008580972279419705), (4686, 0.00857674335324044), (2288, 0.008576082617957743), (4041, 0.008575859056761897), (2142, 0.008574721564124449), (4139, 0.008568930314158313), (297, 0.008549029401706616), (1240, 0.008546656771316302), (4146, 0.008546510167533185), (4689, 0.008540552245372828), (1584, 0.008530073734016754), (2974, 0.008524378011993), (339, 0.008512465731888902), (2949, 0.00851165959067966), (3827, 0.00850913433363956), (4042, 0.008508359948223639), (2953, 0.008499767783257034), (3081, 0.008499247917847171), (612, 0.008497965874751264), (4638, 0.008495055083898846), (1247, 0.008493225652080464), (3649, 0.008481934784233034), (4054, 0.00847622599315633), (2402, 0.00847277168775726), (3540, 0.008468100140985146), (4329, 0.008467710356939896), (3193, 0.008463930123881608), (1683, 0.008459898169452536), (2685, 0.008459252480888165), (820, 0.008459015693622634), (710, 0.008457031372882947), (492, 0.008456867393755351), (3178, 0.008455018916258482), (3897, 0.008454358143649827), (1593, 0.008453203139630324), (2314, 0.008448254142595861), (248, 0.008443456509445182), (2966, 0.008440409564660876), (4129, 0.00843542949148673), (1933, 0.00843327418490611), (2722, 0.008432137465791563), (1008, 0.00843084115326489), (518, 0.008424579012537969), (2360, 0.008421685074067995), (3415, 0.00841822181700616), (1745, 0.00841150315086718), (1726, 0.008408553170661786), (3639, 0.008408271342922727), (3002, 0.008407551535107282), (226, 0.008407058645326284), (859, 0.008405479037147152), (846, 0.008404696380228553), (2888, 0.008401104783580632), (2385, 0.008395296277428079), (2377, 0.008390531178749059), (1666, 0.008383373107369616), (4680, 0.008371068053553685), (2017, 0.008370271356703561), (2410, 0.008366737917818915), (1706, 0.008366564659556798), (3272, 0.008362831762767423), (1470, 0.008343547427131951), (2199, 0.008335429228775093), (1533, 0.00833029471459434), (4058, 0.008321386934403803), (456, 0.008314136676608394), (1851, 0.00831323788432158), (3894, 0.00830975938862094), (2684, 0.008304982567231937), (2455, 0.008302264291505325), (431, 0.008296261247619284), (224, 0.008291107237841879), (2004, 0.008288572454239324), (2532, 0.00826633708346702), (3093, 0.008265632442345227), (704, 0.008262761958857083), (1286, 0.008262610699858711), (946, 0.008261634821958009), (889, 0.008246532946351626), (3985, 0.00824448281983978), (2324, 0.008238665825223512), (3472, 0.008238641566934057), (1069, 0.00822768172311435), (372, 0.008224487753735897), (2947, 0.008221863478541227), (1394, 0.00822099347016248), (3289, 0.008215281956696577), (1617, 0.008213253160693842), (1463, 0.008213094061767108), (644, 0.008210536031600064), (1197, 0.00820961039585398), (1345, 0.008203412125180604), (232, 0.008198613308432795), (2261, 0.008192993957515157), (4448, 0.008172220378684049), (2388, 0.0081673594829934), (298, 0.00816632612832308), (4758, 0.008165190292007673), (4505, 0.008161412775317605), (4234, 0.008160148333416583), (1180, 0.008155057325077887), (98, 0.008152596430156056), (386, 0.00815227303378891), (3715, 0.008144034906029395), (184, 0.008141957808104366), (1187, 0.008139476683313003), (2670, 0.008138985193445206), (2765, 0.008133921011000751), (1737, 0.008132553876968512), (1311, 0.008127787469791039), (4087, 0.008116158198959333), (164, 0.00811444814853116), (1856, 0.008113707577274375), (3052, 0.008103006751307176), (3493, 0.008096748653182944), (4446, 0.008095721026152466), (1529, 0.008095584424663712), (1557, 0.00809486328671167), (3147, 0.008094500883290891), (4414, 0.008094155956107804), (2345, 0.008081628128113293), (2127, 0.00807352907674651), (1142, 0.008069339673598727), (4506, 0.00806793181580728), (698, 0.008066593553775238), (3524, 0.008062414061015983), (2544, 0.0080599870342185), (2927, 0.008057650461944168), (4632, 0.008054094382374071), (1863, 0.008053060890223465), (3026, 0.008046181560377024), (2717, 0.008035587539445988), (3549, 0.008030562484332366), (1370, 0.008023797390000257), (690, 0.008019426062248968), (3130, 0.008016964233678857), (4705, 0.008004641722886136), (4200, 0.008002877912843202), (4495, 0.00799641529012848), (3327, 0.007989854888048627), (4646, 0.007985290334496489), (3381, 0.007984708394163403), (1980, 0.00798437510189719), (3078, 0.007983095553043926), (912, 0.007979270952633987), (2628, 0.00797714273373333), (1808, 0.007976952128954497), (3735, 0.007974544858070063), (3596, 0.007971295386320125), (3765, 0.007968392921474929), (2454, 0.007959250444955183), (3341, 0.007952618844863054), (754, 0.007951083590423631), (1010, 0.007949496014311197), (2945, 0.007937207233782023), (2387, 0.007932653914255383), (4324, 0.00793035857954266), (1772, 0.007927960297655745), (1563, 0.00792703130486527), (4047, 0.007924989861619472), (17, 0.007920458025519083), (4460, 0.007914794574478023), (3693, 0.007913781892819166), (1296, 0.007912188203638778), (317, 0.007909081159445183), (3216, 0.007902128632220833), (4077, 0.007898486854003715), (3866, 0.007891498475816492), (998, 0.007885581212289213), (3292, 0.007885365728834604), (1516, 0.007877098644750415), (4426, 0.007876726128543437), (3042, 0.007870610724502064), (2514, 0.00786378096882899), (999, 0.00786289062510777), (4358, 0.007861286812994424), (3844, 0.007836861989820518), (3049, 0.007832670070767928), (3615, 0.007830951332482764), (1835, 0.007829965572579), (975, 0.007823308208900023), (739, 0.007822832083198132), (2047, 0.007820445090967722), (1441, 0.00781715059793616), (2163, 0.007815548115628691), (1388, 0.00781384638359811), (3242, 0.0078094336951443095), (3743, 0.007808116284678415), (4298, 0.007807655848393035), (3061, 0.007801920530000039), (1532, 0.007797511308726827), (2293, 0.0077928652063990606), (299, 0.0077870155265865465), (1244, 0.007785204092133126), (4458, 0.007781718372067948), (1782, 0.0077809811636357805), (1552, 0.007779314347698138), (3808, 0.007774362578167821), (1503, 0.007774054246955078), (2106, 0.007772423421778999), (1638, 0.0077718850411761355), (1762, 0.007771700429753186), (3494, 0.007768797826608741), (55, 0.007768406384147117), (797, 0.007765361134816993), (1543, 0.007763648723368593), (453, 0.007761074509955917), (2328, 0.0077530908007155536), (4361, 0.007744996486798315), (2414, 0.007743518790683695), (153, 0.007733371086091487), (2678, 0.007726270332597155), (1743, 0.007716260232070083), (1831, 0.007709052089635389), (357, 0.007702139812118792), (1517, 0.007701846594120838), (2389, 0.007697870099574658), (4719, 0.007695367434474491), (4717, 0.007695283974750567), (914, 0.007695255747837524), (2153, 0.00768920514059785), (2797, 0.007686383590367658), (4155, 0.007681787339138242), (376, 0.007680431948615012), (3889, 0.007669810427735341), (318, 0.007666015569647763), (4114, 0.007662877244540998), (228, 0.007661892956879823), (592, 0.007661857440906684), (4675, 0.007645268761296719), (2448, 0.007641775727327764), (2286, 0.007641699506050593), (758, 0.007639410159181693), (2457, 0.0076392017061655375), (1305, 0.007637139300730251), (1298, 0.007635754441945527), (4433, 0.00763087174129391), (54, 0.007630632825744051), (4698, 0.0076235698073794725), (4258, 0.007619199453258583), (2049, 0.007618383092078293), (1456, 0.007617752971428859), (3942, 0.007608857383455829), (394, 0.007607930514800961), (1545, 0.0076079134003377525), (3603, 0.007606798464269871), (2769, 0.007601523121581908), (4270, 0.007595794216958267), (659, 0.007593084415830188), (2672, 0.007591896123416447), (2098, 0.007591251540229295), (4074, 0.007584429850259439), (3425, 0.007583913313210399), (1610, 0.007579055543366751), (3560, 0.007572933795899781), (2171, 0.007568498593701775), (4117, 0.007564008730165826), (419, 0.0075627924197512915), (557, 0.007558472683496575), (156, 0.0075513626495602205), (1315, 0.007550161201068658), (4168, 0.0075380798643383375), (1376, 0.007537858226786059), (2302, 0.007536588687162196), (4359, 0.007536451133099195), (3066, 0.007534893841166792), (2845, 0.007526932875078676), (3968, 0.007524362045864609), (3898, 0.0075228654035055), (1075, 0.007512686102309856), (4746, 0.007507719152313906), (3283, 0.007500376590692136), (2954, 0.007495269606986469), (1600, 0.007484681373751537), (1966, 0.007475856674369066), (3811, 0.007475256269922653), (121, 0.007474805510954986), (4577, 0.007466967087848336), (2170, 0.0074661272215654365), (1097, 0.0074624916670729185), (1561, 0.007459460927439316), (2068, 0.007459199262627642), (1644, 0.0074500728877247135), (4737, 0.007443706605451189), (4286, 0.007438876448102511), (1733, 0.007432555326251476), (1318, 0.007430892414267284), (2834, 0.007423596018145058), (1822, 0.007422548171711818), (2652, 0.007420653530650985), (770, 0.007412928396084912), (3197, 0.0074097198127882225), (2249, 0.007407463026731706), (1747, 0.007405755808004884), (2400, 0.007405049080134589), (1580, 0.007403685547313065), (2411, 0.007399323242548088), (1450, 0.0073985707835055045), (3286, 0.00739618363521847), (2404, 0.007393527682849127), (242, 0.007392439195916202), (362, 0.007392370116966143), (1758, 0.00739180989314497), (1196, 0.007380045735471181), (674, 0.007374720460834285), (404, 0.007373723536005807), (3489, 0.007372885184452038), (1165, 0.007372533959239114), (3836, 0.007366923876388295), (909, 0.007366226086827402), (4014, 0.007357647013578666), (2809, 0.007353289974183998), (3219, 0.007351157905254101), (4369, 0.007339402208954773), (2518, 0.00733877819084568), (3980, 0.00733678268985069), (2568, 0.0073329543963841295), (794, 0.00733129600906103), (300, 0.00732862247768667), (1907, 0.00732209096005377), (1490, 0.007321510944641074), (2155, 0.007321006461446044), (3322, 0.007318362443209257), (1959, 0.007313183012347551), (3537, 0.0073116189095842115), (3288, 0.0073048157437415094), (3869, 0.007302574496842159), (2461, 0.007300713210011576), (1753, 0.007293528386199248), (4725, 0.007290086243749176), (2648, 0.007286978796441838), (2750, 0.007278093006947437), (1535, 0.007277805167853001), (4003, 0.0072772991103070735), (2559, 0.007275933814778188), (1163, 0.007275428579903567), (1786, 0.007274423851235444), (480, 0.0072623938814575), (2686, 0.007256311129880443), (361, 0.007256226246531383), (1541, 0.007253137722532372), (3005, 0.007248449586467214), (3121, 0.007243093165401555), (3702, 0.007238987010563344), (4539, 0.007234461966199914), (3848, 0.007230175748221412), (2754, 0.007214646874580985), (2208, 0.007213431529812011), (2266, 0.007211196198321513), (2856, 0.007208244971045256), (2260, 0.007207152618478173), (2350, 0.007206996212445902), (2775, 0.0071960256667251594), (4549, 0.0071808211497508476), (1556, 0.0071709628054520995), (1409, 0.0071709089524996245), (1744, 0.007164946507505411), (2842, 0.007162268827612745), (4453, 0.007160814811441637), (1891, 0.007157615118249315), (3994, 0.007155889549314164), (3730, 0.0071557516972882065), (1828, 0.007144405405627581), (3302, 0.0071439933116099665), (3732, 0.007143569772602332), (3981, 0.0071343845691481085), (1151, 0.007133764666611293), (4672, 0.007132623308377192), (4413, 0.00712227006335735), (978, 0.007119323169085658), (294, 0.0071180149086455015), (2911, 0.007114436497128744), (1093, 0.007114211456530304), (2810, 0.007108974908048497), (1113, 0.00710851360477225), (650, 0.007106928610327821), (2766, 0.0071053386489284), (114, 0.0071044921376873646), (101, 0.007104270822174243), (1521, 0.0071011528400171595), (4078, 0.007098310729179205), (3307, 0.007092898045844351), (2943, 0.0070862550787369), (2466, 0.007086245056959104), (423, 0.007081061426553782), (2700, 0.007079629625383664), (1771, 0.007077318718502017), (1273, 0.007076479881397444), (2738, 0.007066676246456223), (3882, 0.007062284415542717), (3922, 0.007061849087419202), (4228, 0.0070587458008701705), (390, 0.007058042677311185), (983, 0.007057666106866658), (4696, 0.007056050309258813), (4526, 0.007054158988846137), (4584, 0.007050396496863001), (1569, 0.007047581961630859), (1476, 0.007042312858843831), (215, 0.007037031829486333), (1839, 0.0070358838637306995), (1287, 0.007034699783304746), (4568, 0.007033989026247081), (1055, 0.007033464650427377), (2594, 0.007032904075046291), (2359, 0.007024209300165708), (1570, 0.007019046061752729), (1717, 0.007018063581122656), (2539, 0.007012504918459602), (1034, 0.00700863334103782), (1366, 0.007002803151990377), (1618, 0.006998731767632651), (1408, 0.00698718946137531), (1673, 0.0069822501895161525), (2964, 0.006979466846005554), (36, 0.006978505992668029), (2488, 0.00697832692789732), (4515, 0.006977942970459226), (4002, 0.006976464285512659), (1496, 0.006975307189160501), (3550, 0.006974530533868327), (2485, 0.006967667129019537), (1860, 0.0069600763686515224), (1411, 0.006959459474630262), (2872, 0.006959266120041264), (66, 0.0069494513359184915), (2535, 0.006946831655369397), (2269, 0.006942558530435305), (2150, 0.00693400998157122), (2914, 0.006925631984860549), (3802, 0.006919077345087952), (920, 0.00691734441668931), (3476, 0.00691472981079732), (4063, 0.00690832157185528), (3729, 0.006885893093214781), (1190, 0.006881673445638684), (4278, 0.006870824725376216), (3332, 0.006870208630615248), (4291, 0.00686952620990186), (2500, 0.006867210277858016), (3512, 0.006867028156513814), (3239, 0.006864730942802332), (1477, 0.006861240451241402), (3397, 0.0068597313291567565), (705, 0.006857432470411749), (2257, 0.0068489165850274215), (2787, 0.006843262751624245), (3188, 0.006842892754260945), (2859, 0.00684154701485583), (1170, 0.006840246614772566), (1372, 0.006839243590886484), (2865, 0.00683728965998143), (3616, 0.006837260686220431), (3304, 0.006835525264676245), (2352, 0.006820198523822094), (115, 0.006819005092917092), (3995, 0.006817530189458568), (4251, 0.006816404695027792), (2786, 0.006809674994088832), (2506, 0.006808712307412694), (2099, 0.0068084846856928515), (4560, 0.006807759419402537), (4545, 0.006806955463067378), (2619, 0.006788941804260751), (1468, 0.006779169019825978), (1285, 0.006773221337494628), (3589, 0.006757807068154784), (2262, 0.006757572501839652), (2202, 0.006754622168916178), (3685, 0.006745546838923943), (3820, 0.006742053320220244), (2274, 0.00671679581982653), (3832, 0.006714215855562257), (1780, 0.006708297029049013), (2319, 0.00670805872644266), (3749, 0.006698749149405804), (569, 0.0066977481618249336), (127, 0.006696352105154088), (1649, 0.006688851973076956), (3300, 0.006681494994044495), (2497, 0.006680977483649281), (405, 0.00667549625294854), (198, 0.006673010692451437), (1698, 0.006672466127739147), (2839, 0.006672030561900737), (4427, 0.006669676468253812), (2667, 0.0066681696575045715), (1299, 0.006663667508684193), (2422, 0.006661744427271861), (3842, 0.006659348205946221), (2862, 0.0066584913551157275), (1444, 0.006655685389000378), (466, 0.006649834524964218), (1242, 0.006646142002379355), (221, 0.006640407789890325), (2086, 0.006638951809704098), (151, 0.0066314866115212345), (3513, 0.006630665433529191), (3190, 0.006628624709142312), (1410, 0.0066276588936899855), (1038, 0.006627508858874427), (964, 0.006625338082111652), (3764, 0.006624829725385392), (559, 0.0066203237662463554), (1963, 0.006618919378955845), (3962, 0.006612322666905077), (1639, 0.006598825612138748), (2141, 0.006598207111875186), (1392, 0.0065925796703465754), (1877, 0.006592013974760471), (3314, 0.006589361085379956), (4451, 0.006587679849839648), (783, 0.0065821461063048335), (2450, 0.006581610121968066), (2195, 0.006580449112654758), (3517, 0.006580183813687567), (1597, 0.00657806414958757), (1089, 0.006571026163184117), (4197, 0.006565602113575533), (2659, 0.006563696800662328), (1308, 0.006555791004290857), (837, 0.006550247601199957), (4319, 0.006547145492664707), (2779, 0.006542509415194395), (2611, 0.006531775252421219), (925, 0.006526776388430753), (2342, 0.006524660160066007), (4418, 0.006520936558406389), (293, 0.00651797092905529), (3757, 0.006513884104782564), (4266, 0.006510403983233869), (2799, 0.006500319206548758), (437, 0.0064993751575752896), (1690, 0.006498986415287789), (536, 0.006495104223853875), (4262, 0.0064912260519674365), (1731, 0.0064874432368441474), (1722, 0.006486933095503095), (4410, 0.006471171426767891), (3519, 0.006470696657937322), (3687, 0.006469333596833769), (2006, 0.006466235961219559), (4687, 0.006465748108978952), (3932, 0.006465089065539676), (959, 0.006456007982122358), (579, 0.006454000547111024), (1803, 0.006451632457151429), (3899, 0.006451093866001276), (2168, 0.006450511712373391), (3369, 0.006448685356864095), (1103, 0.006447639900164882), (2351, 0.0064454929767135145), (2781, 0.006445202298136134), (3726, 0.006445141793756416), (3533, 0.006444152137557196), (340, 0.0064377383799890525), (3601, 0.006434495574447707), (2190, 0.006433766599717362), (4269, 0.0064284614114841305), (498, 0.006426759836134989), (1434, 0.006424668006344901), (4174, 0.006424459916516451), (2946, 0.006421644796361642), (3646, 0.006419624166941525), (3967, 0.006410657950661938), (3678, 0.0064102404739863564), (3542, 0.006410083715518583), (2679, 0.006405604743634569), (4479, 0.006400000768131636), (2129, 0.006398909398851181), (4010, 0.006398769658032077), (401, 0.006394928086575772), (2916, 0.006384474871038904), (3900, 0.006382688538112776), (2380, 0.006378918236270319), (2495, 0.006378285517335467), (2320, 0.006373284653556702), (2528, 0.006371336609819884), (473, 0.006366491718365324), (4485, 0.006364985141574715), (1768, 0.006364254777851078), (892, 0.006355532991379345), (3628, 0.006350645279319272), (2001, 0.0063451169850064154), (1955, 0.006342530048348418), (132, 0.006339633240655809), (3080, 0.006333360771708233), (4115, 0.006328489890460398), (2372, 0.006309792187812082), (3165, 0.006305315145616764), (1346, 0.006293776999492009), (4571, 0.006292775545358693), (3943, 0.0062916329892234125), (4745, 0.006290838116194591), (3335, 0.006284534813454686), (3007, 0.006283235281630643), (475, 0.006276909851806978), (2704, 0.006273064170402844), (301, 0.00627233191131437), (352, 0.006265616113961278), (3444, 0.006260182428089069), (955, 0.006259761384358726), (1460, 0.006258917276677755), (1938, 0.006258152279484603), (4254, 0.00625469478916812), (1155, 0.00625389601249449), (4616, 0.006253247778159549), (681, 0.0062506089136510155), (1775, 0.006250487561304013), (3695, 0.006249785216821341), (2270, 0.006234780788413252), (726, 0.006229278745216289), (2770, 0.006227823944957503), (1725, 0.006224560654386901), (3890, 0.006217140081289722), (2642, 0.006213371405980217), (490, 0.006212458773846492), (1813, 0.006211981535728936), (3323, 0.00621048792910004), (1036, 0.006203328119139696), (4634, 0.006198543203392922), (574, 0.006197850513007938), (150, 0.006196745406504065), (1792, 0.006188711008629878), (363, 0.006185219987352154), (1491, 0.006183707464750133), (1602, 0.0061820799782209635), (3918, 0.006181122860653539), (2850, 0.006174394346522242), (1929, 0.006173766461790104), (1599, 0.006167392256105154), (1615, 0.006167333365762475), (535, 0.006157918352918666), (1830, 0.006155958099199813), (2983, 0.006153887466464733), (245, 0.006144952256842932), (2572, 0.006140432013056203), (162, 0.006136304563090395), (4498, 0.006135770119742324), (4542, 0.0061346250857699505), (1646, 0.006128042108698126), (3662, 0.006113166778224708), (2561, 0.006113104972918335), (3075, 0.006106565201200811), (3590, 0.00610159692304006), (415, 0.00609929664637274), (4667, 0.006095552585678883), (1528, 0.0060935732436717726), (2504, 0.0060899109897873714), (1508, 0.006085622292328794), (1466, 0.0060812963233110055), (1199, 0.006078206604643499), (1268, 0.006075828532787019), (4743, 0.006070080441360083), (3419, 0.006069818313910185), (709, 0.006068663792446736), (2757, 0.006066837421750938), (2837, 0.006063076277427986), (3631, 0.006055990121042137), (2926, 0.006054794388051919), (789, 0.006036285107991525), (807, 0.006035994255874728), (3089, 0.0060348261785538645), (1067, 0.006033351474118566), (3813, 0.006032567550792665), (2399, 0.0060297218279772085), (3014, 0.006028414096180778), (2569, 0.006012583894555444), (2990, 0.006012382857808842), (4604, 0.006000285278851151), (2296, 0.005999022766907252), (117, 0.0059972604282210375), (4173, 0.005993955309959316), (129, 0.005992897277201652), (202, 0.005990962501762325), (767, 0.005990052229785287), (2556, 0.005984445745039662), (3329, 0.005982061233866565), (3977, 0.005977500063622108), (3490, 0.005975240760676626), (4417, 0.005974119697311759), (3442, 0.005971244014648223), (2634, 0.005959028618347553), (1037, 0.005955159679536333), (4415, 0.005953600682069253), (1956, 0.005952767856930863), (4239, 0.005939965032155167), (3709, 0.005938189021380081), (2071, 0.0059251791204567), (3037, 0.00591785621741413), (3790, 0.005910736138263647), (2531, 0.005906028133167478), (4220, 0.005905984022441057), (2721, 0.00590303877941685), (2441, 0.005901372939081659), (2937, 0.005898656771576585), (2492, 0.0058833787733292104), (2054, 0.005870955340480691), (585, 0.0058610446637681205), (1525, 0.005859083193536397), (2311, 0.005855301925498556), (4626, 0.005854754168124716), (4676, 0.005854290247484526), (1691, 0.005853488886592893), (3855, 0.005850089644798346), (2453, 0.005837451340828975), (82, 0.0058345160117279655), (4125, 0.005829416858388346), (2785, 0.005826312196657472), (1263, 0.005822550198391981), (1126, 0.005818341354252225), (2327, 0.0058182080738137945), (822, 0.0058148637879772355), (2118, 0.0058109880057289195), (711, 0.005810238735087483), (2651, 0.0058035073528928905), (230, 0.005803481065402013), (3546, 0.005791882473660892), (3485, 0.005790376324412147), (2548, 0.005789865088034076), (1746, 0.005788359726210563), (4171, 0.0057850682390238085), (3672, 0.0057848164435393805), (2059, 0.0057840947456035945), (1677, 0.005778414457019077), (2259, 0.005777994741434488), (747, 0.005775514633376439), (4179, 0.0057738910961359115), (3740, 0.0057729137812758905), (1233, 0.005769366353592646), (2875, 0.005763753826738889), (37, 0.0057510399422730655), (1728, 0.005739669124128122), (2564, 0.005737656519034319), (4607, 0.00573634449304055), (3523, 0.00573565119489998), (3647, 0.005726958383746463), (2435, 0.00572572182207556), (3309, 0.005723888443090231), (2586, 0.005716783736410728), (982, 0.005716053733889449), (439, 0.005710747052064224), (4738, 0.005705732481677818), (3212, 0.005705445292412594), (3928, 0.005705077589138576), (3391, 0.005702072734289138), (2756, 0.005694068627643228), (662, 0.00569022746805801), (3505, 0.00568963878013641), (1218, 0.0056861982038239065), (265, 0.005683533289241606), (1149, 0.005676463138466483), (2955, 0.005666129384818509), (3217, 0.00566303943617139), (4206, 0.005660103004551027), (3758, 0.005659577259138401), (4749, 0.005658631994676266), (3870, 0.005651962932256345), (839, 0.005649395018254072), (1139, 0.005648899997774428), (4065, 0.005644773615405126), (3441, 0.0056441309147653), (2936, 0.005643036866569742), (1301, 0.005641249815097351), (3051, 0.005638809101321864), (2165, 0.005632482105112909), (1159, 0.005628817019060235), (3543, 0.005619717827634372), (2693, 0.00560978190531434), (2019, 0.005598605192473263), (422, 0.005591079524922826), (901, 0.0055908887413257885), (1636, 0.005586649655868534), (2039, 0.005581270265449442), (1256, 0.005577552815689528), (1613, 0.0055738939052497145), (1947, 0.005564814993164665), (4207, 0.005559190029191023), (3990, 0.005558460890564056), (2968, 0.005556774726545338), (2090, 0.0055547155723599155), (1198, 0.005551044526528855), (2043, 0.005548223727714068), (780, 0.005546909475950894), (2987, 0.005545822608086705), (219, 0.0055404859639837465), (3578, 0.005537103320389794), (3145, 0.005528917706194567), (1271, 0.005526795971008135), (1534, 0.00552639283761884), (2708, 0.005522788617146728), (3878, 0.005517724058359394), (2063, 0.005517178899992912), (3683, 0.005516093139267664), (1415, 0.0055158245316627216), (3561, 0.005511842432280543), (2824, 0.005504408053824353), (1200, 0.0055033289132362375), (3479, 0.005499978825941196), (546, 0.005493571803246963), (2832, 0.005491977183382091), (3208, 0.005490606082416552), (626, 0.005488780598744863), (2827, 0.0054842909325012994), (49, 0.005484226605254048), (2407, 0.0054839279722062335), (4570, 0.00546990994576984), (4741, 0.005465900598023387), (4073, 0.005464985288267726), (3991, 0.005462293849632186), (4332, 0.005457562980636667), (3077, 0.005454196965780481), (1253, 0.005454109130916452), (179, 0.005452403184608443), (4311, 0.0054515149745337915), (2889, 0.005450788192004867), (708, 0.005447320831399807), (454, 0.00544608661302593), (4037, 0.005444550525806564), (1473, 0.005441153530963576), (4022, 0.0054383384788755755), (4019, 0.005435443877886058), (2702, 0.0054285212860489505), (3879, 0.005426810729100062), (1825, 0.005426276582769542), (995, 0.005423537071046507), (3250, 0.005420502055212174), (938, 0.005413595418778064), (2527, 0.005413577131921601), (2209, 0.005411266033213199), (3282, 0.005407877194989732), (1277, 0.005401797983180271), (2776, 0.0054012256352778424), (1029, 0.005399875039497688), (1291, 0.005399357420406066), (2384, 0.005385178391660154), (1133, 0.005385021070715372), (746, 0.0053689618173752675), (1855, 0.005366518367098667), (616, 0.0053613095131172794), (2357, 0.005357990479607461), (1171, 0.005353414065915324), (4150, 0.005352291439261681), (3607, 0.005349211307249078), (4694, 0.005348877632932398), (1592, 0.005348354123181842), (4744, 0.005334525702116984), (3617, 0.005328961209072368), (2719, 0.005325992858970207), (4723, 0.00532376436504542), (2817, 0.005320923523690881), (4222, 0.005319188818260583), (3268, 0.0053180828440243764), (3257, 0.005313585395792703), (2470, 0.005308072673756304), (2498, 0.005304195139039269), (2511, 0.005303688322043467), (1695, 0.005299439937736542), (272, 0.00529818665730175), (2590, 0.005295254884669854), (2322, 0.005294742742142118), (1917, 0.005291022878202951), (4520, 0.0052905762388987445), (1399, 0.005289451018093366), (1700, 0.005288332107720991), (821, 0.005282154380632913), (2332, 0.005279108114270401), (427, 0.005278086353487946), (4683, 0.005275948279114756), (2478, 0.005250548666879847), (2763, 0.005244534822400111), (2637, 0.005231292759918545), (2905, 0.005225483917981864), (4153, 0.005223298220764223), (2774, 0.005217590033863835), (302, 0.005212080896641179), (3538, 0.005211940070159907), (4569, 0.005206449704539938), (630, 0.005205372358289575), (2673, 0.005202246003357752), (4759, 0.005198346772717024), (3912, 0.00519398704735459), (4243, 0.005177535341569327), (3892, 0.0051772982811772745), (338, 0.005173976265350035), (4407, 0.005163517979967498), (497, 0.005161843750844626), (2271, 0.005158048611640549), (2225, 0.005156871677790517), (2392, 0.005150892114345482), (4657, 0.005142873787389476), (573, 0.0051426323992606335), (4423, 0.005142561609763913), (3128, 0.005134193093659584), (1606, 0.00513063577931484), (1820, 0.005129390040294788), (713, 0.005124027403658662), (3354, 0.0051155254396163564), (2241, 0.005096310647671622), (1524, 0.005088190470995707), (3258, 0.005086884678660517), (3874, 0.005085762061924314), (4544, 0.005084117467897182), (1979, 0.005081934087662448), (2901, 0.005078960720967094), (4230, 0.005074623345150211), (3627, 0.00507395571597562), (3372, 0.005069997384638857), (3544, 0.005068206622597162), (4521, 0.00506782407500162), (2325, 0.00506384095546471), (3074, 0.005059310135469077), (3020, 0.005053690492782217), (4364, 0.0050454695813117074), (4253, 0.005043010320900938), (2796, 0.005033045573807607), (3159, 0.005029945597334916), (2857, 0.005029753426642299), (1755, 0.005026806487413755), (2108, 0.005024533716381505), (2087, 0.005023769940016811), (1025, 0.005022744898320884), (4308, 0.00501055190836872), (2828, 0.005009857764448847), (3277, 0.005003937309194738), (2999, 0.005002107818809691), (1889, 0.0049985834023548005), (4111, 0.004983023104933546), (1019, 0.00494822446963503), (3252, 0.0049419313219542585), (3803, 0.004938758259793417), (4572, 0.004928059095759109), (1222, 0.0049212922094760475), (4461, 0.004916318395485936), (4107, 0.004884651335324498), (1363, 0.004876610906493762), (2300, 0.00486672857124651), (3714, 0.004861804112951528), (4643, 0.004858399947478736), (2613, 0.004845787154746333), (381, 0.004841770825611626), (2308, 0.004818329986905587), (3206, 0.004816965183691511), (4650, 0.004814250184775659), (4079, 0.0047967667878649044), (2938, 0.004791524188453333), (3016, 0.004772425064899515), (3577, 0.004760301703966919), (2508, 0.004753140206597306), (2970, 0.004743712120317347), (4126, 0.0047253148953554525), (4157, 0.004723680858264906), (838, 0.004719710564376154), (2666, 0.0047180085160459856), (2696, 0.004709259348634896), (3396, 0.004696418808454434), (3359, 0.0046901990126723), (1221, 0.004684541644440072), (157, 0.004681941075487615), (2597, 0.004676405965442963), (2585, 0.004671315579968471), (4652, 0.004670208784246722), (2028, 0.0046687596589158244), (2772, 0.004663868615890488), (4030, 0.004660217073142251), (4084, 0.004655332075632835), (2010, 0.004653800083020141), (3044, 0.00465365716491809), (2902, 0.004650270757707448), (4706, 0.00464713705492728), (3506, 0.004642561224778745), (1178, 0.004639235774373412), (2737, 0.0046381709042602895), (1669, 0.004614238246897825), (3414, 0.00461244393243107), (1626, 0.004610570955016758), (1326, 0.004610072820052599), (3636, 0.004589930992943483), (1039, 0.00458416295700046), (1928, 0.004583184799146302), (103, 0.004582374267189932), (2906, 0.004579525892809512), (3109, 0.004576603454728998), (3884, 0.004572228401943892), (4166, 0.004570003400644598), (2657, 0.004561386608431688), (2674, 0.004552838683670681), (1598, 0.0045470451778369106), (2811, 0.004538930928783764), (3707, 0.004524479956652984), (740, 0.004521243548636027), (764, 0.004519301711484953), (4753, 0.004516536194353842), (4651, 0.004482248056981206), (163, 0.004478760493561116), (3669, 0.004464426916626899), (3770, 0.004456140119227769), (2890, 0.004455155927371533), (4598, 0.004453266341991304), (3297, 0.004449370413295944), (3804, 0.00442859349176737), (4313, 0.004417856626070551), (1143, 0.0044140898766105024), (391, 0.004409087322735457), (4532, 0.0044081475740967305), (1467, 0.004405871865786784), (2164, 0.004401911583424448), (3554, 0.004384869049707996), (943, 0.004380464916346876), (4223, 0.004378155315798082), (2395, 0.004377619068705336), (3116, 0.004369543658336013), (4020, 0.004365197909885769), (2138, 0.004356603334319711), (3088, 0.004345491676335065), (4700, 0.004344546670924991), (4635, 0.004342712149980431), (3234, 0.004341258610466808), (4419, 0.004333064303210388), (2124, 0.004328121086032324), (3269, 0.004310327408455553), (3243, 0.004308122256767483), (2705, 0.0043046689551254035), (4151, 0.004296329880282381), (4562, 0.004294745528057301), (2821, 0.004275431348339731), (4540, 0.004261156153702688), (2323, 0.00426070904030332), (2248, 0.004241244821809801), (3050, 0.004218851158124942), (3198, 0.00421392015083249), (1954, 0.004204760647378536), (4169, 0.004201152523491829), (3348, 0.004194466630288518), (759, 0.004176454675014481), (487, 0.004170291805630928), (3235, 0.0041627463196305965), (3048, 0.004154723642791581), (2462, 0.0041499227487884), (1790, 0.004144898676839004), (603, 0.004134840645765285), (4752, 0.004132255683088354), (4393, 0.004127827286660872), (3972, 0.004100900445886678), (784, 0.004100752361061355), (1424, 0.004097469673536073), (2002, 0.00409106365143386), (4756, 0.0040822502272852956), (3847, 0.0040662141254875035), (3650, 0.004063672335081479), (3805, 0.004057678128676168), (65, 0.004053303687050642), (2472, 0.0040437786391396705), (3473, 0.0040416765823193855), (4547, 0.004034503162120825), (2676, 0.004028181115070509), (392, 0.004022322977947919), (3281, 0.004012751050045929), (3786, 0.003993528220483282), (2267, 0.00399088253308593), (3722, 0.003984049320501368), (4180, 0.003980555653592244), (2219, 0.003980308272978442), (2329, 0.003974795605112102), (1147, 0.0039723674196060375), (3575, 0.003968331417866), (1265, 0.003967696199525705), (3266, 0.003956065213303612), (1333, 0.003953383822004203), (4567, 0.003939926961795958), (4198, 0.003935482562290311), (2516, 0.003934354242242084), (365, 0.003920461390854643), (4648, 0.003913520478853445), (1603, 0.003910735967877483), (2818, 0.003907901639537586), (2147, 0.003906445625425112), (2243, 0.003903281919465297), (3681, 0.0039009836030767728), (3054, 0.003898667875049225), (1689, 0.003897165712562653), (3644, 0.0038938046177429226), (1549, 0.00389070690229367), (1577, 0.0038905395777799104), (1867, 0.003888585220162431), (2085, 0.0038882041336365334), (3461, 0.003882120567235894), (2589, 0.0038820455948642618), (1293, 0.0038811276988329393), (2281, 0.003879545372499831), (2046, 0.0038784168567270096), (771, 0.0038778513811852074), (1679, 0.003872851196244321), (3816, 0.003864244319047352), (4499, 0.0038629255574757467), (2880, 0.0038544652915681633), (2499, 0.0038519811436729962), (2081, 0.0038508882019147243), (1564, 0.0038431485678424933), (2032, 0.0038398856050996357), (2928, 0.0038395442753363707), (4127, 0.0038393349644929337), (4463, 0.0038365038605927375), (4276, 0.003830653086457543), (1328, 0.0038288068859794306), (2458, 0.003823566193911263), (3936, 0.0038193488320689703), (1697, 0.003817852503262542), (3626, 0.003816722950310501), (146, 0.0038153089504295162), (4301, 0.0038043908117113873), (841, 0.0038032587904213142), (1511, 0.0038025795557248693), (3172, 0.003800831646038244), (275, 0.003790893600347088), (4434, 0.0037872975683751788), (3724, 0.003785779037144853), (1101, 0.003782680787171596), (3838, 0.003782215563782868), (2864, 0.0037663825183664535), (4740, 0.0037658329618917817), (3181, 0.0037525494383406225), (4449, 0.003751106359572815), (1390, 0.0037469263656771026), (2793, 0.0037414896666091695), (4170, 0.0037379757315704437), (3690, 0.003736250213469472), (4040, 0.0037335675433194113), (2050, 0.0037228646506054087), (2747, 0.00372186995031073), (2979, 0.0037206750412737124), (1912, 0.0037083906084846236), (2036, 0.0037074539054485177), (665, 0.0037040759000933022), (610, 0.0037022086307860773), (3467, 0.0037011432249227415), (1926, 0.003700977712715562), (840, 0.0036953064506132964), (2180, 0.003687262519670567), (4714, 0.003682757211550992), (2956, 0.003681386977338598), (2025, 0.0036680045956793274), (3982, 0.003666944760907221), (2615, 0.003666385148128991), (2014, 0.0036643829445420217), (2218, 0.003664208182997892), (4728, 0.0036625816286511934), (1130, 0.003659992287362443), (2234, 0.0036573101176721424), (572, 0.0036465121422060752), (1834, 0.0036460451570026467), (2315, 0.003644921620350936), (3859, 0.003642493146930077), (2307, 0.003636169531398969), (2333, 0.003627915293026432), (3236, 0.003626232025740546), (567, 0.0036198344217482853), (4194, 0.003618710710943587), (4720, 0.0036083390140672113), (3789, 0.00360110490853687), (4425, 0.0036003393280976247), (188, 0.003598552722152517), (337, 0.0035768551802982836), (4556, 0.00357664320189434), (2982, 0.0035752315727810885), (2217, 0.0035742147597766557), (1704, 0.003574075985121909), (3482, 0.0035656031085663856), (1607, 0.003559627934928738), (3529, 0.003556539384943723), (4628, 0.003549519332853995), (4215, 0.0035492204622512135), (2369, 0.0035411257717867604), (28, 0.003540784553624705), (4027, 0.00353942939026504), (1756, 0.0035352586572747592), (4491, 0.0035336785140433957), (2337, 0.003531059756005355), (4236, 0.0035291271322323015), (525, 0.003519510154946999), (3455, 0.003519128870619462), (1664, 0.0035163088711622787), (2451, 0.0035103776442184037), (1668, 0.003507862703441094), (2222, 0.003505692615684923), (3668, 0.0035053108852884825), (1794, 0.0034933047727548445), (2620, 0.0034932576928576463), (1974, 0.0034927626581314243), (2836, 0.0034892677403154716), (4302, 0.0034848808508320386), (836, 0.0034845976962000888), (4688, 0.0034780903207990385), (3103, 0.0034746157246662137), (4730, 0.003471265883255535), (958, 0.0034665732752976693), (718, 0.003463693247550194), (2465, 0.0034551474416475037), (4690, 0.0034504050426266315), (335, 0.0034390893633307355), (3162, 0.003436757994983856), (4580, 0.0034332514901971745), (2272, 0.003426162203506642), (2263, 0.0034260719162412727), (1269, 0.0034233348382560974), (2297, 0.003420245538239994), (3562, 0.0034198777531713707), (3041, 0.003411782872825262), (4754, 0.0034018689063388947), (4702, 0.003394640051100852), (1288, 0.003388107266317623), (4204, 0.003379849098576737), (3885, 0.0033736100277909076), (4405, 0.003371184639305221), (2860, 0.003368122720033089), (736, 0.0033630446224662937), (2, 0.00334810244748002), (4317, 0.0033475485753811955), (3716, 0.003340423122914566), (1709, 0.003339410976283203), (2179, 0.003332911722732355), (3105, 0.003332849320984873), (3006, 0.003329803832283912), (4327, 0.003329622183234833), (4188, 0.0033204624082789954), (3321, 0.003316033467657292), (3141, 0.003307998170217031), (2835, 0.0033045640384749583), (3411, 0.0033043877324033825), (2125, 0.0032991807680468116), (1601, 0.003294847094885045), (2627, 0.003287929923545707), (2183, 0.0032853561782154165), (3651, 0.003282966693954933), (4519, 0.0032658320037575535), (3952, 0.003264634738420056), (2542, 0.0032610682323151435), (2033, 0.003257048498263369), (4167, 0.003254111003281545), (4578, 0.0032537196042680696), (2866, 0.003242045835199784), (4214, 0.0032353915194269604), (2256, 0.0032311282011421236), (4592, 0.0032287140375745873), (393, 0.003224252451492174), (2364, 0.0032081265247490185), (2748, 0.00320233125184156), (4191, 0.0031856120110051777), (2608, 0.003178190238388637), (3948, 0.0031776197191693864), (1785, 0.0031764081131313076), (2194, 0.0031618862889269145), (1016, 0.0031600132431904506), (3021, 0.0031599727706517807), (2456, 0.0031588060333905274), (2140, 0.0031485655925390637), (3047, 0.0031412988329509836), (379, 0.0031409988161608857), (3633, 0.0031387914734541944), (3585, 0.003109754139620595), (2829, 0.0031091196298248264), (602, 0.003102510708314964), (3062, 0.0031003321883125946), (2204, 0.0030903371487700807), (2973, 0.0030660003172568668), (3063, 0.00306272874137667), (1826, 0.0030521624847479026), (601, 0.003043558026332715), (3843, 0.0030311722154910702), (1984, 0.0030167964425480234), (3400, 0.003015674925336496), (786, 0.0029924713117329303), (1156, 0.0029906228401396554), (4644, 0.002982163911657769), (1212, 0.0029816039849189487), (2636, 0.002966636579116781), (3755, 0.002960192981192399), (933, 0.0029593722615230177), (3176, 0.002949832754829614), (2227, 0.0029455140559552103), (4736, 0.0029333261814811465), (506, 0.0029254790090794034), (2631, 0.002923472678127328), (4212, 0.0029025029862744566), (4671, 0.002898570741523792), (2997, 0.0028975718092338803), (366, 0.0028913602156437007), (3896, 0.002891275813664619), (2146, 0.0028687561263286655), (1883, 0.00286774142313875), (2900, 0.0028647182620878146), (3856, 0.002834099712154019), (2534, 0.0028281806114736517), (3717, 0.002790925823562761), (4693, 0.0027737847870186777), (4712, 0.00276288912862579), (237, 0.002736117544922942), (2398, 0.002719261118926206), (2433, 0.002703176630476524), (881, 0.0026855816281017627), (3830, 0.0026590679652316995), (3663, 0.002609117051432036), (4681, 0.002609117051432036), (2562, 0.0025903381652483477), (2220, 0.002532837479082529), (2703, 0.002499832790825136), (2671, 0.002468030959573629), (2814, 0.002399824017924832), (4455, 0.0023527442654569), (4026, 0.002337245479155436), (4742, 0.0022948466409700905), (2658, 0.002273165937331003), (3199, 0.002271005271945609), (3261, 0.002173632962241487), (3761, 0.0021620906446113957), (4439, 0.0021431644774424254), (1081, 0.002107914272015372), (1800, 0.0021025634324211805), (4751, 0.002077644617730517), (2312, 0.002057858510454799), (4250, 0.0020418075979346546), (4229, 0.0019672955307385295), (4201, 0.0019436477344992994), (2331, 0.0019220714661794512), (58, 0.001864920879383938), (3475, 0.0017658123130749768), (3115, 0.0016910226290481997), (4654, 0.001635464759052982), (3703, 0.0016245178259091265), (2669, 0.0016073033526544734), (4067, 0.0015751758390845376), (4480, 0.0015277192853403185), (3009, 0.0015222194907784181), (4021, 0.0015162508552219655), (2930, 0.0015146079788549976), (2282, 0.0015064664007226913), (3796, 0.0015035527026320493), (4618, 0.0014950286278979433), (1836, 0.0014728461979182492), (2941, 0.0014704176879657815), (4260, 0.0014643539462147707), (3931, 0.0014583491763993325), (2431, 0.0014561652573274718), (3988, 0.001449047677619861), (2483, 0.0014361681078338684), (4500, 0.0014317530035082631), (2806, 0.001427858626093312), (3439, 0.0014080864287921142), (2471, 0.0014013799209265465), (2247, 0.0013987593283629036), (3025, 0.001395352861143889), (4508, 0.0013940102719379682), (4271, 0.0013912875452208537), (3087, 0.001377306746624283), (1734, 0.0013744001508861551), (4372, 0.0013673577815883787), (3887, 0.0013622639465275183), (3107, 0.0013561502774969744), (2305, 0.0013519081235239172), (2851, 0.0013368899420335982), (2515, 0.0013360662094348645), (3686, 0.0013297538420280375), (2420, 0.0013147298129063476), (4190, 0.0013100329186903077), (3324, 0.0013058899462923667), (4424, 0.0012948958025420791), (2596, 0.001285629971275227), (4711, 0.0012817768161852506), (1487, 0.0012621464384056879), (4316, 0.0012571268096411958), (2186, 0.0012571002326837422), (4750, 0.0012545471110730882), (3251, 0.0012452704287778688), (2952, 0.0012377007580960673), (3950, 0.0012325050272213233), (3424, 0.0012293418427950038), (3371, 0.001226526220667701), (3350, 0.0012214028600519415), (3964, 0.0012174291868373628), (3034, 0.0012056844252288227), (3029, 0.0012012727477055782), (133, 0.001197529795826402), (3510, 0.00119160785686888), (4131, 0.0011841599499883974), (2604, 0.0011776662659700266), (2709, 0.0011717988131505434), (3422, 0.0011464015330303428), (4352, 0.0011425861403471977), (2663, 0.00113561671617914), (4437, 0.0011280503203765834), (2773, 0.0011255204938210067), (3930, 0.0011224633779813823), (3175, 0.0011131783652242467), (4755, 0.0011104697037559914), (3676, 0.0010978054110124655), (3545, 0.0010680834487209383), (3082, 0.0010327302634976895), (3177, 0.0010246072866707027), (3600, 0.0009985801641867154), (4237, 0.0009496619708965613), (2734, 0.000908251531083929), (3059, 0.0), (3383, 0.0), (3530, 0.0), (3800, 0.0), (3933, 0.0), (4199, 0.0), (4561, 0.0), (4631, 0.0)]\n"
          ]
        }
      ]
    },
    {
      "cell_type": "markdown",
      "source": [
        "Displaying Top Recommendations"
      ],
      "metadata": {
        "id": "fhsPZ-XNZfmT"
      }
    },
    {
      "cell_type": "code",
      "source": [
        "\n",
        "print('Top 40 Suggestions based on desired movie:-')\n",
        "i = 1\n",
        "\n",
        "for movie in SSM:\n",
        "  index = movie[0]\n",
        "  Title = ml[ml.index==index]['Movie_Title'].values[0]\n",
        "  if(i<41):\n",
        "    print(i,'. ',Title)\n",
        "    i+=1"
      ],
      "metadata": {
        "colab": {
          "base_uri": "https://localhost:8080/"
        },
        "id": "eN-OHR4WHS20",
        "outputId": "f551d377-9cd7-4c2a-b5a4-7681f5e9cbc3"
      },
      "execution_count": 51,
      "outputs": [
        {
          "output_type": "stream",
          "name": "stdout",
          "text": [
            "Top 40 Suggestions based on desired movie:-\n",
            "1 .  Niagara\n",
            "2 .  Tora! Tora! Tora!\n",
            "3 .  Ice Age\n",
            "4 .  Butch Cassidy and the Sundance Kid\n",
            "5 .  All That Jazz\n",
            "6 .  The Robe\n",
            "7 .  Kiss of Death\n",
            "8 .  Alexander's Ragtime Band\n",
            "9 .  The Devil Wears Prada\n",
            "10 .  Cheaper by the Dozen 2\n",
            "11 .  Master and Commander: The Far Side of the World\n",
            "12 .  Mad Hot Ballroom\n",
            "13 .  Glee: The Concert Movie\n",
            "14 .  The Other Woman\n",
            "15 .  Garfield\n",
            "16 .  Independence Day: Resurgence\n",
            "17 .  Deadline - U.S.A.\n",
            "18 .  Wall Street\n",
            "19 .  Brokeback Mountain\n",
            "20 .  The Longest Day\n",
            "21 .  Speed 2: Cruise Control\n",
            "22 .  Doctor Dolittle\n",
            "23 .  The Sitter\n",
            "24 .  Alien: Resurrection\n",
            "25 .  The Egyptian\n",
            "26 .  Home Alone 2: Lost in New York\n",
            "27 .  The Book of Life\n",
            "28 .  Some Like It Hot\n",
            "29 .  Dr. Dolittle 2\n",
            "30 .  The Object of My Affection\n",
            "31 .  Road to Perdition\n",
            "32 .  Alien\n",
            "33 .  Kiss of the Dragon\n",
            "34 .  Cleopatra\n",
            "35 .  Hoffa\n",
            "36 .  There's Something About Mary\n",
            "37 .  Caravans\n",
            "38 .  Grandma's Boy\n",
            "39 .  Flicka\n",
            "40 .  Chronicle\n"
          ]
        }
      ]
    },
    {
      "cell_type": "code",
      "source": [],
      "metadata": {
        "id": "_C8NK_UIOtn9"
      },
      "execution_count": 50,
      "outputs": []
    },
    {
      "cell_type": "markdown",
      "source": [
        "Explanation"
      ],
      "metadata": {
        "id": "WC8362LXZ-aI"
      }
    },
    {
      "cell_type": "markdown",
      "source": [
        "* The ML model works as a movie recommendation system based on text data and similarity measures.\n",
        "* It starts by importing the required libraries and loading a movie dataset from a CSV file.\n",
        "* The dataset is explored to understand its structure and characteristics.Specific columns of interest are selected, and missing values are filled with empty strings.\n",
        "*Multiple text columns, such as movie genre, director, cast, language, tagline, and production house, are concatenated into a single text column. This step prepares the textual information for vectorization.\n",
        "* The TF-IDF (Term Frequency-Inverse Document Frequency) vectorization technique is applied to convert the text data into numerical vectors.\n",
        "* Cosine similarity is calculated between pairs of movies using their TF-IDF vectors.\n",
        "* The result is a similarity matrix where each cell represents the cosine similarity score between two movies.\n",
        "* The user is prompted to input the title of the movie they want to watch.\n",
        "* The program finds close matches to the user's input movie title within the dataset using the 'difflib' library.\n",
        "* The closest matching movie is selected as a reference.\n",
        "* Recommendation scores are calculated for each movie in the dataset based on its similarity to the user's selected reference movie.\n",
        "* The recommendation scores are sorted in descending order to identify the most similar movies.\n",
        "* This creates a ranked list of movies based on their similarity to the user's input.\n",
        "* The top 40 movie suggestions, sorted by similarity score, are displayed to the user."
      ],
      "metadata": {
        "id": "X5QMJwO5WDuD"
      }
    }
  ]
}