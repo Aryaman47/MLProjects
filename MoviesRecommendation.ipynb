{
  "nbformat": 4,
  "nbformat_minor": 0,
  "metadata": {
    "colab": {
      "provenance": []
    },
    "kernelspec": {
      "name": "python3",
      "display_name": "Python 3"
    },
    "language_info": {
      "name": "python"
    }
  },
  "cells": [
    {
      "cell_type": "markdown",
      "source": [
        "**MOVIES RECOMMENDATION ML MODEL**\n",
        "\n",
        "---\n",
        "\n"
      ],
      "metadata": {
        "id": "N2cp4CWQc8Aa"
      }
    },
    {
      "cell_type": "markdown",
      "source": [
        "Objective: Take user's desired movie's name as input and recommend similar movies' names\n",
        "\n"
      ],
      "metadata": {
        "id": "NnLYeJK0VFeM"
      }
    },
    {
      "cell_type": "markdown",
      "source": [
        "Data Souce: https://github.com/YBIFoundation/Dataset"
      ],
      "metadata": {
        "id": "O8pKSU_1VoWX"
      }
    },
    {
      "cell_type": "markdown",
      "source": [
        "Importing Libraries and Loading Data"
      ],
      "metadata": {
        "id": "wnrapfxUXXx_"
      }
    },
    {
      "cell_type": "code",
      "source": [
        "import pandas as pd"
      ],
      "metadata": {
        "id": "IM-VEhEwc_ED"
      },
      "execution_count": null,
      "outputs": []
    },
    {
      "cell_type": "code",
      "source": [
        "import numpy as np"
      ],
      "metadata": {
        "id": "8ErFBVlQdKV8"
      },
      "execution_count": null,
      "outputs": []
    },
    {
      "cell_type": "code",
      "source": [
        "#ml stores the movies dataset\n",
        "ml = pd.read_csv('https://github.com/YBIFoundation/Dataset/raw/main/Movies%20Recommendation.csv')"
      ],
      "metadata": {
        "id": "6a-eiqpxdM_2"
      },
      "execution_count": 52,
      "outputs": []
    },
    {
      "cell_type": "markdown",
      "source": [
        "Data Exploration"
      ],
      "metadata": {
        "id": "lSzJgz-TXdRl"
      }
    },
    {
      "cell_type": "code",
      "source": [
        "ml.head()"
      ],
      "metadata": {
        "colab": {
          "base_uri": "https://localhost:8080/",
          "height": 672
        },
        "id": "n6kyBmE1ds90",
        "outputId": "48156799-910a-4669-97ac-a186d27835df"
      },
      "execution_count": null,
      "outputs": [
        {
          "output_type": "execute_result",
          "data": {
            "text/plain": [
              "   Movie_ID      Movie_Title                       Movie_Genre Movie_Language  \\\n",
              "0         1       Four Rooms                      Crime Comedy             en   \n",
              "1         2        Star Wars  Adventure Action Science Fiction             en   \n",
              "2         3     Finding Nemo                  Animation Family             en   \n",
              "3         4     Forrest Gump              Comedy Drama Romance             en   \n",
              "4         5  American Beauty                             Drama             en   \n",
              "\n",
              "   Movie_Budget  Movie_Popularity Movie_Release_Date  Movie_Revenue  \\\n",
              "0       4000000         22.876230         09-12-1995        4300000   \n",
              "1      11000000        126.393695         25-05-1977      775398007   \n",
              "2      94000000         85.688789         30-05-2003      940335536   \n",
              "3      55000000        138.133331         06-07-1994      677945399   \n",
              "4      15000000         80.878605         15-09-1999      356296601   \n",
              "\n",
              "   Movie_Runtime  Movie_Vote  ...  \\\n",
              "0           98.0         6.5  ...   \n",
              "1          121.0         8.1  ...   \n",
              "2          100.0         7.6  ...   \n",
              "3          142.0         8.2  ...   \n",
              "4          122.0         7.9  ...   \n",
              "\n",
              "                                      Movie_Homepage  \\\n",
              "0                                                NaN   \n",
              "1  http://www.starwars.com/films/star-wars-episod...   \n",
              "2              http://movies.disney.com/finding-nemo   \n",
              "3                                                NaN   \n",
              "4                      http://www.dreamworks.com/ab/   \n",
              "\n",
              "                                      Movie_Keywords  \\\n",
              "0          hotel new year's eve witch bet hotel room   \n",
              "1        android galaxy hermit death star lightsaber   \n",
              "2  father son relationship harbor underwater fish...   \n",
              "3  vietnam veteran hippie mentally disabled runni...   \n",
              "4  male nudity female nudity adultery midlife cri...   \n",
              "\n",
              "                                      Movie_Overview  \\\n",
              "0  It's Ted the Bellhop's first night on the job....   \n",
              "1  Princess Leia is captured and held hostage by ...   \n",
              "2  Nemo, an adventurous young clownfish, is unexp...   \n",
              "3  A man with a low IQ has accomplished great thi...   \n",
              "4  Lester Burnham, a depressed suburban father in...   \n",
              "\n",
              "                              Movie_Production_House  \\\n",
              "0  [{\"name\": \"Miramax Films\", \"id\": 14}, {\"name\":...   \n",
              "1  [{\"name\": \"Lucasfilm\", \"id\": 1}, {\"name\": \"Twe...   \n",
              "2     [{\"name\": \"Pixar Animation Studios\", \"id\": 3}]   \n",
              "3          [{\"name\": \"Paramount Pictures\", \"id\": 4}]   \n",
              "4  [{\"name\": \"DreamWorks SKG\", \"id\": 27}, {\"name\"...   \n",
              "\n",
              "                            Movie_Production_Country  \\\n",
              "0  [{\"iso_3166_1\": \"US\", \"name\": \"United States o...   \n",
              "1  [{\"iso_3166_1\": \"US\", \"name\": \"United States o...   \n",
              "2  [{\"iso_3166_1\": \"US\", \"name\": \"United States o...   \n",
              "3  [{\"iso_3166_1\": \"US\", \"name\": \"United States o...   \n",
              "4  [{\"iso_3166_1\": \"US\", \"name\": \"United States o...   \n",
              "\n",
              "                      Movie_Spoken_Language  \\\n",
              "0  [{\"iso_639_1\": \"en\", \"name\": \"English\"}]   \n",
              "1  [{\"iso_639_1\": \"en\", \"name\": \"English\"}]   \n",
              "2  [{\"iso_639_1\": \"en\", \"name\": \"English\"}]   \n",
              "3  [{\"iso_639_1\": \"en\", \"name\": \"English\"}]   \n",
              "4  [{\"iso_639_1\": \"en\", \"name\": \"English\"}]   \n",
              "\n",
              "                                       Movie_Tagline  \\\n",
              "0  Twelve outrageous guests. Four scandalous requ...   \n",
              "1       A long time ago in a galaxy far, far away...   \n",
              "2  There are 3.7 trillion fish in the ocean, they...   \n",
              "3  The world will never be the same, once you've ...   \n",
              "4                                       Look closer.   \n",
              "\n",
              "                                          Movie_Cast  \\\n",
              "0  Tim Roth Antonio Banderas Jennifer Beals Madon...   \n",
              "1  Mark Hamill Harrison Ford Carrie Fisher Peter ...   \n",
              "2  Albert Brooks Ellen DeGeneres Alexander Gould ...   \n",
              "3  Tom Hanks Robin Wright Gary Sinise Mykelti Wil...   \n",
              "4  Kevin Spacey Annette Bening Thora Birch Wes Be...   \n",
              "\n",
              "                                          Movie_Crew   Movie_Director  \n",
              "0  [{'name': 'Allison Anders', 'gender': 1, 'depa...   Allison Anders  \n",
              "1  [{'name': 'George Lucas', 'gender': 2, 'depart...     George Lucas  \n",
              "2  [{'name': 'Andrew Stanton', 'gender': 2, 'depa...   Andrew Stanton  \n",
              "3  [{'name': 'Alan Silvestri', 'gender': 2, 'depa...  Robert Zemeckis  \n",
              "4  [{'name': 'Thomas Newman', 'gender': 2, 'depar...       Sam Mendes  \n",
              "\n",
              "[5 rows x 21 columns]"
            ],
            "text/html": [
              "\n",
              "  <div id=\"df-bb5f8b66-143c-40c4-bf74-316cc50ecec9\" class=\"colab-df-container\">\n",
              "    <div>\n",
              "<style scoped>\n",
              "    .dataframe tbody tr th:only-of-type {\n",
              "        vertical-align: middle;\n",
              "    }\n",
              "\n",
              "    .dataframe tbody tr th {\n",
              "        vertical-align: top;\n",
              "    }\n",
              "\n",
              "    .dataframe thead th {\n",
              "        text-align: right;\n",
              "    }\n",
              "</style>\n",
              "<table border=\"1\" class=\"dataframe\">\n",
              "  <thead>\n",
              "    <tr style=\"text-align: right;\">\n",
              "      <th></th>\n",
              "      <th>Movie_ID</th>\n",
              "      <th>Movie_Title</th>\n",
              "      <th>Movie_Genre</th>\n",
              "      <th>Movie_Language</th>\n",
              "      <th>Movie_Budget</th>\n",
              "      <th>Movie_Popularity</th>\n",
              "      <th>Movie_Release_Date</th>\n",
              "      <th>Movie_Revenue</th>\n",
              "      <th>Movie_Runtime</th>\n",
              "      <th>Movie_Vote</th>\n",
              "      <th>...</th>\n",
              "      <th>Movie_Homepage</th>\n",
              "      <th>Movie_Keywords</th>\n",
              "      <th>Movie_Overview</th>\n",
              "      <th>Movie_Production_House</th>\n",
              "      <th>Movie_Production_Country</th>\n",
              "      <th>Movie_Spoken_Language</th>\n",
              "      <th>Movie_Tagline</th>\n",
              "      <th>Movie_Cast</th>\n",
              "      <th>Movie_Crew</th>\n",
              "      <th>Movie_Director</th>\n",
              "    </tr>\n",
              "  </thead>\n",
              "  <tbody>\n",
              "    <tr>\n",
              "      <th>0</th>\n",
              "      <td>1</td>\n",
              "      <td>Four Rooms</td>\n",
              "      <td>Crime Comedy</td>\n",
              "      <td>en</td>\n",
              "      <td>4000000</td>\n",
              "      <td>22.876230</td>\n",
              "      <td>09-12-1995</td>\n",
              "      <td>4300000</td>\n",
              "      <td>98.0</td>\n",
              "      <td>6.5</td>\n",
              "      <td>...</td>\n",
              "      <td>NaN</td>\n",
              "      <td>hotel new year's eve witch bet hotel room</td>\n",
              "      <td>It's Ted the Bellhop's first night on the job....</td>\n",
              "      <td>[{\"name\": \"Miramax Films\", \"id\": 14}, {\"name\":...</td>\n",
              "      <td>[{\"iso_3166_1\": \"US\", \"name\": \"United States o...</td>\n",
              "      <td>[{\"iso_639_1\": \"en\", \"name\": \"English\"}]</td>\n",
              "      <td>Twelve outrageous guests. Four scandalous requ...</td>\n",
              "      <td>Tim Roth Antonio Banderas Jennifer Beals Madon...</td>\n",
              "      <td>[{'name': 'Allison Anders', 'gender': 1, 'depa...</td>\n",
              "      <td>Allison Anders</td>\n",
              "    </tr>\n",
              "    <tr>\n",
              "      <th>1</th>\n",
              "      <td>2</td>\n",
              "      <td>Star Wars</td>\n",
              "      <td>Adventure Action Science Fiction</td>\n",
              "      <td>en</td>\n",
              "      <td>11000000</td>\n",
              "      <td>126.393695</td>\n",
              "      <td>25-05-1977</td>\n",
              "      <td>775398007</td>\n",
              "      <td>121.0</td>\n",
              "      <td>8.1</td>\n",
              "      <td>...</td>\n",
              "      <td>http://www.starwars.com/films/star-wars-episod...</td>\n",
              "      <td>android galaxy hermit death star lightsaber</td>\n",
              "      <td>Princess Leia is captured and held hostage by ...</td>\n",
              "      <td>[{\"name\": \"Lucasfilm\", \"id\": 1}, {\"name\": \"Twe...</td>\n",
              "      <td>[{\"iso_3166_1\": \"US\", \"name\": \"United States o...</td>\n",
              "      <td>[{\"iso_639_1\": \"en\", \"name\": \"English\"}]</td>\n",
              "      <td>A long time ago in a galaxy far, far away...</td>\n",
              "      <td>Mark Hamill Harrison Ford Carrie Fisher Peter ...</td>\n",
              "      <td>[{'name': 'George Lucas', 'gender': 2, 'depart...</td>\n",
              "      <td>George Lucas</td>\n",
              "    </tr>\n",
              "    <tr>\n",
              "      <th>2</th>\n",
              "      <td>3</td>\n",
              "      <td>Finding Nemo</td>\n",
              "      <td>Animation Family</td>\n",
              "      <td>en</td>\n",
              "      <td>94000000</td>\n",
              "      <td>85.688789</td>\n",
              "      <td>30-05-2003</td>\n",
              "      <td>940335536</td>\n",
              "      <td>100.0</td>\n",
              "      <td>7.6</td>\n",
              "      <td>...</td>\n",
              "      <td>http://movies.disney.com/finding-nemo</td>\n",
              "      <td>father son relationship harbor underwater fish...</td>\n",
              "      <td>Nemo, an adventurous young clownfish, is unexp...</td>\n",
              "      <td>[{\"name\": \"Pixar Animation Studios\", \"id\": 3}]</td>\n",
              "      <td>[{\"iso_3166_1\": \"US\", \"name\": \"United States o...</td>\n",
              "      <td>[{\"iso_639_1\": \"en\", \"name\": \"English\"}]</td>\n",
              "      <td>There are 3.7 trillion fish in the ocean, they...</td>\n",
              "      <td>Albert Brooks Ellen DeGeneres Alexander Gould ...</td>\n",
              "      <td>[{'name': 'Andrew Stanton', 'gender': 2, 'depa...</td>\n",
              "      <td>Andrew Stanton</td>\n",
              "    </tr>\n",
              "    <tr>\n",
              "      <th>3</th>\n",
              "      <td>4</td>\n",
              "      <td>Forrest Gump</td>\n",
              "      <td>Comedy Drama Romance</td>\n",
              "      <td>en</td>\n",
              "      <td>55000000</td>\n",
              "      <td>138.133331</td>\n",
              "      <td>06-07-1994</td>\n",
              "      <td>677945399</td>\n",
              "      <td>142.0</td>\n",
              "      <td>8.2</td>\n",
              "      <td>...</td>\n",
              "      <td>NaN</td>\n",
              "      <td>vietnam veteran hippie mentally disabled runni...</td>\n",
              "      <td>A man with a low IQ has accomplished great thi...</td>\n",
              "      <td>[{\"name\": \"Paramount Pictures\", \"id\": 4}]</td>\n",
              "      <td>[{\"iso_3166_1\": \"US\", \"name\": \"United States o...</td>\n",
              "      <td>[{\"iso_639_1\": \"en\", \"name\": \"English\"}]</td>\n",
              "      <td>The world will never be the same, once you've ...</td>\n",
              "      <td>Tom Hanks Robin Wright Gary Sinise Mykelti Wil...</td>\n",
              "      <td>[{'name': 'Alan Silvestri', 'gender': 2, 'depa...</td>\n",
              "      <td>Robert Zemeckis</td>\n",
              "    </tr>\n",
              "    <tr>\n",
              "      <th>4</th>\n",
              "      <td>5</td>\n",
              "      <td>American Beauty</td>\n",
              "      <td>Drama</td>\n",
              "      <td>en</td>\n",
              "      <td>15000000</td>\n",
              "      <td>80.878605</td>\n",
              "      <td>15-09-1999</td>\n",
              "      <td>356296601</td>\n",
              "      <td>122.0</td>\n",
              "      <td>7.9</td>\n",
              "      <td>...</td>\n",
              "      <td>http://www.dreamworks.com/ab/</td>\n",
              "      <td>male nudity female nudity adultery midlife cri...</td>\n",
              "      <td>Lester Burnham, a depressed suburban father in...</td>\n",
              "      <td>[{\"name\": \"DreamWorks SKG\", \"id\": 27}, {\"name\"...</td>\n",
              "      <td>[{\"iso_3166_1\": \"US\", \"name\": \"United States o...</td>\n",
              "      <td>[{\"iso_639_1\": \"en\", \"name\": \"English\"}]</td>\n",
              "      <td>Look closer.</td>\n",
              "      <td>Kevin Spacey Annette Bening Thora Birch Wes Be...</td>\n",
              "      <td>[{'name': 'Thomas Newman', 'gender': 2, 'depar...</td>\n",
              "      <td>Sam Mendes</td>\n",
              "    </tr>\n",
              "  </tbody>\n",
              "</table>\n",
              "<p>5 rows × 21 columns</p>\n",
              "</div>\n",
              "    <div class=\"colab-df-buttons\">\n",
              "\n",
              "  <div class=\"colab-df-container\">\n",
              "    <button class=\"colab-df-convert\" onclick=\"convertToInteractive('df-bb5f8b66-143c-40c4-bf74-316cc50ecec9')\"\n",
              "            title=\"Convert this dataframe to an interactive table.\"\n",
              "            style=\"display:none;\">\n",
              "\n",
              "  <svg xmlns=\"http://www.w3.org/2000/svg\" height=\"24px\" viewBox=\"0 -960 960 960\">\n",
              "    <path d=\"M120-120v-720h720v720H120Zm60-500h600v-160H180v160Zm220 220h160v-160H400v160Zm0 220h160v-160H400v160ZM180-400h160v-160H180v160Zm440 0h160v-160H620v160ZM180-180h160v-160H180v160Zm440 0h160v-160H620v160Z\"/>\n",
              "  </svg>\n",
              "    </button>\n",
              "\n",
              "  <style>\n",
              "    .colab-df-container {\n",
              "      display:flex;\n",
              "      gap: 12px;\n",
              "    }\n",
              "\n",
              "    .colab-df-convert {\n",
              "      background-color: #E8F0FE;\n",
              "      border: none;\n",
              "      border-radius: 50%;\n",
              "      cursor: pointer;\n",
              "      display: none;\n",
              "      fill: #1967D2;\n",
              "      height: 32px;\n",
              "      padding: 0 0 0 0;\n",
              "      width: 32px;\n",
              "    }\n",
              "\n",
              "    .colab-df-convert:hover {\n",
              "      background-color: #E2EBFA;\n",
              "      box-shadow: 0px 1px 2px rgba(60, 64, 67, 0.3), 0px 1px 3px 1px rgba(60, 64, 67, 0.15);\n",
              "      fill: #174EA6;\n",
              "    }\n",
              "\n",
              "    .colab-df-buttons div {\n",
              "      margin-bottom: 4px;\n",
              "    }\n",
              "\n",
              "    [theme=dark] .colab-df-convert {\n",
              "      background-color: #3B4455;\n",
              "      fill: #D2E3FC;\n",
              "    }\n",
              "\n",
              "    [theme=dark] .colab-df-convert:hover {\n",
              "      background-color: #434B5C;\n",
              "      box-shadow: 0px 1px 3px 1px rgba(0, 0, 0, 0.15);\n",
              "      filter: drop-shadow(0px 1px 2px rgba(0, 0, 0, 0.3));\n",
              "      fill: #FFFFFF;\n",
              "    }\n",
              "  </style>\n",
              "\n",
              "    <script>\n",
              "      const buttonEl =\n",
              "        document.querySelector('#df-bb5f8b66-143c-40c4-bf74-316cc50ecec9 button.colab-df-convert');\n",
              "      buttonEl.style.display =\n",
              "        google.colab.kernel.accessAllowed ? 'block' : 'none';\n",
              "\n",
              "      async function convertToInteractive(key) {\n",
              "        const element = document.querySelector('#df-bb5f8b66-143c-40c4-bf74-316cc50ecec9');\n",
              "        const dataTable =\n",
              "          await google.colab.kernel.invokeFunction('convertToInteractive',\n",
              "                                                    [key], {});\n",
              "        if (!dataTable) return;\n",
              "\n",
              "        const docLinkHtml = 'Like what you see? Visit the ' +\n",
              "          '<a target=\"_blank\" href=https://colab.research.google.com/notebooks/data_table.ipynb>data table notebook</a>'\n",
              "          + ' to learn more about interactive tables.';\n",
              "        element.innerHTML = '';\n",
              "        dataTable['output_type'] = 'display_data';\n",
              "        await google.colab.output.renderOutput(dataTable, element);\n",
              "        const docLink = document.createElement('div');\n",
              "        docLink.innerHTML = docLinkHtml;\n",
              "        element.appendChild(docLink);\n",
              "      }\n",
              "    </script>\n",
              "  </div>\n",
              "\n",
              "\n",
              "<div id=\"df-dee16069-83fd-494b-946a-706ee4716255\">\n",
              "  <button class=\"colab-df-quickchart\" onclick=\"quickchart('df-dee16069-83fd-494b-946a-706ee4716255')\"\n",
              "            title=\"Suggest charts.\"\n",
              "            style=\"display:none;\">\n",
              "\n",
              "<svg xmlns=\"http://www.w3.org/2000/svg\" height=\"24px\"viewBox=\"0 0 24 24\"\n",
              "     width=\"24px\">\n",
              "    <g>\n",
              "        <path d=\"M19 3H5c-1.1 0-2 .9-2 2v14c0 1.1.9 2 2 2h14c1.1 0 2-.9 2-2V5c0-1.1-.9-2-2-2zM9 17H7v-7h2v7zm4 0h-2V7h2v10zm4 0h-2v-4h2v4z\"/>\n",
              "    </g>\n",
              "</svg>\n",
              "  </button>\n",
              "\n",
              "<style>\n",
              "  .colab-df-quickchart {\n",
              "      --bg-color: #E8F0FE;\n",
              "      --fill-color: #1967D2;\n",
              "      --hover-bg-color: #E2EBFA;\n",
              "      --hover-fill-color: #174EA6;\n",
              "      --disabled-fill-color: #AAA;\n",
              "      --disabled-bg-color: #DDD;\n",
              "  }\n",
              "\n",
              "  [theme=dark] .colab-df-quickchart {\n",
              "      --bg-color: #3B4455;\n",
              "      --fill-color: #D2E3FC;\n",
              "      --hover-bg-color: #434B5C;\n",
              "      --hover-fill-color: #FFFFFF;\n",
              "      --disabled-bg-color: #3B4455;\n",
              "      --disabled-fill-color: #666;\n",
              "  }\n",
              "\n",
              "  .colab-df-quickchart {\n",
              "    background-color: var(--bg-color);\n",
              "    border: none;\n",
              "    border-radius: 50%;\n",
              "    cursor: pointer;\n",
              "    display: none;\n",
              "    fill: var(--fill-color);\n",
              "    height: 32px;\n",
              "    padding: 0;\n",
              "    width: 32px;\n",
              "  }\n",
              "\n",
              "  .colab-df-quickchart:hover {\n",
              "    background-color: var(--hover-bg-color);\n",
              "    box-shadow: 0 1px 2px rgba(60, 64, 67, 0.3), 0 1px 3px 1px rgba(60, 64, 67, 0.15);\n",
              "    fill: var(--button-hover-fill-color);\n",
              "  }\n",
              "\n",
              "  .colab-df-quickchart-complete:disabled,\n",
              "  .colab-df-quickchart-complete:disabled:hover {\n",
              "    background-color: var(--disabled-bg-color);\n",
              "    fill: var(--disabled-fill-color);\n",
              "    box-shadow: none;\n",
              "  }\n",
              "\n",
              "  .colab-df-spinner {\n",
              "    border: 2px solid var(--fill-color);\n",
              "    border-color: transparent;\n",
              "    border-bottom-color: var(--fill-color);\n",
              "    animation:\n",
              "      spin 1s steps(1) infinite;\n",
              "  }\n",
              "\n",
              "  @keyframes spin {\n",
              "    0% {\n",
              "      border-color: transparent;\n",
              "      border-bottom-color: var(--fill-color);\n",
              "      border-left-color: var(--fill-color);\n",
              "    }\n",
              "    20% {\n",
              "      border-color: transparent;\n",
              "      border-left-color: var(--fill-color);\n",
              "      border-top-color: var(--fill-color);\n",
              "    }\n",
              "    30% {\n",
              "      border-color: transparent;\n",
              "      border-left-color: var(--fill-color);\n",
              "      border-top-color: var(--fill-color);\n",
              "      border-right-color: var(--fill-color);\n",
              "    }\n",
              "    40% {\n",
              "      border-color: transparent;\n",
              "      border-right-color: var(--fill-color);\n",
              "      border-top-color: var(--fill-color);\n",
              "    }\n",
              "    60% {\n",
              "      border-color: transparent;\n",
              "      border-right-color: var(--fill-color);\n",
              "    }\n",
              "    80% {\n",
              "      border-color: transparent;\n",
              "      border-right-color: var(--fill-color);\n",
              "      border-bottom-color: var(--fill-color);\n",
              "    }\n",
              "    90% {\n",
              "      border-color: transparent;\n",
              "      border-bottom-color: var(--fill-color);\n",
              "    }\n",
              "  }\n",
              "</style>\n",
              "\n",
              "  <script>\n",
              "    async function quickchart(key) {\n",
              "      const quickchartButtonEl =\n",
              "        document.querySelector('#' + key + ' button');\n",
              "      quickchartButtonEl.disabled = true;  // To prevent multiple clicks.\n",
              "      quickchartButtonEl.classList.add('colab-df-spinner');\n",
              "      try {\n",
              "        const charts = await google.colab.kernel.invokeFunction(\n",
              "            'suggestCharts', [key], {});\n",
              "      } catch (error) {\n",
              "        console.error('Error during call to suggestCharts:', error);\n",
              "      }\n",
              "      quickchartButtonEl.classList.remove('colab-df-spinner');\n",
              "      quickchartButtonEl.classList.add('colab-df-quickchart-complete');\n",
              "    }\n",
              "    (() => {\n",
              "      let quickchartButtonEl =\n",
              "        document.querySelector('#df-dee16069-83fd-494b-946a-706ee4716255 button');\n",
              "      quickchartButtonEl.style.display =\n",
              "        google.colab.kernel.accessAllowed ? 'block' : 'none';\n",
              "    })();\n",
              "  </script>\n",
              "</div>\n",
              "    </div>\n",
              "  </div>\n"
            ]
          },
          "metadata": {},
          "execution_count": 5
        }
      ]
    },
    {
      "cell_type": "code",
      "source": [
        "ml.info()"
      ],
      "metadata": {
        "colab": {
          "base_uri": "https://localhost:8080/"
        },
        "id": "IkPDyBfdduNL",
        "outputId": "322b499f-bd7c-4f62-c0f7-1ed87b6cbeb7"
      },
      "execution_count": null,
      "outputs": [
        {
          "output_type": "stream",
          "name": "stdout",
          "text": [
            "<class 'pandas.core.frame.DataFrame'>\n",
            "RangeIndex: 4760 entries, 0 to 4759\n",
            "Data columns (total 21 columns):\n",
            " #   Column                    Non-Null Count  Dtype  \n",
            "---  ------                    --------------  -----  \n",
            " 0   Movie_ID                  4760 non-null   int64  \n",
            " 1   Movie_Title               4760 non-null   object \n",
            " 2   Movie_Genre               4760 non-null   object \n",
            " 3   Movie_Language            4760 non-null   object \n",
            " 4   Movie_Budget              4760 non-null   int64  \n",
            " 5   Movie_Popularity          4760 non-null   float64\n",
            " 6   Movie_Release_Date        4760 non-null   object \n",
            " 7   Movie_Revenue             4760 non-null   int64  \n",
            " 8   Movie_Runtime             4758 non-null   float64\n",
            " 9   Movie_Vote                4760 non-null   float64\n",
            " 10  Movie_Vote_Count          4760 non-null   int64  \n",
            " 11  Movie_Homepage            1699 non-null   object \n",
            " 12  Movie_Keywords            4373 non-null   object \n",
            " 13  Movie_Overview            4757 non-null   object \n",
            " 14  Movie_Production_House    4760 non-null   object \n",
            " 15  Movie_Production_Country  4760 non-null   object \n",
            " 16  Movie_Spoken_Language     4760 non-null   object \n",
            " 17  Movie_Tagline             3942 non-null   object \n",
            " 18  Movie_Cast                4733 non-null   object \n",
            " 19  Movie_Crew                4760 non-null   object \n",
            " 20  Movie_Director            4738 non-null   object \n",
            "dtypes: float64(3), int64(4), object(14)\n",
            "memory usage: 781.1+ KB\n"
          ]
        }
      ]
    },
    {
      "cell_type": "code",
      "source": [
        "ml.shape"
      ],
      "metadata": {
        "colab": {
          "base_uri": "https://localhost:8080/"
        },
        "id": "OQbA88aseKRj",
        "outputId": "b28f6be5-d73b-4e4a-b805-5a86fa90e9a1"
      },
      "execution_count": null,
      "outputs": [
        {
          "output_type": "execute_result",
          "data": {
            "text/plain": [
              "(4760, 21)"
            ]
          },
          "metadata": {},
          "execution_count": 7
        }
      ]
    },
    {
      "cell_type": "code",
      "source": [
        "ml.columns"
      ],
      "metadata": {
        "colab": {
          "base_uri": "https://localhost:8080/"
        },
        "id": "yt-RMUFNePDD",
        "outputId": "d1b3ed48-ef05-4a22-9d75-0d5f0ec3a7fe"
      },
      "execution_count": null,
      "outputs": [
        {
          "output_type": "execute_result",
          "data": {
            "text/plain": [
              "Index(['Movie_ID', 'Movie_Title', 'Movie_Genre', 'Movie_Language',\n",
              "       'Movie_Budget', 'Movie_Popularity', 'Movie_Release_Date',\n",
              "       'Movie_Revenue', 'Movie_Runtime', 'Movie_Vote', 'Movie_Vote_Count',\n",
              "       'Movie_Homepage', 'Movie_Keywords', 'Movie_Overview',\n",
              "       'Movie_Production_House', 'Movie_Production_Country',\n",
              "       'Movie_Spoken_Language', 'Movie_Tagline', 'Movie_Cast', 'Movie_Crew',\n",
              "       'Movie_Director'],\n",
              "      dtype='object')"
            ]
          },
          "metadata": {},
          "execution_count": 8
        }
      ]
    },
    {
      "cell_type": "markdown",
      "source": [
        "Data Preprocessing"
      ],
      "metadata": {
        "id": "1_nYetasX_Ci"
      }
    },
    {
      "cell_type": "code",
      "source": [
        "mlf = ml[['Movie_Genre', 'Movie_Director', 'Movie_Cast', 'Movie_Language', 'Movie_Tagline', 'Movie_Production_House']].fillna('')"
      ],
      "metadata": {
        "id": "RoUeiaI2elUD"
      },
      "execution_count": null,
      "outputs": []
    },
    {
      "cell_type": "code",
      "source": [
        "mlf.shape"
      ],
      "metadata": {
        "colab": {
          "base_uri": "https://localhost:8080/"
        },
        "id": "J7UdC81CfjrB",
        "outputId": "e0f74cdb-6df8-472c-da03-74f7c6bc306a"
      },
      "execution_count": null,
      "outputs": [
        {
          "output_type": "execute_result",
          "data": {
            "text/plain": [
              "(4760, 6)"
            ]
          },
          "metadata": {},
          "execution_count": 10
        }
      ]
    },
    {
      "cell_type": "code",
      "source": [
        "mlf"
      ],
      "metadata": {
        "colab": {
          "base_uri": "https://localhost:8080/",
          "height": 1000
        },
        "id": "-ofbWFKKflsg",
        "outputId": "9b0d8250-bb35-41d1-e3a4-fd392c2115db"
      },
      "execution_count": null,
      "outputs": [
        {
          "output_type": "execute_result",
          "data": {
            "text/plain": [
              "                           Movie_Genre     Movie_Director  \\\n",
              "0                         Crime Comedy     Allison Anders   \n",
              "1     Adventure Action Science Fiction       George Lucas   \n",
              "2                     Animation Family     Andrew Stanton   \n",
              "3                 Comedy Drama Romance    Robert Zemeckis   \n",
              "4                                Drama         Sam Mendes   \n",
              "...                                ...                ...   \n",
              "4755                            Horror         Pece Dingo   \n",
              "4756               Comedy Family Drama       Frank Lotito   \n",
              "4757                    Thriller Drama       Jaco Booyens   \n",
              "4758                            Family                      \n",
              "4759                       Documentary  Simon Napier-Bell   \n",
              "\n",
              "                                             Movie_Cast Movie_Language  \\\n",
              "0     Tim Roth Antonio Banderas Jennifer Beals Madon...             en   \n",
              "1     Mark Hamill Harrison Ford Carrie Fisher Peter ...             en   \n",
              "2     Albert Brooks Ellen DeGeneres Alexander Gould ...             en   \n",
              "3     Tom Hanks Robin Wright Gary Sinise Mykelti Wil...             en   \n",
              "4     Kevin Spacey Annette Bening Thora Birch Wes Be...             en   \n",
              "...                                                 ...            ...   \n",
              "4755  Lisa Hart Carroll Michael Des Barres Paul Drak...             en   \n",
              "4756  Roni Akurati Brighton Sharbino Jason Lee Anjul...             en   \n",
              "4757  Nicole Smolen Kim Baldwin Ariana Stephens Brys...             en   \n",
              "4758                                                                en   \n",
              "4759                                    Tony Oppedisano             en   \n",
              "\n",
              "                                          Movie_Tagline  \\\n",
              "0     Twelve outrageous guests. Four scandalous requ...   \n",
              "1          A long time ago in a galaxy far, far away...   \n",
              "2     There are 3.7 trillion fish in the ocean, they...   \n",
              "3     The world will never be the same, once you've ...   \n",
              "4                                          Look closer.   \n",
              "...                                                 ...   \n",
              "4755                The hot spot where Satan's waitin'.   \n",
              "4756           It’s better to stand out than to fit in.   \n",
              "4757           She never knew it could happen to her...   \n",
              "4758                                                      \n",
              "4759                                                      \n",
              "\n",
              "                                 Movie_Production_House  \n",
              "0     [{\"name\": \"Miramax Films\", \"id\": 14}, {\"name\":...  \n",
              "1     [{\"name\": \"Lucasfilm\", \"id\": 1}, {\"name\": \"Twe...  \n",
              "2        [{\"name\": \"Pixar Animation Studios\", \"id\": 3}]  \n",
              "3             [{\"name\": \"Paramount Pictures\", \"id\": 4}]  \n",
              "4     [{\"name\": \"DreamWorks SKG\", \"id\": 27}, {\"name\"...  \n",
              "...                                                 ...  \n",
              "4755                                                 []  \n",
              "4756                                                 []  \n",
              "4757     [{\"name\": \"After Eden Pictures\", \"id\": 85248}]  \n",
              "4758    [{\"name\": \"New Kingdom Pictures\", \"id\": 41671}]  \n",
              "4759   [{\"name\": \"Eyeline Entertainment\", \"id\": 60343}]  \n",
              "\n",
              "[4760 rows x 6 columns]"
            ],
            "text/html": [
              "\n",
              "  <div id=\"df-ee4133d7-2404-4377-ba71-1de6774ab713\" class=\"colab-df-container\">\n",
              "    <div>\n",
              "<style scoped>\n",
              "    .dataframe tbody tr th:only-of-type {\n",
              "        vertical-align: middle;\n",
              "    }\n",
              "\n",
              "    .dataframe tbody tr th {\n",
              "        vertical-align: top;\n",
              "    }\n",
              "\n",
              "    .dataframe thead th {\n",
              "        text-align: right;\n",
              "    }\n",
              "</style>\n",
              "<table border=\"1\" class=\"dataframe\">\n",
              "  <thead>\n",
              "    <tr style=\"text-align: right;\">\n",
              "      <th></th>\n",
              "      <th>Movie_Genre</th>\n",
              "      <th>Movie_Director</th>\n",
              "      <th>Movie_Cast</th>\n",
              "      <th>Movie_Language</th>\n",
              "      <th>Movie_Tagline</th>\n",
              "      <th>Movie_Production_House</th>\n",
              "    </tr>\n",
              "  </thead>\n",
              "  <tbody>\n",
              "    <tr>\n",
              "      <th>0</th>\n",
              "      <td>Crime Comedy</td>\n",
              "      <td>Allison Anders</td>\n",
              "      <td>Tim Roth Antonio Banderas Jennifer Beals Madon...</td>\n",
              "      <td>en</td>\n",
              "      <td>Twelve outrageous guests. Four scandalous requ...</td>\n",
              "      <td>[{\"name\": \"Miramax Films\", \"id\": 14}, {\"name\":...</td>\n",
              "    </tr>\n",
              "    <tr>\n",
              "      <th>1</th>\n",
              "      <td>Adventure Action Science Fiction</td>\n",
              "      <td>George Lucas</td>\n",
              "      <td>Mark Hamill Harrison Ford Carrie Fisher Peter ...</td>\n",
              "      <td>en</td>\n",
              "      <td>A long time ago in a galaxy far, far away...</td>\n",
              "      <td>[{\"name\": \"Lucasfilm\", \"id\": 1}, {\"name\": \"Twe...</td>\n",
              "    </tr>\n",
              "    <tr>\n",
              "      <th>2</th>\n",
              "      <td>Animation Family</td>\n",
              "      <td>Andrew Stanton</td>\n",
              "      <td>Albert Brooks Ellen DeGeneres Alexander Gould ...</td>\n",
              "      <td>en</td>\n",
              "      <td>There are 3.7 trillion fish in the ocean, they...</td>\n",
              "      <td>[{\"name\": \"Pixar Animation Studios\", \"id\": 3}]</td>\n",
              "    </tr>\n",
              "    <tr>\n",
              "      <th>3</th>\n",
              "      <td>Comedy Drama Romance</td>\n",
              "      <td>Robert Zemeckis</td>\n",
              "      <td>Tom Hanks Robin Wright Gary Sinise Mykelti Wil...</td>\n",
              "      <td>en</td>\n",
              "      <td>The world will never be the same, once you've ...</td>\n",
              "      <td>[{\"name\": \"Paramount Pictures\", \"id\": 4}]</td>\n",
              "    </tr>\n",
              "    <tr>\n",
              "      <th>4</th>\n",
              "      <td>Drama</td>\n",
              "      <td>Sam Mendes</td>\n",
              "      <td>Kevin Spacey Annette Bening Thora Birch Wes Be...</td>\n",
              "      <td>en</td>\n",
              "      <td>Look closer.</td>\n",
              "      <td>[{\"name\": \"DreamWorks SKG\", \"id\": 27}, {\"name\"...</td>\n",
              "    </tr>\n",
              "    <tr>\n",
              "      <th>...</th>\n",
              "      <td>...</td>\n",
              "      <td>...</td>\n",
              "      <td>...</td>\n",
              "      <td>...</td>\n",
              "      <td>...</td>\n",
              "      <td>...</td>\n",
              "    </tr>\n",
              "    <tr>\n",
              "      <th>4755</th>\n",
              "      <td>Horror</td>\n",
              "      <td>Pece Dingo</td>\n",
              "      <td>Lisa Hart Carroll Michael Des Barres Paul Drak...</td>\n",
              "      <td>en</td>\n",
              "      <td>The hot spot where Satan's waitin'.</td>\n",
              "      <td>[]</td>\n",
              "    </tr>\n",
              "    <tr>\n",
              "      <th>4756</th>\n",
              "      <td>Comedy Family Drama</td>\n",
              "      <td>Frank Lotito</td>\n",
              "      <td>Roni Akurati Brighton Sharbino Jason Lee Anjul...</td>\n",
              "      <td>en</td>\n",
              "      <td>It’s better to stand out than to fit in.</td>\n",
              "      <td>[]</td>\n",
              "    </tr>\n",
              "    <tr>\n",
              "      <th>4757</th>\n",
              "      <td>Thriller Drama</td>\n",
              "      <td>Jaco Booyens</td>\n",
              "      <td>Nicole Smolen Kim Baldwin Ariana Stephens Brys...</td>\n",
              "      <td>en</td>\n",
              "      <td>She never knew it could happen to her...</td>\n",
              "      <td>[{\"name\": \"After Eden Pictures\", \"id\": 85248}]</td>\n",
              "    </tr>\n",
              "    <tr>\n",
              "      <th>4758</th>\n",
              "      <td>Family</td>\n",
              "      <td></td>\n",
              "      <td></td>\n",
              "      <td>en</td>\n",
              "      <td></td>\n",
              "      <td>[{\"name\": \"New Kingdom Pictures\", \"id\": 41671}]</td>\n",
              "    </tr>\n",
              "    <tr>\n",
              "      <th>4759</th>\n",
              "      <td>Documentary</td>\n",
              "      <td>Simon Napier-Bell</td>\n",
              "      <td>Tony Oppedisano</td>\n",
              "      <td>en</td>\n",
              "      <td></td>\n",
              "      <td>[{\"name\": \"Eyeline Entertainment\", \"id\": 60343}]</td>\n",
              "    </tr>\n",
              "  </tbody>\n",
              "</table>\n",
              "<p>4760 rows × 6 columns</p>\n",
              "</div>\n",
              "    <div class=\"colab-df-buttons\">\n",
              "\n",
              "  <div class=\"colab-df-container\">\n",
              "    <button class=\"colab-df-convert\" onclick=\"convertToInteractive('df-ee4133d7-2404-4377-ba71-1de6774ab713')\"\n",
              "            title=\"Convert this dataframe to an interactive table.\"\n",
              "            style=\"display:none;\">\n",
              "\n",
              "  <svg xmlns=\"http://www.w3.org/2000/svg\" height=\"24px\" viewBox=\"0 -960 960 960\">\n",
              "    <path d=\"M120-120v-720h720v720H120Zm60-500h600v-160H180v160Zm220 220h160v-160H400v160Zm0 220h160v-160H400v160ZM180-400h160v-160H180v160Zm440 0h160v-160H620v160ZM180-180h160v-160H180v160Zm440 0h160v-160H620v160Z\"/>\n",
              "  </svg>\n",
              "    </button>\n",
              "\n",
              "  <style>\n",
              "    .colab-df-container {\n",
              "      display:flex;\n",
              "      gap: 12px;\n",
              "    }\n",
              "\n",
              "    .colab-df-convert {\n",
              "      background-color: #E8F0FE;\n",
              "      border: none;\n",
              "      border-radius: 50%;\n",
              "      cursor: pointer;\n",
              "      display: none;\n",
              "      fill: #1967D2;\n",
              "      height: 32px;\n",
              "      padding: 0 0 0 0;\n",
              "      width: 32px;\n",
              "    }\n",
              "\n",
              "    .colab-df-convert:hover {\n",
              "      background-color: #E2EBFA;\n",
              "      box-shadow: 0px 1px 2px rgba(60, 64, 67, 0.3), 0px 1px 3px 1px rgba(60, 64, 67, 0.15);\n",
              "      fill: #174EA6;\n",
              "    }\n",
              "\n",
              "    .colab-df-buttons div {\n",
              "      margin-bottom: 4px;\n",
              "    }\n",
              "\n",
              "    [theme=dark] .colab-df-convert {\n",
              "      background-color: #3B4455;\n",
              "      fill: #D2E3FC;\n",
              "    }\n",
              "\n",
              "    [theme=dark] .colab-df-convert:hover {\n",
              "      background-color: #434B5C;\n",
              "      box-shadow: 0px 1px 3px 1px rgba(0, 0, 0, 0.15);\n",
              "      filter: drop-shadow(0px 1px 2px rgba(0, 0, 0, 0.3));\n",
              "      fill: #FFFFFF;\n",
              "    }\n",
              "  </style>\n",
              "\n",
              "    <script>\n",
              "      const buttonEl =\n",
              "        document.querySelector('#df-ee4133d7-2404-4377-ba71-1de6774ab713 button.colab-df-convert');\n",
              "      buttonEl.style.display =\n",
              "        google.colab.kernel.accessAllowed ? 'block' : 'none';\n",
              "\n",
              "      async function convertToInteractive(key) {\n",
              "        const element = document.querySelector('#df-ee4133d7-2404-4377-ba71-1de6774ab713');\n",
              "        const dataTable =\n",
              "          await google.colab.kernel.invokeFunction('convertToInteractive',\n",
              "                                                    [key], {});\n",
              "        if (!dataTable) return;\n",
              "\n",
              "        const docLinkHtml = 'Like what you see? Visit the ' +\n",
              "          '<a target=\"_blank\" href=https://colab.research.google.com/notebooks/data_table.ipynb>data table notebook</a>'\n",
              "          + ' to learn more about interactive tables.';\n",
              "        element.innerHTML = '';\n",
              "        dataTable['output_type'] = 'display_data';\n",
              "        await google.colab.output.renderOutput(dataTable, element);\n",
              "        const docLink = document.createElement('div');\n",
              "        docLink.innerHTML = docLinkHtml;\n",
              "        element.appendChild(docLink);\n",
              "      }\n",
              "    </script>\n",
              "  </div>\n",
              "\n",
              "\n",
              "<div id=\"df-76e5ab81-9771-4ea1-8450-cc2da53b3e79\">\n",
              "  <button class=\"colab-df-quickchart\" onclick=\"quickchart('df-76e5ab81-9771-4ea1-8450-cc2da53b3e79')\"\n",
              "            title=\"Suggest charts.\"\n",
              "            style=\"display:none;\">\n",
              "\n",
              "<svg xmlns=\"http://www.w3.org/2000/svg\" height=\"24px\"viewBox=\"0 0 24 24\"\n",
              "     width=\"24px\">\n",
              "    <g>\n",
              "        <path d=\"M19 3H5c-1.1 0-2 .9-2 2v14c0 1.1.9 2 2 2h14c1.1 0 2-.9 2-2V5c0-1.1-.9-2-2-2zM9 17H7v-7h2v7zm4 0h-2V7h2v10zm4 0h-2v-4h2v4z\"/>\n",
              "    </g>\n",
              "</svg>\n",
              "  </button>\n",
              "\n",
              "<style>\n",
              "  .colab-df-quickchart {\n",
              "      --bg-color: #E8F0FE;\n",
              "      --fill-color: #1967D2;\n",
              "      --hover-bg-color: #E2EBFA;\n",
              "      --hover-fill-color: #174EA6;\n",
              "      --disabled-fill-color: #AAA;\n",
              "      --disabled-bg-color: #DDD;\n",
              "  }\n",
              "\n",
              "  [theme=dark] .colab-df-quickchart {\n",
              "      --bg-color: #3B4455;\n",
              "      --fill-color: #D2E3FC;\n",
              "      --hover-bg-color: #434B5C;\n",
              "      --hover-fill-color: #FFFFFF;\n",
              "      --disabled-bg-color: #3B4455;\n",
              "      --disabled-fill-color: #666;\n",
              "  }\n",
              "\n",
              "  .colab-df-quickchart {\n",
              "    background-color: var(--bg-color);\n",
              "    border: none;\n",
              "    border-radius: 50%;\n",
              "    cursor: pointer;\n",
              "    display: none;\n",
              "    fill: var(--fill-color);\n",
              "    height: 32px;\n",
              "    padding: 0;\n",
              "    width: 32px;\n",
              "  }\n",
              "\n",
              "  .colab-df-quickchart:hover {\n",
              "    background-color: var(--hover-bg-color);\n",
              "    box-shadow: 0 1px 2px rgba(60, 64, 67, 0.3), 0 1px 3px 1px rgba(60, 64, 67, 0.15);\n",
              "    fill: var(--button-hover-fill-color);\n",
              "  }\n",
              "\n",
              "  .colab-df-quickchart-complete:disabled,\n",
              "  .colab-df-quickchart-complete:disabled:hover {\n",
              "    background-color: var(--disabled-bg-color);\n",
              "    fill: var(--disabled-fill-color);\n",
              "    box-shadow: none;\n",
              "  }\n",
              "\n",
              "  .colab-df-spinner {\n",
              "    border: 2px solid var(--fill-color);\n",
              "    border-color: transparent;\n",
              "    border-bottom-color: var(--fill-color);\n",
              "    animation:\n",
              "      spin 1s steps(1) infinite;\n",
              "  }\n",
              "\n",
              "  @keyframes spin {\n",
              "    0% {\n",
              "      border-color: transparent;\n",
              "      border-bottom-color: var(--fill-color);\n",
              "      border-left-color: var(--fill-color);\n",
              "    }\n",
              "    20% {\n",
              "      border-color: transparent;\n",
              "      border-left-color: var(--fill-color);\n",
              "      border-top-color: var(--fill-color);\n",
              "    }\n",
              "    30% {\n",
              "      border-color: transparent;\n",
              "      border-left-color: var(--fill-color);\n",
              "      border-top-color: var(--fill-color);\n",
              "      border-right-color: var(--fill-color);\n",
              "    }\n",
              "    40% {\n",
              "      border-color: transparent;\n",
              "      border-right-color: var(--fill-color);\n",
              "      border-top-color: var(--fill-color);\n",
              "    }\n",
              "    60% {\n",
              "      border-color: transparent;\n",
              "      border-right-color: var(--fill-color);\n",
              "    }\n",
              "    80% {\n",
              "      border-color: transparent;\n",
              "      border-right-color: var(--fill-color);\n",
              "      border-bottom-color: var(--fill-color);\n",
              "    }\n",
              "    90% {\n",
              "      border-color: transparent;\n",
              "      border-bottom-color: var(--fill-color);\n",
              "    }\n",
              "  }\n",
              "</style>\n",
              "\n",
              "  <script>\n",
              "    async function quickchart(key) {\n",
              "      const quickchartButtonEl =\n",
              "        document.querySelector('#' + key + ' button');\n",
              "      quickchartButtonEl.disabled = true;  // To prevent multiple clicks.\n",
              "      quickchartButtonEl.classList.add('colab-df-spinner');\n",
              "      try {\n",
              "        const charts = await google.colab.kernel.invokeFunction(\n",
              "            'suggestCharts', [key], {});\n",
              "      } catch (error) {\n",
              "        console.error('Error during call to suggestCharts:', error);\n",
              "      }\n",
              "      quickchartButtonEl.classList.remove('colab-df-spinner');\n",
              "      quickchartButtonEl.classList.add('colab-df-quickchart-complete');\n",
              "    }\n",
              "    (() => {\n",
              "      let quickchartButtonEl =\n",
              "        document.querySelector('#df-76e5ab81-9771-4ea1-8450-cc2da53b3e79 button');\n",
              "      quickchartButtonEl.style.display =\n",
              "        google.colab.kernel.accessAllowed ? 'block' : 'none';\n",
              "    })();\n",
              "  </script>\n",
              "</div>\n",
              "    </div>\n",
              "  </div>\n"
            ]
          },
          "metadata": {},
          "execution_count": 11
        }
      ]
    },
    {
      "cell_type": "markdown",
      "source": [
        "Text Data Preparation"
      ],
      "metadata": {
        "id": "k4dpgr1YT_9e"
      }
    },
    {
      "cell_type": "code",
      "source": [
        "X = mlf['Movie_Genre'] + ' ' + mlf['Movie_Director'] + ' ' + mlf['Movie_Cast'] + ' ' + mlf['Movie_Language'] + ' ' + mlf['Movie_Tagline'] + ' ' + mlf['Movie_Production_House']"
      ],
      "metadata": {
        "id": "gZjbPOApfmwy"
      },
      "execution_count": null,
      "outputs": []
    },
    {
      "cell_type": "code",
      "source": [
        "X"
      ],
      "metadata": {
        "colab": {
          "base_uri": "https://localhost:8080/"
        },
        "id": "ShweNFiggqO7",
        "outputId": "f6ade98d-3c40-48a2-8cc1-dd673f25e4c4"
      },
      "execution_count": null,
      "outputs": [
        {
          "output_type": "execute_result",
          "data": {
            "text/plain": [
              "0       Crime Comedy Allison Anders Tim Roth Antonio B...\n",
              "1       Adventure Action Science Fiction George Lucas ...\n",
              "2       Animation Family Andrew Stanton Albert Brooks ...\n",
              "3       Comedy Drama Romance Robert Zemeckis Tom Hanks...\n",
              "4       Drama Sam Mendes Kevin Spacey Annette Bening T...\n",
              "                              ...                        \n",
              "4755    Horror Pece Dingo Lisa Hart Carroll Michael De...\n",
              "4756    Comedy Family Drama Frank Lotito Roni Akurati ...\n",
              "4757    Thriller Drama Jaco Booyens Nicole Smolen Kim ...\n",
              "4758    Family   en  [{\"name\": \"New Kingdom Pictures\",...\n",
              "4759    Documentary Simon Napier-Bell Tony Oppedisano ...\n",
              "Length: 4760, dtype: object"
            ]
          },
          "metadata": {},
          "execution_count": 13
        }
      ]
    },
    {
      "cell_type": "code",
      "source": [
        "X.shape"
      ],
      "metadata": {
        "colab": {
          "base_uri": "https://localhost:8080/"
        },
        "id": "reRnOOxPhekA",
        "outputId": "bb4d8c1b-e4dd-446f-b4f4-4f99956748bd"
      },
      "execution_count": null,
      "outputs": [
        {
          "output_type": "execute_result",
          "data": {
            "text/plain": [
              "(4760,)"
            ]
          },
          "metadata": {},
          "execution_count": 14
        }
      ]
    },
    {
      "cell_type": "markdown",
      "source": [
        "Text Vectorization"
      ],
      "metadata": {
        "id": "tmd1yrV0YVpV"
      }
    },
    {
      "cell_type": "code",
      "source": [
        "from sklearn.feature_extraction.text import TfidfVectorizer"
      ],
      "metadata": {
        "id": "c4ihO4x9hfl_"
      },
      "execution_count": null,
      "outputs": []
    },
    {
      "cell_type": "code",
      "source": [
        "t = TfidfVectorizer()"
      ],
      "metadata": {
        "id": "foD5Irn5hwbf"
      },
      "execution_count": null,
      "outputs": []
    },
    {
      "cell_type": "code",
      "source": [
        "X = t.fit_transform(X)"
      ],
      "metadata": {
        "id": "xdX3F70Mh3Vm"
      },
      "execution_count": null,
      "outputs": []
    },
    {
      "cell_type": "code",
      "source": [
        "X.shape"
      ],
      "metadata": {
        "colab": {
          "base_uri": "https://localhost:8080/"
        },
        "id": "ffiexrnXiCE2",
        "outputId": "4bd7b773-ed55-4dd1-ab04-e47da550c4ea"
      },
      "execution_count": null,
      "outputs": [
        {
          "output_type": "execute_result",
          "data": {
            "text/plain": [
              "(4760, 22990)"
            ]
          },
          "metadata": {},
          "execution_count": 18
        }
      ]
    },
    {
      "cell_type": "code",
      "source": [
        "print(X)"
      ],
      "metadata": {
        "colab": {
          "base_uri": "https://localhost:8080/"
        },
        "id": "RJKLk99kiI4G",
        "outputId": "21476758-1144-4e9c-ffd0-9019304deb4c"
      },
      "execution_count": null,
      "outputs": [
        {
          "output_type": "stream",
          "name": "stdout",
          "text": [
            "  (0, 3804)\t0.17702427223509878\n",
            "  (0, 5793)\t0.15418054177275337\n",
            "  (0, 6281)\t0.17702427223509878\n",
            "  (0, 809)\t0.11964766316006827\n",
            "  (0, 12672)\t0.05213616143658158\n",
            "  (0, 10657)\t0.05264606945390787\n",
            "  (0, 15775)\t0.11721096537408467\n",
            "  (0, 16218)\t0.05213616143658158\n",
            "  (0, 14422)\t0.10436023417731653\n",
            "  (0, 16677)\t0.07477548694529272\n",
            "  (0, 10232)\t0.17213861134373365\n",
            "  (0, 22746)\t0.14614026020335827\n",
            "  (0, 16369)\t0.09030933387933993\n",
            "  (0, 22457)\t0.191334913430439\n",
            "  (0, 10818)\t0.09324425306561811\n",
            "  (0, 22420)\t0.11585802518567909\n",
            "  (0, 13218)\t0.1630160778917485\n",
            "  (0, 20750)\t0.10261985598386159\n",
            "  (0, 16769)\t0.1023904278774379\n",
            "  (0, 9015)\t0.12964786238384973\n",
            "  (0, 10707)\t0.12540294001046337\n",
            "  (0, 12370)\t0.21483331756213148\n",
            "  (0, 12764)\t0.16715108676994542\n",
            "  (0, 6570)\t0.21364353095691915\n",
            "  (0, 14594)\t0.17213861134373365\n",
            "  :\t:\n",
            "  (4757, 16366)\t0.1410952121381713\n",
            "  (4757, 9617)\t0.05508983228550457\n",
            "  (4757, 12672)\t0.0340921740936378\n",
            "  (4757, 16218)\t0.0340921740936378\n",
            "  (4757, 10035)\t0.033877563918515756\n",
            "  (4758, 3040)\t0.6807619191804746\n",
            "  (4758, 13730)\t0.5955325403160507\n",
            "  (4758, 17358)\t0.14071067070629026\n",
            "  (4758, 10395)\t0.242246760701565\n",
            "  (4758, 12672)\t0.083064329538317\n",
            "  (4758, 16218)\t0.083064329538317\n",
            "  (4758, 16369)\t0.28776511592109416\n",
            "  (4758, 10035)\t0.08254143973200394\n",
            "  (4759, 3850)\t0.43340527274966073\n",
            "  (4759, 10325)\t0.43340527274966073\n",
            "  (4759, 16796)\t0.43340527274966073\n",
            "  (4759, 16230)\t0.39917035660054884\n",
            "  (4759, 9477)\t0.23503393143208146\n",
            "  (4759, 19593)\t0.25309727715369984\n",
            "  (4759, 20991)\t0.2512095106695892\n",
            "  (4759, 6564)\t0.2706220978146344\n",
            "  (4759, 10081)\t0.11465722487269761\n",
            "  (4759, 12672)\t0.05288268539265634\n",
            "  (4759, 16218)\t0.05288268539265634\n",
            "  (4759, 10035)\t0.052549788982416544\n"
          ]
        }
      ]
    },
    {
      "cell_type": "markdown",
      "source": [
        "Calculating Cosine Similarity"
      ],
      "metadata": {
        "id": "BYkk1KJoYazy"
      }
    },
    {
      "cell_type": "code",
      "source": [
        "from sklearn.metrics.pairwise import cosine_similarity"
      ],
      "metadata": {
        "id": "CjuNrNhwiMkm"
      },
      "execution_count": null,
      "outputs": []
    },
    {
      "cell_type": "code",
      "source": [
        "SS = cosine_similarity(X) #SS is Similarity Score"
      ],
      "metadata": {
        "id": "84jbgizmimLG"
      },
      "execution_count": null,
      "outputs": []
    },
    {
      "cell_type": "code",
      "source": [
        "SS"
      ],
      "metadata": {
        "colab": {
          "base_uri": "https://localhost:8080/"
        },
        "id": "7N7QtWViirkO",
        "outputId": "b7f97862-67e0-4177-d503-ef0519361403"
      },
      "execution_count": null,
      "outputs": [
        {
          "output_type": "execute_result",
          "data": {
            "text/plain": [
              "array([[1.        , 0.02614117, 0.0520542 , ..., 0.00443243, 0.03678734,\n",
              "        0.00687545],\n",
              "       [0.02614117, 1.        , 0.01764861, ..., 0.0057712 , 0.01406131,\n",
              "        0.0089521 ],\n",
              "       [0.0520542 , 0.01764861, 1.        , ..., 0.00346898, 0.03251497,\n",
              "        0.00538098],\n",
              "       ...,\n",
              "       [0.00443243, 0.0057712 , 0.00346898, ..., 1.        , 0.01658632,\n",
              "        0.00538603],\n",
              "       [0.03678734, 0.01406131, 0.03251497, ..., 0.01658632, 1.        ,\n",
              "        0.01312286],\n",
              "       [0.00687545, 0.0089521 , 0.00538098, ..., 0.00538603, 0.01312286,\n",
              "        1.        ]])"
            ]
          },
          "metadata": {},
          "execution_count": 22
        }
      ]
    },
    {
      "cell_type": "code",
      "source": [
        "SS.shape"
      ],
      "metadata": {
        "colab": {
          "base_uri": "https://localhost:8080/"
        },
        "id": "eMWa3L8sir8n",
        "outputId": "e5574414-4714-4fc4-869f-a3753e3a55fd"
      },
      "execution_count": null,
      "outputs": [
        {
          "output_type": "execute_result",
          "data": {
            "text/plain": [
              "(4760, 4760)"
            ]
          },
          "metadata": {},
          "execution_count": 23
        }
      ]
    },
    {
      "cell_type": "markdown",
      "source": [
        "User Input"
      ],
      "metadata": {
        "id": "YqKmCUnaYh5_"
      }
    },
    {
      "cell_type": "code",
      "source": [
        "Desired_Movie = input(' Type the Movie you want to watch ')"
      ],
      "metadata": {
        "colab": {
          "base_uri": "https://localhost:8080/"
        },
        "id": "SWoBAzE_iv_G",
        "outputId": "4914229a-acf4-40f4-c661-d211794b65c6"
      },
      "execution_count": 57,
      "outputs": [
        {
          "name": "stdout",
          "output_type": "stream",
          "text": [
            " Type the Movie you want to watch The Silence of the Lambs\n"
          ]
        }
      ]
    },
    {
      "cell_type": "code",
      "source": [
        "Movies_List = ml['Movie_Title'].tolist()"
      ],
      "metadata": {
        "id": "G-xS3gNsjGYP"
      },
      "execution_count": 58,
      "outputs": []
    },
    {
      "cell_type": "markdown",
      "source": [
        "Finding Close Matches"
      ],
      "metadata": {
        "id": "TB019fhKZHrm"
      }
    },
    {
      "cell_type": "code",
      "source": [
        "import difflib\n",
        "MR = difflib.get_close_matches(Desired_Movie, Movies_List)\n",
        "print(MR)"
      ],
      "metadata": {
        "colab": {
          "base_uri": "https://localhost:8080/"
        },
        "id": "ky8RYnc0jjql",
        "outputId": "6305aa82-78a8-41c0-8914-0b6f4f2639f5"
      },
      "execution_count": 59,
      "outputs": [
        {
          "output_type": "stream",
          "name": "stdout",
          "text": [
            "['The Silence of the Lambs', 'The Rise of the Krays', 'The Remains of the Day']\n"
          ]
        }
      ]
    },
    {
      "cell_type": "code",
      "source": [
        "Close_Match = MR[0]\n",
        "print(Close_Match)"
      ],
      "metadata": {
        "colab": {
          "base_uri": "https://localhost:8080/"
        },
        "id": "VvjNuSFRjoj-",
        "outputId": "b1e81ba4-ab15-455a-e1fe-31ac45993db2"
      },
      "execution_count": 60,
      "outputs": [
        {
          "output_type": "stream",
          "name": "stdout",
          "text": [
            "The Silence of the Lambs\n"
          ]
        }
      ]
    },
    {
      "cell_type": "markdown",
      "source": [
        "Retrieving Movie ID"
      ],
      "metadata": {
        "id": "Wxm-K5VlZNAL"
      }
    },
    {
      "cell_type": "code",
      "source": [
        "Id_of_Close_Match = ml[ml.Movie_Title == Close_Match]['Movie_ID'].values[0]\n",
        "print(Id_of_Close_Match)"
      ],
      "metadata": {
        "colab": {
          "base_uri": "https://localhost:8080/"
        },
        "id": "RvESWo-Ak3sF",
        "outputId": "eebccf5a-f0b6-4c7a-fe07-165abbfca203"
      },
      "execution_count": 61,
      "outputs": [
        {
          "output_type": "stream",
          "name": "stdout",
          "text": [
            "125\n"
          ]
        }
      ]
    },
    {
      "cell_type": "markdown",
      "source": [
        "Calculating Recommendation Scores"
      ],
      "metadata": {
        "id": "mGhphb5yZQs4"
      }
    },
    {
      "cell_type": "code",
      "source": [
        "RS = list(enumerate(SS[Id_of_Close_Match])) #RS is Recommendation Score\n",
        "Selected_RS = RS[:5]\n",
        "print(Selected_RS)"
      ],
      "metadata": {
        "id": "azFgNFxxlpjN",
        "colab": {
          "base_uri": "https://localhost:8080/"
        },
        "outputId": "2b5e01ef-0a0c-4f28-9664-ec31f3bf761e"
      },
      "execution_count": 62,
      "outputs": [
        {
          "output_type": "stream",
          "name": "stdout",
          "text": [
            "[(0, 0.013938025824832445), (1, 0.022551845896656163), (2, 0.009534028149623775), (3, 0.009461485532832789), (4, 0.019313586576356366)]\n"
          ]
        }
      ]
    },
    {
      "cell_type": "code",
      "source": [
        "len(RS)"
      ],
      "metadata": {
        "colab": {
          "base_uri": "https://localhost:8080/"
        },
        "id": "e1MGR4yRGJL4",
        "outputId": "900700a6-ee2a-4e61-ac92-533a09306d73"
      },
      "execution_count": 63,
      "outputs": [
        {
          "output_type": "execute_result",
          "data": {
            "text/plain": [
              "4760"
            ]
          },
          "metadata": {},
          "execution_count": 63
        }
      ]
    },
    {
      "cell_type": "markdown",
      "source": [
        "Sorting Recommendations"
      ],
      "metadata": {
        "id": "8_ccgJrLZUqn"
      }
    },
    {
      "cell_type": "code",
      "source": [
        "SSM = sorted(RS, key = lambda x:x[1], reverse=True) #Sorting Similar Movies\n",
        "print(SSM)"
      ],
      "metadata": {
        "colab": {
          "base_uri": "https://localhost:8080/"
        },
        "id": "97qFNViPGcMU",
        "outputId": "b18ab753-6f81-4db4-d9b2-c02122780b76"
      },
      "execution_count": 64,
      "outputs": [
        {
          "output_type": "stream",
          "name": "stdout",
          "text": [
            "[(125, 1.0000000000000002), (375, 0.3591676577416579), (2136, 0.25631945861013355), (3522, 0.15567938479352017), (512, 0.14144545211593854), (341, 0.13099107333686824), (3970, 0.1251785059830701), (731, 0.12322562894246605), (1119, 0.11773447379817248), (636, 0.11722872317268679), (2764, 0.10924120169890641), (1289, 0.10872833867007921), (738, 0.10760383546469898), (1566, 0.10657146816173521), (3807, 0.10654626002106325), (1058, 0.10570950529096367), (1565, 0.10300399005102785), (3745, 0.10293153284811102), (2521, 0.10216183287297718), (436, 0.10206454098344146), (4000, 0.1016995196311446), (898, 0.10038673440829093), (521, 0.10035192428613789), (531, 0.10021083197224762), (873, 0.09684170890366599), (17, 0.096581628947667), (1713, 0.0965455117359294), (446, 0.09578949848984752), (1261, 0.09575812905523286), (1890, 0.09559596347699935), (2580, 0.09414707702648957), (1129, 0.09409160776030843), (868, 0.09391801292195842), (451, 0.09387168482706025), (4639, 0.09368980962495137), (1498, 0.09355804972938433), (5, 0.09348272767824296), (486, 0.09341118584671962), (878, 0.09317099624046593), (3483, 0.09298614334617135), (135, 0.09265274694598429), (1066, 0.09213905782233599), (1207, 0.09196710198335993), (2780, 0.09190201779500574), (872, 0.09183198420178293), (4158, 0.091820551538023), (1999, 0.09017067246617362), (2015, 0.09013566588985181), (4242, 0.08944552284445448), (830, 0.08934719251047943), (631, 0.08923202354973216), (701, 0.08905463561589842), (4566, 0.08900253680441414), (4431, 0.0889064630112363), (2110, 0.08848877234558392), (1897, 0.08831819788125773), (2016, 0.08796573318631806), (4338, 0.0879068188721439), (3957, 0.08733880220436196), (1007, 0.08678071627584824), (1740, 0.08637349208696225), (818, 0.0861586637804708), (1997, 0.08583562858562266), (3469, 0.08561938129830679), (2522, 0.0852177987418923), (41, 0.08508590540021642), (2986, 0.08494212656335898), (2843, 0.08460243753550975), (4484, 0.08449502158549846), (692, 0.08446861205015516), (1754, 0.08444203453909117), (470, 0.0844130315323741), (2622, 0.08421376261078065), (4384, 0.08388796711002913), (4560, 0.08386198644899033), (3592, 0.08381333965003157), (3191, 0.08361600490984081), (2429, 0.0834753452012619), (4527, 0.08328487763870988), (3531, 0.08324218936725694), (3134, 0.08304398864449948), (171, 0.08301728211280925), (3343, 0.08300967406909274), (4462, 0.08296751573536332), (739, 0.08295829660121193), (4036, 0.08289234488364117), (1404, 0.08288099827126677), (1708, 0.08282341415518647), (790, 0.08265319564810554), (4070, 0.08257905172754039), (1059, 0.08257226567339045), (3432, 0.08244801616441473), (2031, 0.08240624076016968), (2029, 0.08240177121779964), (2732, 0.082374477455555), (4640, 0.08228982344646076), (1445, 0.082255002060333), (3115, 0.08180347963589787), (4529, 0.0817025789818331), (2073, 0.08152672063347156), (1228, 0.08147466683671133), (2507, 0.08125376499503628), (2339, 0.0812296893600334), (624, 0.0808056112064138), (4535, 0.08063645629531517), (666, 0.08045551332820232), (1881, 0.08040106936402709), (2390, 0.08036673534494729), (648, 0.08034007050042156), (4181, 0.0803028621681337), (8, 0.08023172927260525), (3058, 0.08011425815026517), (1162, 0.0800887166990432), (2909, 0.07998317526742611), (3781, 0.07997461088152705), (3666, 0.07981687890301309), (455, 0.07979391367064775), (2254, 0.07957728127449702), (1219, 0.07951213122129853), (696, 0.07949147710299213), (523, 0.07944420177001449), (1595, 0.07935368000308941), (1378, 0.07927411407242582), (2653, 0.07918894642116123), (1550, 0.0791222006704766), (1258, 0.07900771622939506), (284, 0.0789924234852007), (585, 0.07886928003230755), (3202, 0.07886153807008817), (2193, 0.07849266956924891), (1160, 0.07797685219006194), (656, 0.07783945551968127), (2826, 0.0777937562298464), (2897, 0.07774435219487431), (1874, 0.07766180298319186), (500, 0.07765145048487417), (2564, 0.07720607820069114), (3379, 0.07705422174536529), (331, 0.07704488950973346), (74, 0.07699573719525482), (848, 0.076877942077762), (1702, 0.07682964046038242), (3384, 0.07680631683256008), (3366, 0.07669804674734693), (635, 0.07657951629789152), (1454, 0.07649734654408967), (3310, 0.07634928289603085), (1848, 0.0762857770156255), (621, 0.07628154229762196), (948, 0.07614388406806968), (752, 0.07597627703614947), (493, 0.07591007577554774), (2963, 0.07588815415428227), (2237, 0.0758084208832949), (1014, 0.07575363618438882), (2921, 0.07553937200915506), (2594, 0.0753431831900078), (4255, 0.0753185443784705), (1512, 0.0750626347305725), (3126, 0.07488722289441514), (3013, 0.07481238836003878), (491, 0.0747979467765799), (1061, 0.07472160132485291), (441, 0.07460247762371765), (3416, 0.07450338619554578), (4283, 0.07445518865289956), (3131, 0.07426407395110614), (654, 0.07415046932675579), (46, 0.074040883537567), (3684, 0.07391273856517198), (652, 0.07387400794384391), (481, 0.07378296312910568), (2524, 0.07374716278889677), (496, 0.07365972642062503), (2109, 0.07354431288995626), (3725, 0.0733995417929773), (2894, 0.07326248085301043), (2319, 0.07312955882855442), (3723, 0.07308045927213556), (83, 0.07274050597717722), (1394, 0.07261085160669056), (4178, 0.07257857317102547), (3837, 0.07257189611165106), (534, 0.07257112112607213), (1986, 0.07204857768195204), (3069, 0.07202850451583664), (2151, 0.071877474777664), (302, 0.07187480412045981), (3718, 0.07178328558695624), (4576, 0.07167838949411146), (2330, 0.07167695644305154), (682, 0.07161417724988267), (894, 0.07148361546096255), (1497, 0.07147943447825936), (591, 0.07147434120293276), (1587, 0.07135334943577598), (244, 0.0712414023058408), (3623, 0.07113890873358317), (2174, 0.0710797919745643), (1259, 0.0710697668119857), (3634, 0.07096823043961714), (1127, 0.07065194594664435), (620, 0.0705660146825917), (849, 0.07051746698966128), (4323, 0.0704348582396746), (1936, 0.07036595983958814), (2355, 0.07035428681814998), (1051, 0.07030650173875606), (3185, 0.07018281825798699), (3797, 0.07014403914899851), (499, 0.07004834416725607), (4130, 0.0700283747884352), (24, 0.06994050385397857), (3877, 0.06993060320190758), (1335, 0.06971284199048038), (1510, 0.06969393707199951), (208, 0.06967536561163944), (3979, 0.06965413942150606), (976, 0.06952863396950253), (2621, 0.06950191687398437), (63, 0.06949361216808586), (594, 0.06945579578370864), (4265, 0.069375036993449), (1083, 0.0693728331628347), (4669, 0.06921767161968731), (183, 0.0691180408321888), (928, 0.06899596601108283), (3783, 0.06897115400642273), (4099, 0.06893684532824976), (3031, 0.06885217000074784), (4306, 0.0688285635194833), (854, 0.06868641832113595), (1455, 0.06865205826216214), (2601, 0.06862992673324578), (4094, 0.0685862783236424), (1968, 0.06856338239134568), (1332, 0.06847444184005971), (1135, 0.06842945535609418), (3937, 0.06840720583141027), (2543, 0.06840489961765737), (1182, 0.06837391638221199), (3921, 0.06832864306795933), (2336, 0.06830969241499843), (4122, 0.06817634443170338), (1743, 0.0681528611721881), (2088, 0.0679150048225384), (3974, 0.06789903953828882), (2718, 0.06772256546394448), (128, 0.06764345183077869), (3733, 0.06759782970353148), (1540, 0.0675064740635684), (4528, 0.06745516223693143), (2252, 0.06740904404981984), (1536, 0.06740422954056367), (144, 0.06726319882383307), (4482, 0.06724351300545456), (720, 0.06708833907859021), (3503, 0.06699212311312264), (3189, 0.06693545809784904), (1969, 0.0669175864121161), (615, 0.06680201202170366), (2092, 0.06677245594164645), (1663, 0.06672484798881072), (2903, 0.0666678986621743), (1951, 0.06653978232610733), (4275, 0.06638900633678811), (2616, 0.06638445624435063), (4403, 0.06618931344435476), (4054, 0.06615978129237783), (3642, 0.06608131776036962), (1649, 0.06607742206630698), (2096, 0.06602561882160647), (4031, 0.0660147984287878), (2084, 0.06586475342825897), (1894, 0.06582473537393875), (4465, 0.06582060575826593), (1391, 0.06576956222977617), (3451, 0.06575693062626456), (273, 0.06568591054596686), (1608, 0.06566135395280755), (556, 0.06562818989665531), (3997, 0.06561335321099901), (1375, 0.06558548211467963), (4233, 0.0655193317895206), (727, 0.06546977182836809), (1091, 0.065442889159052), (2861, 0.06538788207751726), (623, 0.06532456192392341), (4100, 0.06531745718592093), (2094, 0.06530198718593673), (1381, 0.06523013110913928), (4162, 0.06509706836725494), (2576, 0.06508851894574913), (1866, 0.06508849033148707), (3132, 0.06505500997166004), (2791, 0.06502603493428374), (1911, 0.06471701319246023), (4406, 0.06469182329820136), (3342, 0.06459503117004228), (292, 0.06451516537737613), (1922, 0.06450725778004993), (4494, 0.0645019757202803), (1175, 0.06445159541547968), (2710, 0.06444600185491169), (3393, 0.06435800362805127), (1732, 0.06433492335508467), (3346, 0.0642719072680771), (123, 0.06425448040307648), (2884, 0.06416649436561861), (3771, 0.06405753468577145), (504, 0.0639634475636563), (3632, 0.0639541142357667), (3363, 0.06393736363520736), (3801, 0.06393391515338204), (3225, 0.06393153622262725), (1438, 0.0638562794039513), (386, 0.06378542571849002), (1946, 0.063634779410452), (2623, 0.06363212911629233), (1814, 0.0636248852721894), (3448, 0.0636074892689915), (3210, 0.06358322131614276), (4509, 0.06355769692316823), (1215, 0.06350996664533037), (333, 0.0634981692084979), (651, 0.06349440681225524), (3445, 0.0633862782785217), (2182, 0.06335700907249031), (805, 0.06333842488570549), (4294, 0.06330777074375697), (4551, 0.06328560027781621), (3708, 0.06320637985805617), (4615, 0.06318119439181116), (1611, 0.06316298463583442), (1972, 0.06313743803429916), (3846, 0.0631333881978132), (4098, 0.06308902221659268), (3463, 0.06294820112607993), (84, 0.06292265258617802), (989, 0.06290975596894759), (3133, 0.06286056371786822), (4581, 0.06283814663260015), (2783, 0.06278871138037723), (4456, 0.06275852591338259), (3339, 0.06273545378362867), (3412, 0.06272875477282219), (4143, 0.06263061282294394), (1769, 0.06260686069882153), (3779, 0.06257838459068395), (1266, 0.06253727956071005), (2066, 0.062484862597938694), (751, 0.0623954416090857), (1216, 0.062345553223338665), (3161, 0.062289646151191515), (1504, 0.062266257372518105), (2012, 0.06222962634525526), (3961, 0.06220907262972827), (3765, 0.062195974170835194), (3734, 0.062120871582582005), (1400, 0.062117826937046344), (4534, 0.062104919897598664), (1952, 0.062102821538668626), (1042, 0.0620351232575988), (4049, 0.062026183652194325), (2233, 0.06199772755358902), (4142, 0.06195467796387354), (4474, 0.06191558014023586), (639, 0.06181832258938375), (653, 0.06178051000822068), (2609, 0.06177558605265354), (4211, 0.06171018306300448), (4257, 0.061652024111416126), (70, 0.06160401806185373), (176, 0.061565470452830916), (2104, 0.06156261082774788), (2214, 0.06154732057396139), (53, 0.06144816988999621), (2565, 0.06144047880976296), (1262, 0.06142860598614228), (1507, 0.061299688397073594), (1142, 0.06125899081997197), (3492, 0.06124088280026738), (2830, 0.06120558406599468), (3744, 0.06114542514434155), (4684, 0.061088455634999504), (1017, 0.06106266423564826), (1398, 0.061057598461798014), (3785, 0.061047568665044634), (798, 0.061044422192418485), (875, 0.06102438068287534), (726, 0.060919112110498476), (1934, 0.06085029698057858), (3692, 0.060811921579796376), (595, 0.06079932657791064), (138, 0.060765320756978713), (2249, 0.060762656275358), (3450, 0.06075206013861877), (1931, 0.060706266496394407), (2598, 0.06066298320045851), (825, 0.060629079314798905), (4093, 0.060615428452359), (3270, 0.06055132145576619), (4081, 0.06053017990115066), (4531, 0.06051467190810191), (1815, 0.060428063243042576), (1191, 0.06039651363495543), (568, 0.06038801523081784), (3555, 0.06037393446658353), (4241, 0.060308484672339804), (4119, 0.06030762248469946), (4523, 0.060288126587408786), (1172, 0.06020197431685001), (42, 0.059977735197608094), (3759, 0.05994983622582895), (2940, 0.05984361275385812), (902, 0.05983044993573148), (1696, 0.05982891623604866), (20, 0.05970745945088909), (3429, 0.05970674223731394), (3357, 0.059689349221201046), (4330, 0.05964508679035189), (3640, 0.05960644723336529), (4017, 0.05960302690766487), (811, 0.05957276915831166), (1292, 0.05955045927761561), (1908, 0.0595027873165721), (1852, 0.05946831096345978), (725, 0.05941876058338203), (1146, 0.05937134827102667), (1154, 0.05936288314169648), (1531, 0.05930714591639545), (541, 0.05928359427287361), (856, 0.05927447869223586), (3700, 0.05924393493561416), (3741, 0.05921865819618822), (4385, 0.05907890102419874), (3670, 0.05907803320527082), (3853, 0.0590525623882111), (2807, 0.05904097735124483), (68, 0.059008763219322455), (2800, 0.05887629156519406), (4095, 0.05881345560211963), (2918, 0.05878395917759816), (3209, 0.058723466132049346), (4641, 0.058705558632558476), (3221, 0.05869868578946182), (2555, 0.05863877379448825), (908, 0.05861845340111591), (2224, 0.05861142198681897), (4052, 0.058550620772157946), (2883, 0.05852764191954648), (3738, 0.058468693189724884), (460, 0.058466921714723966), (795, 0.05845517508885619), (961, 0.05844146386163627), (511, 0.05842736266854503), (640, 0.05836426176535499), (4069, 0.05833487752322671), (280, 0.05833096743993243), (4516, 0.058329538340759754), (3798, 0.0583105311599772), (954, 0.05828722758593556), (1548, 0.05823493074240371), (371, 0.058222457761736256), (189, 0.05820344252318074), (206, 0.05818306014974091), (3284, 0.058167368711832874), (3527, 0.058165046428989814), (191, 0.058109386250136424), (2872, 0.058078179782716996), (1976, 0.05798398764655459), (1918, 0.05796659052363319), (4466, 0.05794283684007356), (2566, 0.057934904284762764), (1991, 0.057871724548074974), (707, 0.05786652629937512), (4345, 0.05783040559511552), (4400, 0.05781788665064776), (1226, 0.05779589999104106), (2545, 0.057757028054900524), (2277, 0.05775398919955257), (3311, 0.057736160916285986), (204, 0.057690988055694524), (4176, 0.05766676976585878), (3233, 0.057638909663049846), (2720, 0.05759820389131757), (715, 0.0575649735435743), (2925, 0.057469301585537584), (4609, 0.05743227234666818), (1884, 0.05737489192458324), (956, 0.057184850681701906), (2729, 0.05708632649481162), (3618, 0.05704136277829071), (937, 0.05701475179945032), (4148, 0.05700455100767827), (695, 0.056913993969282775), (3609, 0.05689150464892516), (729, 0.056874001344973515), (2853, 0.05686656155176279), (1089, 0.05681199463611334), (1068, 0.056726594519488055), (1096, 0.05672223813262752), (425, 0.056676055190042596), (3472, 0.05666639032116508), (4213, 0.05662765295032625), (3440, 0.056574941877645835), (3192, 0.05656461971756588), (1169, 0.05653688597256752), (3315, 0.05641313113953674), (1074, 0.056376730301613436), (3873, 0.05637508961516433), (3993, 0.05637106959752541), (332, 0.05635127574493279), (2547, 0.05631384126934543), (4476, 0.056306301200197306), (2040, 0.056305489140239307), (2338, 0.056300759355668695), (646, 0.05623917309867525), (1624, 0.05623203579414341), (1748, 0.05623047994731917), (977, 0.056225443011887984), (1323, 0.05622152880205511), (1484, 0.05618697186290714), (2691, 0.05612573915005697), (1841, 0.05608463241374903), (819, 0.05606997496260039), (4328, 0.05600752013360363), (4668, 0.05599514953410233), (3358, 0.05594306242025373), (141, 0.05593918888027015), (3697, 0.055932308563412234), (1447, 0.05591473532020949), (1243, 0.0558508105429041), (1495, 0.055844663058861134), (3840, 0.05583089304174769), (4154, 0.05581613494915721), (2996, 0.055805445044143295), (2258, 0.05579039013002414), (162, 0.055721072708695606), (3875, 0.05570024691898228), (4053, 0.0556656152365465), (1710, 0.05557232182439503), (4483, 0.055561359930080496), (2662, 0.055559559767164354), (913, 0.05555731699038525), (4185, 0.0555498555172493), (4454, 0.05554701591472005), (4216, 0.05542855461497865), (2517, 0.05540624321472209), (2612, 0.05539515195419449), (3320, 0.055395038870216344), (919, 0.05538406508966542), (2753, 0.05537590134213673), (387, 0.055258138668815904), (4189, 0.0552544015806622), (4347, 0.055233379370628936), (21, 0.05523308315052551), (4105, 0.05520977269421422), (2213, 0.05519593380350874), (4103, 0.055182108442038934), (434, 0.055143512109475774), (4367, 0.055102218884116615), (930, 0.05503442125662724), (2574, 0.05503179884997254), (3660, 0.055030403166041186), (704, 0.05502381760249813), (1275, 0.05501947279236525), (4630, 0.054997738652395795), (3834, 0.05494066014494642), (3959, 0.05492648063926032), (172, 0.05490509948245981), (537, 0.054904687519345415), (4264, 0.05485670864767643), (11, 0.054852031859686456), (120, 0.054850256931513276), (4037, 0.054831466781386874), (1469, 0.05466720864327061), (3438, 0.054664857048051435), (1009, 0.05465142041321249), (444, 0.05464716072001154), (664, 0.05463004483710165), (4392, 0.05461955751315701), (1246, 0.054576813575049565), (3427, 0.05456012711797388), (2023, 0.054548348450762146), (255, 0.054529758805331), (1295, 0.05451094456280503), (3860, 0.054474271837734935), (4470, 0.0544576929609531), (3229, 0.05443992056638977), (1206, 0.05439926723958308), (1493, 0.054394328178007295), (3710, 0.05438512942690378), (2184, 0.05438221254541927), (1983, 0.05433733544930746), (2728, 0.054313968109659154), (963, 0.0542984760099705), (34, 0.05428123051825106), (810, 0.054280905273296244), (1651, 0.05422896891758787), (3154, 0.05421776892293207), (1965, 0.05419059960455157), (4597, 0.054172600262707246), (2244, 0.05416322494764843), (4238, 0.054155445411120266), (1843, 0.05414672582129843), (570, 0.054125026574027096), (1192, 0.05410670864905405), (772, 0.05410532294666384), (4091, 0.054078109482865795), (1336, 0.05405479884768517), (1201, 0.054046753400229595), (4477, 0.05403768618824067), (2794, 0.05402044107050047), (1767, 0.05400435470541009), (2846, 0.053991804230007684), (4496, 0.05397545258259916), (2536, 0.05397364030452335), (2892, 0.05393322634469928), (1913, 0.05390563647276354), (3917, 0.053854347033701934), (89, 0.05380158060800694), (766, 0.053776579486401174), (2065, 0.05377296271507545), (3398, 0.05376668093455898), (2994, 0.053762670058791935), (489, 0.05374682192495809), (2419, 0.05373969345696463), (2268, 0.053731094273727076), (4378, 0.05366152547107944), (1858, 0.05362530512402617), (2148, 0.053586363824751675), (3478, 0.05357705039210656), (1681, 0.053531357302476344), (4366, 0.053522357111774305), (2206, 0.053482130529638405), (1281, 0.053433223920665955), (4344, 0.05331642527178144), (97, 0.05330041961901611), (842, 0.053268811608291076), (450, 0.0532584572371248), (1821, 0.053239305754203006), (3751, 0.053238906680745886), (3043, 0.053225259716818775), (753, 0.053212129140184125), (3568, 0.053177041461710116), (1070, 0.053143614912417814), (914, 0.053115498062550184), (582, 0.053100472113129536), (2790, 0.053097239337695404), (3220, 0.053049974429594984), (4244, 0.05304288597506793), (266, 0.053034685400316126), (1280, 0.05293039468045075), (4202, 0.052928910301752605), (1842, 0.05292878531421236), (502, 0.05290638661905978), (2284, 0.052877105948698606), (1413, 0.05286376292592849), (1225, 0.052856141064140584), (260, 0.05283845430059982), (4218, 0.0528377000595459), (59, 0.05282419897761487), (633, 0.05281652983411842), (3030, 0.05280613376704487), (3584, 0.05280565548773266), (724, 0.05277358888862192), (814, 0.05276843315109692), (4232, 0.052753440773715236), (3525, 0.05274176580366529), (3382, 0.05271707431608472), (700, 0.052703787070810436), (40, 0.05265999392878691), (4097, 0.05264926589909804), (3038, 0.052641338244795804), (286, 0.052628122879063745), (4457, 0.05261448073935663), (2848, 0.052565960494996775), (3604, 0.05254134844312697), (2205, 0.052526189128836734), (619, 0.05249075213179643), (550, 0.05248046380455233), (350, 0.0524683309600331), (1856, 0.05244844936425246), (122, 0.052429570863571036), (530, 0.052398341499663784), (1011, 0.05238317472527766), (2011, 0.052336522329608004), (4444, 0.05232788919526902), (2143, 0.05231687052223083), (1340, 0.05230326213128624), (4447, 0.05227190176292642), (945, 0.05224842664955763), (1155, 0.05224310997563539), (859, 0.05223915984937861), (4375, 0.052188730040717744), (4281, 0.05216102741684504), (3690, 0.05211740980729455), (4525, 0.052107493180609955), (2646, 0.05207392027248933), (2682, 0.05199098333439891), (3586, 0.05194244968798252), (1945, 0.05189917515827114), (717, 0.051895403581823873), (1923, 0.051851315417098254), (1153, 0.051803941857690584), (2797, 0.05179843879129209), (1686, 0.051791758510716934), (2607, 0.05177540272910302), (2863, 0.05177378311803523), (1140, 0.051693536775545744), (1532, 0.0516782120244112), (3595, 0.05155373066322684), (2529, 0.051551843830121964), (3657, 0.0515390200805825), (4478, 0.051485135997741016), (532, 0.05147904901832251), (1910, 0.05146710446358296), (4261, 0.05146614783255053), (2588, 0.05146472454810914), (1296, 0.05146161718306392), (846, 0.05143291708793741), (1137, 0.05140364803174195), (3551, 0.05140165962560078), (3641, 0.05139004700533177), (770, 0.051381912345661404), (3362, 0.051379361230872486), (4117, 0.0513710283902012), (712, 0.05135820293520456), (4538, 0.05129887063844157), (4653, 0.051231269590425024), (2713, 0.05120960009626138), (303, 0.051189693194096005), (1466, 0.05117158650003922), (201, 0.05117072191789425), (584, 0.05116505314804026), (4152, 0.05111207527661816), (102, 0.051109492635459344), (64, 0.05110913788249431), (427, 0.05110452013668078), (4589, 0.051094682961963955), (2178, 0.05108880365984346), (165, 0.05098486533395537), (2130, 0.0509675517558902), (4165, 0.05096705530509794), (3819, 0.05090668181584532), (3144, 0.05089369829952607), (4590, 0.05085844315024086), (2882, 0.05085085320144186), (658, 0.050843212651475754), (3386, 0.05081458645866609), (3170, 0.050810620911004606), (3337, 0.050803226711346586), (3992, 0.05079586459534249), (429, 0.05079030718986115), (1164, 0.050741420280415304), (3777, 0.050718674900185605), (494, 0.05070313090595943), (2716, 0.05068272931676712), (1052, 0.050666137222301635), (683, 0.0506661017078606), (4542, 0.050648804274990133), (979, 0.05059391077903769), (384, 0.05057449397222312), (874, 0.05056496217124778), (27, 0.050549730985307496), (563, 0.05054719080337985), (4613, 0.05049131463942296), (2486, 0.05048979979746983), (2730, 0.05048790152492207), (4324, 0.05047536512818659), (3784, 0.050429508659890154), (3004, 0.05042720132585302), (2413, 0.050385779369951894), (2641, 0.050373336059466256), (492, 0.050366566822012133), (617, 0.05035763905082744), (4348, 0.05035641243757858), (3720, 0.05023916111272547), (1427, 0.05023773518184075), (4035, 0.05022226212773146), (2919, 0.05019134261650026), (250, 0.05017585891104725), (353, 0.050168378715094476), (4310, 0.0501674354730462), (4044, 0.050166053721227864), (1687, 0.05016203906079721), (528, 0.05011584471135807), (72, 0.05007982533400071), (2082, 0.05003877226547333), (3099, 0.05003624348880887), (2079, 0.05001441516062967), (702, 0.04998797732342318), (2153, 0.049974135791738455), (580, 0.0499504447470529), (980, 0.0499262906834115), (2095, 0.049908995593703855), (1069, 0.04984090044126072), (667, 0.04983391075942946), (1419, 0.04982122879652024), (1024, 0.0498039472314346), (2007, 0.04979462943103586), (4450, 0.049773584868737585), (1705, 0.04976315966558713), (3484, 0.04976064894761646), (2758, 0.04975687735666705), (2231, 0.0497518591697245), (4422, 0.049693492887698594), (411, 0.049688847302632407), (960, 0.04968561997767987), (107, 0.04968124607375093), (1255, 0.04965469996066575), (1177, 0.049647702816918556), (2374, 0.04962872983828725), (394, 0.04962492141145742), (2789, 0.04961582711274518), (3914, 0.049610779854154775), (1015, 0.04960715442621298), (2689, 0.04959944634300082), (426, 0.04952640182957258), (231, 0.04952378070208773), (2361, 0.049520099755027594), (3106, 0.04951968007436305), (2021, 0.04947486619366339), (4321, 0.04945767467271658), (232, 0.049449490344979675), (827, 0.04943044814332437), (4620, 0.04941361819629563), (3079, 0.04937461215643735), (2051, 0.04937332452128263), (4121, 0.04931739743606493), (483, 0.049247261770758596), (2549, 0.04921547497852), (4331, 0.04920724327077311), (1347, 0.04918725373470366), (1373, 0.04917327129795732), (1925, 0.04916743565617852), (3076, 0.0491468867674731), (1906, 0.04912564138274967), (1117, 0.049119767868786565), (2318, 0.04910151784558758), (4272, 0.049069054643504105), (2667, 0.04906402799314426), (4116, 0.049059240590188784), (2100, 0.04903991829882607), (3184, 0.04890346017779997), (4164, 0.04889772480996752), (3774, 0.04888891972209669), (4299, 0.04888888038609715), (4038, 0.04888626440395586), (2523, 0.04883102748159075), (81, 0.04882563346047297), (3605, 0.04881959136054685), (2877, 0.04881882879167996), (2198, 0.04881834431546711), (1084, 0.04879645147243697), (4374, 0.04878647568869617), (4055, 0.04873670893915187), (3901, 0.048709305925918205), (4011, 0.04864054117619001), (694, 0.048634299615596586), (2959, 0.04862912573918087), (3841, 0.04859777718643499), (1073, 0.048586153281711945), (4089, 0.048506419248674576), (1104, 0.048491992446893166), (884, 0.048440577605323644), (1942, 0.04841933937008732), (1669, 0.04841593551510878), (2026, 0.04839785483033411), (1240, 0.04839727100521698), (1924, 0.048388010497325586), (3035, 0.04834756747078815), (1100, 0.04832152352726223), (887, 0.048306134994851424), (578, 0.04825259759708605), (1043, 0.04824400493581502), (3598, 0.04822901786409591), (3404, 0.048177127101157666), (1578, 0.048175358878525566), (2027, 0.048164468066291904), (4578, 0.04811719046036151), (4564, 0.04807804139676362), (3353, 0.04807475165123347), (3365, 0.04805766198235752), (1072, 0.04803902656681924), (4656, 0.048033356922353936), (3423, 0.048017442382330945), (3661, 0.04799694741302367), (3001, 0.0479823306289468), (1876, 0.04790570089766015), (4309, 0.04790272444383333), (2473, 0.0478914722499067), (25, 0.04782608099436777), (3100, 0.04781904710805866), (2840, 0.04781858646739064), (4259, 0.04780673743030281), (4082, 0.047779041151605486), (1640, 0.04777460306156803), (3772, 0.047773985400719116), (2540, 0.047691224629663034), (3435, 0.047687274062893324), (611, 0.04766891652071334), (799, 0.04766352859048686), (2445, 0.047660087324718596), (12, 0.04765697048035196), (978, 0.04765204908547911), (235, 0.04760661254840185), (1567, 0.04759491246932653), (1508, 0.04759395537636679), (3207, 0.0475581146482624), (965, 0.04754695859765888), (2812, 0.04749869566894264), (1196, 0.04748731790625502), (1763, 0.04748452512407057), (728, 0.04746830087269545), (981, 0.04744728715333245), (1823, 0.04741135821990871), (3581, 0.0473969734984568), (2993, 0.04739693107623786), (2181, 0.0473957078966381), (2819, 0.047393580313328465), (1209, 0.04735855737750777), (2798, 0.047352901230346064), (809, 0.047352308116583135), (4703, 0.04735181643494089), (1955, 0.04733086385107111), (2551, 0.04730602697439346), (3812, 0.04730182994947581), (329, 0.04726950893904599), (3673, 0.047245622370396125), (4231, 0.047197680420980326), (300, 0.04715643207197739), (3075, 0.04713500460292099), (1853, 0.047106793816611404), (1435, 0.04710462871598829), (2899, 0.047074874133985985), (1542, 0.047064907882677136), (2067, 0.04703635093986258), (2571, 0.047022865152522256), (1773, 0.046993256886706795), (3591, 0.04698817558786082), (4664, 0.04695483655741041), (4661, 0.04680994765454684), (1412, 0.04678206271884678), (851, 0.046726785924600625), (100, 0.046670630736732), (3238, 0.046656322167921156), (3230, 0.04664522627101926), (1614, 0.04664133093195209), (4624, 0.04663160536936759), (3814, 0.0466278496421465), (3399, 0.04662506402471666), (3614, 0.04661868599255765), (4558, 0.04661350387606835), (869, 0.04658675177356226), (2403, 0.04657824843746998), (1306, 0.046568043097573376), (2823, 0.046548354195698236), (2112, 0.04651848288097233), (1888, 0.04649372168133034), (3747, 0.04646778817800584), (4436, 0.04643404847655374), (1982, 0.04639618974594473), (3397, 0.04639283112941355), (3602, 0.04634497737939938), (3659, 0.04633115884800593), (678, 0.04632754355476588), (952, 0.04626826927491446), (3851, 0.046263872509758254), (3809, 0.04622397088966591), (2137, 0.04621332377457963), (1657, 0.04620462402795928), (3406, 0.04619820795928183), (672, 0.04617281516508978), (1145, 0.0461064948876754), (2232, 0.046097580767224686), (4376, 0.04609136338458303), (4611, 0.04607941583210783), (604, 0.04605789342449728), (1272, 0.046048595005160585), (2950, 0.04604658200997346), (2475, 0.04603814677822975), (143, 0.04603380747565561), (3795, 0.04600739929240929), (2625, 0.04600548263978324), (2578, 0.04597565683619839), (3815, 0.045973157839830255), (4507, 0.04592816963427324), (3464, 0.045909109439713026), (2303, 0.045908831011730565), (4591, 0.04590642071123761), (160, 0.045898228117737104), (1108, 0.04588239470313788), (3606, 0.04588106578597571), (3193, 0.04587336648296441), (1819, 0.04586891239645517), (4682, 0.04586536293362396), (4459, 0.04585986267297), (3141, 0.04584878489748592), (1123, 0.04584208612691673), (986, 0.045837035624252245), (3619, 0.04581235130633268), (2575, 0.045802274479012), (663, 0.04579977188093795), (2681, 0.04579349820270292), (2672, 0.04579010863566789), (3169, 0.04578777718175065), (3454, 0.045785879348707155), (2189, 0.04574638861762482), (1293, 0.045738046970365036), (4123, 0.045736668784896385), (261, 0.04566485237609393), (1148, 0.045657362346512395), (195, 0.04558180973091718), (76, 0.04555526291647044), (3351, 0.04552267465835063), (3102, 0.04549457034611579), (1864, 0.04544993654360101), (4008, 0.045423105415333), (36, 0.04541734562148819), (229, 0.04540129319152022), (2803, 0.045397211041462424), (355, 0.045378841719734435), (1637, 0.04533016582334332), (2053, 0.045312100481263794), (2725, 0.04527061515784583), (2093, 0.045269969994740575), (4279, 0.0452624793653339), (4144, 0.04525620490737581), (1000, 0.04524928663716208), (1193, 0.04524505748819285), (2761, 0.04521104201956033), (1604, 0.04521036290915281), (2041, 0.04520596931448669), (2677, 0.04519922860140851), (147, 0.045170437784133696), (2881, 0.045170314771481465), (1770, 0.04516903054036078), (3658, 0.04514205189857574), (3941, 0.04510990465374573), (3477, 0.04510059400607456), (4108, 0.04510004049473584), (1479, 0.04509294508470956), (1433, 0.045077781761491215), (30, 0.04506903078242611), (1771, 0.04504591348069158), (4692, 0.044995495160010404), (4066, 0.04496081571205972), (4673, 0.044959304658421025), (4136, 0.044955717659839314), (4159, 0.04495220131439892), (1751, 0.044941958657101176), (3924, 0.044937978653203974), (864, 0.04492598943850811), (560, 0.04491744820898513), (4046, 0.04490267914525028), (3532, 0.04488782250264148), (4370, 0.04481742627905479), (2250, 0.04481392153599721), (520, 0.044801323137817914), (4056, 0.04480053213023953), (4421, 0.0447925700850332), (2961, 0.044783293326352586), (661, 0.044774099382281884), (2998, 0.0447711243436882), (3227, 0.044738406104855195), (4486, 0.04472544342205718), (4709, 0.04468565525847086), (3156, 0.044662813190467186), (45, 0.04465764053044404), (4193, 0.044653616023078296), (4227, 0.044639938724697514), (3986, 0.04463231664583661), (1464, 0.044614169982637), (3449, 0.044574074735512274), (1186, 0.044571451823258786), (1786, 0.04456876126641098), (3625, 0.044561763517086496), (2128, 0.04451669210506563), (2459, 0.044510026112215946), (1357, 0.0444972832522561), (674, 0.04448022543639867), (850, 0.04447484428953456), (1869, 0.044472586355977145), (1779, 0.0444706897180302), (2113, 0.044464778444245914), (2381, 0.044457782283063636), (1468, 0.0444193298912927), (3512, 0.04438121602384836), (4153, 0.04437924961647288), (410, 0.04437092524574639), (2274, 0.044350948012209755), (1176, 0.04431585955561338), (2454, 0.04430297353656541), (4146, 0.04430197493648927), (2139, 0.0442957771094872), (758, 0.044275053902233595), (671, 0.044263803936003585), (4428, 0.044256836598496906), (699, 0.04421760906449325), (3548, 0.04419588869363145), (839, 0.04418234347885589), (458, 0.044179490878116325), (3611, 0.04416319477948337), (404, 0.04415371205134501), (3767, 0.04413116087921995), (2045, 0.04411795888996159), (781, 0.044106372778330794), (4377, 0.04408610056855036), (1457, 0.044081605981290406), (625, 0.044077210728973956), (396, 0.044061318084411064), (2927, 0.04405197575761025), (2259, 0.04405104175442722), (804, 0.04404088741410379), (3167, 0.04402383796126058), (105, 0.044021040652998666), (3908, 0.043980177112622074), (2103, 0.04397777015110963), (1937, 0.04397141587591335), (199, 0.04393139172545667), (3507, 0.04392641562019866), (4305, 0.043920215083221935), (4511, 0.043908856226770585), (3201, 0.04390409604636878), (3340, 0.04390402434187435), (1921, 0.04389401363775053), (3496, 0.04388861669569017), (15, 0.04388833024280499), (2310, 0.04384244937649443), (137, 0.04384124974898987), (1120, 0.04383214695712569), (2306, 0.043817366227756345), (2714, 0.04381733157700867), (2541, 0.04380985041937429), (207, 0.04378296422790039), (3022, 0.04378119915855694), (2071, 0.04377587414984044), (1576, 0.04376425190454701), (349, 0.043755794084460176), (845, 0.043743592201149456), (2904, 0.043730519107868154), (2820, 0.04372397078670634), (686, 0.04371226418064333), (3698, 0.04367394205675329), (23, 0.043672322844140146), (3520, 0.04366457401544069), (883, 0.04366297883252334), (4379, 0.0436626228674067), (1728, 0.04364413998177564), (4438, 0.04363306059241611), (3453, 0.043631600728514366), (2922, 0.04361252653391953), (987, 0.04359630956914706), (3792, 0.04358392367260238), (4725, 0.04358289102561983), (3223, 0.04355003701533988), (632, 0.0435442197962706), (3656, 0.04353264733241303), (258, 0.043513005139121166), (680, 0.04349650199956471), (507, 0.04349440018708317), (714, 0.0434465119429103), (4360, 0.043437720026988105), (4296, 0.04343252482333388), (2684, 0.04342714581077098), (2494, 0.043425118219071815), (2887, 0.0434067847766195), (2276, 0.04331926465515867), (3160, 0.043291576305871715), (2285, 0.04328768795987506), (867, 0.04326082793206327), (649, 0.04325461467612115), (130, 0.043251326526213864), (4747, 0.043250346014355026), (3773, 0.04325010892805776), (1804, 0.04324296929248053), (3433, 0.04324045616843062), (1227, 0.0432209336166585), (1122, 0.04318901317689593), (4012, 0.043174159084285985), (4322, 0.043167633399298924), (4642, 0.043154884961455905), (3275, 0.043144073110295535), (4075, 0.04313814177001441), (174, 0.043136459332619184), (3706, 0.043120956700749204), (247, 0.04311308659438593), (4695, 0.04309254415815983), (4493, 0.04309067271211397), (647, 0.04308279393691045), (3180, 0.04307177300120678), (3460, 0.04306751103258084), (3787, 0.04304839133757928), (3567, 0.04304831952753642), (777, 0.0430455489411478), (1239, 0.04304004390596778), (2976, 0.04300527388624755), (1321, 0.042963773368515486), (803, 0.0429563454432141), (863, 0.04295165629548443), (517, 0.042935844298764354), (4334, 0.04293184447629986), (312, 0.042891147314150654), (1166, 0.04286414505701999), (3276, 0.04286241917607813), (1726, 0.04280165610439144), (2980, 0.04279937192185573), (855, 0.04279161066834227), (844, 0.04278407379233109), (1185, 0.042777550583645796), (443, 0.04276659309988735), (4277, 0.042753532717167794), (3649, 0.042739410043780006), (3018, 0.0427306432127553), (2920, 0.042702121840976257), (376, 0.04267501356192858), (4208, 0.04266449372106982), (3150, 0.04265079278901246), (551, 0.04264913268150565), (1791, 0.04263445123802911), (820, 0.042623923608627344), (3502, 0.042575019736397456), (3763, 0.042570666511712985), (397, 0.04255921176225468), (87, 0.04255724429070608), (3305, 0.042545138816199916), (3158, 0.04251519234363238), (1613, 0.042494990761093), (1031, 0.04247457267554542), (2557, 0.04237831575387078), (2514, 0.042354899418694324), (866, 0.042326368581458516), (4552, 0.04232262909249168), (891, 0.042322597659835294), (3534, 0.042317631898147356), (2349, 0.04223546270644584), (6, 0.04220462931420261), (4113, 0.042200875734245254), (472, 0.04215203259747133), (1088, 0.04214923676883094), (2793, 0.04213326732357874), (43, 0.04213100350840761), (897, 0.042122526905678394), (1795, 0.04212067783855971), (2638, 0.04210698878573287), (2552, 0.04209125717782556), (3443, 0.04206235810764529), (4124, 0.042062139597905085), (565, 0.04206021646821584), (91, 0.042040969151370865), (476, 0.04203973050583698), (1584, 0.04202676464624514), (2503, 0.04201789409609239), (1600, 0.04199754426912788), (4356, 0.0419895214650748), (2971, 0.04194116213180042), (2796, 0.04193930579456682), (629, 0.04193488875997549), (946, 0.04190852974792415), (2599, 0.041853373461410805), (2228, 0.04184686576768114), (3998, 0.0418415247682521), (1437, 0.041826253281539084), (1082, 0.04182312849503367), (187, 0.041815975782210135), (3231, 0.04181347906364951), (3390, 0.04179974762740561), (3200, 0.041792705083788316), (4678, 0.0417820585783486), (2856, 0.04177618794953126), (220, 0.04177213958912919), (3911, 0.04175483598503657), (4396, 0.04172645882593888), (2736, 0.041724824111092386), (3143, 0.04171288639783505), (3498, 0.04170741619683004), (3886, 0.04164724033265155), (1777, 0.041645833807252744), (2416, 0.041618447427476876), (988, 0.04160504901498757), (3989, 0.041594227134436564), (1811, 0.041591866166349335), (2656, 0.04159133837369434), (718, 0.0415828485590788), (2670, 0.04157544375347778), (2701, 0.04157250057055009), (3124, 0.04155125838738847), (957, 0.04153285401867429), (62, 0.04152164270608748), (815, 0.04151751216371584), (552, 0.04148813034733518), (4300, 0.04148225158931047), (2149, 0.04143917231000223), (1610, 0.04143544978016038), (4252, 0.04141058169050201), (118, 0.041384835840722604), (1529, 0.04138439520123027), (305, 0.04138283360811187), (3881, 0.04135486998726299), (2169, 0.04135092742203429), (691, 0.04133932673313686), (1882, 0.04133046673988923), (223, 0.04132759811998572), (4603, 0.041324063260542845), (756, 0.04130786970355459), (3888, 0.04130703520832936), (3367, 0.041278470220930966), (3470, 0.04126860645752798), (1322, 0.04125430370783338), (3060, 0.04124448477861775), (3232, 0.04124410376826079), (1799, 0.041234915966333247), (1530, 0.041231044733726276), (912, 0.04122237312639598), (3459, 0.04120621485795001), (3603, 0.04120257577025306), (3955, 0.041199990164952294), (4083, 0.04119934888817503), (4647, 0.0411812852637485), (1824, 0.04117805025665152), (39, 0.04117196942912631), (1020, 0.0411531563031299), (829, 0.041149694008118354), (4721, 0.04112015750885478), (3468, 0.041111570422233595), (3373, 0.041110989016972806), (4605, 0.041080131298167705), (334, 0.0410650302497053), (1026, 0.04104833815108966), (4557, 0.041022173063758854), (3655, 0.041017960036690455), (2111, 0.041000590197665054), (3274, 0.04098468213963154), (73, 0.04097503654172555), (2255, 0.04097435623748825), (264, 0.040957826766818986), (1712, 0.04094687607596338), (2135, 0.040943642139693176), (3935, 0.04094207860696847), (1174, 0.04093585265785945), (1784, 0.040931710915478856), (3953, 0.04091625652589011), (1045, 0.04091601049603322), (1861, 0.040906235001924134), (1315, 0.040895797414098496), (2251, 0.040886989117917535), (4614, 0.04088396873939948), (1559, 0.040833758933726046), (4029, 0.040816562758102214), (324, 0.04080012877653365), (909, 0.04078552552397962), (253, 0.04076417248732997), (61, 0.04074764161776366), (3653, 0.040739674363391945), (3137, 0.04073248012924928), (1324, 0.04071912581237203), (2584, 0.04068856965143854), (4004, 0.04065597855814966), (1591, 0.040650449397728314), (1368, 0.04058338346138511), (2813, 0.0405716779552737), (2296, 0.040558493829718094), (870, 0.04052879712345555), (3572, 0.040512904700134626), (3817, 0.04050355959839794), (4420, 0.04048659499837738), (2134, 0.04046860937260027), (3405, 0.040422547678765595), (569, 0.040397103827376143), (944, 0.04037136891152828), (3833, 0.040365333234417475), (1452, 0.04031288546546404), (1998, 0.04030272230968237), (418, 0.0402996302234539), (637, 0.040298165746362545), (4554, 0.04026671485816866), (2474, 0.040264521505619384), (4401, 0.040231344579363566), (1418, 0.0402258478553702), (4467, 0.04021935842117344), (4249, 0.04021722137375928), (180, 0.04020729080211875), (1282, 0.04019312402802076), (1220, 0.04017990541058962), (1180, 0.04017909874693383), (1210, 0.04017133430891103), (4601, 0.04016852380813063), (745, 0.04013272314944474), (4629, 0.04013160966761917), (3736, 0.04008167478197721), (1244, 0.04007926561580798), (1692, 0.040078626683405706), (1354, 0.040067373537419945), (4585, 0.040042728244797175), (4667, 0.04003127714694459), (2370, 0.04002065870994041), (590, 0.04001659134900193), (3407, 0.04001289158413692), (3045, 0.03999014645994116), (1302, 0.03998352759699201), (3864, 0.03996601581795701), (882, 0.03995974817566614), (340, 0.039944459555126884), (1443, 0.03989612557930245), (55, 0.03988080299151805), (4389, 0.0398797116813327), (3028, 0.03987899644300579), (2107, 0.039871163455710276), (348, 0.03986098340189336), (2428, 0.03984960213297262), (841, 0.039800198962950395), (614, 0.0397967688026899), (4088, 0.0397936112030146), (1181, 0.03977207205603797), (31, 0.03975431886719863), (3762, 0.03973590201107713), (464, 0.0397312749720713), (2242, 0.039606027484267274), (2958, 0.03959451751066673), (742, 0.039529016022648036), (2313, 0.03952796687538571), (2389, 0.03951868964037714), (3818, 0.03951815489467525), (519, 0.03949966958920073), (4240, 0.03949558405886194), (452, 0.039444788830778024), (2573, 0.03943866279689159), (3287, 0.03943469794263814), (1218, 0.039430899239173006), (3571, 0.03940576093530255), (2060, 0.03940489632696345), (2437, 0.039395639298945996), (757, 0.039376548065401876), (2460, 0.03937648438382873), (4504, 0.03936597362874182), (3557, 0.039356141462016055), (1325, 0.03933907797451766), (2320, 0.0393341416652236), (592, 0.039333810828106316), (2091, 0.03933067850380919), (3589, 0.039328117071532324), (773, 0.039297966763537584), (4114, 0.03928664825209862), (802, 0.03928128865842819), (4701, 0.039279790186282935), (3845, 0.03927930499920948), (54, 0.03917351247807044), (4680, 0.03916972631369105), (1158, 0.03916519911950183), (2886, 0.0391483422869014), (3361, 0.039143428131151785), (2600, 0.039141287196531906), (2393, 0.03914116569475865), (310, 0.03913012007055781), (880, 0.03912206909511748), (1341, 0.03910672409572231), (1641, 0.03907423795233764), (741, 0.039068571196232915), (297, 0.03906368824889206), (922, 0.0390621815441946), (1932, 0.0390579403263152), (3732, 0.03905460579752507), (2075, 0.03904150515986261), (3903, 0.03903754323761424), (1111, 0.03903133773021101), (3166, 0.03902761882961041), (1032, 0.0390179105963694), (2246, 0.03901190423868665), (1480, 0.03900476125175208), (3862, 0.038949289978886435), (1382, 0.038946498114258654), (249, 0.038935779998274266), (433, 0.03893230826755021), (4388, 0.03892355255478083), (256, 0.038922793381180085), (3566, 0.03891940680638499), (301, 0.038918156277772606), (3916, 0.038912994362438044), (1065, 0.03889588004679301), (1247, 0.038888669209042645), (641, 0.03888674059039513), (2781, 0.03888195057588696), (274, 0.03886611319210051), (821, 0.03886580331737835), (1396, 0.0388625921271105), (2706, 0.03884652470884688), (314, 0.03884092959786009), (3872, 0.03880756239237659), (2842, 0.03879476042947338), (1812, 0.03878994015928482), (2017, 0.03878705945749098), (3091, 0.038783346365581665), (2226, 0.03876775985098983), (161, 0.03875645315564132), (3652, 0.03875607383785838), (1267, 0.038711037236984235), (2771, 0.03870769368066703), (1632, 0.03869684061792917), (1342, 0.038691421336685475), (2432, 0.03867130529980016), (1961, 0.0386661853936021), (643, 0.0386573445814218), (2991, 0.038651154832008566), (1040, 0.03864216968783751), (3746, 0.038638482080692975), (4600, 0.03863807096431798), (4145, 0.03861614864932863), (4010, 0.03860183654158333), (3259, 0.038595306692536094), (4059, 0.038568954322735806), (2009, 0.038566667932069906), (2849, 0.03854363675752605), (3336, 0.03854089379234285), (1057, 0.038534040085245025), (1569, 0.03852983089671346), (1527, 0.03852723513020432), (529, 0.038527109345261795), (3836, 0.03852199264319419), (3057, 0.03851727811157425), (1113, 0.038503592778255095), (497, 0.038484824877606766), (2042, 0.0384398915164807), (3654, 0.03842232380706858), (1662, 0.03840710958975537), (1102, 0.03836193991793844), (461, 0.03835104490739824), (4730, 0.03832406814856865), (306, 0.03832223915368453), (1307, 0.03830408723208496), (145, 0.03828294170194745), (1224, 0.03826828749988524), (1459, 0.038258536777782785), (2852, 0.03823394706075937), (4562, 0.038219013964433335), (395, 0.038191402227599015), (3008, 0.038178677481135195), (613, 0.03816100038770597), (212, 0.03812775158222827), (558, 0.03811921623270268), (1616, 0.03810294965441952), (3456, 0.03810191519599759), (1414, 0.038101676006122326), (1658, 0.0380977899045808), (4001, 0.03808549286525692), (3480, 0.03806606747496205), (1538, 0.038065003732484566), (3906, 0.03803854278667314), (119, 0.038029092395349885), (1472, 0.03802754872954712), (994, 0.038023302275163096), (2170, 0.03800447036287559), (267, 0.038001437931298565), (1612, 0.03799899290282849), (4453, 0.03799859046159096), (813, 0.03797524020926235), (435, 0.03796565305181107), (1062, 0.03796459374989287), (336, 0.037926438834628644), (181, 0.03792471009702458), (865, 0.03792156507283045), (687, 0.03790503895526691), (2156, 0.03790144662202587), (1742, 0.037861636257557924), (3499, 0.03784294045085278), (990, 0.037826579418833724), (4716, 0.03781826124821715), (2353, 0.03780252378341612), (2665, 0.03778665851680092), (2308, 0.03775744248140604), (917, 0.037753895885862726), (3481, 0.03773502518997935), (4371, 0.03771746402471385), (2867, 0.03771182472277671), (1451, 0.03769488184205706), (3980, 0.03766496892369245), (178, 0.03765686046176449), (3286, 0.037648439870022664), (2477, 0.0376242985814427), (1190, 0.03762279255359019), (3289, 0.037616024295166466), (3516, 0.037604426948409556), (3471, 0.037594279544922816), (1402, 0.03757969571201191), (1023, 0.037576776623971436), (339, 0.037574166856693576), (1167, 0.03755044715651166), (1107, 0.03754895726640016), (4404, 0.037548576457024176), (935, 0.03751568733236897), (2649, 0.037515319765839765), (378, 0.0375031481086507), (2583, 0.037491104113842176), (3996, 0.03747342009905496), (3593, 0.03746910791417868), (3778, 0.03745283692893528), (1344, 0.03742151597489633), (3730, 0.03741776335207667), (2253, 0.03740990830394552), (706, 0.037400418548105864), (1389, 0.037397172731544887), (447, 0.037352911726486616), (2158, 0.03734410469305116), (170, 0.03734410245155315), (259, 0.03734044041056039), (1738, 0.03732146995815616), (298, 0.03731497495515832), (2425, 0.03730989352048896), (1168, 0.03729581935822022), (1880, 0.037246002671496886), (289, 0.03724523899520644), (4429, 0.037214503020367176), (3217, 0.03719083675794515), (3694, 0.037136931170026234), (1483, 0.037133837473122835), (4679, 0.03713235955978459), (2983, 0.03712453655486456), (688, 0.03710330476337734), (4675, 0.03709637313712074), (424, 0.03709360271836986), (3129, 0.037089080520680356), (1805, 0.03708402176143194), (4432, 0.037082017787111295), (2984, 0.037077663505946774), (2447, 0.037066621239416), (1425, 0.03705001897305523), (2086, 0.03703923948347464), (888, 0.03703433384228856), (1703, 0.03703106533370702), (3153, 0.037023641461525404), (992, 0.03699738321666866), (574, 0.0369944254925943), (598, 0.03698850357718673), (3868, 0.0369762765080066), (3639, 0.03696916823499227), (549, 0.03696413713846379), (1005, 0.03695935061478889), (4073, 0.03695671401673551), (2527, 0.03695459973895464), (2707, 0.03695085198377857), (3693, 0.03693915849089703), (4662, 0.03691449655361514), (3272, 0.03691368000126489), (618, 0.03690842149281141), (4248, 0.03690710476988783), (1520, 0.036874405413005226), (3850, 0.03686940229095876), (3907, 0.03686932972045556), (1873, 0.0368640920952705), (4435, 0.036853605963277754), (269, 0.03683369938776873), (4633, 0.03681007373027571), (1041, 0.03680470316362083), (164, 0.036791049073592534), (3002, 0.036780628487714864), (2409, 0.036770700374217626), (3969, 0.036747089368912106), (806, 0.03673903210717687), (1581, 0.03672635750710214), (2171, 0.03672386892937876), (1432, 0.0367160501991691), (211, 0.036703987709307356), (2172, 0.036700495019465706), (326, 0.03669651872348946), (3799, 0.03668530165356036), (2003, 0.03668443089899533), (1667, 0.03667497821909927), (3174, 0.03667118831714024), (779, 0.0366697489163172), (778, 0.036640461911708735), (2965, 0.03663228079174617), (710, 0.03663010041860587), (117, 0.036625538196426374), (467, 0.03662449335925131), (3965, 0.036612802987447006), (2356, 0.03660964044198974), (1376, 0.036575195740815684), (968, 0.03656230497257265), (2455, 0.036538658848116135), (3352, 0.036518685004929836), (2316, 0.036499547509779816), (3015, 0.03649490740201487), (4337, 0.03649384036590777), (4086, 0.03649127717759805), (1279, 0.0364907097668842), (4649, 0.03644356541133114), (2421, 0.036439526622185865), (4358, 0.036428472391615355), (1403, 0.03641653598265717), (2869, 0.03641517250049913), (4015, 0.03638475054406068), (514, 0.036369798090596574), (861, 0.03634526016935383), (1126, 0.03634272897472415), (3976, 0.03633876503277859), (1386, 0.036331707148884555), (4137, 0.03632561808981332), (1730, 0.036324406141134524), (2373, 0.036320722486038876), (4263, 0.036316586469603784), (746, 0.03630735966983811), (454, 0.03629807238689363), (1033, 0.036268295422009926), (2371, 0.0362612841677046), (1184, 0.03625392560029), (2808, 0.036253893070748514), (3486, 0.03625277947782974), (4430, 0.03624975494196094), (1079, 0.0362480257018613), (3247, 0.03622612924603918), (3737, 0.036224430651154986), (2944, 0.03622154924315879), (2878, 0.03620257048550641), (1012, 0.036194127017806034), (4549, 0.036189177671488285), (1013, 0.03618603798347434), (3793, 0.03617959002825419), (792, 0.03617570728910437), (4156, 0.03616132916727074), (2661, 0.0361608019869407), (1232, 0.0361055347887518), (2341, 0.03610248966649161), (822, 0.03607968787911875), (2359, 0.036076719729215785), (1006, 0.03605555942562492), (4058, 0.03604258108899237), (495, 0.03603570259265317), (2030, 0.03602897236894792), (735, 0.036012423309936675), (3870, 0.03600149045670156), (4080, 0.03599385242704559), (4387, 0.03597671623865578), (282, 0.03597639781687159), (1151, 0.035952027157164196), (1471, 0.03594810415418617), (1188, 0.03594236727930466), (4186, 0.03594039707397775), (2768, 0.035928495516896405), (1494, 0.03592325418849321), (586, 0.03590785957994159), (1678, 0.035901289013030246), (3055, 0.03589563397440899), (2142, 0.035854729583328256), (4481, 0.03584236486782751), (3303, 0.03581972634548719), (3316, 0.03581738732192638), (2378, 0.035815888869615536), (583, 0.03580303625765225), (703, 0.035797186947100657), (4381, 0.035794674911765495), (1405, 0.035780894743038465), (3462, 0.035766611314641435), (2223, 0.03574060666045605), (3070, 0.03574049611119516), (3122, 0.035711400953974425), (4652, 0.03570978371457367), (3635, 0.03570282877389766), (606, 0.03568252629047878), (401, 0.03567781174914649), (1652, 0.035672534726067), (2532, 0.035671058928040705), (4224, 0.035667291432859016), (1392, 0.035657610130593716), (2057, 0.03564131416316851), (3879, 0.03563945372746252), (1592, 0.035630066495134054), (1535, 0.03562969766099811), (2207, 0.035617837580564964), (1902, 0.03561212735324626), (1967, 0.03560613044391573), (299, 0.03558176403734611), (2062, 0.035572863643057534), (4533, 0.035572505242940373), (4595, 0.035568210853289046), (2345, 0.03556762863025288), (3090, 0.03554643010582545), (478, 0.035544848427114584), (971, 0.03552540252010102), (877, 0.03552236448956221), (1346, 0.03549674168222196), (1778, 0.03549615414273442), (4563, 0.035484268283695296), (4587, 0.035477815368540666), (975, 0.03547101552230405), (182, 0.03546449289963664), (791, 0.03546155346907863), (3136, 0.03545668966062769), (4568, 0.03544918795519461), (1537, 0.035433545269755326), (3349, 0.03542068156390168), (4373, 0.03539053340327077), (1349, 0.035371912052132554), (2273, 0.03536694218146823), (2367, 0.035336411620253035), (826, 0.03533423453929536), (3871, 0.03532526704359393), (4175, 0.03532255107744095), (3378, 0.03531136586382748), (4003, 0.03531091079401107), (1556, 0.03529496590019949), (1522, 0.035273896227393436), (2196, 0.03526994953880945), (484, 0.03526071921064749), (1310, 0.035229629668730125), (3867, 0.03522644717097891), (793, 0.03521819789639644), (1817, 0.03521239916416222), (1311, 0.035204040055256514), (1541, 0.03519367490808141), (1260, 0.03518315655105925), (2098, 0.03517715403716648), (2804, 0.035113010601335204), (1781, 0.035099279114907594), (1046, 0.035097811212685424), (2480, 0.03509079224267536), (3563, 0.03508223991466978), (4183, 0.035071779702807206), (4410, 0.035051399387809684), (896, 0.035050895592881534), (3994, 0.03504871222980336), (390, 0.03504596045848321), (4290, 0.03501009004690803), (973, 0.035008638941756196), (365, 0.035005770365825487), (754, 0.03499309592933562), (369, 0.03498532194626624), (3569, 0.03498096349158476), (4187, 0.03497816976054405), (1766, 0.03497051041868319), (1554, 0.03497019667644671), (385, 0.03495305078577288), (153, 0.03494569672408555), (4506, 0.03494478612567117), (1475, 0.03494183818720856), (906, 0.03490999799117297), (1904, 0.03490415863779652), (4135, 0.03489896834740829), (834, 0.034898629248702094), (2896, 0.03488968481449322), (3021, 0.034887276251078576), (1850, 0.034884235649642534), (2185, 0.03484853582980292), (4318, 0.03481422048396875), (677, 0.034809147291573805), (2810, 0.03480316122946063), (1078, 0.03480115433961909), (4128, 0.0347862475658391), (3549, 0.034782927631342844), (2774, 0.03475893248076844), (3756, 0.0347523269677268), (4548, 0.034749671783019555), (1195, 0.0347484747963275), (1253, 0.034741214721326796), (2173, 0.03473070999746733), (4247, 0.03472361228273851), (544, 0.034722499541781617), (1071, 0.034703357126811926), (3671, 0.03470183481742223), (1482, 0.034692555071254266), (1345, 0.034691729425734244), (1939, 0.03468778533141555), (1087, 0.03468661904339316), (817, 0.034685769105078854), (607, 0.0346800439223096), (4341, 0.0346798580770566), (4524, 0.034679669925264583), (356, 0.03466172899903963), (2037, 0.034660518366868294), (1141, 0.03465832014201428), (1118, 0.03465325661871325), (4612, 0.03464916204928274), (4007, 0.03464781992289052), (3909, 0.03464185576579584), (2457, 0.03463627343598015), (2438, 0.03462578268075131), (477, 0.034610030659096666), (1138, 0.034606373074540335), (4408, 0.034580978075406034), (56, 0.03458089829817773), (3769, 0.03455565772710291), (4489, 0.03455405930025666), (1844, 0.03454328390309555), (516, 0.03454229026205689), (482, 0.03454075444715524), (3186, 0.03453060916999065), (3094, 0.034517398138586564), (4234, 0.034508769489684996), (2792, 0.03450532488492033), (4339, 0.034496589310009936), (3375, 0.034493926320300856), (276, 0.03446883818558354), (2577, 0.03446565734425118), (1683, 0.03445345211022434), (308, 0.03443114768741341), (2624, 0.03442221762536128), (4307, 0.03442204135032771), (3278, 0.034420876599783094), (2450, 0.034415549957212944), (315, 0.034404904164203956), (2501, 0.03440187713695117), (3334, 0.034398649431644404), (1555, 0.03439741338881029), (1545, 0.034378776271252146), (1887, 0.03437505882577054), (3497, 0.03437204032826232), (3963, 0.03434784884173656), (2539, 0.03434643103466113), (4659, 0.03429987677388976), (321, 0.034271342447348224), (2751, 0.03426107494588064), (1655, 0.03425062016704635), (213, 0.034247214969520226), (4357, 0.0342434998239242), (645, 0.034237573142834876), (3831, 0.03422210188279554), (1896, 0.034217229289916495), (508, 0.034213214046862894), (2383, 0.03420608739825119), (60, 0.034205603847942405), (2283, 0.03420251934976841), (1362, 0.03420037578986338), (2519, 0.03418641851192663), (227, 0.03418066448353238), (246, 0.03417270861203939), (4570, 0.03416634442219146), (3224, 0.03412913072566705), (463, 0.03412527728479144), (288, 0.03410532413269228), (2537, 0.0340979323344908), (4141, 0.034097347099958736), (2239, 0.034089740972435), (4161, 0.03408588033865056), (2427, 0.034073035024988305), (3173, 0.03405137466108124), (4041, 0.034043976688328675), (415, 0.03402846046201723), (1827, 0.0340272659749279), (2497, 0.03400786019812171), (3401, 0.033998696764799385), (1356, 0.03399657375742628), (2278, 0.03399283375116355), (3839, 0.033989159655271856), (4112, 0.03395815305928246), (1609, 0.03393131035548443), (2114, 0.033929122493779135), (1670, 0.03392259694397662), (1835, 0.033914078422062545), (673, 0.03391101789270745), (3446, 0.03390162414033654), (4608, 0.03389695532843411), (2271, 0.03387441427297585), (2380, 0.03386930926288187), (1441, 0.03385857267928687), (4697, 0.03385773344116338), (3279, 0.033857469585272144), (278, 0.03385689332036358), (4320, 0.03385571521273751), (1092, 0.03385072696085147), (2975, 0.03382532016912545), (1564, 0.03381848796612852), (1189, 0.03380704394909641), (916, 0.03380629318629267), (2755, 0.03378135511595251), (362, 0.03377848269090575), (669, 0.033774272965897835), (4418, 0.0337430190560876), (4704, 0.03372767558938825), (1857, 0.03372416656897185), (655, 0.0337083255560908), (32, 0.033704257131301874), (295, 0.033697770508527305), (1489, 0.03369678391505521), (1627, 0.03369484657273529), (239, 0.03368307680050975), (3089, 0.03366877460111604), (1173, 0.03366699272906985), (3494, 0.033649141403565175), (1558, 0.03364797876856895), (4101, 0.03364744916215086), (3355, 0.0336471156774342), (2203, 0.03363432808305906), (1502, 0.03362120458509119), (1927, 0.03360918026819614), (4068, 0.03360527389612778), (2989, 0.033604414378131), (993, 0.033598444474994424), (3573, 0.03357637696755958), (388, 0.033545461946192), (4270, 0.03352796337821697), (4501, 0.03352709967514722), (3344, 0.033523357469791494), (2166, 0.033521184249026614), (835, 0.03350423768151305), (1044, 0.03348378454181913), (3195, 0.03347053037001675), (1364, 0.03346890064110024), (2822, 0.03346610838241831), (4268, 0.033435395061414575), (233, 0.03343104250065589), (3065, 0.033418307315896054), (3104, 0.0334156115288032), (4441, 0.03341240568735844), (1647, 0.03340913697641186), (622, 0.03340412886486203), (2117, 0.03339984053325683), (3854, 0.033399246162571415), (2544, 0.03339362646386808), (893, 0.03338897606108579), (2033, 0.033381364794983666), (3513, 0.033376547117265065), (1517, 0.03335915426019889), (1470, 0.0333569769447954), (1128, 0.033348038813072016), (4329, 0.033328506321501146), (4636, 0.03332403149810434), (2500, 0.03330131170593631), (4280, 0.033289988230462815), (4210, 0.0332678201714062), (3599, 0.03326586309875229), (3171, 0.03325821327394818), (3387, 0.033224706167972504), (1985, 0.033192268687179255), (1621, 0.0331696316602658), (3447, 0.03316483810275565), (361, 0.03315639081804362), (139, 0.03314741294364104), (2360, 0.033147352991204734), (1150, 0.0331427446102243), (3338, 0.033137687955138474), (3415, 0.03313372177567979), (2990, 0.03311773308657877), (3699, 0.033112120450995174), (323, 0.03310756798797619), (3120, 0.03310129948159049), (3934, 0.03309647470707252), (1179, 0.0330901702491243), (4013, 0.03308291478047696), (2269, 0.03307824069687995), (3280, 0.03307504949790158), (271, 0.03305991618882051), (4433, 0.03305173953372852), (4676, 0.033018047615046155), (1901, 0.03300159193279507), (4398, 0.033001278769544944), (807, 0.03299938038869856), (3869, 0.032999005327787094), (4096, 0.032998885059517764), (3489, 0.03299626248288094), (498, 0.03299316876904601), (152, 0.032990555315380234), (2723, 0.03297020353528869), (2962, 0.03296534023386231), (899, 0.03295092166016099), (2377, 0.03292591525575825), (3364, 0.032923148560963233), (93, 0.032881360446770654), (1905, 0.0328718005561634), (1337, 0.03286540987177035), (2923, 0.032864596534027304), (4072, 0.03286349942750623), (4553, 0.03286148352447443), (2590, 0.03285565241859716), (596, 0.032835612470348545), (193, 0.0328263259687234), (4016, 0.0328162597852999), (283, 0.032806488130777495), (1048, 0.03280337012930184), (263, 0.03279580391138198), (3775, 0.03278615404579841), (222, 0.032743886481443954), (230, 0.032731485124571275), (4599, 0.032730740906257313), (1599, 0.03272703159161112), (1949, 0.032726612105718686), (38, 0.03272434200059931), (1053, 0.032718432928767964), (2582, 0.032713934430914623), (149, 0.03270736022008083), (3271, 0.03269599896795715), (1525, 0.03268829052830081), (4335, 0.03267223281810675), (2326, 0.032671051226167085), (1350, 0.032645890864456226), (3168, 0.03263229771426107), (4510, 0.03262437158641525), (3944, 0.032619208294132056), (2245, 0.032605282724442776), (2754, 0.03260167640266475), (346, 0.032594228971870406), (2675, 0.03259266938793853), (2200, 0.0325895265550931), (1846, 0.03258299622223318), (3742, 0.03257120793988689), (3949, 0.03254552705669773), (4588, 0.03251286715344562), (1486, 0.032511524496963054), (2992, 0.032481225430778075), (9, 0.032477241447401266), (771, 0.03246616289810207), (1854, 0.032464337798716075), (2788, 0.03244945343697249), (1271, 0.032449047066380084), (969, 0.03240941664629393), (2089, 0.0324085258128026), (1895, 0.032406255708494494), (513, 0.03240193594111885), (2385, 0.03235258032172206), (2895, 0.032349753944519985), (852, 0.03234914850938783), (515, 0.032347045244706954), (1385, 0.0323429498230084), (4577, 0.032341816198923456), (3052, 0.0323408602864526), (4235, 0.032324173496527504), (1097, 0.03232243172401838), (2587, 0.03232051951502507), (1644, 0.032268642029438334), (88, 0.032260532514182955), (3902, 0.03225689206681924), (1242, 0.032248410270502806), (4319, 0.03222458171607778), (1273, 0.03221010294852067), (330, 0.032196258355119564), (3960, 0.03218497934738558), (4715, 0.032172965020835304), (1370, 0.0321629179115852), (4346, 0.032148217560518805), (964, 0.03214746548843413), (3764, 0.032144998839923396), (4503, 0.03214156896705051), (2105, 0.03213981372149741), (428, 0.03211791841677631), (1056, 0.03210761116315703), (417, 0.03210309922841171), (3197, 0.032093859990452084), (4734, 0.032073350222820964), (4443, 0.0320725898395177), (895, 0.032072490123851764), (2083, 0.03207026554523211), (3739, 0.03204914230084615), (1797, 0.03200767847944889), (4350, 0.03200586752562459), (3919, 0.03198254682504544), (3761, 0.03198253408008973), (2294, 0.03197971424717997), (1028, 0.03197857381406936), (1257, 0.031977355489086666), (2581, 0.03197527162679822), (2955, 0.03195682515080906), (2405, 0.03195394945383357), (90, 0.031942595238952196), (2279, 0.03193904299987991), (1446, 0.03193372680665371), (800, 0.03191514306541149), (169, 0.031901179753935235), (1964, 0.031899832107924596), (1229, 0.0318938140660238), (966, 0.0318883280933315), (200, 0.03187689879129336), (4655, 0.031871933165867304), (4285, 0.03187010397083505), (2617, 0.031868373649205105), (1980, 0.03186737560146194), (1442, 0.031865586584000516), (1978, 0.03186118435618574), (1478, 0.03185983067881235), (4414, 0.03185821391838969), (3130, 0.03182530655833579), (4550, 0.03182093209309516), (907, 0.03179636160740291), (2518, 0.031786589197541654), (1796, 0.031786398559123255), (1152, 0.03177331816935559), (1121, 0.03176281273510212), (262, 0.031762182387379614), (1054, 0.031757768381713), (4312, 0.031746720118563214), (1519, 0.03172211474621886), (996, 0.03171174482146926), (3587, 0.031708534896251736), (2605, 0.03170539283344114), (1863, 0.03169646568830454), (1359, 0.03169138520917327), (151, 0.031688535203477454), (4289, 0.03168563244987669), (2286, 0.031670834192394755), (1957, 0.03164500977730657), (338, 0.03159770491910959), (2715, 0.03158998691195887), (3465, 0.03158678441452975), (4521, 0.031584505378539796), (4077, 0.03157765281359917), (4223, 0.0315671006438152), (2648, 0.03156222949790525), (2162, 0.03155804534756526), (1010, 0.031557474907634324), (2215, 0.03154083233502527), (3682, 0.03154063480337148), (3368, 0.031482997873178944), (4194, 0.03147561957618462), (158, 0.03147086341620157), (3385, 0.031442806122806685), (1633, 0.031439618312311034), (2945, 0.03142849551529627), (380, 0.03142173110485652), (801, 0.03141973815835616), (2423, 0.03140436099554594), (3183, 0.03139247280601212), (3849, 0.03138318275639321), (4340, 0.03138196984034416), (657, 0.03138194799380496), (3852, 0.03137956488282638), (1270, 0.03137845608232982), (860, 0.03137607384654592), (2127, 0.031355650899689495), (1080, 0.03135026803655886), (3782, 0.031347925153835575), (2857, 0.03134723538256641), (1098, 0.031322781231227136), (4592, 0.031310005878537606), (2087, 0.031309944138295055), (2668, 0.03129374494712637), (1094, 0.031288867421836904), (2290, 0.0312836878678178), (634, 0.031228441251002617), (538, 0.03122834312186765), (4383, 0.031225771795900713), (934, 0.031222918736966834), (3743, 0.031216356971057495), (2639, 0.031203017600770867), (4586, 0.03117633054771717), (370, 0.03115651472063324), (3073, 0.031133519880998977), (4497, 0.031127144472424654), (2123, 0.031126173230340906), (1256, 0.031117610188114982), (2650, 0.03111470863671661), (4739, 0.03110265499642474), (309, 0.031101234198345793), (1552, 0.03110120864162003), (1987, 0.0310976342659358), (1727, 0.03109660361807801), (291, 0.031083875218649762), (4464, 0.031070034561725846), (3905, 0.0310673148380101), (997, 0.03106344524844567), (2442, 0.03102792953505844), (1630, 0.031023952772108537), (416, 0.031017696761116084), (166, 0.03101468099383021), (3203, 0.031010195487571217), (3436, 0.031003084582243122), (4663, 0.03098255492034378), (4102, 0.030981971860761712), (2426, 0.0309727424427154), (1448, 0.030954553012707053), (4125, 0.0309516935452134), (313, 0.03092203827649561), (1388, 0.03089963502366969), (1426, 0.0308958590061348), (4672, 0.030893666644266047), (4209, 0.030885532204493464), (2917, 0.030874114437854663), (3064, 0.030865366346702196), (3061, 0.030852474572153822), (3621, 0.030841942246199235), (4325, 0.030840546570315864), (2121, 0.030839956904784634), (627, 0.03081903871323983), (3312, 0.03081889062854613), (4610, 0.030815693854569417), (1093, 0.030813919041081484), (2708, 0.030812076374481582), (57, 0.030806669811660026), (2643, 0.03079418953678667), (650, 0.030782374711166186), (1643, 0.030774618587821476), (3861, 0.03077067864254253), (748, 0.03076583787820908), (1416, 0.030762091860524313), (2076, 0.030756504460940932), (1299, 0.03074282369013989), (1539, 0.030730950704151747), (1619, 0.0307275897359711), (3719, 0.030712758544860323), (573, 0.03069592122800612), (2721, 0.030687948529146834), (4537, 0.030678968190043506), (238, 0.030678835380951366), (4399, 0.030669499542567733), (760, 0.030659413838912884), (546, 0.03064907344902041), (1458, 0.030637689397708712), (1729, 0.030628602962091078), (1838, 0.03062591366326042), (4575, 0.030615944066563212), (3760, 0.030614278321518328), (3768, 0.030613729797481608), (2629, 0.03060538442619226), (862, 0.030603260672897453), (1656, 0.030585784059345967), (2387, 0.03056971599863454), (2187, 0.030563694435311407), (2069, 0.03054894030942861), (367, 0.030548067644478514), (675, 0.03053482921257863), (4391, 0.03052737574147697), (3417, 0.03050231619774935), (2448, 0.030499987069373097), (4515, 0.03048683999139821), (1283, 0.03048554188418524), (1660, 0.030485035568577755), (3108, 0.030473494879038898), (1287, 0.030469528622471664), (1055, 0.030464178868008954), (1063, 0.03045805409717989), (4273, 0.03044320247493171), (4685, 0.03043493197683121), (2430, 0.03041371577417815), (2351, 0.03040726664574591), (2309, 0.030393496502252152), (2847, 0.030389663723014736), (1134, 0.03038068455554834), (216, 0.03037217039937146), (4606, 0.030362878349676038), (837, 0.030353238544119077), (1916, 0.030344502108250005), (99, 0.030327539373855437), (3695, 0.030307218969482), (10, 0.030304229645606594), (71, 0.030303801609089017), (4472, 0.030294221009662763), (540, 0.03026841747338874), (1673, 0.030242352701905544), (3491, 0.03023466794700842), (4351, 0.030220477006566163), (685, 0.030198893992489474), (3685, 0.03018870205073517), (4071, 0.030184093473316406), (4188, 0.030172692450700967), (368, 0.030163350759975067), (3301, 0.03014561602800035), (4365, 0.03013796178337999), (3155, 0.03013677487015922), (1970, 0.03013495037110181), (3211, 0.030129146254923495), (4132, 0.03012847276116759), (442, 0.03012603047876576), (4574, 0.030119620074575755), (2412, 0.03011460408446707), (3402, 0.03011422089789496), (2879, 0.030108104506581523), (3968, 0.030081925401660436), (3466, 0.03007644986490698), (2044, 0.030071250269608545), (328, 0.03006770192536895), (3910, 0.030050287098865), (576, 0.03004691543281182), (3309, 0.03002503904810495), (886, 0.030021131968093764), (1948, 0.030006979018580023), (2795, 0.030005977103360303), (2292, 0.030005399297078374), (363, 0.02999412140221348), (1049, 0.02998510163365444), (3565, 0.02998123548335249), (1501, 0.029979987670470012), (319, 0.02997893626366495), (3954, 0.029967640126573727), (900, 0.029965108276422108), (920, 0.029961225096772397), (4342, 0.029937825279081953), (3190, 0.029933603311616836), (4738, 0.029929800740128902), (389, 0.029929026785538347), (1615, 0.02990738342029314), (4314, 0.02990190812419498), (2762, 0.02989531765760348), (557, 0.02988976693305234), (4303, 0.029889047318296225), (2078, 0.029886191594174896), (3987, 0.02986752288126852), (85, 0.029860287438738354), (50, 0.02984321744615299), (2743, 0.029837799303861635), (248, 0.029813714158188277), (3066, 0.0297965250664346), (3904, 0.029789806940115703), (3487, 0.029774192916186812), (95, 0.02976945123669595), (1008, 0.02976916953090889), (3040, 0.02976118571716633), (4291, 0.029754109190583574), (4451, 0.029748704146285374), (471, 0.029746390326333916), (2487, 0.029738293748511873), (575, 0.02972853705587111), (3495, 0.029727538868850146), (47, 0.029725063150795667), (2120, 0.02972094219226688), (879, 0.029716106368339667), (1431, 0.029706775408534482), (2493, 0.029702587525587403), (173, 0.02968828309796558), (1352, 0.02967878958940329), (3883, 0.029674928740038638), (3559, 0.0296734942991045), (3920, 0.029673490231655306), (4287, 0.029673103430174867), (3003, 0.029669222999172174), (2484, 0.029667660112799827), (449, 0.029660623323479858), (1038, 0.02966044044415594), (1367, 0.029654923660346284), (1697, 0.029652976801010207), (3308, 0.02964579979398502), (3188, 0.02963875119891887), (843, 0.02963104380058489), (2711, 0.02962302674388808), (1940, 0.02961901412934717), (991, 0.029609960365249186), (3323, 0.02960980990930445), (4155, 0.02960296262230235), (4394, 0.029601058824001346), (3036, 0.029582076716097222), (358, 0.029575802959274446), (381, 0.02956891141116969), (1966, 0.029563064256312915), (1285, 0.02955948367427644), (3696, 0.02955529283575722), (3085, 0.029547552496521325), (3215, 0.029544148377017212), (4184, 0.029543880272391798), (92, 0.029532598351829684), (1314, 0.02951387192984417), (3317, 0.029505483388034295), (3294, 0.02947851215283825), (597, 0.02944288061330582), (1544, 0.02944169039379539), (4737, 0.029435927716025462), (1274, 0.029427100132900987), (750, 0.02942378489547851), (4368, 0.029420108708051635), (1238, 0.029405584227265545), (1440, 0.02940498177460879), (2837, 0.029401807261168585), (420, 0.029391549950544885), (3665, 0.029380819101093518), (377, 0.029367183731290214), (1698, 0.02936583984281546), (4677, 0.029357851195171245), (1355, 0.029352641644277613), (1872, 0.02934166835221352), (2657, 0.02933144265880582), (3253, 0.02932730421524454), (1294, 0.029324668785502352), (2784, 0.029322096385150518), (325, 0.029312268729346804), (382, 0.02927734676821183), (4147, 0.029276277423585365), (2262, 0.029269201971047504), (3643, 0.029259418544248145), (2654, 0.02925936484931868), (1067, 0.029257662127940863), (2202, 0.029256423138087084), (716, 0.029255500255131957), (1962, 0.02925038625463088), (967, 0.029242795750385173), (3267, 0.029209346331217415), (4115, 0.029196482068426854), (1859, 0.029183684383347206), (2354, 0.029159702269110407), (4061, 0.029149182770219738), (3452, 0.029145082193046738), (4226, 0.029141849715418243), (1103, 0.029116310477118715), (1380, 0.029112591123960044), (3985, 0.02911114114199999), (4304, 0.02909621211900129), (4043, 0.029092780927346944), (18, 0.02907441670770141), (3515, 0.029067358308594794), (257, 0.02906417687430583), (3915, 0.02905496971537387), (4024, 0.029052132566645975), (3880, 0.02905130449639408), (942, 0.029050848646585345), (2631, 0.029047440509400828), (2685, 0.029045611021397716), (857, 0.02904084979414658), (2593, 0.029033201507338548), (1837, 0.029026157543590288), (1106, 0.029023748736714077), (4741, 0.029004592884624782), (421, 0.028988451418584065), (1900, 0.028964023013752265), (2520, 0.028956350036460587), (723, 0.028951579689485595), (3097, 0.028938285512622466), (3113, 0.028933624487697727), (4718, 0.028930990448508626), (2972, 0.028896382076976732), (2238, 0.02888203140828325), (3444, 0.028881345655983423), (4343, 0.02887120656890909), (2988, 0.02884875629592264), (2858, 0.028846722754645098), (3842, 0.02884376121489045), (3946, 0.028832985097830215), (559, 0.028800061869932635), (3709, 0.028796188782416014), (1560, 0.02878773942506382), (587, 0.028777491028886566), (2401, 0.028765989410629984), (101, 0.028763336202815043), (4085, 0.028733592210199787), (3829, 0.0287334506063216), (1428, 0.028720643956766375), (1725, 0.028717004637013217), (1001, 0.02871590567506851), (4180, 0.028700352516468165), (4200, 0.028674235206829744), (4104, 0.02867043498507483), (4050, 0.02867030269585877), (1963, 0.028668651069596162), (3857, 0.028664699776196324), (2334, 0.028664381904892258), (3790, 0.028663060921043433), (3713, 0.028661085373535466), (2234, 0.028659447729804492), (1183, 0.028644016746192096), (985, 0.028634613215822377), (2778, 0.028615200486211394), (1420, 0.028610981980552543), (2417, 0.02860980763195477), (4539, 0.0286084756948166), (203, 0.028606562922163098), (1217, 0.028593987848939195), (3616, 0.02858963188038941), (3033, 0.028561217131412905), (1818, 0.028538415764923324), (554, 0.028526774952116897), (1602, 0.028521020078073955), (320, 0.028520207301103665), (3380, 0.02851670741765384), (1832, 0.02850478972796874), (744, 0.02849907108033885), (2132, 0.028473669842589065), (1672, 0.028463568033618193), (4336, 0.028421163882982183), (4731, 0.028402890662751357), (2168, 0.028389007935503106), (214, 0.028388192144277458), (2415, 0.02838636663883485), (950, 0.028378760858294494), (448, 0.02837520782360618), (2717, 0.028373535142408677), (3196, 0.02836145284640724), (3956, 0.02835247408426605), (526, 0.028349671740719735), (3114, 0.02834539433808873), (3547, 0.02834528050146013), (2498, 0.02834167670607151), (1231, 0.028330408553440305), (1406, 0.028289795673634956), (4246, 0.02828501937917243), (3624, 0.028281289751698163), (4442, 0.02827629380446843), (3218, 0.028273450340744206), (1750, 0.028273377943492342), (509, 0.028256384182904905), (3392, 0.028251668967755855), (984, 0.028248335990573067), (1829, 0.02820928999249558), (4292, 0.028192272109735614), (4584, 0.02818130854702765), (638, 0.028173631406747175), (3135, 0.028166120248562406), (4733, 0.028140496660993736), (2261, 0.02813138821997447), (4221, 0.028130426703425034), (4530, 0.028116509329450874), (1125, 0.028084301435165535), (1521, 0.028081308517199956), (2188, 0.028080022773359692), (2698, 0.028068768752184836), (1467, 0.02806422402813782), (1899, 0.028053284925760234), (4225, 0.028051691471521055), (2386, 0.028048543839521895), (1943, 0.028041823478963557), (124, 0.028040037901887804), (116, 0.02803425065526683), (2947, 0.028030728035765663), (4106, 0.028007462666824773), (1816, 0.02800223619799001), (2479, 0.02797863573335446), (1546, 0.02797368682616115), (290, 0.027973009946438233), (2288, 0.027971979306200483), (1553, 0.027963690171828728), (3596, 0.027956276742747442), (2018, 0.02794669893405223), (3895, 0.027945834350588315), (1745, 0.027942632071798472), (3290, 0.027927389619706502), (1737, 0.0279238617188296), (3533, 0.027911678401522335), (890, 0.02791115517104083), (1374, 0.027901700898329534), (1101, 0.027890566093548314), (4582, 0.027886572746667542), (505, 0.027859592478217017), (676, 0.02785186974896071), (2561, 0.027842020510936188), (1263, 0.027823035428466855), (970, 0.027817718880343074), (1171, 0.027805380624920936), (2749, 0.027799001036143484), (1557, 0.027794447656979516), (445, 0.027759845184766648), (457, 0.0277417056555127), (66, 0.027736770018880266), (2150, 0.02772173504259202), (2825, 0.02772135237638764), (3637, 0.02771034830020711), (2801, 0.027707089574886764), (722, 0.027687706389337853), (140, 0.027679228073762482), (2687, 0.027663657233336147), (840, 0.027639834143752057), (2546, 0.02763654386804654), (1810, 0.027624878047306616), (136, 0.027614613073373623), (1064, 0.027601427040809038), (662, 0.02759374344520376), (4413, 0.027572098901218617), (4057, 0.027566645423659913), (4393, 0.027561097399991966), (2375, 0.027557587954597732), (4033, 0.027478052776844005), (3500, 0.027476528684214064), (3332, 0.02746666126114931), (1252, 0.02744634182867478), (2838, 0.027443918016132766), (4219, 0.027414787962386746), (2028, 0.027411325243139356), (3078, 0.027410683001155504), (4239, 0.027404023005523706), (192, 0.027393751453065933), (3825, 0.027388919522468837), (4596, 0.027385489067593548), (1202, 0.027383000511562304), (3536, 0.027381488803274758), (3735, 0.027381323414036596), (188, 0.027362802672456197), (3101, 0.027343047253717827), (2414, 0.027342244914242288), (360, 0.027321952451643212), (697, 0.027301566775409247), (2489, 0.027286602426109842), (2024, 0.02727696825328382), (3786, 0.02725214311005709), (4363, 0.02723100488825912), (2610, 0.027222136135824138), (1401, 0.02722173016470984), (1563, 0.02721818131752762), (94, 0.027217560970142524), (2491, 0.027206500340769938), (2115, 0.02718942038949071), (3526, 0.027185629954195267), (234, 0.027183998735915173), (3249, 0.02718376859638353), (4460, 0.027176165393330454), (1481, 0.027160153053673152), (1694, 0.027159782266457565), (1360, 0.027156683543385234), (2019, 0.02714943755751416), (876, 0.027140512164069805), (352, 0.027138381935622187), (2406, 0.027134533310427953), (3806, 0.027132447336280827), (1523, 0.027132091308287178), (2063, 0.02712644219531345), (304, 0.027113603471461033), (2159, 0.02708317933087287), (1132, 0.027077431740381276), (354, 0.027075120576816172), (1944, 0.02707245687143077), (4034, 0.027016458139380972), (3213, 0.027003386788630693), (109, 0.026990060941619216), (579, 0.026987050555144977), (2177, 0.026986882240946978), (3524, 0.02698513051346604), (3490, 0.02698304617771018), (322, 0.026981150898274023), (3187, 0.02697513422626252), (399, 0.0269535041555118), (1551, 0.026946566908620177), (737, 0.026941885325618697), (4051, 0.026930603872863407), (440, 0.026929002021002697), (28, 0.026923543026086422), (316, 0.026912131731544636), (1783, 0.02690333258962436), (3820, 0.026886254492730494), (2481, 0.026872962969593635), (3705, 0.026852584891810943), (4140, 0.026839382814492482), (3691, 0.02682792154059354), (2782, 0.02679861018303521), (4236, 0.026794704866558907), (1547, 0.026791199393556734), (3318, 0.026791036686581886), (2122, 0.026785268387332615), (4390, 0.026782841091268057), (1870, 0.026757051693269928), (962, 0.026752700710713204), (2216, 0.02674378559526443), (2929, 0.026734871097911523), (413, 0.026726350523430337), (3677, 0.026708848742701737), (3808, 0.0266939793906074), (2106, 0.02668732112117915), (1603, 0.026687162423343878), (1638, 0.026685472542524288), (4361, 0.026666009331945253), (797, 0.026663072118033378), (1685, 0.026637852531748052), (1977, 0.026636341132303714), (405, 0.02662083531492749), (1308, 0.02659978973008103), (4732, 0.0265936212963077), (2931, 0.026587313031296925), (2659, 0.02657469324248146), (2052, 0.026567407734349274), (1701, 0.026548573941892382), (1646, 0.026542505036792476), (1444, 0.026541832687013867), (1533, 0.026514640460529426), (2054, 0.026512113135592867), (543, 0.02650104615536062), (4625, 0.026498266272109987), (1343, 0.02647170391628473), (456, 0.02646321075936959), (2176, 0.02645310803335682), (3092, 0.02644105139136202), (179, 0.026440456990596276), (3966, 0.02642735228900114), (2212, 0.026419160055394898), (1297, 0.026400632716849677), (1095, 0.02639267691255223), (2839, 0.02638435657786361), (2586, 0.026374376310656856), (2055, 0.026366101632010905), (3754, 0.026350120168298918), (1714, 0.026347328530026748), (4490, 0.026344289673091104), (600, 0.026321901925688514), (1268, 0.026316351384936463), (2603, 0.026314248509950428), (3093, 0.026308825785444474), (1765, 0.026303267903076015), (3370, 0.02630025232938292), (2235, 0.026299671797866967), (709, 0.026285318609182633), (480, 0.026282543599335174), (468, 0.026282248114514444), (1920, 0.026281792695067634), (4274, 0.02627523956428977), (2733, 0.02624775212815288), (2275, 0.026243632828001736), (628, 0.026243226464346417), (711, 0.026237928540745973), (359, 0.026225828377043493), (2644, 0.026182881228423577), (4258, 0.026161212721074793), (885, 0.026161057271395734), (3971, 0.0261516197484736), (4722, 0.026146399892400283), (789, 0.0261450761989653), (430, 0.02614432590168998), (1589, 0.02613700976206865), (3333, 0.026134462916109224), (2059, 0.026119867276979684), (2924, 0.02611410050477371), (1223, 0.026103758899639066), (3145, 0.02608322987272359), (157, 0.026053936382163877), (1233, 0.02605335667135351), (924, 0.026035607622345133), (1855, 0.026023973882758105), (1903, 0.026018644754883784), (3890, 0.025996631462525597), (4090, 0.025996162076379795), (953, 0.025981390252478347), (1159, 0.02596854194413388), (3947, 0.025960245652570404), (1511, 0.025949094764992214), (3594, 0.025946587462451213), (2915, 0.025935895570096793), (1919, 0.025929648342281612), (1723, 0.025929394930906492), (1833, 0.02592652390051862), (808, 0.02591781132271004), (2335, 0.02591344092585464), (4262, 0.02590789336323753), (536, 0.025901460107948148), (1002, 0.025890920270407344), (4168, 0.025882681251383304), (4579, 0.025880279360768112), (3214, 0.02587902099341969), (2192, 0.025876517909061644), (1571, 0.02587144199296328), (1989, 0.025871096110456276), (2201, 0.02586555572888567), (3430, 0.025865097344655766), (3140, 0.02586257502068425), (438, 0.025861338750488207), (982, 0.025812607061936402), (548, 0.025808517332525108), (1975, 0.02578111074362829), (1802, 0.025774895198485134), (4192, 0.025774388093448584), (3394, 0.02576694475733983), (3648, 0.02571921351955826), (2570, 0.02571641149207177), (932, 0.025715234819267383), (3628, 0.025712103303231922), (2864, 0.02570208340366215), (1574, 0.02569153588289377), (2981, 0.025685112731946524), (168, 0.02567800989808137), (2322, 0.025675910788305726), (599, 0.02566937752224324), (3939, 0.0256654978180251), (4256, 0.02565644194955046), (2735, 0.025656006640522748), (2513, 0.0256552426917409), (3319, 0.02563849323728557), (1149, 0.02563382349366057), (4288, 0.02562591037491322), (1241, 0.025624141133526603), (218, 0.025616838967762838), (1561, 0.025612735997326407), (4039, 0.02558286193487945), (3562, 0.02557970635260201), (1077, 0.02554703377477349), (1249, 0.025540575063312445), (4354, 0.0255384277845119), (4333, 0.025535313881740004), (1265, 0.025513788581048063), (2324, 0.025510708022390905), (1139, 0.025509353614054882), (2434, 0.025502443292077338), (3408, 0.02547946860797668), (765, 0.025467180171673032), (243, 0.025461759862210297), (224, 0.02545123627093034), (241, 0.025445851656705196), (1131, 0.025433052546173708), (4699, 0.02542946683513206), (131, 0.025422693971219344), (1200, 0.025389602687706524), (1758, 0.02538045003213643), (1594, 0.02537164979332643), (1788, 0.02536668156491661), (4362, 0.0253639052296387), (1764, 0.025348546667762144), (414, 0.02534436071950974), (1828, 0.025341832459068233), (1849, 0.025341569356057567), (1460, 0.025340720589195245), (4084, 0.025322488997665853), (1165, 0.025314264363891087), (681, 0.025307082198287163), (4471, 0.025303864105920525), (1348, 0.02526656919845409), (522, 0.02526471931448164), (610, 0.02526415586898268), (4569, 0.0252477494465547), (1915, 0.025218908939184877), (3810, 0.025217838840936885), (4748, 0.025212933054575927), (205, 0.025209854839977487), (3081, 0.025191872336550736), (279, 0.02518968348278954), (3011, 0.025176564274837426), (2898, 0.025156988364819163), (1490, 0.025139072213225058), (721, 0.02513841495238164), (1060, 0.02513548330605374), (892, 0.025132775866535895), (3564, 0.025130745849457417), (2968, 0.025093333482436433), (3943, 0.025090048637822604), (1585, 0.02508974224569716), (2301, 0.025088361820840777), (3288, 0.025081747725943418), (1593, 0.025055395063994904), (780, 0.02504878389472837), (3577, 0.025044114404834835), (33, 0.025022627518956102), (1577, 0.02501764229467528), (2704, 0.025015999091678866), (344, 0.025004138709049207), (2850, 0.024998509330958606), (2482, 0.024997819859232953), (2592, 0.02499551108603603), (3722, 0.024989854967880476), (3822, 0.024981647611435443), (3504, 0.024978933165294266), (2404, 0.024968228100606893), (4060, 0.024963066480492176), (1938, 0.024956532802233596), (270, 0.024941875365615852), (26, 0.024941035627553815), (2179, 0.024929225346601566), (3978, 0.024927650322161488), (1775, 0.024925967104540227), (2686, 0.024915202732738093), (3683, 0.024909623203292514), (2321, 0.024892283540877812), (1909, 0.024881307231782054), (2567, 0.02488004647041433), (210, 0.024877557244598728), (4745, 0.02487694180825355), (1736, 0.024875441250766392), (110, 0.024874054561965994), (3121, 0.024869817652245954), (1680, 0.02486870305502842), (2824, 0.024856855588942586), (3702, 0.024855718796999143), (713, 0.02484805719568278), (1133, 0.02484378956917385), (462, 0.02482768799832972), (3298, 0.024826348837753545), (2077, 0.024819473991917022), (1774, 0.024810810927659972), (1798, 0.02477537154203079), (2731, 0.024774531149026585), (2827, 0.024766010510833793), (2505, 0.024765129460767206), (4448, 0.02474656284269891), (3012, 0.02473823859333707), (4665, 0.02473472197680025), (3409, 0.024723420327887345), (1868, 0.024718744524226954), (150, 0.0247116517940093), (2742, 0.0246981565326109), (4150, 0.02469279144570613), (1941, 0.024685042409356286), (4006, 0.024682622344966494), (2441, 0.02467626841510734), (3574, 0.024674420252994617), (3776, 0.02466674385619164), (555, 0.024664997376013274), (2116, 0.024662417364954326), (4332, 0.024645312184475916), (2163, 0.02464279496772732), (3826, 0.024634540111632568), (3701, 0.0246336270970118), (4138, 0.024628713757056338), (1116, 0.024600139135326094), (708, 0.024599060594475405), (1004, 0.024593224522450132), (1473, 0.024571210243480707), (1109, 0.02456778231128168), (4022, 0.024558498005844517), (630, 0.024556871888736762), (2817, 0.024548075597164237), (1992, 0.024540828103945218), (4691, 0.02451527860624254), (679, 0.024509598562880337), (2630, 0.02450631176483034), (2155, 0.024503618067360143), (1572, 0.024486779997206793), (4160, 0.024482036994324066), (1959, 0.0244774327594126), (1789, 0.02445476241285482), (2048, 0.024453996565401346), (938, 0.02444676307165027), (3148, 0.02443474131676467), (1700, 0.024397715130699094), (1634, 0.02439140951952641), (167, 0.02437906985053416), (4078, 0.02437269401930727), (1334, 0.024357417544431402), (327, 0.024352790936050014), (2241, 0.024352702316555386), (1393, 0.02434817549364083), (2229, 0.024348143239731338), (1463, 0.024343708889542282), (1865, 0.024340499376655153), (2384, 0.02431843720401293), (423, 0.02431346697346837), (774, 0.02430823497539029), (3109, 0.024299793795823987), (1143, 0.024295626164290825), (3541, 0.02427833812534402), (1303, 0.024275703086361813), (3508, 0.02426484498954935), (4498, 0.024263729792173405), (983, 0.02423313702033259), (3051, 0.024226155318212546), (4526, 0.024221095012358442), (2680, 0.024220722689254664), (3977, 0.024201335828254848), (4214, 0.02419980214962185), (668, 0.024178432067296286), (1384, 0.02417539019302819), (4416, 0.024159892782234797), (154, 0.024158373171175668), (1839, 0.024158345711912617), (4517, 0.024157584807933837), (2343, 0.024157140732401727), (2266, 0.024136079975207118), (2907, 0.024118424259583483), (3973, 0.024116918887617834), (2765, 0.02410903902149277), (2161, 0.02410529857285669), (4087, 0.024056389834457542), (1506, 0.024047983368654702), (3938, 0.024043916798898005), (527, 0.024032008651324283), (1582, 0.024030900907134268), (1618, 0.02403078061862199), (4276, 0.024007807149921782), (190, 0.02398744855122501), (1212, 0.023979202671085092), (3237, 0.02396168823476941), (2511, 0.02395044361186136), (1496, 0.02395035020279275), (3550, 0.023947683486370094), (1971, 0.023944076884704905), (1695, 0.023931258719649344), (459, 0.023927466137112118), (2485, 0.023924117363007452), (4707, 0.023910705470431955), (1917, 0.02389324888620965), (1399, 0.023886150666134403), (2061, 0.023878795045193277), (4632, 0.023872431940859463), (2382, 0.023864176670576387), (3727, 0.023854087994979654), (4382, 0.023853520266744276), (4683, 0.023825174875538122), (3442, 0.023812387501376403), (2468, 0.023775293119280977), (4267, 0.023769566048588035), (3805, 0.02375893741527116), (2124, 0.02375069257106481), (1990, 0.02374464827961988), (3476, 0.023742352277135823), (1956, 0.023738707473224308), (2070, 0.023731074822828057), (4063, 0.023720349007217686), (2750, 0.02371265219447243), (2737, 0.023702952761597305), (3597, 0.023699190861332032), (268, 0.023688977151171336), (1806, 0.023674578343522643), (1606, 0.023670183270135123), (1575, 0.02366397693371608), (1492, 0.023658429967089077), (3296, 0.023651454807924965), (3474, 0.023646919125945295), (1439, 0.023632215517850146), (2637, 0.023623519078755713), (4513, 0.023604831945899647), (1313, 0.02360054401919529), (4278, 0.02359160018220973), (3982, 0.023579842977734158), (2504, 0.02357557725505344), (4583, 0.02357325945155309), (3341, 0.02357165723573615), (3000, 0.02356231040841086), (4502, 0.023550477342355925), (2013, 0.02354173271604101), (347, 0.02351484129111084), (1628, 0.02351124431909558), (947, 0.023506648458401357), (1423, 0.02347912933733881), (2865, 0.02347645449206338), (185, 0.023441084687770546), (1930, 0.023435581401496958), (2978, 0.023428018886593304), (3216, 0.023422003642450884), (2352, 0.023417770525138482), (2131, 0.02340639523763025), (566, 0.023358765924710773), (1515, 0.023339272665240048), (3273, 0.023334251639758573), (3179, 0.023317951034564535), (1629, 0.02331358831717052), (4713, 0.023307648353744444), (3228, 0.023305012910428902), (1588, 0.023298433988940503), (2144, 0.023289696819209452), (4468, 0.02328960795115005), (37, 0.023284457971267516), (1645, 0.023280168452774305), (3893, 0.023266021330978243), (1659, 0.023251795226149192), (4758, 0.023251126664188035), (3032, 0.0232385421877198), (2938, 0.023235642144336422), (108, 0.02322448442634873), (1665, 0.02321753584842394), (4754, 0.0232146145360109), (4488, 0.02319362288762546), (1361, 0.023177769374961146), (1820, 0.02316334585739572), (4133, 0.023148078447623507), (1076, 0.02314427663146627), (1003, 0.023143007047975082), (1518, 0.02313892537364646), (4440, 0.02312144457053825), (2554, 0.023117198458139688), (2688, 0.023106130561057644), (2293, 0.023098145543362335), (197, 0.02309664644469208), (764, 0.023095482506765817), (3485, 0.02309111543213673), (2548, 0.023089076701394925), (3780, 0.023083004914168315), (3046, 0.023082363098499294), (3629, 0.023081720131387644), (4487, 0.02308142796414959), (3923, 0.023078760094710004), (1503, 0.02304238963490769), (432, 0.02303145945389717), (4120, 0.023019772850848524), (4674, 0.023005569746730327), (4705, 0.023004772446298224), (4076, 0.022989517763429175), (2699, 0.022984268296142835), (186, 0.022980519151512297), (1772, 0.02296853241372571), (3828, 0.022939353026007657), (1993, 0.022907177900672402), (564, 0.022874014176287708), (3360, 0.022864859850423698), (1650, 0.022847583391863716), (2652, 0.02284524207181236), (3434, 0.022841287452297056), (2815, 0.022836090622660874), (660, 0.02283353206012387), (1654, 0.02282225025674195), (4359, 0.02282136958306066), (374, 0.02281793809696054), (3182, 0.022811299872142886), (1715, 0.022810680516979612), (3163, 0.02280067667441489), (2969, 0.022789025208317847), (4129, 0.022753498159199036), (3212, 0.0227524237558455), (2102, 0.022748895115999142), (3889, 0.02273340970973764), (2199, 0.022730242404665448), (4491, 0.02272289056089341), (3800, 0.02271916902891106), (3260, 0.02271792849796697), (4045, 0.02269478843875837), (4411, 0.022689414791219893), (35, 0.022684680864717015), (3588, 0.02267850476340386), (177, 0.022675869133888943), (402, 0.022670436693140623), (1639, 0.02265766654456151), (453, 0.02265167709035522), (4473, 0.022627814728935904), (3240, 0.022622387235279644), (1358, 0.022619834127551697), (3277, 0.02259682528157725), (2068, 0.022587440714435587), (469, 0.022578386433060264), (2418, 0.022561200356373254), (1, 0.022551845896656163), (2408, 0.022540583815488145), (1090, 0.02253342492394492), (4286, 0.022525900547445174), (4742, 0.02251480053001084), (659, 0.02250599289409816), (4074, 0.022480340658383422), (1721, 0.022472171128922545), (48, 0.022469721298542685), (547, 0.02245570543314126), (4686, 0.022449409324619116), (769, 0.022447454651603263), (2939, 0.022408525313135697), (1450, 0.022403849670737514), (943, 0.02238596962665467), (3847, 0.02238088055711794), (1230, 0.022377005110558155), (3509, 0.022368362886950346), (3295, 0.022366258919801305), (293, 0.022329437081497046), (2888, 0.022325465961890355), (684, 0.02232415918363498), (4386, 0.02231982968390101), (3117, 0.022319370894332308), (422, 0.022296350956663623), (1047, 0.02229141998076781), (2197, 0.022286875369891372), (3330, 0.022283836535065098), (3413, 0.022279182787438987), (1636, 0.022278685331503706), (19, 0.022276035096727757), (2854, 0.022271493741654172), (1136, 0.02226499741546808), (4171, 0.022263781519276743), (2407, 0.02225317983208307), (3613, 0.022247752978114002), (612, 0.022243211262332842), (2145, 0.022233950606126707), (3283, 0.02223120579316269), (2006, 0.022202407946386022), (3876, 0.022202261220500015), (1801, 0.022199734752909484), (4690, 0.022187410615530846), (2222, 0.022186533856501406), (2090, 0.022151337199499202), (3726, 0.022129979208227547), (2043, 0.02212544873807869), (4005, 0.02210134553841157), (2563, 0.022099429044850592), (345, 0.022092787079827918), (2966, 0.02209255907289247), (670, 0.02207907552140303), (2626, 0.0220551670920335), (4708, 0.022048076488431333), (2702, 0.0220283455605159), (3074, 0.0220274360428524), (1318, 0.02202525386437737), (1316, 0.021989113866630473), (2300, 0.021977216823888403), (1840, 0.02192963734757582), (763, 0.021924013054482303), (242, 0.021911278065931034), (796, 0.021894057766260147), (2690, 0.021893988904401467), (4018, 0.021861799982304954), (4313, 0.021856547043906414), (4485, 0.0218547540692088), (251, 0.021807763676734697), (2001, 0.02178653495071117), (3728, 0.021786487905293788), (2999, 0.021778386204439833), (698, 0.021758610129107073), (4666, 0.021754872565113707), (474, 0.021739714164505847), (2411, 0.021731981155557193), (13, 0.021731432658705578), (4627, 0.021720263741897144), (1351, 0.02170799321441097), (2126, 0.021684455038257094), (2272, 0.021683208443851045), (1885, 0.021588613925165284), (4623, 0.021570665052575072), (4166, 0.021559454409059136), (3139, 0.02155756559600703), (2317, 0.021537887351265085), (2431, 0.021534302137368372), (1284, 0.02150753153276563), (3088, 0.021498534536463332), (1760, 0.021495722832743546), (4700, 0.02149385929302511), (2470, 0.021490999249026557), (4635, 0.021484783332277275), (4353, 0.021458463857160777), (949, 0.02145780235051351), (1269, 0.021455026271372586), (1430, 0.02144075192340448), (1099, 0.02143532795565265), (4191, 0.021415004230639117), (3041, 0.02140032723366799), (3374, 0.021399728548745507), (1648, 0.021398244289265924), (2080, 0.021393165557866384), (2770, 0.0213837986540378), (3461, 0.021367609782040366), (3995, 0.02136448846026407), (4505, 0.021362292016241506), (833, 0.021344639252534478), (4622, 0.021342267672269915), (3607, 0.021331818321690763), (1674, 0.02132755630715934), (465, 0.02132198361987968), (184, 0.021311369130435198), (3983, 0.021286818146799405), (3827, 0.021268862541381404), (743, 0.02126800479109686), (2635, 0.021267053634887744), (2342, 0.02125790326052279), (2456, 0.021234803339243363), (4638, 0.021233670991256597), (1436, 0.021228021879898317), (858, 0.021207568256221776), (832, 0.021197145730965695), (4163, 0.021193702918680515), (3147, 0.021187151827136406), (2799, 0.021178598343110304), (2402, 0.021177972906009913), (923, 0.021166488391162166), (2647, 0.021160754036737898), (2490, 0.02116024597947102), (2025, 0.02115336155349792), (1780, 0.021151579623558025), (1731, 0.0211366473277852), (4759, 0.021135949093326403), (3615, 0.02112299520827595), (3913, 0.021122009283667937), (1397, 0.02111803429477899), (3686, 0.021099088890923504), (3519, 0.021082085535199455), (3539, 0.021074264031203615), (80, 0.021068073538130276), (1803, 0.021019972731451283), (3426, 0.02101026559199323), (364, 0.021007362415619943), (972, 0.020997753562869346), (4458, 0.02099019555944941), (3302, 0.020982071323845865), (1178, 0.020949902797728875), (2295, 0.020927989033567726), (1562, 0.02092482279412636), (2763, 0.020914384866720426), (2559, 0.020910517614390885), (2530, 0.02088868397744687), (3006, 0.02088611564421997), (1808, 0.02087947092857019), (1387, 0.020859501859298274), (2496, 0.020847959737730928), (4297, 0.0208452553898465), (3084, 0.02083898886296208), (2905, 0.020838412838589247), (1626, 0.020820457947662494), (816, 0.020799747369832332), (2802, 0.0207941213732126), (1739, 0.02079261627293196), (2344, 0.020788694306058432), (904, 0.02076224425863995), (1862, 0.020757056952732597), (2769, 0.020728922105384722), (1245, 0.020714874081654313), (1933, 0.020661978484366406), (2745, 0.020652318384829865), (936, 0.020651881029634122), (3080, 0.020634633420907787), (294, 0.020621994814851722), (3582, 0.02060720112217569), (2908, 0.020591370659091827), (1474, 0.02056213483597217), (2372, 0.020557844950066295), (1248, 0.020530533044007548), (730, 0.020513102879558452), (3583, 0.02049366681739543), (1422, 0.020454184602734942), (2074, 0.0204444305935731), (3291, 0.02042174859142155), (732, 0.02042033692228027), (955, 0.0203948402948404), (1926, 0.020370579998147988), (156, 0.020368840296705496), (1782, 0.020366521871453023), (823, 0.020347119629525227), (1543, 0.020321154646373872), (2949, 0.020317538589110375), (2230, 0.020307541509378767), (3354, 0.02030602327983653), (3898, 0.020291972600009943), (3821, 0.020286468410999788), (1211, 0.020281851857922906), (2956, 0.020262750480329526), (2247, 0.02023473068055031), (44, 0.020224432276504906), (2871, 0.020223184597099427), (4602, 0.020196778267703185), (2325, 0.02019380597762584), (1845, 0.020189040795892937), (3721, 0.02017588050730934), (2064, 0.020175700037730664), (1570, 0.020172240436326164), (1491, 0.02014705009183208), (3887, 0.02014565535590875), (3306, 0.020145270218138934), (4717, 0.020142211641798493), (2362, 0.020129481518013602), (2595, 0.020120184809209418), (3788, 0.020117389692413355), (1197, 0.02011399008794995), (4198, 0.020111927566613497), (4253, 0.02011073666394258), (2311, 0.020104710496005415), (535, 0.020063026950237133), (2979, 0.020039062028216384), (3263, 0.020036724118201347), (1250, 0.020033586367411125), (1353, 0.020033455220354046), (245, 0.02002078229545318), (4369, 0.020014133254106524), (4670, 0.020008123206083653), (733, 0.020002015691674), (1707, 0.019999558020181506), (1693, 0.019984802204033356), (905, 0.019945213743011482), (2531, 0.01994488475908453), (4397, 0.01994090410329608), (642, 0.019938184079703297), (3681, 0.01993562375689151), (1718, 0.019929359018959023), (2376, 0.019927905673785138), (2910, 0.019927306867905434), (3662, 0.019917222475787602), (2348, 0.019913439603699058), (1653, 0.019880587304629764), (4512, 0.019874474466297087), (4014, 0.019846317007148898), (1163, 0.01983968079869844), (1304, 0.019835080696323126), (4182, 0.019813999292243884), (3347, 0.019800989857726818), (3689, 0.019797398302072836), (4518, 0.019791578038929256), (3816, 0.019747870969894294), (755, 0.019731358189447348), (3631, 0.019730936015293257), (577, 0.01970326645121353), (3803, 0.0196949957444927), (2960, 0.01968336002402684), (1236, 0.01967488794062078), (4452, 0.019644860232962275), (2119, 0.01963101764580396), (1222, 0.019625343866717233), (2935, 0.01962375570157329), (3610, 0.01962187413309627), (1339, 0.019621262245354366), (4593, 0.019604262152383728), (3811, 0.019566294675999102), (1112, 0.019548421564101623), (3514, 0.01954550239960464), (4173, 0.019528821272083385), (2833, 0.01950709891461073), (918, 0.019496154022344017), (2759, 0.019485470041673378), (2236, 0.01948359285857233), (2874, 0.019475729037021935), (4417, 0.01946419514222673), (2397, 0.019454041781699346), (588, 0.019435639535577184), (4637, 0.019432203948732477), (67, 0.019419455840050753), (4172, 0.01940790716589784), (1590, 0.019399611708702427), (4415, 0.019397342428012422), (1747, 0.019384378970517185), (2400, 0.01938252912814836), (2611, 0.019360259858347106), (1664, 0.019354142801808787), (794, 0.01935401549587213), (4, 0.019313586576356366), (1018, 0.019291681549849726), (2738, 0.01927042503375027), (871, 0.01926239948290666), (252, 0.01922483226777918), (1476, 0.01920398745854818), (3194, 0.019202503365305598), (836, 0.0191796010789059), (2022, 0.019172058619012014), (228, 0.019151154714107502), (3824, 0.01914990665550767), (3112, 0.019139062252061464), (3027, 0.01910310345346342), (4040, 0.019080059130690146), (4282, 0.01907639309868109), (3925, 0.019058653323667064), (3095, 0.019046327004764007), (4228, 0.01904006900282275), (296, 0.019020011804005758), (768, 0.019013700911180004), (2785, 0.018982625608640984), (2476, 0.01897651280185308), (1787, 0.018957306468143673), (2327, 0.018956221680283658), (4565, 0.018952911124796173), (1235, 0.018949291601949976), (1194, 0.01894810723061908), (3162, 0.018916286210144444), (2811, 0.018916269531074052), (1035, 0.018898401563116812), (3752, 0.018896425536450705), (1623, 0.01888829929716834), (3958, 0.018878547596243994), (3863, 0.01887685725447891), (409, 0.018867385098619415), (1301, 0.01886580747123094), (69, 0.018862776093820696), (1746, 0.018858973199861722), (2097, 0.018854664909143483), (3664, 0.018840738093551086), (2297, 0.01882539986951312), (2525, 0.01882278564283258), (343, 0.018821430063016675), (1319, 0.018819345188789628), (747, 0.01881712278403294), (4179, 0.018811833160243766), (1642, 0.018810182165811394), (3740, 0.01880864898447986), (571, 0.018789948232329323), (2875, 0.018778805065771245), (2957, 0.018750125681050007), (3345, 0.01873169939356522), (3239, 0.01871973165269553), (4728, 0.018717292036322396), (1684, 0.01871262590710334), (1377, 0.018704856186978112), (1221, 0.01868121963029737), (503, 0.01867761026081563), (4402, 0.018675843471363432), (4751, 0.018671972774873757), (1326, 0.01866498022974445), (2435, 0.018654893527683007), (3570, 0.01864007377352706), (2913, 0.018632983239325624), (4696, 0.018627389598819235), (1366, 0.01860955760403523), (79, 0.018609121584680907), (439, 0.01860610444067463), (485, 0.018597336010510057), (4409, 0.0185714855711329), (4449, 0.018557920628497662), (2756, 0.018551764701258088), (1085, 0.018543585982574592), (3505, 0.018537331877563276), (734, 0.018530975090395342), (400, 0.018530834193440527), (265, 0.018517439663775018), (736, 0.018510559867442287), (1605, 0.01849325939904904), (4170, 0.018492959220072526), (2210, 0.018483140053257543), (3511, 0.018475491672286865), (408, 0.018473813501893973), (2664, 0.018456141929044233), (4455, 0.01844399916090702), (3758, 0.018439388859909863), (3164, 0.01843490427121705), (1995, 0.018415112474680348), (2560, 0.018410405926616757), (974, 0.018409242379042894), (1161, 0.018401215894807917), (1893, 0.018399666902283715), (3388, 0.01838588037321635), (1809, 0.018378270365272117), (2746, 0.018367572248332322), (2165, 0.01835111052065962), (2164, 0.01834523311116478), (78, 0.018328600304985034), (1709, 0.018325116578207817), (4139, 0.018324558627692666), (4203, 0.018313655743637716), (3543, 0.018309523408201266), (1213, 0.0183004326645472), (1110, 0.01829104964890158), (1039, 0.01828092511941689), (2693, 0.018277151319801004), (3554, 0.018274207319776675), (4543, 0.018268471468664293), (915, 0.018263242346145164), (1620, 0.018248037166236172), (2974, 0.01822928404345686), (3950, 0.01822673320109345), (4042, 0.018195029598866645), (1759, 0.018178491413840824), (2953, 0.01817665535320273), (1757, 0.01815886171818156), (1309, 0.018152716393440318), (4349, 0.01814805637723002), (155, 0.018137075219693065), (1601, 0.018135193329433495), (4195, 0.01811946785544944), (4207, 0.01811231864162104), (1320, 0.018110789862867398), (3540, 0.018108934465514658), (221, 0.01810801514683563), (1130, 0.018107150226878914), (3608, 0.01810212732119806), (1198, 0.0180857798942606), (2787, 0.018081197035800245), (1756, 0.018066619510816753), (219, 0.018051379190523128), (951, 0.018046961951779013), (3578, 0.018040358247129757), (1834, 0.018038149320639112), (1534, 0.018005462574246758), (1105, 0.017979593973968568), (226, 0.017978397931208305), (2786, 0.017976979130914682), (2191, 0.017973164988762082), (1847, 0.017946503525875464), (1597, 0.0179380075782297), (1666, 0.017927746681518687), (2619, 0.017922245223469725), (4573, 0.017921235286955977), (4167, 0.01791097749317759), (2410, 0.017892172520564086), (1706, 0.01789180200976921), (3208, 0.01788886625176633), (49, 0.017868081367182875), (562, 0.017837328739370523), (2424, 0.017815255728306528), (1996, 0.017812673588373542), (4559, 0.01780078560783134), (3991, 0.017796622565374336), (1851, 0.017777763316093653), (3894, 0.017770324593164927), (3077, 0.017770242222274676), (911, 0.0177699150752029), (373, 0.017765864560088766), (2550, 0.01776559950832171), (2640, 0.017764065194501254), (3612, 0.01774404472628892), (2004, 0.017725016578397264), (2211, 0.017717187259021376), (4023, 0.017707277668946086), (2982, 0.017687811913636668), (3245, 0.01768290142179347), (1825, 0.017679275216103844), (2739, 0.01767058071645584), (995, 0.017670349651590037), (1286, 0.017669497666142925), (1383, 0.01766093622552759), (3250, 0.01766046130929824), (2465, 0.017657218391521474), (3300, 0.01763859452551164), (4205, 0.017622177937741623), (3794, 0.017618257221330466), (1607, 0.017610615736023426), (3918, 0.017601313064392284), (1029, 0.017593256720269127), (1291, 0.017591570272805883), (372, 0.017587972185636496), (2805, 0.01758045450467866), (4532, 0.017579003293140015), (2366, 0.01757292178525512), (4217, 0.017572367012509457), (1617, 0.01756394713801564), (2752, 0.01755904364602239), (14, 0.017534753495771334), (4269, 0.01753004940257225), (2304, 0.01752951234759262), (3418, 0.01752883087598203), (4025, 0.017526923276482777), (1022, 0.01752400083847602), (1516, 0.017517357717019268), (2005, 0.01751200739990814), (4027, 0.017510687087579885), (4118, 0.01750747825621289), (3948, 0.017489961225823605), (1720, 0.017489738616449254), (4689, 0.017477214164830463), (2388, 0.01746580403767176), (2357, 0.01745679322632265), (4251, 0.017449074595720346), (2533, 0.017447696141958118), (501, 0.01744043684095409), (98, 0.017434233419482154), (1327, 0.01742883519615513), (1505, 0.01742844571018697), (1973, 0.017423544792203458), (2844, 0.017416708527200928), (2495, 0.017393222587111717), (16, 0.01738383880976645), (281, 0.017381027814505755), (3517, 0.01737114138324189), (644, 0.01736338333503686), (3617, 0.017362213369346263), (1675, 0.017353758284236104), (2719, 0.017352542229736374), (4651, 0.017351909661878835), (4702, 0.017348000846618705), (4197, 0.0173326469001961), (3023, 0.017324255396054332), (4446, 0.01731260602412156), (1935, 0.017295804930566774), (132, 0.0172878200224318), (553, 0.01728578413379236), (111, 0.01727060502561227), (272, 0.017261947236187368), (148, 0.01724600051862259), (4302, 0.017240818049445387), (2264, 0.017239296670380936), (603, 0.01723219880420054), (925, 0.01723015019495301), (287, 0.017228231407713027), (1371, 0.017225923796278592), (1749, 0.017211754390849817), (4626, 0.017205481980690177), (2332, 0.017199787704171514), (4266, 0.017186928398493895), (812, 0.017172856281792635), (1027, 0.017164012108343882), (2452, 0.017157315415990426), (3007, 0.017134025989204937), (1722, 0.017124967194870166), (4495, 0.017100241853201536), (3972, 0.017090750965730282), (3327, 0.017086212509033007), (3687, 0.01707850597306917), (77, 0.017023904954036717), (4327, 0.017015732915466694), (1114, 0.0170001813631276), (1776, 0.016999620599442912), (4174, 0.01696004316606413), (1793, 0.016951559277953415), (2433, 0.016941587184202737), (490, 0.01694102246960984), (3967, 0.016923607117009288), (3912, 0.016922455956381224), (317, 0.01691347882220099), (1761, 0.016885768192911432), (307, 0.016872626524531645), (824, 0.01686814325412792), (52, 0.016867329809199968), (3560, 0.016840945664491458), (2627, 0.016802668394487557), (2225, 0.01680153089418402), (1768, 0.01680110657624146), (2676, 0.01678768875054769), (2744, 0.016749948765172856), (3796, 0.016743509410575067), (1050, 0.01673271456694764), (690, 0.016725872294508448), (2047, 0.016723931612246473), (4204, 0.016721192441695922), (2602, 0.01671440698371406), (3242, 0.016700383869302938), (1958, 0.016688225325321663), (2340, 0.016684706297344358), (2449, 0.016667476428131336), (311, 0.01665196231327589), (3622, 0.016649402365309287), (2443, 0.016646883248352177), (2035, 0.016619744152533623), (1762, 0.01661969171654596), (3335, 0.016590652459486217), (1524, 0.016577761622828546), (782, 0.016565471831465207), (1979, 0.01655737778851436), (3098, 0.016540260701500765), (2256, 0.01651238833135473), (1822, 0.016506513039840576), (3105, 0.016488669538184814), (357, 0.016470937138169498), (194, 0.016446771327872183), (1513, 0.01644160875150663), (4364, 0.016438573294574415), (2951, 0.01643483713565022), (51, 0.016428957828488522), (1755, 0.016377767331521666), (1025, 0.016364534325372364), (2363, 0.016363599130837316), (1488, 0.016348591670656346), (1429, 0.016348028140667055), (1305, 0.016331934294395486), (2828, 0.016322546936230798), (2995, 0.01632120576927271), (4619, 0.016300658685571345), (1456, 0.016290476852820528), (3933, 0.016286507905319884), (1889, 0.01628581409607673), (383, 0.016279171603745982), (3142, 0.016276524462758787), (2243, 0.016267163788755503), (539, 0.016245491372395473), (3926, 0.01622367214679151), (3425, 0.016218111134086572), (2085, 0.01620432620317781), (1251, 0.016198611011323256), (4110, 0.01618500255520988), (3356, 0.016173202511618565), (202, 0.016159859363800357), (1661, 0.016120354307479934), (4220, 0.016105283217417922), (561, 0.016101966095114512), (4009, 0.016099337667598933), (2845, 0.01609625912445462), (762, 0.016085140442818485), (4065, 0.016074009499928002), (3999, 0.016068601321748713), (2880, 0.016063717535576286), (2499, 0.01605336469877896), (2081, 0.016048809797810953), (1716, 0.016039625692674118), (3264, 0.016039383714097213), (2954, 0.016028547590899334), (2633, 0.016022693318942165), (1719, 0.016017538050468693), (1724, 0.01601372921266798), (3205, 0.016002950428509913), (3395, 0.01600135895317543), (121, 0.015984785357604937), (1328, 0.01595678457636861), (2809, 0.015953596166815912), (3219, 0.015948970459571013), (2099, 0.015947190066380096), (96, 0.01592918091037344), (4710, 0.015924241027336153), (3014, 0.01591451493553321), (82, 0.01591039400858392), (1363, 0.015888417227297547), (3172, 0.015840196069685664), (1407, 0.01582920479720691), (767, 0.015813242779048015), (3053, 0.015801896341854284), (931, 0.01579230965386364), (3244, 0.015779852991035393), (3724, 0.01577746341051089), (2943, 0.015758653114113935), (3067, 0.015730318645693048), (277, 0.015710298341544048), (113, 0.015680468597388145), (3181, 0.015638977045053303), (1115, 0.015637913025350687), (2350, 0.015636199245888282), (2464, 0.01562887687342662), (1671, 0.015610202078979497), (1981, 0.015595290159140419), (1369, 0.015583701983273262), (86, 0.015579114168914634), (2140, 0.015576959104570123), (3975, 0.015553875006443837), (3151, 0.015549128252818095), (3025, 0.015538599824759842), (3633, 0.015528603417260011), (412, 0.015513816467595035), (2506, 0.015508380050150292), (3372, 0.015492295377418568), (2508, 0.015486139081077387), (4047, 0.0154854623423719), (2010, 0.015467190601901284), (2876, 0.015454677517433487), (3437, 0.015434980399019643), (4206, 0.015434779637344033), (3467, 0.015424738537386675), (2265, 0.015413797983631575), (4157, 0.015390157993694309), (2829, 0.015381807334667), (2666, 0.015371677015498934), (2180, 0.015366889857609143), (2298, 0.015359011734237026), (3922, 0.015321290052101557), (3940, 0.015292017842885638), (2014, 0.015271537842634996), (2558, 0.015242356142815529), (4419, 0.015224663498522941), (2439, 0.015223117878560148), (2831, 0.015198077203137313), (572, 0.015197060191613791), (2766, 0.015194684735242617), (1622, 0.015191603312249986), (2315, 0.015190431595457793), (1635, 0.015180135365062191), (4395, 0.015168643012548425), (3331, 0.015163596103851443), (3063, 0.015152296800125822), (142, 0.015150401439651177), (1338, 0.015148877177592751), (567, 0.01508587917595788), (2683, 0.015072691224431625), (3766, 0.015069138745334776), (2305, 0.015054800772085083), (2946, 0.015041113380420062), (2868, 0.01499145503507441), (2932, 0.014978898949685916), (4714, 0.014973716135089335), (749, 0.014968659183196073), (175, 0.014950140830365333), (831, 0.014930887154321885), (3704, 0.014930537464672837), (719, 0.014925341801713642), (1984, 0.01492505505482817), (2906, 0.014920488733534132), (3630, 0.014912782863156145), (4149, 0.014903991594324241), (2217, 0.014895756471886889), (2526, 0.014889701539869947), (689, 0.014876849801091134), (4727, 0.014872385421969803), (1276, 0.014869160883606606), (2772, 0.014862660226863991), (3328, 0.014858298730319132), (4463, 0.014852071451683537), (2008, 0.014843326889226124), (2579, 0.014815170401401411), (3859, 0.014810006544843345), (2862, 0.014807377713998178), (4621, 0.014799944802846868), (106, 0.014796878282826872), (3068, 0.01479208315158334), (2727, 0.014782015861371171), (787, 0.014772445328180943), (1417, 0.014770420529617878), (2645, 0.014768914639951615), (2697, 0.014766566701877457), (4177, 0.014738467322105297), (1278, 0.014707032308368366), (3576, 0.01466443775347895), (4434, 0.014661581517503023), (1883, 0.014655333080266118), (4254, 0.014650074313842843), (4616, 0.014646685048735097), (217, 0.014641731242147729), (3789, 0.014641726178413679), (2420, 0.014640784427593234), (58, 0.014619778120184074), (940, 0.014595755456950268), (163, 0.01459218640717838), (2606, 0.01456723235021642), (609, 0.014547984754690987), (4062, 0.014547983011802438), (4736, 0.014512101027074209), (1579, 0.01447823400936828), (1586, 0.014475986611499543), (112, 0.01444625947292259), (3707, 0.014418461118281342), (4726, 0.014410768095150598), (1573, 0.014401529683503807), (2726, 0.014382842705041301), (1254, 0.014347607155876943), (3731, 0.014319133413526404), (3254, 0.014254820049621442), (4514, 0.014228107431290262), (4199, 0.01420707772145495), (2695, 0.014194162814128681), (1914, 0.0141919183431173), (3506, 0.0141861867660797), (3096, 0.014181556844497465), (3674, 0.01417859822761938), (1886, 0.014168973613004553), (3711, 0.014151093283792566), (1699, 0.01414812398082672), (1449, 0.014131510593632173), (240, 0.014107433706188575), (958, 0.014094734245034135), (1953, 0.014075284405655806), (1631, 0.01405838669714696), (2860, 0.014036855414971539), (3165, 0.014021972544157211), (2556, 0.014017082822941737), (1395, 0.014002095420747483), (2190, 0.01395861097873124), (2632, 0.013956191353825113), (1037, 0.013948487463704248), (0, 0.013938025824832445), (3086, 0.013914743457104842), (1625, 0.013914584714590146), (4020, 0.013910866428912382), (3110, 0.01389879850614031), (126, 0.013896185089116282), (3823, 0.013895730462558797), (3039, 0.013895498400601952), (3241, 0.013888585647981006), (3037, 0.013861113337439874), (2299, 0.013858483103352854), (4293, 0.01385605468050001), (2058, 0.013834800893181641), (2642, 0.013817504954034132), (4229, 0.013786151801160723), (351, 0.013777900954826632), (3538, 0.013759090992473936), (2125, 0.013749535654827), (3125, 0.013742249132085832), (4752, 0.01373380573422469), (3403, 0.01372627001908412), (2694, 0.013726244147915257), (927, 0.01372071784233908), (406, 0.013707291387533274), (1462, 0.013705163817536569), (3488, 0.013693459432204748), (4757, 0.013662101299209901), (903, 0.013626091483603006), (4658, 0.013622675977366272), (542, 0.013612615975876225), (2280, 0.013599650458407013), (236, 0.013525981336281849), (4743, 0.013498849672683756), (4723, 0.013491763152640663), (1290, 0.013463838597620077), (2399, 0.013409098826658503), (4445, 0.013389252079834343), (3029, 0.013377330585529808), (1030, 0.013350445059764505), (2572, 0.013322196318928396), (3897, 0.013320166771299902), (2597, 0.013316493988157097), (2777, 0.013299315329034892), (1898, 0.013285702916875742), (589, 0.01326661089230092), (2634, 0.013251888882096973), (2020, 0.013207500471217007), (926, 0.013206039721402251), (2692, 0.013186026934423879), (608, 0.013185253811644286), (4571, 0.013158010009862924), (1711, 0.01311771867140959), (2444, 0.013116030699119), (1144, 0.013110032469732651), (379, 0.013090302790574682), (1237, 0.013061440339776966), (1300, 0.013060859793206868), (1928, 0.013051038185189637), (2175, 0.013049695117327087), (3252, 0.01304629021477591), (4555, 0.013038708779277403), (1214, 0.01300272760142324), (1836, 0.01297772934552735), (1568, 0.012968538742360739), (2219, 0.012968186256183227), (1735, 0.012953297280561113), (602, 0.012929901270221608), (2724, 0.012869808957773435), (3178, 0.012847323797651427), (129, 0.012815741694663116), (2722, 0.012812555643254618), (518, 0.012801070642769093), (4311, 0.012768824409826919), (533, 0.01276066867110797), (2365, 0.012747169829188314), (2379, 0.012743019799711437), (601, 0.012684212397786016), (2767, 0.012662495971749524), (3585, 0.0126439439424754), (4519, 0.012642857151069857), (3458, 0.012642432303018567), (1379, 0.01261888467156116), (431, 0.012606092974329911), (254, 0.012588692637622608), (2204, 0.012564996433179562), (391, 0.012555279687080135), (225, 0.012549879512980894), (7, 0.012534974021987515), (2220, 0.012530755568085418), (889, 0.012530531276051006), (4439, 0.012522342961880775), (581, 0.012506838793786378), (910, 0.012495694941989323), (4744, 0.012494805997642078), (2395, 0.012465670953641135), (4426, 0.012410085291082706), (2138, 0.01240582672654218), (761, 0.012394474382386979), (2891, 0.012392343919441703), (1187, 0.012367860264969182), (1753, 0.012347116180694642), (3493, 0.012302935414563336), (2227, 0.012275608213528364), (2814, 0.012264083516364259), (3026, 0.012226099180225136), (1892, 0.012166065835425566), (2289, 0.012139672684121625), (3381, 0.01213269126724051), (2628, 0.012121195315516345), (4295, 0.012120791775598317), (2510, 0.012075520997492204), (4475, 0.0120046393348601), (3866, 0.011991059650089104), (998, 0.011982068422359878), (3292, 0.011981740997224367), (3042, 0.01195932090329278), (999, 0.011947590282977096), (3715, 0.011910127848243359), (3119, 0.011885254343006885), (4298, 0.011863661545694128), (2893, 0.011852291149080459), (1208, 0.011833409872399961), (1461, 0.011832622042812388), (3048, 0.011830955828157567), (2462, 0.011817284843088357), (4245, 0.011806402186979545), (1790, 0.011802978338391248), (2936, 0.01179942539522404), (1485, 0.011751260210630244), (3204, 0.011746849270935066), (1831, 0.011713834037444673), (847, 0.01170121140345662), (4646, 0.011677974110693462), (784, 0.011677267663784182), (1424, 0.011667919910612525), (1264, 0.011653749102931564), (2002, 0.011649678176374202), (318, 0.011648440439525936), (1298, 0.011602458933165838), (3009, 0.011599654427888545), (2049, 0.01157606332615927), (3650, 0.011571678896108625), (3858, 0.011563528682721971), (65, 0.011542153221864717), (2930, 0.011541652997398202), (2674, 0.011538042817141297), (2472, 0.011515029776171448), (3473, 0.011509043976987857), (4617, 0.011508285270781755), (3680, 0.011502729572136508), (3072, 0.011500727066224192), (419, 0.01149159380875337), (4547, 0.011488617006435138), (3118, 0.011477112154747698), (1234, 0.011469273219791548), (392, 0.011453932817228358), (2302, 0.011451777477103083), (1205, 0.011445800136007371), (3281, 0.011426675876470041), (1075, 0.01141545771836093), (2614, 0.011414718048669743), (4019, 0.011365354514515142), (2267, 0.011364403272940814), (2329, 0.011318594273201607), (1147, 0.011311679792736784), (593, 0.011295460131196101), (1733, 0.01129369973811567), (2834, 0.011280086151512719), (3266, 0.011265257768253847), (1333, 0.011257622261118167), (3791, 0.011254414678841456), (1580, 0.011249832373457835), (1021, 0.01120458151676837), (2516, 0.011203433791089687), (1688, 0.011184184033521016), (2538, 0.011176626638154274), (4698, 0.011148981078000525), (4648, 0.011144107743059293), (2818, 0.01112810758385092), (1907, 0.011125850145500889), (2147, 0.011123961450405982), (4222, 0.011122268577757482), (3322, 0.01112018469830782), (3537, 0.01110993796073344), (2221, 0.011107223138177583), (3054, 0.011101813594362847), (1689, 0.011097536049199), (2461, 0.011093366850125973), (3644, 0.011087965024080285), (1549, 0.011079143995824436), (1867, 0.011073102311771726), (3620, 0.01105702984628953), (2589, 0.011054480130205067), (2870, 0.0110488190772309), (2281, 0.011047360518192974), (2046, 0.011044146966244027), (1331, 0.01104380950292417), (1679, 0.011028298238630227), (853, 0.01102003042156127), (2240, 0.011014154635043022), (488, 0.01100856391962658), (4499, 0.011000034073806416), (3848, 0.010986185823039197), (2478, 0.010978744024492212), (1499, 0.010953939141199368), (2260, 0.010951202388279761), (3024, 0.010935912961999129), (2032, 0.010934425700715811), (2775, 0.010934295087010817), (2928, 0.010933453732975183), (4127, 0.01093285770119161), (1583, 0.01092255867869454), (1409, 0.010896130469807174), (2101, 0.010893698144028153), (2458, 0.010887954683745489), (1744, 0.010887070589252793), (3936, 0.010875945359911376), (1891, 0.010875930610431626), (3457, 0.010873420793420654), (146, 0.010864441427198477), (828, 0.010855920797010137), (134, 0.010836144514935347), (1500, 0.010827873497057963), (2911, 0.010810321091142987), (114, 0.010795210728059355), (275, 0.01079491648325777), (3307, 0.010777593611702527), (3838, 0.010770204979895915), (2466, 0.010767484456030908), (2967, 0.010767370386044145), (775, 0.010762355369991105), (3882, 0.010731076480871467), (4740, 0.010723554021616174), (4594, 0.010708234706191849), (2034, 0.010699090130109872), (215, 0.0106927054076654), (3326, 0.010677946361062347), (1390, 0.010669715758494926), (1879, 0.010667715421308307), (1717, 0.01066388332802063), (342, 0.010660864751174476), (1034, 0.010649554164590081), (2740, 0.010647701123624892), (3262, 0.010635969895617768), (1408, 0.010616970385862822), (2964, 0.010605235942545472), (2488, 0.010603503847421338), (2050, 0.010601197822613238), (4002, 0.01060067357937913), (3688, 0.010593219681556267), (785, 0.010581302242851148), (929, 0.01058007597991492), (1860, 0.010575772289817358), (1411, 0.010574834925002627), (1596, 0.010574166957818697), (1124, 0.010565459624683388), (1912, 0.010559981662957709), (2036, 0.010557314315331953), (2535, 0.01055564706930303), (2208, 0.010549180195802643), (665, 0.010547695135915731), (2463, 0.010546716479139982), (2914, 0.010523434364147873), (3159, 0.010517469444403366), (22, 0.010516331339611289), (2368, 0.01051403674491142), (159, 0.010503300254973947), (2167, 0.010484795758397768), (2436, 0.010463974728491126), (3729, 0.010463051482289239), (2396, 0.010462305834362568), (1741, 0.010456324186780346), (3256, 0.010444109867495166), (2615, 0.010440367270103652), (2218, 0.010434168162649138), (1477, 0.010425592018621982), (705, 0.010419805826631358), (1203, 0.010418665040013583), (2257, 0.010406866016792997), (2859, 0.010395668022420462), (1170, 0.01039369207640524), (1372, 0.010392167990797755), (3304, 0.010386518028180124), (115, 0.010361415778512234), (3146, 0.010359161237400044), (2307, 0.010354325536022575), (2440, 0.010350641717752919), (4545, 0.010343106476326825), (1204, 0.010334222083290635), (2333, 0.010330820836799077), (3236, 0.01032602757914382), (2347, 0.010304147136791718), (2912, 0.010292879538288023), (2553, 0.01028940439230287), (1514, 0.010275187024938886), (4720, 0.010275075590770967), (398, 0.010253028899018248), (524, 0.010231538098659737), (4028, 0.010230280800930977), (3679, 0.010222775348573366), (4107, 0.01021366338297173), (3832, 0.010202189492191606), (4492, 0.010193143899398995), (337, 0.010185422492599804), (4556, 0.010184818864693546), (3580, 0.010184772920670524), (3749, 0.010178687973857565), (1704, 0.010177508479973103), (127, 0.010175045687073336), (3482, 0.010153381188512995), (198, 0.010139578624272458), (4427, 0.010134512301144726), (3529, 0.010127571405952752), (2422, 0.010122459637527925), (3802, 0.0101187061110055), (2734, 0.010114256740885607), (4628, 0.01010758116512674), (4215, 0.010106730103731603), (466, 0.010104362650062827), (2902, 0.010089163081461428), (2369, 0.010083679731778775), (1410, 0.010070666981464195), (1330, 0.010067549814001544), (1329, 0.010061132643484214), (3265, 0.010055914334948094), (2337, 0.010055015830563114), (3962, 0.010047363725340064), (3246, 0.010027669407225194), (2141, 0.010025915268766675), (525, 0.010022127284488255), (104, 0.01001848052418173), (1877, 0.010016504853648264), (3314, 0.010012473812534292), (783, 0.010001510717916832), (2195, 0.009998932151609529), (2451, 0.009996121624348226), (1509, 0.009992845158835723), (1668, 0.009988960100308376), (2934, 0.009962368329573186), (1794, 0.009947505060284903), (2620, 0.009947370995968709), (1974, 0.009945961339278426), (4355, 0.009944931232621978), (1157, 0.009943461334445612), (2779, 0.0099412831288355), (2836, 0.009936009240930004), (1875, 0.009914889471667888), (2056, 0.00990851405323514), (4688, 0.00990418051585917), (3757, 0.009897787231864545), (3103, 0.009894286285363367), (2391, 0.009889411697297124), (1878, 0.009881872972107051), (4536, 0.009880776849754174), (437, 0.00987574101948098), (1690, 0.009875150329135897), (3149, 0.009862031406150126), (2977, 0.009859200228444144), (3071, 0.009848163309559389), (2072, 0.009829476757816301), (4687, 0.009824645027153184), (3932, 0.009823643616683858), (959, 0.009809844993611422), (3369, 0.009798718331604686), (335, 0.009793121719959736), (3601, 0.009777157087197414), (4580, 0.009776497841908692), (285, 0.009772041389014134), (1434, 0.009762224187482968), (209, 0.009760956931358145), (2263, 0.009756053347968733), (3646, 0.009754560119709696), (3678, 0.009740301684216314), (3542, 0.009740063491160397), (2679, 0.009733257734408765), (4479, 0.009724742544962901), (2129, 0.009723084219337886), (2873, 0.009719673649026758), (479, 0.009715397159435448), (1988, 0.009702450248535131), (4196, 0.009701329318027642), (2916, 0.009701151086543361), (3900, 0.009698436770024419), (921, 0.009694415908163539), (2528, 0.009681187618963848), (473, 0.009673825850776493), (3951, 0.009670412838849504), (3127, 0.009651000017842967), (1288, 0.009647945532649306), (1682, 0.009635638409591998), (1465, 0.009611622969324263), (2816, 0.009607421045375266), (3885, 0.009606663319104872), (4405, 0.009599756803411567), (3083, 0.009580970330854475), (3884, 0.009560396147377291), (2, 0.009534028149623775), (4317, 0.009532450948129996), (1086, 0.009522206366765198), (3518, 0.009519392947427563), (3716, 0.009512160570084133), (2160, 0.0094803546225037), (29, 0.009476769459859953), (2270, 0.00947369229914952), (3, 0.009461485532832789), (3321, 0.009442708794509735), (1813, 0.009439049043530465), (1036, 0.009425900256285986), (788, 0.009424275750107337), (4634, 0.009418629620637251), (2835, 0.00941004854518947), (3411, 0.009409546497514493), (545, 0.009393065432748668), (4301, 0.009390713244715866), (1929, 0.009380981588719778), (3010, 0.009367975994194918), (2183, 0.009355352405127703), (1830, 0.009353921944883438), (2446, 0.009348302890496329), (3865, 0.009298715283784028), (3753, 0.009290006042599335), (2542, 0.009286190256256176), (2291, 0.009282187805341199), (3590, 0.009271320635641832), (2287, 0.009267712092198477), (1528, 0.009259128728336372), (1752, 0.009253176774658523), (1199, 0.009235779261087016), (2866, 0.009232022239471725), (2038, 0.009213769144782452), (4315, 0.009212952587874981), (2469, 0.009211215518085618), (2926, 0.009200204612425452), (393, 0.009181353950849585), (3929, 0.009175482794405259), (3813, 0.009166431136801613), (939, 0.009155123174770678), (75, 0.009150324591581698), (2569, 0.009136066154193847), (2364, 0.00913543389854541), (4604, 0.009117378520283045), (3329, 0.009089687250856113), (3299, 0.009087852579223264), (2608, 0.009050187583257211), (1785, 0.009045112818480427), (3111, 0.009040162947761533), (3226, 0.009015307890199387), (2194, 0.009003760594968635), (2467, 0.00900138187866148), (1016, 0.008998426925806147), (3325, 0.0089857845016245), (403, 0.008945822939104042), (3047, 0.008945135929838869), (2492, 0.008939740155973278), (3268, 0.008929482297155263), (1365, 0.008895111444559737), (1691, 0.00889432274686043), (3855, 0.008889157630089718), (4520, 0.008883296528575113), (4134, 0.008874584244920028), (2453, 0.008869953842971578), (2942, 0.008863846720331088), (2651, 0.008818376264220114), (1526, 0.008813809107281313), (1453, 0.008811851074222415), (3546, 0.008800712366707729), (1677, 0.008780247838783749), (196, 0.008778810408776927), (3556, 0.008752553924856445), (1312, 0.008734587573557617), (2973, 0.008730716514807849), (2712, 0.008717575037424844), (3647, 0.00870206080676922), (4243, 0.008693491908910006), (3928, 0.008668813139784482), (1950, 0.008666892173439725), (475, 0.00865815035789839), (4109, 0.008653714645766565), (1994, 0.008636675420212722), (2502, 0.008632311839747204), (3843, 0.008631540307436122), (3400, 0.008587410355353025), (3930, 0.0085534230585146), (3258, 0.008541282266185248), (605, 0.0085256051582028), (2985, 0.008523671069503507), (786, 0.008521335941938374), (3627, 0.008519573513839447), (1156, 0.008516072249897732), (901, 0.008495304231470787), (3138, 0.008491398608804355), (2039, 0.008480689045479222), (1676, 0.008468617499391035), (4755, 0.008462028566998752), (2509, 0.008438031212894902), (4308, 0.008413113499168144), (776, 0.00840136414752097), (1415, 0.008381244852454877), (4237, 0.008367782084412672), (626, 0.008340151844101036), (506, 0.008330569228755042), (1019, 0.008308460793085372), (4212, 0.008265142900969392), (4461, 0.008254887967568712), (366, 0.008233412841771716), (3896, 0.008233172499411506), (1277, 0.008207982556487017), (3389, 0.00819782000381386), (3313, 0.008185530311604102), (3056, 0.008174289978702296), (3984, 0.008173721879896815), (1081, 0.008160266356974002), (4643, 0.008157638306115973), (2152, 0.008147746646269964), (616, 0.008146460697089339), (1800, 0.008139551910992146), (1871, 0.008109998365665692), (2591, 0.008078356697454114), (3856, 0.008070358317396826), (4079, 0.008054151349663639), (2154, 0.008029766038907147), (941, 0.008027577047076156), (4729, 0.007969841344754376), (3419, 0.007940827966479025), (3667, 0.007938692510097848), (838, 0.00792476784743001), (407, 0.007907615883073633), (4250, 0.007904350793597434), (4326, 0.00787421817762514), (2855, 0.007868404951957078), (3293, 0.007825403723358729), (2000, 0.00782039046609136), (237, 0.007791345128524623), (3703, 0.007745231062129473), (2398, 0.007743344912737947), (2937, 0.007716906212670753), (2534, 0.007712288005643339), (3410, 0.00769724981663535), (103, 0.0076941693271645375), (881, 0.007647439480146745), (3830, 0.007571939398498087), (3669, 0.007496126383919983), (3152, 0.007479030320947183), (2933, 0.007478884202794593), (2331, 0.007440822109984503), (3441, 0.0073839232570973995), (2562, 0.007376225002646047), (2760, 0.007348769073616609), (3535, 0.007340641382512939), (4151, 0.007213878146300057), (3431, 0.007211494867772447), (1960, 0.007205474658396465), (2671, 0.007027944040490227), (740, 0.006869988158828839), (510, 0.006868711632972517), (3421, 0.006843949220151785), (2741, 0.006834165404910628), (4598, 0.006766697415984343), (1734, 0.006552742340319726), (2314, 0.006541063360141101), (4546, 0.006494591204461803), (2655, 0.006452617262006535), (3206, 0.006301785303285657), (4412, 0.006243142297520678), (2636, 0.006203150505254369), (2885, 0.006175380290365044), (3835, 0.0061552164899412), (3521, 0.0061498309598098135), (3044, 0.006088137906352145), (3844, 0.006067692798401846), (3049, 0.006064447203790135), (3123, 0.006052518745757871), (4724, 0.006024074117220059), (4660, 0.0060078098268451395), (2328, 0.006002832929553064), (3638, 0.0059720899072675405), (3942, 0.005891160162017731), (3424, 0.00586114628903061), (3297, 0.005820880162122029), (3675, 0.005820654664763014), (3019, 0.005819928117393846), (4746, 0.005812853855547097), (2660, 0.00580919971325304), (3528, 0.005781835935491585), (4735, 0.005748820191002128), (3377, 0.005715076664814257), (1421, 0.005659402422175849), (4131, 0.005645732094104374), (3005, 0.0056121143146981994), (3501, 0.0055648022586387205), (3981, 0.005523799440066528), (4380, 0.005493375462905277), (4092, 0.005489755513548876), (2700, 0.005481405408069031), (2841, 0.005405604635754254), (4522, 0.005320959984607387), (3676, 0.005234018632445092), (4631, 0.0051700838334215815), (4284, 0.004983103836803521), (3600, 0.004760941358927225), (3383, 0.0047470815710685885), (3062, 0.0046820824780527855), (2618, 0.004653947381834153), (3668, 0.004585816126540819), (3059, 0.004549752573531693), (3553, 0.0038591629022688297), (3645, 0.003733333873147923), (4425, 0.0027875638286442776), (3945, 0.0024172270144817583), (4644, 0.0023089413229330246), (3176, 0.002283908914846087), (4671, 0.0022442192853271118), (3717, 0.002160875174591832), (2358, 0.002134100489677036), (3663, 0.0020201096770270156), (4681, 0.0020201096770270156), (2703, 0.001935496304745549), (4026, 0.0018096130288359849), (2658, 0.001759999423931618), (3261, 0.0016829359874517323), (2678, 0.0016414644594782998), (4719, 0.0016348990654680466), (2312, 0.0015932975826594214), (2568, 0.0015579035558536535), (4201, 0.001504869854358831), (4541, 0.0014607852498346582), (3552, 0.0014468016223834381), (3899, 0.001370550194331607), (3475, 0.0013671807247966766), (1792, 0.0013148063338903767), (2757, 0.0012889140012642575), (4654, 0.0012662590911305634), (2669, 0.0012444551135922257), (3672, 0.0012289979754673754), (4067, 0.0012195803763604015), (4607, 0.001218699994604638), (3523, 0.0012185527017701165), (3391, 0.001211418878162606), (4749, 0.0012021897899870163), (4480, 0.0011828371250737519), (1947, 0.0011822581454746053), (3990, 0.0011809082013046772), (2987, 0.0011782231682133685), (2948, 0.001176658841965397), (4021, 0.0011739576895383945), (3878, 0.0011722535646718417), (3561, 0.0011710039992597126), (3479, 0.0011684835479515154), (2832, 0.0011667835800093112), (2282, 0.0011663820726424156), (2889, 0.0011580328810877078), (4618, 0.0011575263735260314), (2209, 0.0011496363047027638), (3282, 0.0011489163379835986), (2776, 0.0011475031983447872), (2941, 0.0011384713457378364), (4694, 0.0011363817410729384), (4260, 0.001133776491827972), (3931, 0.0011291272969573055), (3257, 0.001128883821576661), (3988, 0.0011219256086754585), (2483, 0.0011119535978197752), (4500, 0.0011085352019420036), (2806, 0.0011055199790344608), (2673, 0.0011052295035481013), (3892, 0.001099929300792909), (4407, 0.0010970016431129388), (2392, 0.0010943192480119999), (4657, 0.0010926157354300972), (4423, 0.0010925494125530366), (3128, 0.0010907715014558967), (3439, 0.0010902113492118491), (2471, 0.001085018833440717), (3874, 0.00108048221388154), (4544, 0.0010801328159793702), (4508, 0.0010793128804517744), (2901, 0.0010790372528618655), (4230, 0.0010781157670809735), (4271, 0.0010772048084562598), (3544, 0.0010767525191536103), (3255, 0.0010764582060865111), (3020, 0.001073668532941029), (2108, 0.0010674741066325417), (3087, 0.0010663801708563497), (4372, 0.0010586771816269462), (4111, 0.001058655078764003), (4469, 0.0010515627496325035), (3107, 0.0010499997681479537), (4572, 0.0010469778446359618), (4645, 0.0010432483566272517), (2851, 0.0010350874475102123), (2515, 0.0010344496722930862), (3714, 0.0010329018163764856), (2613, 0.0010294989756123132), (3017, 0.0010280253438507483), (4650, 0.001022798871533882), (4190, 0.0010142933889523015), (3016, 0.0010139130256037368), (3324, 0.0010110856913029594), (2970, 0.001007812892417903), (4126, 0.0010039043583350909), (4424, 0.001002573472133493), (2696, 0.001000493319349295), (3396, 0.0009977653161291895), (3359, 0.0009964439057614327), (2596, 0.0009953993994342271), (2585, 0.0009924320756905236), (4711, 0.000992416092924435), (4030, 0.0009900741715887663), (4706, 0.0009872952906921683), (3414, 0.000979924654523046), (1487, 0.000977217266909931), (4032, 0.0009765941614187069), (3636, 0.0009751417271264537), (4316, 0.0009733308178000039), (2186, 0.000973310240582547), (4750, 0.0009713334853927105), (1598, 0.0009660305339785519), (3251, 0.0009641510112814046), (4753, 0.0009595488280678769), (2952, 0.0009582901914351573), (2346, 0.0009529485004054057), (3371, 0.0009496383024051295), (3770, 0.0009467175386431249), (2890, 0.0009465084447486872), (3157, 0.0009462327010056565), (3350, 0.0009456715388775544), (3964, 0.0009425949211728378), (3804, 0.0009408651922964063), (2512, 0.0009385434840893151), (4064, 0.0009336053770967092), (3034, 0.0009335015358964797), (1807, 0.0009323414078518895), (3116, 0.0009283199151130875), (133, 0.0009271878115814446), (3510, 0.0009226027485279156), (3234, 0.0009223106895989271), (4048, 0.0009208280277587859), (3269, 0.0009157392823604037), (3243, 0.0009152707926534807), (2705, 0.000914537130528119), (2604, 0.0009118084674999841), (2133, 0.0009110075166947525), (2821, 0.0009083255316126109), (2709, 0.0009072655903555371), (4540, 0.0009052927326500921), (2323, 0.0009051977423478084), (2248, 0.0009010625229582102), (3050, 0.0008963049359888387), (3198, 0.0008952573317928223), (1954, 0.0008933113735569703), (4169, 0.0008925448190784871), (3348, 0.0008911243852079817), (3422, 0.000887601738435661), (759, 0.0008872977025842449), (487, 0.0008859883863649001), (4352, 0.0008846476694809359), (3235, 0.0008843853299656463), (2663, 0.0008792515906819906), (4437, 0.0008733933064120027), (2773, 0.0008714345874257022), (4756, 0.0008672837442038548), (3712, 0.0008631186790680138), (3175, 0.000861878690575562), (2157, 0.0008611915243830021), (3428, 0.0008535904413938343), (3575, 0.0008430814229183921), (4567, 0.0008370468288487185), (3376, 0.0008294206574620379), (3545, 0.0008269639376467658), (3222, 0.0008196787755810327), (3626, 0.0008108718443590737), (3082, 0.0007995917231483723), (3891, 0.0007970771564211431), (3177, 0.0007933025058495716), (2747, 0.0007907200995103812), (3420, 0.0007672023506830935), (1317, 0.0007410086554366411), (3748, 0.0007194856730318725), (3750, 0.0006270120238205825), (2118, 0.0005563991675419039), (693, 0.0), (933, 0.0), (1826, 0.0), (2146, 0.0), (2394, 0.0), (2748, 0.0), (2900, 0.0), (2997, 0.0), (3199, 0.0), (3248, 0.0), (3285, 0.0), (3455, 0.0), (3530, 0.0), (3558, 0.0), (3579, 0.0), (3651, 0.0), (3755, 0.0), (3927, 0.0), (3952, 0.0), (4561, 0.0), (4693, 0.0), (4712, 0.0)]\n"
          ]
        }
      ]
    },
    {
      "cell_type": "markdown",
      "source": [
        "Displaying Top Recommendations"
      ],
      "metadata": {
        "id": "fhsPZ-XNZfmT"
      }
    },
    {
      "cell_type": "code",
      "source": [
        "\n",
        "print('Top 40 Suggestions based on desired movie:-')\n",
        "i = 1\n",
        "\n",
        "for movie in SSM:\n",
        "  index = movie[0]\n",
        "  Title = ml[ml.index==index]['Movie_Title'].values[0]\n",
        "  if(i<41):\n",
        "    print(i,'. ',Title)\n",
        "    i+=1"
      ],
      "metadata": {
        "colab": {
          "base_uri": "https://localhost:8080/"
        },
        "id": "eN-OHR4WHS20",
        "outputId": "ccd27d53-6ea6-4cc1-e042-8dd7303f587b"
      },
      "execution_count": 65,
      "outputs": [
        {
          "output_type": "stream",
          "name": "stdout",
          "text": [
            "Top 40 Suggestions based on desired movie:-\n",
            "1 .  Underworld\n",
            "2 .  Underworld: Evolution\n",
            "3 .  Underworld: Rise of the Lycans\n",
            "4 .  Underworld: Awakening\n",
            "5 .  Live Free or Die Hard\n",
            "6 .  From Hell\n",
            "7 .  I, Frankenstein\n",
            "8 .  The Aviator\n",
            "9 .  The Exorcism of Emily Rose\n",
            "10 .  The Constant Gardener\n",
            "11 .  Cheri\n",
            "12 .  Zoolander\n",
            "13 .  The Specialist\n",
            "14 .  A Sound of Thunder\n",
            "15 .  Contraband\n",
            "16 .  Suspect Zero\n",
            "17 .  Blood and Chocolate\n",
            "18 .  The Vow\n",
            "19 .  Astro Boy\n",
            "20 .  Arlington Road\n",
            "21 .  The Counselor\n",
            "22 .  Severance\n",
            "23 .  School of Rock\n",
            "24 .  I Heart Huckabees\n",
            "25 .  Runaway Bride\n",
            "26 .  Pirates of the Caribbean: Dead Man's Chest\n",
            "27 .  Ballistic: Ecks vs. Sever\n",
            "28 .  The Queen\n",
            "29 .  Click\n",
            "30 .  Kinsey\n",
            "31 .  Brokedown Palace\n",
            "32 .  The League of Extraordinary Gentlemen\n",
            "33 .  The Sum of All Fears\n",
            "34 .  Ghost Rider\n",
            "35 .  The Boy\n",
            "36 .  The Skeleton Key\n",
            "37 .  Dancer in the Dark\n",
            "38 .  Bowling for Columbine\n",
            "39 .  Dark Blue\n",
            "40 .  The Lincoln Lawyer\n"
          ]
        }
      ]
    },
    {
      "cell_type": "markdown",
      "source": [
        "Explanation"
      ],
      "metadata": {
        "id": "WC8362LXZ-aI"
      }
    },
    {
      "cell_type": "markdown",
      "source": [
        "* The ML model works as a movie recommendation system based on text data and similarity measures.\n",
        "* It starts by importing the required libraries and loading a movie dataset from a CSV file.\n",
        "* The dataset is explored to understand its structure and characteristics.Specific columns of interest are selected, and missing values are filled with empty strings.\n",
        "*Multiple text columns, such as movie genre, director, cast, language, tagline, and production house, are concatenated into a single text column. This step prepares the textual information for vectorization.\n",
        "* The TF-IDF (Term Frequency-Inverse Document Frequency) vectorization technique is applied to convert the text data into numerical vectors.\n",
        "* Cosine similarity is calculated between pairs of movies using their TF-IDF vectors.\n",
        "* The result is a similarity matrix where each cell represents the cosine similarity score between two movies.\n",
        "* The user is prompted to input the title of the movie they want to watch.\n",
        "* The program finds close matches to the user's input movie title within the dataset using the 'difflib' library.\n",
        "* The closest matching movie is selected as a reference.\n",
        "* Recommendation scores are calculated for each movie in the dataset based on its similarity to the user's selected reference movie.\n",
        "* The recommendation scores are sorted in descending order to identify the most similar movies.\n",
        "* This creates a ranked list of movies based on their similarity to the user's input.\n",
        "* The top 40 movie suggestions, sorted by similarity score, are displayed to the user."
      ],
      "metadata": {
        "id": "X5QMJwO5WDuD"
      }
    }
  ]
}
